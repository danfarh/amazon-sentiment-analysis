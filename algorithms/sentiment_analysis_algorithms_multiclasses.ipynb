{
  "cells": [
    {
      "cell_type": "markdown",
      "metadata": {
        "id": "rBDyNex2_1-D"
      },
      "source": [
        "**import libraries**"
      ]
    },
    {
      "cell_type": "code",
      "execution_count": 1,
      "metadata": {
        "id": "q-Pz1w1-_GcG"
      },
      "outputs": [],
      "source": [
        "import numpy as np\n",
        "import pandas as pd\n",
        "import matplotlib.pyplot as plt\n",
        "import seaborn as sns\n",
        "import string\n",
        "from tensorflow.keras.utils import plot_model\n",
        "import re\n",
        "import pickle\n",
        "from sklearn.model_selection import train_test_split\n",
        "from tensorflow.keras.preprocessing.text import Tokenizer\n",
        "from tensorflow.keras.preprocessing.sequence import pad_sequences\n",
        "from keras.models import Sequential\n",
        "from keras import layers\n",
        "from tensorflow.keras.models import Model\n",
        "from keras.layers import Dense, Input, Embedding, LSTM, Conv1D, Dropout, MaxPooling1D, BatchNormalization, Bidirectional, GlobalMaxPooling1D, Flatten"
      ]
    },
    {
      "cell_type": "code",
      "execution_count": 2,
      "metadata": {
        "id": "6qC5HMP1A67j"
      },
      "outputs": [],
      "source": [
        "from sklearn.metrics import classification_report, confusion_matrix"
      ]
    },
    {
      "cell_type": "code",
      "execution_count": 3,
      "metadata": {
        "colab": {
          "base_uri": "https://localhost:8080/"
        },
        "id": "q9_AL12mTNYF",
        "outputId": "0e18e4b6-7372-4820-c6d6-c6898ad06104"
      },
      "outputs": [
        {
          "output_type": "stream",
          "name": "stdout",
          "text": [
            "Looking in indexes: https://pypi.org/simple, https://us-python.pkg.dev/colab-wheels/public/simple/\n",
            "Requirement already satisfied: nltk in /usr/local/lib/python3.8/dist-packages (3.7)\n",
            "Requirement already satisfied: tqdm in /usr/local/lib/python3.8/dist-packages (from nltk) (4.64.1)\n",
            "Requirement already satisfied: regex>=2021.8.3 in /usr/local/lib/python3.8/dist-packages (from nltk) (2022.6.2)\n",
            "Requirement already satisfied: joblib in /usr/local/lib/python3.8/dist-packages (from nltk) (1.2.0)\n",
            "Requirement already satisfied: click in /usr/local/lib/python3.8/dist-packages (from nltk) (7.1.2)\n"
          ]
        }
      ],
      "source": [
        "!pip install nltk"
      ]
    },
    {
      "cell_type": "code",
      "execution_count": 4,
      "metadata": {
        "colab": {
          "base_uri": "https://localhost:8080/"
        },
        "id": "InkBU3TaUjS-",
        "outputId": "9461aa01-46d6-470a-a97e-975a56184e2a"
      },
      "outputs": [
        {
          "output_type": "stream",
          "name": "stderr",
          "text": [
            "[nltk_data] Downloading package punkt to /root/nltk_data...\n",
            "[nltk_data]   Unzipping tokenizers/punkt.zip.\n",
            "[nltk_data] Downloading package stopwords to /root/nltk_data...\n",
            "[nltk_data]   Unzipping corpora/stopwords.zip.\n",
            "[nltk_data] Downloading package wordnet to /root/nltk_data...\n",
            "[nltk_data] Downloading package omw-1.4 to /root/nltk_data...\n"
          ]
        },
        {
          "output_type": "execute_result",
          "data": {
            "text/plain": [
              "True"
            ]
          },
          "metadata": {},
          "execution_count": 4
        }
      ],
      "source": [
        "import nltk\n",
        "nltk.download('punkt')\n",
        "nltk.download('stopwords')\n",
        "nltk.download('wordnet')\n",
        "nltk.download('omw-1.4')"
      ]
    },
    {
      "cell_type": "code",
      "execution_count": 5,
      "metadata": {
        "id": "hqj-IL4eTR60"
      },
      "outputs": [],
      "source": [
        "from nltk.tokenize import word_tokenize, RegexpTokenizer\n",
        "from nltk.corpus import stopwords\n",
        "from nltk.stem import WordNetLemmatizer\n",
        "from nltk.stem.porter import PorterStemmer"
      ]
    },
    {
      "cell_type": "markdown",
      "metadata": {
        "id": "a73F87b4-pI6"
      },
      "source": [
        "### **Read Dataset**"
      ]
    },
    {
      "cell_type": "code",
      "source": [
        "pip install --upgrade --no-cache-dir gdown"
      ],
      "metadata": {
        "colab": {
          "base_uri": "https://localhost:8080/"
        },
        "id": "k_uh5RK0N_MZ",
        "outputId": "fde58722-df3b-4d03-8aad-39e5bbe0a015"
      },
      "execution_count": 12,
      "outputs": [
        {
          "output_type": "stream",
          "name": "stdout",
          "text": [
            "Looking in indexes: https://pypi.org/simple, https://us-python.pkg.dev/colab-wheels/public/simple/\n",
            "Requirement already satisfied: gdown in /usr/local/lib/python3.8/dist-packages (4.4.0)\n",
            "Collecting gdown\n",
            "  Downloading gdown-4.6.0-py3-none-any.whl (14 kB)\n",
            "Requirement already satisfied: six in /usr/local/lib/python3.8/dist-packages (from gdown) (1.15.0)\n",
            "Requirement already satisfied: filelock in /usr/local/lib/python3.8/dist-packages (from gdown) (3.8.2)\n",
            "Requirement already satisfied: requests[socks] in /usr/local/lib/python3.8/dist-packages (from gdown) (2.23.0)\n",
            "Requirement already satisfied: beautifulsoup4 in /usr/local/lib/python3.8/dist-packages (from gdown) (4.6.3)\n",
            "Requirement already satisfied: tqdm in /usr/local/lib/python3.8/dist-packages (from gdown) (4.64.1)\n",
            "Requirement already satisfied: urllib3!=1.25.0,!=1.25.1,<1.26,>=1.21.1 in /usr/local/lib/python3.8/dist-packages (from requests[socks]->gdown) (1.24.3)\n",
            "Requirement already satisfied: idna<3,>=2.5 in /usr/local/lib/python3.8/dist-packages (from requests[socks]->gdown) (2.10)\n",
            "Requirement already satisfied: chardet<4,>=3.0.2 in /usr/local/lib/python3.8/dist-packages (from requests[socks]->gdown) (3.0.4)\n",
            "Requirement already satisfied: certifi>=2017.4.17 in /usr/local/lib/python3.8/dist-packages (from requests[socks]->gdown) (2022.12.7)\n",
            "Requirement already satisfied: PySocks!=1.5.7,>=1.5.6 in /usr/local/lib/python3.8/dist-packages (from requests[socks]->gdown) (1.7.1)\n",
            "Installing collected packages: gdown\n",
            "  Attempting uninstall: gdown\n",
            "    Found existing installation: gdown 4.4.0\n",
            "    Uninstalling gdown-4.4.0:\n",
            "      Successfully uninstalled gdown-4.4.0\n",
            "Successfully installed gdown-4.6.0\n"
          ]
        }
      ]
    },
    {
      "cell_type": "code",
      "source": [
        "!gdown --id 1xhd-vLaS5jCgEJOCa9cNzauWFAGh2200"
      ],
      "metadata": {
        "colab": {
          "base_uri": "https://localhost:8080/"
        },
        "id": "glT97bpTajDZ",
        "outputId": "b37b9db6-f578-4ba2-e52d-0c31bbc517d7"
      },
      "execution_count": 13,
      "outputs": [
        {
          "output_type": "stream",
          "name": "stdout",
          "text": [
            "/usr/local/lib/python3.8/dist-packages/gdown/cli.py:121: FutureWarning: Option `--id` was deprecated in version 4.3.1 and will be removed in 5.0. You don't need to pass it anymore to use a file ID.\n",
            "  warnings.warn(\n",
            "Downloading...\n",
            "From: https://drive.google.com/uc?id=1xhd-vLaS5jCgEJOCa9cNzauWFAGh2200\n",
            "To: /content/Amazon_Unlocked_Mobile.csv\n",
            "100% 132M/132M [00:01<00:00, 70.3MB/s]\n"
          ]
        }
      ]
    },
    {
      "cell_type": "code",
      "source": [
        "df = pd.read_csv('/content/Amazon_Unlocked_Mobile.csv',\n",
        "                 error_bad_lines=False,  \n",
        "                 encoding='utf-8')"
      ],
      "metadata": {
        "colab": {
          "base_uri": "https://localhost:8080/"
        },
        "id": "t1p6C7FVLuu2",
        "outputId": "fa1d108c-3c4c-41ce-98a8-ad897de8543b"
      },
      "execution_count": 14,
      "outputs": [
        {
          "output_type": "stream",
          "name": "stderr",
          "text": [
            "/usr/local/lib/python3.8/dist-packages/IPython/core/interactiveshell.py:3326: FutureWarning: The error_bad_lines argument has been deprecated and will be removed in a future version.\n",
            "\n",
            "\n",
            "  exec(code_obj, self.user_global_ns, self.user_ns)\n"
          ]
        }
      ]
    },
    {
      "cell_type": "code",
      "execution_count": 15,
      "metadata": {
        "colab": {
          "base_uri": "https://localhost:8080/",
          "height": 206
        },
        "id": "8et1XWxA_Kpx",
        "outputId": "3bfe57aa-5c3e-4915-b4b2-663ed7228048"
      },
      "outputs": [
        {
          "output_type": "execute_result",
          "data": {
            "text/plain": [
              "                                        Product Name Brand Name   Price  \\\n",
              "0  \"CLEAR CLEAN ESN\" Sprint EPIC 4G Galaxy SPH-D7...    Samsung  199.99   \n",
              "1  \"CLEAR CLEAN ESN\" Sprint EPIC 4G Galaxy SPH-D7...    Samsung  199.99   \n",
              "2  \"CLEAR CLEAN ESN\" Sprint EPIC 4G Galaxy SPH-D7...    Samsung  199.99   \n",
              "3  \"CLEAR CLEAN ESN\" Sprint EPIC 4G Galaxy SPH-D7...    Samsung  199.99   \n",
              "4  \"CLEAR CLEAN ESN\" Sprint EPIC 4G Galaxy SPH-D7...    Samsung  199.99   \n",
              "\n",
              "   Rating                                            Reviews  Review Votes  \n",
              "0       5  I feel so LUCKY to have found this used (phone...           1.0  \n",
              "1       4  nice phone, nice up grade from my pantach revu...           0.0  \n",
              "2       5                                       Very pleased           0.0  \n",
              "3       4  It works good but it goes slow sometimes but i...           0.0  \n",
              "4       4  Great phone to replace my lost phone. The only...           0.0  "
            ],
            "text/html": [
              "\n",
              "  <div id=\"df-286ff522-f524-438c-a04b-651db6239007\">\n",
              "    <div class=\"colab-df-container\">\n",
              "      <div>\n",
              "<style scoped>\n",
              "    .dataframe tbody tr th:only-of-type {\n",
              "        vertical-align: middle;\n",
              "    }\n",
              "\n",
              "    .dataframe tbody tr th {\n",
              "        vertical-align: top;\n",
              "    }\n",
              "\n",
              "    .dataframe thead th {\n",
              "        text-align: right;\n",
              "    }\n",
              "</style>\n",
              "<table border=\"1\" class=\"dataframe\">\n",
              "  <thead>\n",
              "    <tr style=\"text-align: right;\">\n",
              "      <th></th>\n",
              "      <th>Product Name</th>\n",
              "      <th>Brand Name</th>\n",
              "      <th>Price</th>\n",
              "      <th>Rating</th>\n",
              "      <th>Reviews</th>\n",
              "      <th>Review Votes</th>\n",
              "    </tr>\n",
              "  </thead>\n",
              "  <tbody>\n",
              "    <tr>\n",
              "      <th>0</th>\n",
              "      <td>\"CLEAR CLEAN ESN\" Sprint EPIC 4G Galaxy SPH-D7...</td>\n",
              "      <td>Samsung</td>\n",
              "      <td>199.99</td>\n",
              "      <td>5</td>\n",
              "      <td>I feel so LUCKY to have found this used (phone...</td>\n",
              "      <td>1.0</td>\n",
              "    </tr>\n",
              "    <tr>\n",
              "      <th>1</th>\n",
              "      <td>\"CLEAR CLEAN ESN\" Sprint EPIC 4G Galaxy SPH-D7...</td>\n",
              "      <td>Samsung</td>\n",
              "      <td>199.99</td>\n",
              "      <td>4</td>\n",
              "      <td>nice phone, nice up grade from my pantach revu...</td>\n",
              "      <td>0.0</td>\n",
              "    </tr>\n",
              "    <tr>\n",
              "      <th>2</th>\n",
              "      <td>\"CLEAR CLEAN ESN\" Sprint EPIC 4G Galaxy SPH-D7...</td>\n",
              "      <td>Samsung</td>\n",
              "      <td>199.99</td>\n",
              "      <td>5</td>\n",
              "      <td>Very pleased</td>\n",
              "      <td>0.0</td>\n",
              "    </tr>\n",
              "    <tr>\n",
              "      <th>3</th>\n",
              "      <td>\"CLEAR CLEAN ESN\" Sprint EPIC 4G Galaxy SPH-D7...</td>\n",
              "      <td>Samsung</td>\n",
              "      <td>199.99</td>\n",
              "      <td>4</td>\n",
              "      <td>It works good but it goes slow sometimes but i...</td>\n",
              "      <td>0.0</td>\n",
              "    </tr>\n",
              "    <tr>\n",
              "      <th>4</th>\n",
              "      <td>\"CLEAR CLEAN ESN\" Sprint EPIC 4G Galaxy SPH-D7...</td>\n",
              "      <td>Samsung</td>\n",
              "      <td>199.99</td>\n",
              "      <td>4</td>\n",
              "      <td>Great phone to replace my lost phone. The only...</td>\n",
              "      <td>0.0</td>\n",
              "    </tr>\n",
              "  </tbody>\n",
              "</table>\n",
              "</div>\n",
              "      <button class=\"colab-df-convert\" onclick=\"convertToInteractive('df-286ff522-f524-438c-a04b-651db6239007')\"\n",
              "              title=\"Convert this dataframe to an interactive table.\"\n",
              "              style=\"display:none;\">\n",
              "        \n",
              "  <svg xmlns=\"http://www.w3.org/2000/svg\" height=\"24px\"viewBox=\"0 0 24 24\"\n",
              "       width=\"24px\">\n",
              "    <path d=\"M0 0h24v24H0V0z\" fill=\"none\"/>\n",
              "    <path d=\"M18.56 5.44l.94 2.06.94-2.06 2.06-.94-2.06-.94-.94-2.06-.94 2.06-2.06.94zm-11 1L8.5 8.5l.94-2.06 2.06-.94-2.06-.94L8.5 2.5l-.94 2.06-2.06.94zm10 10l.94 2.06.94-2.06 2.06-.94-2.06-.94-.94-2.06-.94 2.06-2.06.94z\"/><path d=\"M17.41 7.96l-1.37-1.37c-.4-.4-.92-.59-1.43-.59-.52 0-1.04.2-1.43.59L10.3 9.45l-7.72 7.72c-.78.78-.78 2.05 0 2.83L4 21.41c.39.39.9.59 1.41.59.51 0 1.02-.2 1.41-.59l7.78-7.78 2.81-2.81c.8-.78.8-2.07 0-2.86zM5.41 20L4 18.59l7.72-7.72 1.47 1.35L5.41 20z\"/>\n",
              "  </svg>\n",
              "      </button>\n",
              "      \n",
              "  <style>\n",
              "    .colab-df-container {\n",
              "      display:flex;\n",
              "      flex-wrap:wrap;\n",
              "      gap: 12px;\n",
              "    }\n",
              "\n",
              "    .colab-df-convert {\n",
              "      background-color: #E8F0FE;\n",
              "      border: none;\n",
              "      border-radius: 50%;\n",
              "      cursor: pointer;\n",
              "      display: none;\n",
              "      fill: #1967D2;\n",
              "      height: 32px;\n",
              "      padding: 0 0 0 0;\n",
              "      width: 32px;\n",
              "    }\n",
              "\n",
              "    .colab-df-convert:hover {\n",
              "      background-color: #E2EBFA;\n",
              "      box-shadow: 0px 1px 2px rgba(60, 64, 67, 0.3), 0px 1px 3px 1px rgba(60, 64, 67, 0.15);\n",
              "      fill: #174EA6;\n",
              "    }\n",
              "\n",
              "    [theme=dark] .colab-df-convert {\n",
              "      background-color: #3B4455;\n",
              "      fill: #D2E3FC;\n",
              "    }\n",
              "\n",
              "    [theme=dark] .colab-df-convert:hover {\n",
              "      background-color: #434B5C;\n",
              "      box-shadow: 0px 1px 3px 1px rgba(0, 0, 0, 0.15);\n",
              "      filter: drop-shadow(0px 1px 2px rgba(0, 0, 0, 0.3));\n",
              "      fill: #FFFFFF;\n",
              "    }\n",
              "  </style>\n",
              "\n",
              "      <script>\n",
              "        const buttonEl =\n",
              "          document.querySelector('#df-286ff522-f524-438c-a04b-651db6239007 button.colab-df-convert');\n",
              "        buttonEl.style.display =\n",
              "          google.colab.kernel.accessAllowed ? 'block' : 'none';\n",
              "\n",
              "        async function convertToInteractive(key) {\n",
              "          const element = document.querySelector('#df-286ff522-f524-438c-a04b-651db6239007');\n",
              "          const dataTable =\n",
              "            await google.colab.kernel.invokeFunction('convertToInteractive',\n",
              "                                                     [key], {});\n",
              "          if (!dataTable) return;\n",
              "\n",
              "          const docLinkHtml = 'Like what you see? Visit the ' +\n",
              "            '<a target=\"_blank\" href=https://colab.research.google.com/notebooks/data_table.ipynb>data table notebook</a>'\n",
              "            + ' to learn more about interactive tables.';\n",
              "          element.innerHTML = '';\n",
              "          dataTable['output_type'] = 'display_data';\n",
              "          await google.colab.output.renderOutput(dataTable, element);\n",
              "          const docLink = document.createElement('div');\n",
              "          docLink.innerHTML = docLinkHtml;\n",
              "          element.appendChild(docLink);\n",
              "        }\n",
              "      </script>\n",
              "    </div>\n",
              "  </div>\n",
              "  "
            ]
          },
          "metadata": {},
          "execution_count": 15
        }
      ],
      "source": [
        "df.head()"
      ]
    },
    {
      "cell_type": "code",
      "execution_count": 16,
      "metadata": {
        "colab": {
          "base_uri": "https://localhost:8080/"
        },
        "id": "E79HNcXf_MDu",
        "outputId": "a2aceaf7-8d88-443c-a034-ae8a326529ec"
      },
      "outputs": [
        {
          "output_type": "execute_result",
          "data": {
            "text/plain": [
              "(413840, 6)"
            ]
          },
          "metadata": {},
          "execution_count": 16
        }
      ],
      "source": [
        "df.shape"
      ]
    },
    {
      "cell_type": "markdown",
      "metadata": {
        "id": "0GshhoJTCR9Q"
      },
      "source": [
        "**Prepare Dataset**"
      ]
    },
    {
      "cell_type": "code",
      "source": [
        "# 1,2 stars -> Negative\n",
        "# 3 stars   -> Neutral\n",
        "# 4,5 stars -> Positive"
      ],
      "metadata": {
        "id": "byAejj1SlXX8"
      },
      "execution_count": 185,
      "outputs": []
    },
    {
      "cell_type": "code",
      "execution_count": 37,
      "metadata": {
        "id": "pGRB_P1z_f7c"
      },
      "outputs": [],
      "source": [
        "df['sentiment'] = df['Rating'].apply(lambda x: \"negative\" if x <= 2 else \"positive\" if x >= 4 else \"neutral\")"
      ]
    },
    {
      "cell_type": "code",
      "execution_count": 38,
      "metadata": {
        "colab": {
          "base_uri": "https://localhost:8080/",
          "height": 187
        },
        "id": "bPoAmWg5_iyy",
        "outputId": "0807be35-fad1-4f82-f818-534ed184790b"
      },
      "outputs": [
        {
          "output_type": "execute_result",
          "data": {
            "text/plain": [
              "                                        Product Name Brand Name   Price  \\\n",
              "0  \"CLEAR CLEAN ESN\" Sprint EPIC 4G Galaxy SPH-D7...    Samsung  199.99   \n",
              "1  \"CLEAR CLEAN ESN\" Sprint EPIC 4G Galaxy SPH-D7...    Samsung  199.99   \n",
              "2  \"CLEAR CLEAN ESN\" Sprint EPIC 4G Galaxy SPH-D7...    Samsung  199.99   \n",
              "\n",
              "   Rating                                            Reviews  Review Votes  \\\n",
              "0       5  I feel so LUCKY to have found this used (phone...           1.0   \n",
              "1       4  nice phone, nice up grade from my pantach revu...           0.0   \n",
              "2       5                                       Very pleased           0.0   \n",
              "\n",
              "  sentiment  \n",
              "0  positive  \n",
              "1  positive  \n",
              "2  positive  "
            ],
            "text/html": [
              "\n",
              "  <div id=\"df-4bf4a104-770d-4fe7-8210-8c18b45f663d\">\n",
              "    <div class=\"colab-df-container\">\n",
              "      <div>\n",
              "<style scoped>\n",
              "    .dataframe tbody tr th:only-of-type {\n",
              "        vertical-align: middle;\n",
              "    }\n",
              "\n",
              "    .dataframe tbody tr th {\n",
              "        vertical-align: top;\n",
              "    }\n",
              "\n",
              "    .dataframe thead th {\n",
              "        text-align: right;\n",
              "    }\n",
              "</style>\n",
              "<table border=\"1\" class=\"dataframe\">\n",
              "  <thead>\n",
              "    <tr style=\"text-align: right;\">\n",
              "      <th></th>\n",
              "      <th>Product Name</th>\n",
              "      <th>Brand Name</th>\n",
              "      <th>Price</th>\n",
              "      <th>Rating</th>\n",
              "      <th>Reviews</th>\n",
              "      <th>Review Votes</th>\n",
              "      <th>sentiment</th>\n",
              "    </tr>\n",
              "  </thead>\n",
              "  <tbody>\n",
              "    <tr>\n",
              "      <th>0</th>\n",
              "      <td>\"CLEAR CLEAN ESN\" Sprint EPIC 4G Galaxy SPH-D7...</td>\n",
              "      <td>Samsung</td>\n",
              "      <td>199.99</td>\n",
              "      <td>5</td>\n",
              "      <td>I feel so LUCKY to have found this used (phone...</td>\n",
              "      <td>1.0</td>\n",
              "      <td>positive</td>\n",
              "    </tr>\n",
              "    <tr>\n",
              "      <th>1</th>\n",
              "      <td>\"CLEAR CLEAN ESN\" Sprint EPIC 4G Galaxy SPH-D7...</td>\n",
              "      <td>Samsung</td>\n",
              "      <td>199.99</td>\n",
              "      <td>4</td>\n",
              "      <td>nice phone, nice up grade from my pantach revu...</td>\n",
              "      <td>0.0</td>\n",
              "      <td>positive</td>\n",
              "    </tr>\n",
              "    <tr>\n",
              "      <th>2</th>\n",
              "      <td>\"CLEAR CLEAN ESN\" Sprint EPIC 4G Galaxy SPH-D7...</td>\n",
              "      <td>Samsung</td>\n",
              "      <td>199.99</td>\n",
              "      <td>5</td>\n",
              "      <td>Very pleased</td>\n",
              "      <td>0.0</td>\n",
              "      <td>positive</td>\n",
              "    </tr>\n",
              "  </tbody>\n",
              "</table>\n",
              "</div>\n",
              "      <button class=\"colab-df-convert\" onclick=\"convertToInteractive('df-4bf4a104-770d-4fe7-8210-8c18b45f663d')\"\n",
              "              title=\"Convert this dataframe to an interactive table.\"\n",
              "              style=\"display:none;\">\n",
              "        \n",
              "  <svg xmlns=\"http://www.w3.org/2000/svg\" height=\"24px\"viewBox=\"0 0 24 24\"\n",
              "       width=\"24px\">\n",
              "    <path d=\"M0 0h24v24H0V0z\" fill=\"none\"/>\n",
              "    <path d=\"M18.56 5.44l.94 2.06.94-2.06 2.06-.94-2.06-.94-.94-2.06-.94 2.06-2.06.94zm-11 1L8.5 8.5l.94-2.06 2.06-.94-2.06-.94L8.5 2.5l-.94 2.06-2.06.94zm10 10l.94 2.06.94-2.06 2.06-.94-2.06-.94-.94-2.06-.94 2.06-2.06.94z\"/><path d=\"M17.41 7.96l-1.37-1.37c-.4-.4-.92-.59-1.43-.59-.52 0-1.04.2-1.43.59L10.3 9.45l-7.72 7.72c-.78.78-.78 2.05 0 2.83L4 21.41c.39.39.9.59 1.41.59.51 0 1.02-.2 1.41-.59l7.78-7.78 2.81-2.81c.8-.78.8-2.07 0-2.86zM5.41 20L4 18.59l7.72-7.72 1.47 1.35L5.41 20z\"/>\n",
              "  </svg>\n",
              "      </button>\n",
              "      \n",
              "  <style>\n",
              "    .colab-df-container {\n",
              "      display:flex;\n",
              "      flex-wrap:wrap;\n",
              "      gap: 12px;\n",
              "    }\n",
              "\n",
              "    .colab-df-convert {\n",
              "      background-color: #E8F0FE;\n",
              "      border: none;\n",
              "      border-radius: 50%;\n",
              "      cursor: pointer;\n",
              "      display: none;\n",
              "      fill: #1967D2;\n",
              "      height: 32px;\n",
              "      padding: 0 0 0 0;\n",
              "      width: 32px;\n",
              "    }\n",
              "\n",
              "    .colab-df-convert:hover {\n",
              "      background-color: #E2EBFA;\n",
              "      box-shadow: 0px 1px 2px rgba(60, 64, 67, 0.3), 0px 1px 3px 1px rgba(60, 64, 67, 0.15);\n",
              "      fill: #174EA6;\n",
              "    }\n",
              "\n",
              "    [theme=dark] .colab-df-convert {\n",
              "      background-color: #3B4455;\n",
              "      fill: #D2E3FC;\n",
              "    }\n",
              "\n",
              "    [theme=dark] .colab-df-convert:hover {\n",
              "      background-color: #434B5C;\n",
              "      box-shadow: 0px 1px 3px 1px rgba(0, 0, 0, 0.15);\n",
              "      filter: drop-shadow(0px 1px 2px rgba(0, 0, 0, 0.3));\n",
              "      fill: #FFFFFF;\n",
              "    }\n",
              "  </style>\n",
              "\n",
              "      <script>\n",
              "        const buttonEl =\n",
              "          document.querySelector('#df-4bf4a104-770d-4fe7-8210-8c18b45f663d button.colab-df-convert');\n",
              "        buttonEl.style.display =\n",
              "          google.colab.kernel.accessAllowed ? 'block' : 'none';\n",
              "\n",
              "        async function convertToInteractive(key) {\n",
              "          const element = document.querySelector('#df-4bf4a104-770d-4fe7-8210-8c18b45f663d');\n",
              "          const dataTable =\n",
              "            await google.colab.kernel.invokeFunction('convertToInteractive',\n",
              "                                                     [key], {});\n",
              "          if (!dataTable) return;\n",
              "\n",
              "          const docLinkHtml = 'Like what you see? Visit the ' +\n",
              "            '<a target=\"_blank\" href=https://colab.research.google.com/notebooks/data_table.ipynb>data table notebook</a>'\n",
              "            + ' to learn more about interactive tables.';\n",
              "          element.innerHTML = '';\n",
              "          dataTable['output_type'] = 'display_data';\n",
              "          await google.colab.output.renderOutput(dataTable, element);\n",
              "          const docLink = document.createElement('div');\n",
              "          docLink.innerHTML = docLinkHtml;\n",
              "          element.appendChild(docLink);\n",
              "        }\n",
              "      </script>\n",
              "    </div>\n",
              "  </div>\n",
              "  "
            ]
          },
          "metadata": {},
          "execution_count": 38
        }
      ],
      "source": [
        "df.head(3)"
      ]
    },
    {
      "cell_type": "code",
      "execution_count": 39,
      "metadata": {
        "colab": {
          "base_uri": "https://localhost:8080/"
        },
        "id": "SdjSKZBl_nO2",
        "outputId": "2fd27cc1-93c5-4812-b093-4b796ab05dad"
      },
      "outputs": [
        {
          "output_type": "execute_result",
          "data": {
            "text/plain": [
              "array(['positive', 'negative', 'neutral'], dtype=object)"
            ]
          },
          "metadata": {},
          "execution_count": 39
        }
      ],
      "source": [
        "df['sentiment'].unique()"
      ]
    },
    {
      "cell_type": "code",
      "execution_count": 44,
      "metadata": {
        "colab": {
          "base_uri": "https://localhost:8080/"
        },
        "id": "6DWBsKhj_tNA",
        "outputId": "68fd9049-7ca0-465a-f167-256405cf6e71"
      },
      "outputs": [
        {
          "output_type": "execute_result",
          "data": {
            "text/plain": [
              "positive    284997\n",
              "negative     97078\n",
              "neutral      31765\n",
              "Name: sentiment, dtype: int64"
            ]
          },
          "metadata": {},
          "execution_count": 44
        }
      ],
      "source": [
        "df['sentiment'].value_counts()"
      ]
    },
    {
      "cell_type": "code",
      "execution_count": 47,
      "metadata": {
        "id": "5CjGJQPF77BD"
      },
      "outputs": [],
      "source": [
        "positive = df[(df['sentiment'] == 'positive')]\n",
        "negative = df[(df['sentiment'] == 'negative')]\n",
        "neutral = df[(df['sentiment'] == 'neutral')]"
      ]
    },
    {
      "cell_type": "code",
      "execution_count": 48,
      "metadata": {
        "colab": {
          "base_uri": "https://localhost:8080/"
        },
        "id": "vydqK4f6_51b",
        "outputId": "2e12be5c-5361-4b6f-803f-f145c4a52208"
      },
      "outputs": [
        {
          "output_type": "stream",
          "name": "stdout",
          "text": [
            "(284997, 7)\n",
            "(97078, 7)\n",
            "(31765, 7)\n"
          ]
        }
      ],
      "source": [
        "print(positive.shape)\n",
        "print(negative.shape)\n",
        "print(neutral.shape)"
      ]
    },
    {
      "cell_type": "code",
      "execution_count": 49,
      "metadata": {
        "id": "bHfxJEadBMOq"
      },
      "outputs": [],
      "source": [
        "data = pd.concat([positive, neutral, negative], axis=0)"
      ]
    },
    {
      "cell_type": "code",
      "execution_count": 50,
      "metadata": {
        "colab": {
          "base_uri": "https://localhost:8080/"
        },
        "id": "cdIKCHtlBx-p",
        "outputId": "6a26a6ba-2b4a-4b13-d89a-785a641df38c"
      },
      "outputs": [
        {
          "output_type": "execute_result",
          "data": {
            "text/plain": [
              "(413840, 7)"
            ]
          },
          "metadata": {},
          "execution_count": 50
        }
      ],
      "source": [
        "data.shape"
      ]
    },
    {
      "cell_type": "code",
      "execution_count": 51,
      "metadata": {
        "colab": {
          "base_uri": "https://localhost:8080/",
          "height": 250
        },
        "id": "Z-9SarWlBzBj",
        "outputId": "ec0a2153-5f0b-444a-ea57-2e7407bf7692"
      },
      "outputs": [
        {
          "output_type": "execute_result",
          "data": {
            "text/plain": [
              "                                             Product Name Brand Name  Price  \\\n",
              "413817  Samsung Convoy U640 Phone for Verizon Wireless...    Samsung  79.95   \n",
              "413820  Samsung Convoy U640 Phone for Verizon Wireless...    Samsung  79.95   \n",
              "413828  Samsung Convoy U640 Phone for Verizon Wireless...    Samsung  79.95   \n",
              "413831  Samsung Convoy U640 Phone for Verizon Wireless...    Samsung  79.95   \n",
              "413834  Samsung Convoy U640 Phone for Verizon Wireless...    Samsung  79.95   \n",
              "\n",
              "        Rating                                            Reviews  \\\n",
              "413817       1  This is the second junk Convoy I have owned. T...   \n",
              "413820       1  They said phone was normal wear but it was a l...   \n",
              "413828       1                                     Would not work   \n",
              "413831       1  Item was listed as new, but was not. When we t...   \n",
              "413834       1                                          used hard   \n",
              "\n",
              "        Review Votes sentiment  \n",
              "413817           0.0  negative  \n",
              "413820           0.0  negative  \n",
              "413828           0.0  negative  \n",
              "413831           0.0  negative  \n",
              "413834           0.0  negative  "
            ],
            "text/html": [
              "\n",
              "  <div id=\"df-fc44ab7e-69d7-41a1-9f56-967277b20c31\">\n",
              "    <div class=\"colab-df-container\">\n",
              "      <div>\n",
              "<style scoped>\n",
              "    .dataframe tbody tr th:only-of-type {\n",
              "        vertical-align: middle;\n",
              "    }\n",
              "\n",
              "    .dataframe tbody tr th {\n",
              "        vertical-align: top;\n",
              "    }\n",
              "\n",
              "    .dataframe thead th {\n",
              "        text-align: right;\n",
              "    }\n",
              "</style>\n",
              "<table border=\"1\" class=\"dataframe\">\n",
              "  <thead>\n",
              "    <tr style=\"text-align: right;\">\n",
              "      <th></th>\n",
              "      <th>Product Name</th>\n",
              "      <th>Brand Name</th>\n",
              "      <th>Price</th>\n",
              "      <th>Rating</th>\n",
              "      <th>Reviews</th>\n",
              "      <th>Review Votes</th>\n",
              "      <th>sentiment</th>\n",
              "    </tr>\n",
              "  </thead>\n",
              "  <tbody>\n",
              "    <tr>\n",
              "      <th>413817</th>\n",
              "      <td>Samsung Convoy U640 Phone for Verizon Wireless...</td>\n",
              "      <td>Samsung</td>\n",
              "      <td>79.95</td>\n",
              "      <td>1</td>\n",
              "      <td>This is the second junk Convoy I have owned. T...</td>\n",
              "      <td>0.0</td>\n",
              "      <td>negative</td>\n",
              "    </tr>\n",
              "    <tr>\n",
              "      <th>413820</th>\n",
              "      <td>Samsung Convoy U640 Phone for Verizon Wireless...</td>\n",
              "      <td>Samsung</td>\n",
              "      <td>79.95</td>\n",
              "      <td>1</td>\n",
              "      <td>They said phone was normal wear but it was a l...</td>\n",
              "      <td>0.0</td>\n",
              "      <td>negative</td>\n",
              "    </tr>\n",
              "    <tr>\n",
              "      <th>413828</th>\n",
              "      <td>Samsung Convoy U640 Phone for Verizon Wireless...</td>\n",
              "      <td>Samsung</td>\n",
              "      <td>79.95</td>\n",
              "      <td>1</td>\n",
              "      <td>Would not work</td>\n",
              "      <td>0.0</td>\n",
              "      <td>negative</td>\n",
              "    </tr>\n",
              "    <tr>\n",
              "      <th>413831</th>\n",
              "      <td>Samsung Convoy U640 Phone for Verizon Wireless...</td>\n",
              "      <td>Samsung</td>\n",
              "      <td>79.95</td>\n",
              "      <td>1</td>\n",
              "      <td>Item was listed as new, but was not. When we t...</td>\n",
              "      <td>0.0</td>\n",
              "      <td>negative</td>\n",
              "    </tr>\n",
              "    <tr>\n",
              "      <th>413834</th>\n",
              "      <td>Samsung Convoy U640 Phone for Verizon Wireless...</td>\n",
              "      <td>Samsung</td>\n",
              "      <td>79.95</td>\n",
              "      <td>1</td>\n",
              "      <td>used hard</td>\n",
              "      <td>0.0</td>\n",
              "      <td>negative</td>\n",
              "    </tr>\n",
              "  </tbody>\n",
              "</table>\n",
              "</div>\n",
              "      <button class=\"colab-df-convert\" onclick=\"convertToInteractive('df-fc44ab7e-69d7-41a1-9f56-967277b20c31')\"\n",
              "              title=\"Convert this dataframe to an interactive table.\"\n",
              "              style=\"display:none;\">\n",
              "        \n",
              "  <svg xmlns=\"http://www.w3.org/2000/svg\" height=\"24px\"viewBox=\"0 0 24 24\"\n",
              "       width=\"24px\">\n",
              "    <path d=\"M0 0h24v24H0V0z\" fill=\"none\"/>\n",
              "    <path d=\"M18.56 5.44l.94 2.06.94-2.06 2.06-.94-2.06-.94-.94-2.06-.94 2.06-2.06.94zm-11 1L8.5 8.5l.94-2.06 2.06-.94-2.06-.94L8.5 2.5l-.94 2.06-2.06.94zm10 10l.94 2.06.94-2.06 2.06-.94-2.06-.94-.94-2.06-.94 2.06-2.06.94z\"/><path d=\"M17.41 7.96l-1.37-1.37c-.4-.4-.92-.59-1.43-.59-.52 0-1.04.2-1.43.59L10.3 9.45l-7.72 7.72c-.78.78-.78 2.05 0 2.83L4 21.41c.39.39.9.59 1.41.59.51 0 1.02-.2 1.41-.59l7.78-7.78 2.81-2.81c.8-.78.8-2.07 0-2.86zM5.41 20L4 18.59l7.72-7.72 1.47 1.35L5.41 20z\"/>\n",
              "  </svg>\n",
              "      </button>\n",
              "      \n",
              "  <style>\n",
              "    .colab-df-container {\n",
              "      display:flex;\n",
              "      flex-wrap:wrap;\n",
              "      gap: 12px;\n",
              "    }\n",
              "\n",
              "    .colab-df-convert {\n",
              "      background-color: #E8F0FE;\n",
              "      border: none;\n",
              "      border-radius: 50%;\n",
              "      cursor: pointer;\n",
              "      display: none;\n",
              "      fill: #1967D2;\n",
              "      height: 32px;\n",
              "      padding: 0 0 0 0;\n",
              "      width: 32px;\n",
              "    }\n",
              "\n",
              "    .colab-df-convert:hover {\n",
              "      background-color: #E2EBFA;\n",
              "      box-shadow: 0px 1px 2px rgba(60, 64, 67, 0.3), 0px 1px 3px 1px rgba(60, 64, 67, 0.15);\n",
              "      fill: #174EA6;\n",
              "    }\n",
              "\n",
              "    [theme=dark] .colab-df-convert {\n",
              "      background-color: #3B4455;\n",
              "      fill: #D2E3FC;\n",
              "    }\n",
              "\n",
              "    [theme=dark] .colab-df-convert:hover {\n",
              "      background-color: #434B5C;\n",
              "      box-shadow: 0px 1px 3px 1px rgba(0, 0, 0, 0.15);\n",
              "      filter: drop-shadow(0px 1px 2px rgba(0, 0, 0, 0.3));\n",
              "      fill: #FFFFFF;\n",
              "    }\n",
              "  </style>\n",
              "\n",
              "      <script>\n",
              "        const buttonEl =\n",
              "          document.querySelector('#df-fc44ab7e-69d7-41a1-9f56-967277b20c31 button.colab-df-convert');\n",
              "        buttonEl.style.display =\n",
              "          google.colab.kernel.accessAllowed ? 'block' : 'none';\n",
              "\n",
              "        async function convertToInteractive(key) {\n",
              "          const element = document.querySelector('#df-fc44ab7e-69d7-41a1-9f56-967277b20c31');\n",
              "          const dataTable =\n",
              "            await google.colab.kernel.invokeFunction('convertToInteractive',\n",
              "                                                     [key], {});\n",
              "          if (!dataTable) return;\n",
              "\n",
              "          const docLinkHtml = 'Like what you see? Visit the ' +\n",
              "            '<a target=\"_blank\" href=https://colab.research.google.com/notebooks/data_table.ipynb>data table notebook</a>'\n",
              "            + ' to learn more about interactive tables.';\n",
              "          element.innerHTML = '';\n",
              "          dataTable['output_type'] = 'display_data';\n",
              "          await google.colab.output.renderOutput(dataTable, element);\n",
              "          const docLink = document.createElement('div');\n",
              "          docLink.innerHTML = docLinkHtml;\n",
              "          element.appendChild(docLink);\n",
              "        }\n",
              "      </script>\n",
              "    </div>\n",
              "  </div>\n",
              "  "
            ]
          },
          "metadata": {},
          "execution_count": 51
        }
      ],
      "source": [
        "data.tail()"
      ]
    },
    {
      "cell_type": "markdown",
      "metadata": {
        "id": "wFsmBVSiCbmv"
      },
      "source": [
        "### **Preprocessing**"
      ]
    },
    {
      "cell_type": "code",
      "execution_count": 58,
      "metadata": {
        "id": "PqbCRK_MLCgn"
      },
      "outputs": [],
      "source": [
        "sentences = data['Reviews'].values\n",
        "#one_hot_encodings\n",
        "y = pd.get_dummies(data['sentiment']).values"
      ]
    },
    {
      "cell_type": "code",
      "source": [
        "print(sentences.shape)\n",
        "print(y.shape)"
      ],
      "metadata": {
        "colab": {
          "base_uri": "https://localhost:8080/"
        },
        "id": "cXyPIiQBXehi",
        "outputId": "13763fea-09ac-42e1-8a50-0748582b43b8"
      },
      "execution_count": 59,
      "outputs": [
        {
          "output_type": "stream",
          "name": "stdout",
          "text": [
            "(413840,)\n",
            "(413840, 3)\n"
          ]
        }
      ]
    },
    {
      "cell_type": "code",
      "execution_count": 60,
      "metadata": {
        "colab": {
          "base_uri": "https://localhost:8080/",
          "height": 72
        },
        "id": "2kBKpgZrQaP-",
        "outputId": "2a82b6b9-aba7-4d5e-ecc8-2efc9f1da597"
      },
      "outputs": [
        {
          "output_type": "execute_result",
          "data": {
            "text/plain": [
              "\"I feel so LUCKY to have found this used (phone to us & not used hard at all), phone on line from someone who upgraded and sold this one. My Son liked his old one that finally fell apart after 2.5+ years and didn't want an upgrade!! Thank you Seller, we really appreciate it & your honesty re: said used phone.I recommend this seller very highly & would but from them again!!\""
            ],
            "application/vnd.google.colaboratory.intrinsic+json": {
              "type": "string"
            }
          },
          "metadata": {},
          "execution_count": 60
        }
      ],
      "source": [
        "sentences[0]"
      ]
    },
    {
      "cell_type": "code",
      "execution_count": 61,
      "metadata": {
        "id": "52_V9aPRUUVf"
      },
      "outputs": [],
      "source": [
        "tokenizer = RegexpTokenizer(r'\\w+')\n",
        "sentences_tokenize = [tokenizer.tokenize(str(s).lower()) for s in sentences]"
      ]
    },
    {
      "cell_type": "code",
      "execution_count": 62,
      "metadata": {
        "colab": {
          "base_uri": "https://localhost:8080/"
        },
        "id": "G8wlk440UqAM",
        "outputId": "03d494dc-399a-4946-cb89-4ebc3c7adb4b"
      },
      "outputs": [
        {
          "output_type": "execute_result",
          "data": {
            "text/plain": [
              "['i',\n",
              " 'feel',\n",
              " 'so',\n",
              " 'lucky',\n",
              " 'to',\n",
              " 'have',\n",
              " 'found',\n",
              " 'this',\n",
              " 'used',\n",
              " 'phone',\n",
              " 'to',\n",
              " 'us',\n",
              " 'not',\n",
              " 'used',\n",
              " 'hard',\n",
              " 'at',\n",
              " 'all',\n",
              " 'phone',\n",
              " 'on',\n",
              " 'line',\n",
              " 'from',\n",
              " 'someone',\n",
              " 'who',\n",
              " 'upgraded',\n",
              " 'and',\n",
              " 'sold',\n",
              " 'this',\n",
              " 'one',\n",
              " 'my',\n",
              " 'son',\n",
              " 'liked',\n",
              " 'his',\n",
              " 'old',\n",
              " 'one',\n",
              " 'that',\n",
              " 'finally',\n",
              " 'fell',\n",
              " 'apart',\n",
              " 'after',\n",
              " '2',\n",
              " '5',\n",
              " 'years',\n",
              " 'and',\n",
              " 'didn',\n",
              " 't',\n",
              " 'want',\n",
              " 'an',\n",
              " 'upgrade',\n",
              " 'thank',\n",
              " 'you',\n",
              " 'seller',\n",
              " 'we',\n",
              " 'really',\n",
              " 'appreciate',\n",
              " 'it',\n",
              " 'your',\n",
              " 'honesty',\n",
              " 're',\n",
              " 'said',\n",
              " 'used',\n",
              " 'phone',\n",
              " 'i',\n",
              " 'recommend',\n",
              " 'this',\n",
              " 'seller',\n",
              " 'very',\n",
              " 'highly',\n",
              " 'would',\n",
              " 'but',\n",
              " 'from',\n",
              " 'them',\n",
              " 'again']"
            ]
          },
          "metadata": {},
          "execution_count": 62
        }
      ],
      "source": [
        "sentences_tokenize[0]"
      ]
    },
    {
      "cell_type": "code",
      "execution_count": 63,
      "metadata": {
        "id": "Er1afbtdUsuO"
      },
      "outputs": [],
      "source": [
        "stop_words = stopwords.words(\"english\")\n",
        "stop_words.extend([':)', '.', ',', '!', '?', '#', '0', '1', '2', '3', '4', '5', '6', '7', '8', '9', '10', '18', 'also', 'ls', 'xl', '2xl', 'u', 'w', 'c', 'ua', '3rd', '20', '30', '40', '50', '60', '70', '80', '90', '100', 'è', 'et', 'zu', 'le', '2nd', 'ago'])"
      ]
    },
    {
      "cell_type": "code",
      "execution_count": 64,
      "metadata": {
        "colab": {
          "base_uri": "https://localhost:8080/"
        },
        "id": "IQNsRnJ-U7jk",
        "outputId": "379c2126-0d72-4667-ea0c-aaf033bb1d46"
      },
      "outputs": [
        {
          "output_type": "execute_result",
          "data": {
            "text/plain": [
              "221"
            ]
          },
          "metadata": {},
          "execution_count": 64
        }
      ],
      "source": [
        "len(stop_words)"
      ]
    },
    {
      "cell_type": "code",
      "execution_count": 65,
      "metadata": {
        "id": "yz47SNQWVClt"
      },
      "outputs": [],
      "source": [
        "sentences_tokenize_filtered = [[w for w in sentence if w not in stop_words] for sentence in sentences_tokenize]"
      ]
    },
    {
      "cell_type": "code",
      "execution_count": 66,
      "metadata": {
        "colab": {
          "base_uri": "https://localhost:8080/"
        },
        "id": "KwiOQsAUVzGN",
        "outputId": "4989524f-fcfe-46ba-bfd7-08fe4c434218"
      },
      "outputs": [
        {
          "output_type": "execute_result",
          "data": {
            "text/plain": [
              "['feel',\n",
              " 'lucky',\n",
              " 'found',\n",
              " 'used',\n",
              " 'phone',\n",
              " 'us',\n",
              " 'used',\n",
              " 'hard',\n",
              " 'phone',\n",
              " 'line',\n",
              " 'someone',\n",
              " 'upgraded',\n",
              " 'sold',\n",
              " 'one',\n",
              " 'son',\n",
              " 'liked',\n",
              " 'old',\n",
              " 'one',\n",
              " 'finally',\n",
              " 'fell',\n",
              " 'apart',\n",
              " 'years',\n",
              " 'want',\n",
              " 'upgrade',\n",
              " 'thank',\n",
              " 'seller',\n",
              " 'really',\n",
              " 'appreciate',\n",
              " 'honesty',\n",
              " 'said',\n",
              " 'used',\n",
              " 'phone',\n",
              " 'recommend',\n",
              " 'seller',\n",
              " 'highly',\n",
              " 'would']"
            ]
          },
          "metadata": {},
          "execution_count": 66
        }
      ],
      "source": [
        "sentences_tokenize_filtered[0]"
      ]
    },
    {
      "cell_type": "code",
      "execution_count": 67,
      "metadata": {
        "id": "24E2GZ3dZDrB"
      },
      "outputs": [],
      "source": [
        "porter_stemmer = PorterStemmer()\n",
        "sentences_tokenize_filtered_stem = [[porter_stemmer.stem(w) for w in sentence] for sentence in sentences_tokenize_filtered]"
      ]
    },
    {
      "cell_type": "code",
      "execution_count": 68,
      "metadata": {
        "id": "X_tdJ9tJKFP4"
      },
      "outputs": [],
      "source": [
        "lem = WordNetLemmatizer()\n",
        "sentences_tokenize_filtered_lem = [[lem.lemmatize(w) for w in sentence] for sentence in sentences_tokenize_filtered_stem]"
      ]
    },
    {
      "cell_type": "code",
      "execution_count": 69,
      "metadata": {
        "colab": {
          "base_uri": "https://localhost:8080/"
        },
        "id": "DCDmh75GKU7o",
        "outputId": "c6201079-c20c-4992-be1a-5fb68453cdb2"
      },
      "outputs": [
        {
          "output_type": "execute_result",
          "data": {
            "text/plain": [
              "['feel',\n",
              " 'lucki',\n",
              " 'found',\n",
              " 'use',\n",
              " 'phone',\n",
              " 'u',\n",
              " 'use',\n",
              " 'hard',\n",
              " 'phone',\n",
              " 'line',\n",
              " 'someon',\n",
              " 'upgrad',\n",
              " 'sold',\n",
              " 'one',\n",
              " 'son',\n",
              " 'like',\n",
              " 'old',\n",
              " 'one',\n",
              " 'final',\n",
              " 'fell',\n",
              " 'apart',\n",
              " 'year',\n",
              " 'want',\n",
              " 'upgrad',\n",
              " 'thank',\n",
              " 'seller',\n",
              " 'realli',\n",
              " 'appreci',\n",
              " 'honesti',\n",
              " 'said',\n",
              " 'use',\n",
              " 'phone',\n",
              " 'recommend',\n",
              " 'seller',\n",
              " 'highli',\n",
              " 'would']"
            ]
          },
          "metadata": {},
          "execution_count": 69
        }
      ],
      "source": [
        "sentences_tokenize_filtered_lem[0]"
      ]
    },
    {
      "cell_type": "code",
      "execution_count": 70,
      "metadata": {
        "id": "ZkqMMjDCYMS1"
      },
      "outputs": [],
      "source": [
        "corpus = []\n",
        "for sentence in sentences_tokenize_filtered_lem:\n",
        "  s = ''\n",
        "  s = ' '.join(sentence)\n",
        "  corpus.append(s) "
      ]
    },
    {
      "cell_type": "code",
      "execution_count": 71,
      "metadata": {
        "colab": {
          "base_uri": "https://localhost:8080/",
          "height": 54
        },
        "id": "BbAqkG0zYQUF",
        "outputId": "034e85cf-cab5-4b53-94ee-b2550ef42be1"
      },
      "outputs": [
        {
          "output_type": "execute_result",
          "data": {
            "text/plain": [
              "'feel lucki found use phone u use hard phone line someon upgrad sold one son like old one final fell apart year want upgrad thank seller realli appreci honesti said use phone recommend seller highli would'"
            ],
            "application/vnd.google.colaboratory.intrinsic+json": {
              "type": "string"
            }
          },
          "metadata": {},
          "execution_count": 71
        }
      ],
      "source": [
        "corpus[0]"
      ]
    },
    {
      "cell_type": "markdown",
      "metadata": {
        "id": "W3qULtwxYmZ9"
      },
      "source": [
        "**keras Tokenizer**"
      ]
    },
    {
      "cell_type": "code",
      "execution_count": 72,
      "metadata": {
        "id": "HvGRTkEjYqO2"
      },
      "outputs": [],
      "source": [
        "tokenizer = Tokenizer()\n",
        "tokenizer.fit_on_texts(corpus)"
      ]
    },
    {
      "cell_type": "code",
      "execution_count": 73,
      "metadata": {
        "id": "PVhwwJIiawqI"
      },
      "outputs": [],
      "source": [
        "with open('tokenizer.h5', 'wb') as f:\n",
        "    pickle.dump(tokenizer, f)"
      ]
    },
    {
      "cell_type": "code",
      "execution_count": 74,
      "metadata": {
        "id": "fug8ECqGa4Fw"
      },
      "outputs": [],
      "source": [
        "vocab_size = len(tokenizer.word_index) + 1"
      ]
    },
    {
      "cell_type": "code",
      "execution_count": 75,
      "metadata": {
        "colab": {
          "base_uri": "https://localhost:8080/"
        },
        "id": "XqZShbbYgZRy",
        "outputId": "c9970cb3-6b9d-42d6-9898-b02f09d75c66"
      },
      "outputs": [
        {
          "output_type": "execute_result",
          "data": {
            "text/plain": [
              "53474"
            ]
          },
          "metadata": {},
          "execution_count": 75
        }
      ],
      "source": [
        "vocab_size"
      ]
    },
    {
      "cell_type": "code",
      "execution_count": 76,
      "metadata": {
        "id": "MLvxjA6jbGGh"
      },
      "outputs": [],
      "source": [
        "def max_length(tensor):\n",
        "    return max(len(t) for t in tensor)"
      ]
    },
    {
      "cell_type": "code",
      "execution_count": 77,
      "metadata": {
        "id": "Vpv4Ype_a_Ab"
      },
      "outputs": [],
      "source": [
        "data_to_sequences = tokenizer.texts_to_sequences(corpus)"
      ]
    },
    {
      "cell_type": "code",
      "execution_count": 78,
      "metadata": {
        "colab": {
          "base_uri": "https://localhost:8080/"
        },
        "id": "yOiIWdAabOfm",
        "outputId": "daf5e249-569f-401e-fa13-d97fce1fd150"
      },
      "outputs": [
        {
          "output_type": "execute_result",
          "data": {
            "text/plain": [
              "2737"
            ]
          },
          "metadata": {},
          "execution_count": 78
        }
      ],
      "source": [
        "maxlen = max_length(data_to_sequences)\n",
        "maxlen"
      ]
    },
    {
      "cell_type": "code",
      "execution_count": 79,
      "metadata": {
        "colab": {
          "base_uri": "https://localhost:8080/"
        },
        "id": "sfYzyz7WbG4h",
        "outputId": "886ca638-3b9a-4e50-d1c6-55cd3c7882bd"
      },
      "outputs": [
        {
          "output_type": "execute_result",
          "data": {
            "text/plain": [
              "[113,\n",
              " 1575,\n",
              " 223,\n",
              " 3,\n",
              " 1,\n",
              " 182,\n",
              " 3,\n",
              " 216,\n",
              " 1,\n",
              " 374,\n",
              " 352,\n",
              " 206,\n",
              " 556,\n",
              " 6,\n",
              " 362,\n",
              " 7,\n",
              " 111,\n",
              " 6,\n",
              " 380,\n",
              " 983,\n",
              " 1040,\n",
              " 97,\n",
              " 38,\n",
              " 206,\n",
              " 79,\n",
              " 70,\n",
              " 20,\n",
              " 1074,\n",
              " 3224,\n",
              " 139,\n",
              " 3,\n",
              " 1,\n",
              " 53,\n",
              " 70,\n",
              " 366,\n",
              " 12]"
            ]
          },
          "metadata": {},
          "execution_count": 79
        }
      ],
      "source": [
        "data_to_sequences[0]"
      ]
    },
    {
      "cell_type": "code",
      "execution_count": 80,
      "metadata": {
        "id": "kgzq4b__bIa3"
      },
      "outputs": [],
      "source": [
        "pad_data_to_sequences = pad_sequences(data_to_sequences, padding='post', maxlen=300)"
      ]
    },
    {
      "cell_type": "code",
      "execution_count": 81,
      "metadata": {
        "colab": {
          "base_uri": "https://localhost:8080/"
        },
        "id": "D6nmuYrmbf4o",
        "outputId": "422dc4cf-208c-4c06-bf25-ca8da32a4c08"
      },
      "outputs": [
        {
          "output_type": "execute_result",
          "data": {
            "text/plain": [
              "array([ 113, 1575,  223,    3,    1,  182,    3,  216,    1,  374,  352,\n",
              "        206,  556,    6,  362,    7,  111,    6,  380,  983, 1040,   97,\n",
              "         38,  206,   79,   70,   20, 1074, 3224,  139,    3,    1,   53,\n",
              "         70,  366,   12,    0,    0,    0,    0,    0,    0,    0,    0,\n",
              "          0,    0,    0,    0,    0,    0,    0,    0,    0,    0,    0,\n",
              "          0,    0,    0,    0,    0,    0,    0,    0,    0,    0,    0,\n",
              "          0,    0,    0,    0,    0,    0,    0,    0,    0,    0,    0,\n",
              "          0,    0,    0,    0,    0,    0,    0,    0,    0,    0,    0,\n",
              "          0,    0,    0,    0,    0,    0,    0,    0,    0,    0,    0,\n",
              "          0,    0,    0,    0,    0,    0,    0,    0,    0,    0,    0,\n",
              "          0,    0,    0,    0,    0,    0,    0,    0,    0,    0,    0,\n",
              "          0,    0,    0,    0,    0,    0,    0,    0,    0,    0,    0,\n",
              "          0,    0,    0,    0,    0,    0,    0,    0,    0,    0,    0,\n",
              "          0,    0,    0,    0,    0,    0,    0,    0,    0,    0,    0,\n",
              "          0,    0,    0,    0,    0,    0,    0,    0,    0,    0,    0,\n",
              "          0,    0,    0,    0,    0,    0,    0,    0,    0,    0,    0,\n",
              "          0,    0,    0,    0,    0,    0,    0,    0,    0,    0,    0,\n",
              "          0,    0,    0,    0,    0,    0,    0,    0,    0,    0,    0,\n",
              "          0,    0,    0,    0,    0,    0,    0,    0,    0,    0,    0,\n",
              "          0,    0,    0,    0,    0,    0,    0,    0,    0,    0,    0,\n",
              "          0,    0,    0,    0,    0,    0,    0,    0,    0,    0,    0,\n",
              "          0,    0,    0,    0,    0,    0,    0,    0,    0,    0,    0,\n",
              "          0,    0,    0,    0,    0,    0,    0,    0,    0,    0,    0,\n",
              "          0,    0,    0,    0,    0,    0,    0,    0,    0,    0,    0,\n",
              "          0,    0,    0,    0,    0,    0,    0,    0,    0,    0,    0,\n",
              "          0,    0,    0,    0,    0,    0,    0,    0,    0,    0,    0,\n",
              "          0,    0,    0,    0,    0,    0,    0,    0,    0,    0,    0,\n",
              "          0,    0,    0], dtype=int32)"
            ]
          },
          "metadata": {},
          "execution_count": 81
        }
      ],
      "source": [
        "pad_data_to_sequences[0]"
      ]
    },
    {
      "cell_type": "code",
      "execution_count": 82,
      "metadata": {
        "colab": {
          "base_uri": "https://localhost:8080/"
        },
        "id": "ImwI8ZGieaee",
        "outputId": "a5bb7c9b-1f16-457e-ac9d-c2d91ce04f89"
      },
      "outputs": [
        {
          "output_type": "stream",
          "name": "stdout",
          "text": [
            "(413840, 300)\n",
            "(413840, 3)\n"
          ]
        }
      ],
      "source": [
        "print(pad_data_to_sequences.shape)\n",
        "print(y.shape)"
      ]
    },
    {
      "cell_type": "code",
      "execution_count": 132,
      "metadata": {
        "id": "GOEBRZI-cpEP"
      },
      "outputs": [],
      "source": [
        "X_train, X_test, y_train, y_test = train_test_split(pad_data_to_sequences, y, test_size=0.25, shuffle=True, random_state=50)"
      ]
    },
    {
      "cell_type": "code",
      "execution_count": 133,
      "metadata": {
        "colab": {
          "base_uri": "https://localhost:8080/"
        },
        "id": "XxtgOxCreiww",
        "outputId": "e40c0e68-66a5-41d4-a5c1-a41dc2d79044"
      },
      "outputs": [
        {
          "output_type": "stream",
          "name": "stdout",
          "text": [
            "(310380, 300)\n",
            "(103460, 300)\n",
            "(310380, 3)\n",
            "(103460, 3)\n"
          ]
        }
      ],
      "source": [
        "print(X_train.shape)\n",
        "print(X_test.shape)\n",
        "print(y_train.shape)\n",
        "print(y_test.shape)"
      ]
    },
    {
      "cell_type": "markdown",
      "metadata": {
        "id": "sBrLjflfeukG"
      },
      "source": [
        "## **Neural Networks**"
      ]
    },
    {
      "cell_type": "markdown",
      "source": [
        "### **Naive Bayes -> (NB)**"
      ],
      "metadata": {
        "id": "cr5_enuqCgdb"
      }
    },
    {
      "cell_type": "code",
      "source": [
        "from sklearn.feature_extraction.text import TfidfVectorizer\n",
        "from sklearn.naive_bayes import MultinomialNB"
      ],
      "metadata": {
        "id": "ZWFAAb5EELgR"
      },
      "execution_count": 223,
      "outputs": []
    },
    {
      "cell_type": "code",
      "source": [
        "Y = data['sentiment'].values"
      ],
      "metadata": {
        "id": "5XmUW-1c22y5"
      },
      "execution_count": 240,
      "outputs": []
    },
    {
      "cell_type": "code",
      "source": [
        "Y"
      ],
      "metadata": {
        "colab": {
          "base_uri": "https://localhost:8080/"
        },
        "id": "jmS5hFQy4Yca",
        "outputId": "716ddbfd-fdb6-4b68-8373-d006d34b9414"
      },
      "execution_count": 241,
      "outputs": [
        {
          "output_type": "execute_result",
          "data": {
            "text/plain": [
              "array(['positive', 'positive', 'positive', ..., 'negative', 'negative',\n",
              "       'negative'], dtype=object)"
            ]
          },
          "metadata": {},
          "execution_count": 241
        }
      ]
    },
    {
      "cell_type": "code",
      "source": [
        "Y = pd.factorize(Y)[0]"
      ],
      "metadata": {
        "id": "B1M-CpGe9Kvf"
      },
      "execution_count": 242,
      "outputs": []
    },
    {
      "cell_type": "code",
      "source": [
        "Y"
      ],
      "metadata": {
        "colab": {
          "base_uri": "https://localhost:8080/"
        },
        "id": "sVwINVKI9Wk-",
        "outputId": "19ba462d-39f4-4a3b-85eb-3f5c2ccc85fb"
      },
      "execution_count": 243,
      "outputs": [
        {
          "output_type": "execute_result",
          "data": {
            "text/plain": [
              "array([0, 0, 0, ..., 2, 2, 2])"
            ]
          },
          "metadata": {},
          "execution_count": 243
        }
      ]
    },
    {
      "cell_type": "code",
      "source": [
        "XTrain, XTest, ytrain, ytest = train_test_split(corpus, Y, test_size=0.25, shuffle=True, random_state=50)"
      ],
      "metadata": {
        "id": "NatFdj6aDKFq"
      },
      "execution_count": 244,
      "outputs": []
    },
    {
      "cell_type": "code",
      "source": [
        "# Create feature vectors\n",
        "vectorizer = TfidfVectorizer(min_df = 5,\n",
        "                             max_df = 0.8,\n",
        "                             sublinear_tf = True,\n",
        "                             use_idf = True)"
      ],
      "metadata": {
        "id": "mlncP6cqEfKT"
      },
      "execution_count": 245,
      "outputs": []
    },
    {
      "cell_type": "code",
      "source": [
        "train_vectors = vectorizer.fit_transform(XTrain)\n",
        "test_vectors = vectorizer.transform(XTest)"
      ],
      "metadata": {
        "id": "prjYUlPqEiRF"
      },
      "execution_count": 246,
      "outputs": []
    },
    {
      "cell_type": "code",
      "source": [
        "model = MultinomialNB()\n",
        "model.fit(train_vectors, ytrain)"
      ],
      "metadata": {
        "colab": {
          "base_uri": "https://localhost:8080/"
        },
        "id": "8tZrYL9LE0gT",
        "outputId": "0549957e-3733-45d6-9752-605d97fc8751"
      },
      "execution_count": 247,
      "outputs": [
        {
          "output_type": "execute_result",
          "data": {
            "text/plain": [
              "MultinomialNB()"
            ]
          },
          "metadata": {},
          "execution_count": 247
        }
      ]
    },
    {
      "cell_type": "code",
      "source": [
        "model.score(test_vectors, ytest)"
      ],
      "metadata": {
        "colab": {
          "base_uri": "https://localhost:8080/"
        },
        "id": "9M__n1uFFMga",
        "outputId": "f6292c76-bc02-4d4c-c528-727d47b31500"
      },
      "execution_count": 248,
      "outputs": [
        {
          "output_type": "execute_result",
          "data": {
            "text/plain": [
              "0.8404407500483279"
            ]
          },
          "metadata": {},
          "execution_count": 248
        }
      ]
    },
    {
      "cell_type": "code",
      "source": [
        "y_pred = model.predict(test_vectors)"
      ],
      "metadata": {
        "id": "owxEW9kyFaor"
      },
      "execution_count": 249,
      "outputs": []
    },
    {
      "cell_type": "code",
      "source": [
        "report = classification_report(ytest, y_pred, output_dict=True)"
      ],
      "metadata": {
        "id": "19knV_-lFjEZ"
      },
      "execution_count": 250,
      "outputs": []
    },
    {
      "cell_type": "code",
      "source": [
        "report"
      ],
      "metadata": {
        "colab": {
          "base_uri": "https://localhost:8080/"
        },
        "id": "SY-G5cemFlSk",
        "outputId": "3b148f2c-8bef-4032-e3cb-577ccc57f278"
      },
      "execution_count": 251,
      "outputs": [
        {
          "output_type": "execute_result",
          "data": {
            "text/plain": [
              "{'0': {'precision': 0.8499318039393977,\n",
              "  'recall': 0.9709569196647904,\n",
              "  'f1-score': 0.9064224030611576,\n",
              "  'support': 71239},\n",
              " '1': {'precision': 0.5138539042821159,\n",
              "  'recall': 0.05198114409478914,\n",
              "  'f1-score': 0.09441166261714681,\n",
              "  'support': 7849},\n",
              " '2': {'precision': 0.8163322839825212,\n",
              "  'recall': 0.7128672246840637,\n",
              "  'f1-score': 0.7610995509801773,\n",
              "  'support': 24372},\n",
              " 'accuracy': 0.8404407500483279,\n",
              " 'macro avg': {'precision': 0.7267059974013449,\n",
              "  'recall': 0.5786017628145478,\n",
              "  'f1-score': 0.5873112055528272,\n",
              "  'support': 103460},\n",
              " 'weighted avg': {'precision': 0.8165202155496915,\n",
              "  'recall': 0.8404407500483279,\n",
              "  'f1-score': 0.8105855496621368,\n",
              "  'support': 103460}}"
            ]
          },
          "metadata": {},
          "execution_count": 251
        }
      ]
    },
    {
      "cell_type": "markdown",
      "source": [
        "### **Logistic Regresion**"
      ],
      "metadata": {
        "id": "bwglZdJzIJWJ"
      }
    },
    {
      "cell_type": "code",
      "source": [
        "from sklearn.feature_extraction.text import TfidfVectorizer\n",
        "from sklearn.linear_model import LogisticRegression"
      ],
      "metadata": {
        "id": "umAn5eI2IP7J"
      },
      "execution_count": 260,
      "outputs": []
    },
    {
      "cell_type": "code",
      "source": [
        "Y = data['sentiment'].values"
      ],
      "metadata": {
        "id": "EfOdBYo19orX"
      },
      "execution_count": 252,
      "outputs": []
    },
    {
      "cell_type": "code",
      "source": [
        "Y"
      ],
      "metadata": {
        "colab": {
          "base_uri": "https://localhost:8080/"
        },
        "id": "cKGpnpsm9r7-",
        "outputId": "cfed3207-9d0c-481c-ed49-bd96c6d44bb1"
      },
      "execution_count": 253,
      "outputs": [
        {
          "output_type": "execute_result",
          "data": {
            "text/plain": [
              "array(['positive', 'positive', 'positive', ..., 'negative', 'negative',\n",
              "       'negative'], dtype=object)"
            ]
          },
          "metadata": {},
          "execution_count": 253
        }
      ]
    },
    {
      "cell_type": "code",
      "source": [
        "Y = pd.factorize(Y)[0]"
      ],
      "metadata": {
        "id": "vE-CkHSE9su2"
      },
      "execution_count": 254,
      "outputs": []
    },
    {
      "cell_type": "code",
      "source": [
        "Y"
      ],
      "metadata": {
        "colab": {
          "base_uri": "https://localhost:8080/"
        },
        "id": "Di_GYfai9tqm",
        "outputId": "1a38c7c4-1e82-4148-ee7b-b5d4bf9ba7c8"
      },
      "execution_count": 255,
      "outputs": [
        {
          "output_type": "execute_result",
          "data": {
            "text/plain": [
              "array([0, 0, 0, ..., 2, 2, 2])"
            ]
          },
          "metadata": {},
          "execution_count": 255
        }
      ]
    },
    {
      "cell_type": "code",
      "source": [
        "XTrain, XTest, ytrain, ytest = train_test_split(corpus, Y, test_size=0.3, shuffle=True, random_state=50)"
      ],
      "metadata": {
        "id": "9NiagYKoIYTy"
      },
      "execution_count": 256,
      "outputs": []
    },
    {
      "cell_type": "code",
      "source": [
        "# Create feature vectors\n",
        "vectorizer = TfidfVectorizer(min_df = 8,\n",
        "                             max_df = 0.8,\n",
        "                             sublinear_tf = True,\n",
        "                             use_idf = True)"
      ],
      "metadata": {
        "id": "XyzgXUbiIbOr"
      },
      "execution_count": 257,
      "outputs": []
    },
    {
      "cell_type": "code",
      "source": [
        "train_vectors = vectorizer.fit_transform(XTrain)\n",
        "test_vectors = vectorizer.transform(XTest)"
      ],
      "metadata": {
        "id": "CzKkBvJKIhI5"
      },
      "execution_count": 258,
      "outputs": []
    },
    {
      "cell_type": "code",
      "source": [
        "log_model = LogisticRegression()"
      ],
      "metadata": {
        "id": "TnncAuNrKH2T"
      },
      "execution_count": 261,
      "outputs": []
    },
    {
      "cell_type": "code",
      "source": [
        "log_model.fit(train_vectors, ytrain)"
      ],
      "metadata": {
        "colab": {
          "base_uri": "https://localhost:8080/"
        },
        "id": "RXX4RAv3JAfh",
        "outputId": "d92f0289-d010-47a3-8381-5870022accd0"
      },
      "execution_count": 262,
      "outputs": [
        {
          "output_type": "stream",
          "name": "stderr",
          "text": [
            "/usr/local/lib/python3.8/dist-packages/sklearn/linear_model/_logistic.py:814: ConvergenceWarning: lbfgs failed to converge (status=1):\n",
            "STOP: TOTAL NO. of ITERATIONS REACHED LIMIT.\n",
            "\n",
            "Increase the number of iterations (max_iter) or scale the data as shown in:\n",
            "    https://scikit-learn.org/stable/modules/preprocessing.html\n",
            "Please also refer to the documentation for alternative solver options:\n",
            "    https://scikit-learn.org/stable/modules/linear_model.html#logistic-regression\n",
            "  n_iter_i = _check_optimize_result(\n"
          ]
        },
        {
          "output_type": "execute_result",
          "data": {
            "text/plain": [
              "LogisticRegression()"
            ]
          },
          "metadata": {},
          "execution_count": 262
        }
      ]
    },
    {
      "cell_type": "code",
      "source": [
        "log_model.score(test_vectors, ytest)"
      ],
      "metadata": {
        "colab": {
          "base_uri": "https://localhost:8080/"
        },
        "id": "onuNwApBKUmb",
        "outputId": "aee147ec-a7a5-434e-9303-746ef904aded"
      },
      "execution_count": 263,
      "outputs": [
        {
          "output_type": "execute_result",
          "data": {
            "text/plain": [
              "0.8713754107867775"
            ]
          },
          "metadata": {},
          "execution_count": 263
        }
      ]
    },
    {
      "cell_type": "code",
      "source": [
        "y_pred = log_model.predict(test_vectors)"
      ],
      "metadata": {
        "id": "X7EdSTOIKOI5"
      },
      "execution_count": 264,
      "outputs": []
    },
    {
      "cell_type": "code",
      "source": [
        "report = classification_report(ytest, y_pred, output_dict=True)"
      ],
      "metadata": {
        "id": "q9xvVLAHKa5B"
      },
      "execution_count": 265,
      "outputs": []
    },
    {
      "cell_type": "code",
      "source": [
        "report"
      ],
      "metadata": {
        "colab": {
          "base_uri": "https://localhost:8080/"
        },
        "id": "yauD94rbKb5q",
        "outputId": "137046e2-8ecb-4e27-f5ac-702511b49e10"
      },
      "execution_count": 266,
      "outputs": [
        {
          "output_type": "execute_result",
          "data": {
            "text/plain": [
              "{'0': {'precision': 0.904904286423567,\n",
              "  'recall': 0.9587468583786312,\n",
              "  'f1-score': 0.9310477920308775,\n",
              "  'support': 85545},\n",
              " '1': {'precision': 0.5497664390945023,\n",
              "  'recall': 0.1632174098570514,\n",
              "  'f1-score': 0.2517068355679855,\n",
              "  'support': 9374},\n",
              " '2': {'precision': 0.8016203553068263,\n",
              "  'recall': 0.8427804193890466,\n",
              "  'f1-score': 0.8216852602264579,\n",
              "  'support': 29233},\n",
              " 'accuracy': 0.8713754107867775,\n",
              " 'macro avg': {'precision': 0.7520970269416319,\n",
              "  'recall': 0.6549148958749097,\n",
              "  'f1-score': 0.6681466292751069,\n",
              "  'support': 124152},\n",
              " 'weighted avg': {'precision': 0.8537705041309069,\n",
              "  'recall': 0.8713754107867775,\n",
              "  'f1-score': 0.8540040310111456,\n",
              "  'support': 124152}}"
            ]
          },
          "metadata": {},
          "execution_count": 266
        }
      ]
    },
    {
      "cell_type": "markdown",
      "metadata": {
        "id": "_htWm7hqrnfH"
      },
      "source": [
        "### **CNN Model**"
      ]
    },
    {
      "cell_type": "code",
      "execution_count": 134,
      "metadata": {
        "id": "2xWH8MaKikVS"
      },
      "outputs": [],
      "source": [
        "embedding_dim = 50\n",
        "\n",
        "model = Sequential()\n",
        "model.add(layers.Embedding(vocab_size, embedding_dim, input_length=300))\n",
        "model.add(layers.BatchNormalization())\n",
        "model.add(layers.Dropout(0.3))\n",
        "model.add(layers.Conv1D(64, 4, activation='relu'))\n",
        "model.add(layers.MaxPooling1D(2))\n",
        "model.add(layers.Dropout(0.3))\n",
        "model.add(layers.Conv1D(32, 2, activation='relu'))\n",
        "model.add(layers.MaxPooling1D(2))\n",
        "model.add(layers.Dropout(0.4))\n",
        "model.add(layers.Conv1D(64, 2, activation='relu'))\n",
        "model.add(layers.MaxPooling1D(2))\n",
        "model.add(layers.Dropout(0.2))\n",
        "model.add(layers.GlobalMaxPooling1D())\n",
        "model.add(layers.Dense(64, activation='relu'))\n",
        "model.add(layers.Dropout(0.5))\n",
        "model.add(layers.Dense(3, activation='softmax'))"
      ]
    },
    {
      "cell_type": "code",
      "execution_count": 135,
      "metadata": {
        "id": "peNoQzzAsafu"
      },
      "outputs": [],
      "source": [
        "model.compile(optimizer='adam', loss='categorical_crossentropy', metrics=['accuracy'])"
      ]
    },
    {
      "cell_type": "code",
      "execution_count": 136,
      "metadata": {
        "colab": {
          "base_uri": "https://localhost:8080/"
        },
        "id": "lK6jAniesb_f",
        "outputId": "5c186fdb-13a1-460f-e65e-e0bd7363ffc5"
      },
      "outputs": [
        {
          "output_type": "stream",
          "name": "stdout",
          "text": [
            "Model: \"sequential_1\"\n",
            "_________________________________________________________________\n",
            " Layer (type)                Output Shape              Param #   \n",
            "=================================================================\n",
            " embedding_2 (Embedding)     (None, 300, 50)           2673700   \n",
            "                                                                 \n",
            " batch_normalization_2 (Batc  (None, 300, 50)          200       \n",
            " hNormalization)                                                 \n",
            "                                                                 \n",
            " dropout_10 (Dropout)        (None, 300, 50)           0         \n",
            "                                                                 \n",
            " conv1d_6 (Conv1D)           (None, 297, 64)           12864     \n",
            "                                                                 \n",
            " max_pooling1d_6 (MaxPooling  (None, 148, 64)          0         \n",
            " 1D)                                                             \n",
            "                                                                 \n",
            " dropout_11 (Dropout)        (None, 148, 64)           0         \n",
            "                                                                 \n",
            " conv1d_7 (Conv1D)           (None, 147, 32)           4128      \n",
            "                                                                 \n",
            " max_pooling1d_7 (MaxPooling  (None, 73, 32)           0         \n",
            " 1D)                                                             \n",
            "                                                                 \n",
            " dropout_12 (Dropout)        (None, 73, 32)            0         \n",
            "                                                                 \n",
            " conv1d_8 (Conv1D)           (None, 72, 64)            4160      \n",
            "                                                                 \n",
            " max_pooling1d_8 (MaxPooling  (None, 36, 64)           0         \n",
            " 1D)                                                             \n",
            "                                                                 \n",
            " dropout_13 (Dropout)        (None, 36, 64)            0         \n",
            "                                                                 \n",
            " global_max_pooling1d_2 (Glo  (None, 64)               0         \n",
            " balMaxPooling1D)                                                \n",
            "                                                                 \n",
            " dense_4 (Dense)             (None, 64)                4160      \n",
            "                                                                 \n",
            " dropout_14 (Dropout)        (None, 64)                0         \n",
            "                                                                 \n",
            " dense_5 (Dense)             (None, 3)                 195       \n",
            "                                                                 \n",
            "=================================================================\n",
            "Total params: 2,699,407\n",
            "Trainable params: 2,699,307\n",
            "Non-trainable params: 100\n",
            "_________________________________________________________________\n"
          ]
        }
      ],
      "source": [
        "model.summary()"
      ]
    },
    {
      "cell_type": "code",
      "execution_count": 137,
      "metadata": {
        "colab": {
          "base_uri": "https://localhost:8080/"
        },
        "id": "P8lQOv8Msf8V",
        "outputId": "df8ed090-362c-4b09-ae35-ab90d18a718b"
      },
      "outputs": [
        {
          "output_type": "stream",
          "name": "stdout",
          "text": [
            "Epoch 1/20\n",
            "607/607 [==============================] - 22s 35ms/step - loss: 0.5923 - accuracy: 0.7841 - val_loss: 0.5637 - val_accuracy: 0.8590\n",
            "Epoch 2/20\n",
            "607/607 [==============================] - 21s 35ms/step - loss: 0.4191 - accuracy: 0.8568 - val_loss: 0.4349 - val_accuracy: 0.8669\n",
            "Epoch 3/20\n",
            "607/607 [==============================] - 20s 33ms/step - loss: 0.3834 - accuracy: 0.8674 - val_loss: 0.4104 - val_accuracy: 0.8710\n",
            "Epoch 4/20\n",
            "607/607 [==============================] - 20s 33ms/step - loss: 0.3604 - accuracy: 0.8736 - val_loss: 0.3890 - val_accuracy: 0.8755\n",
            "Epoch 5/20\n",
            "607/607 [==============================] - 21s 35ms/step - loss: 0.3440 - accuracy: 0.8778 - val_loss: 0.4168 - val_accuracy: 0.8775\n",
            "Epoch 6/20\n",
            "607/607 [==============================] - 21s 35ms/step - loss: 0.3296 - accuracy: 0.8813 - val_loss: 0.3969 - val_accuracy: 0.8775\n",
            "Epoch 7/20\n",
            "607/607 [==============================] - 21s 35ms/step - loss: 0.3175 - accuracy: 0.8842 - val_loss: 0.3711 - val_accuracy: 0.8804\n",
            "Epoch 8/20\n",
            "607/607 [==============================] - 21s 35ms/step - loss: 0.3071 - accuracy: 0.8876 - val_loss: 0.3519 - val_accuracy: 0.8867\n",
            "Epoch 9/20\n",
            "607/607 [==============================] - 21s 35ms/step - loss: 0.2983 - accuracy: 0.8919 - val_loss: 0.3566 - val_accuracy: 0.8922\n",
            "Epoch 10/20\n",
            "607/607 [==============================] - 20s 33ms/step - loss: 0.2906 - accuracy: 0.8956 - val_loss: 0.3275 - val_accuracy: 0.8925\n",
            "Epoch 11/20\n",
            "607/607 [==============================] - 20s 33ms/step - loss: 0.2832 - accuracy: 0.8995 - val_loss: 0.3243 - val_accuracy: 0.8972\n",
            "Epoch 12/20\n",
            "607/607 [==============================] - 21s 35ms/step - loss: 0.2772 - accuracy: 0.9022 - val_loss: 0.3351 - val_accuracy: 0.8963\n",
            "Epoch 13/20\n",
            "607/607 [==============================] - 21s 35ms/step - loss: 0.2704 - accuracy: 0.9052 - val_loss: 0.3217 - val_accuracy: 0.8980\n",
            "Epoch 14/20\n",
            "607/607 [==============================] - 20s 33ms/step - loss: 0.2643 - accuracy: 0.9084 - val_loss: 0.3248 - val_accuracy: 0.8963\n",
            "Epoch 15/20\n",
            "607/607 [==============================] - 20s 33ms/step - loss: 0.2601 - accuracy: 0.9103 - val_loss: 0.3170 - val_accuracy: 0.9012\n",
            "Epoch 16/20\n",
            "607/607 [==============================] - 20s 33ms/step - loss: 0.2555 - accuracy: 0.9127 - val_loss: 0.3189 - val_accuracy: 0.9029\n",
            "Epoch 17/20\n",
            "607/607 [==============================] - 20s 33ms/step - loss: 0.2494 - accuracy: 0.9140 - val_loss: 0.3203 - val_accuracy: 0.9023\n",
            "Epoch 18/20\n",
            "607/607 [==============================] - 21s 35ms/step - loss: 0.2475 - accuracy: 0.9157 - val_loss: 0.3066 - val_accuracy: 0.9008\n",
            "Epoch 19/20\n",
            "607/607 [==============================] - 20s 33ms/step - loss: 0.2422 - accuracy: 0.9172 - val_loss: 0.3149 - val_accuracy: 0.9033\n",
            "Epoch 20/20\n",
            "607/607 [==============================] - 20s 33ms/step - loss: 0.2396 - accuracy: 0.9185 - val_loss: 0.3078 - val_accuracy: 0.9053\n"
          ]
        }
      ],
      "source": [
        "history = model.fit(X_train, y_train, validation_data=(X_test, y_test), epochs=20, batch_size=512)"
      ]
    },
    {
      "cell_type": "code",
      "execution_count": 138,
      "metadata": {
        "colab": {
          "base_uri": "https://localhost:8080/"
        },
        "id": "mq-H4VzyNRZn",
        "outputId": "1d14e034-b031-47ba-ba7c-7358b67debf8"
      },
      "outputs": [
        {
          "output_type": "stream",
          "name": "stdout",
          "text": [
            "3234/3234 [==============================] - 11s 3ms/step - loss: 0.3078 - accuracy: 0.9053\n",
            "Accuracy: 90.53%\n"
          ]
        }
      ],
      "source": [
        "scores = model.evaluate(X_test, y_test, verbose=1)\n",
        "print(\"Accuracy: %.2f%%\" % (scores[1]*100))"
      ]
    },
    {
      "cell_type": "code",
      "execution_count": 150,
      "metadata": {
        "colab": {
          "base_uri": "https://localhost:8080/"
        },
        "id": "d4hZV_IXMErK",
        "outputId": "fb3c5c06-6e03-4aca-cadc-e26e13b99224"
      },
      "outputs": [
        {
          "output_type": "stream",
          "name": "stdout",
          "text": [
            "3234/3234 [==============================] - 7s 2ms/step\n"
          ]
        }
      ],
      "source": [
        "y_true = y_test\n",
        "y_pred = model.predict(X_test)\n",
        "y_pred = np.argmax(y_pred, axis=1)"
      ]
    },
    {
      "cell_type": "code",
      "source": [
        "y_true = np.argmax(y_true, axis=1)"
      ],
      "metadata": {
        "id": "NyhABovlcJVd"
      },
      "execution_count": 151,
      "outputs": []
    },
    {
      "cell_type": "code",
      "source": [
        "y_true[80]"
      ],
      "metadata": {
        "colab": {
          "base_uri": "https://localhost:8080/"
        },
        "id": "VdXt0KBKXx40",
        "outputId": "2d486bd6-a67b-4636-d721-8a506ddca6af"
      },
      "execution_count": 152,
      "outputs": [
        {
          "output_type": "execute_result",
          "data": {
            "text/plain": [
              "2"
            ]
          },
          "metadata": {},
          "execution_count": 152
        }
      ]
    },
    {
      "cell_type": "code",
      "source": [
        "y_pred[80]"
      ],
      "metadata": {
        "colab": {
          "base_uri": "https://localhost:8080/"
        },
        "id": "dTDjzeURX0wW",
        "outputId": "184d44fe-6876-4e0b-fe8d-6d382afe1d3f"
      },
      "execution_count": 153,
      "outputs": [
        {
          "output_type": "execute_result",
          "data": {
            "text/plain": [
              "2"
            ]
          },
          "metadata": {},
          "execution_count": 153
        }
      ]
    },
    {
      "cell_type": "code",
      "execution_count": 154,
      "metadata": {
        "colab": {
          "base_uri": "https://localhost:8080/"
        },
        "id": "XYKpjtI0MKBh",
        "outputId": "b1ee6a3d-4d5a-41f9-8558-232cd523ad78"
      },
      "outputs": [
        {
          "output_type": "stream",
          "name": "stdout",
          "text": [
            "              precision    recall  f1-score   support\n",
            "\n",
            "           0       0.89      0.86      0.88     24372\n",
            "           1       0.71      0.38      0.50      7849\n",
            "           2       0.92      0.98      0.95     71239\n",
            "\n",
            "    accuracy                           0.91    103460\n",
            "   macro avg       0.84      0.74      0.77    103460\n",
            "weighted avg       0.90      0.91      0.90    103460\n",
            "\n"
          ]
        }
      ],
      "source": [
        "print(classification_report(y_true, y_pred))"
      ]
    },
    {
      "cell_type": "code",
      "source": [
        "from sklearn.metrics import precision_recall_fscore_support\n",
        "\n",
        "print(precision_recall_fscore_support(y_true, y_pred, average='macro'))\n",
        "\n",
        "print(precision_recall_fscore_support(y_true, y_pred, average='micro'))\n",
        "\n",
        "print(precision_recall_fscore_support(y_true, y_pred, average='weighted'))"
      ],
      "metadata": {
        "id": "lOC07f1LnOP6",
        "colab": {
          "base_uri": "https://localhost:8080/"
        },
        "outputId": "97c41ff2-c8fc-4b18-ae8d-eaa44ef73faf"
      },
      "execution_count": 155,
      "outputs": [
        {
          "output_type": "stream",
          "name": "stdout",
          "text": [
            "(0.8394891584281106, 0.7404973564092185, 0.7734716736758291, None)\n",
            "(0.9052870674656872, 0.9052870674656872, 0.9052870674656872, None)\n",
            "(0.8975931317873107, 0.9052870674656872, 0.8971208273620039, None)\n"
          ]
        }
      ]
    },
    {
      "cell_type": "markdown",
      "metadata": {
        "id": "0cY9-F83lqnt"
      },
      "source": [
        "### **LSTM Model**"
      ]
    },
    {
      "cell_type": "code",
      "source": [
        "embedding_dim = 50\n",
        "\n",
        "model = Sequential()\n",
        "model.add(layers.Embedding(vocab_size, embedding_dim, input_length=300))\n",
        "model.add(layers.BatchNormalization())\n",
        "model.add(layers.Dropout(0.3))\n",
        "model.add(layers.Bidirectional(layers.LSTM(256, return_sequences=True)))\n",
        "model.add(layers.GlobalMaxPooling1D())\n",
        "model.add(layers.Dropout(0.3))\n",
        "model.add(layers.Dense(200, activation='relu'))\n",
        "model.add(layers.Dropout(0.5))\n",
        "model.add(layers.Dense(3, activation='softmax'))"
      ],
      "metadata": {
        "id": "lVA5QVMGwmvY"
      },
      "execution_count": 186,
      "outputs": []
    },
    {
      "cell_type": "code",
      "execution_count": 187,
      "metadata": {
        "id": "0E9gGnvIqEou"
      },
      "outputs": [],
      "source": [
        "model.compile(optimizer='adam', loss='categorical_crossentropy', metrics=['accuracy'])"
      ]
    },
    {
      "cell_type": "code",
      "execution_count": 188,
      "metadata": {
        "colab": {
          "base_uri": "https://localhost:8080/"
        },
        "id": "FcvdI5qMqGJ-",
        "outputId": "459adbbc-54e1-4155-8ba3-d2a15f6ffa4f"
      },
      "outputs": [
        {
          "output_type": "stream",
          "name": "stdout",
          "text": [
            "Model: \"sequential_3\"\n",
            "_________________________________________________________________\n",
            " Layer (type)                Output Shape              Param #   \n",
            "=================================================================\n",
            " embedding_5 (Embedding)     (None, 300, 50)           2673700   \n",
            "                                                                 \n",
            " batch_normalization_5 (Batc  (None, 300, 50)          200       \n",
            " hNormalization)                                                 \n",
            "                                                                 \n",
            " dropout_23 (Dropout)        (None, 300, 50)           0         \n",
            "                                                                 \n",
            " bidirectional_3 (Bidirectio  (None, 300, 512)         628736    \n",
            " nal)                                                            \n",
            "                                                                 \n",
            " global_max_pooling1d_5 (Glo  (None, 512)              0         \n",
            " balMaxPooling1D)                                                \n",
            "                                                                 \n",
            " dropout_24 (Dropout)        (None, 512)               0         \n",
            "                                                                 \n",
            " dense_10 (Dense)            (None, 200)               102600    \n",
            "                                                                 \n",
            " dropout_25 (Dropout)        (None, 200)               0         \n",
            "                                                                 \n",
            " dense_11 (Dense)            (None, 3)                 603       \n",
            "                                                                 \n",
            "=================================================================\n",
            "Total params: 3,405,839\n",
            "Trainable params: 3,405,739\n",
            "Non-trainable params: 100\n",
            "_________________________________________________________________\n"
          ]
        }
      ],
      "source": [
        "model.summary()"
      ]
    },
    {
      "cell_type": "code",
      "execution_count": 189,
      "metadata": {
        "id": "PLXCO6A0qMNb",
        "colab": {
          "base_uri": "https://localhost:8080/"
        },
        "outputId": "5d71feb9-2f42-40fe-e715-55f077db19d6"
      },
      "outputs": [
        {
          "output_type": "stream",
          "name": "stdout",
          "text": [
            "Epoch 1/5\n",
            "607/607 [==============================] - 184s 297ms/step - loss: 0.4128 - accuracy: 0.8504 - val_loss: 0.3482 - val_accuracy: 0.8743\n",
            "Epoch 2/5\n",
            "607/607 [==============================] - 179s 295ms/step - loss: 0.3226 - accuracy: 0.8846 - val_loss: 0.2992 - val_accuracy: 0.8931\n",
            "Epoch 3/5\n",
            "607/607 [==============================] - 179s 296ms/step - loss: 0.2817 - accuracy: 0.9010 - val_loss: 0.2872 - val_accuracy: 0.9006\n",
            "Epoch 4/5\n",
            "607/607 [==============================] - 179s 296ms/step - loss: 0.2525 - accuracy: 0.9125 - val_loss: 0.2770 - val_accuracy: 0.9062\n",
            "Epoch 5/5\n",
            "607/607 [==============================] - 180s 296ms/step - loss: 0.2307 - accuracy: 0.9201 - val_loss: 0.2773 - val_accuracy: 0.9098\n"
          ]
        }
      ],
      "source": [
        "history = model.fit(X_train, y_train, validation_data=(X_test, y_test), epochs=5, batch_size=512)"
      ]
    },
    {
      "cell_type": "code",
      "execution_count": 190,
      "metadata": {
        "id": "_c57pbMrrdBc",
        "colab": {
          "base_uri": "https://localhost:8080/"
        },
        "outputId": "71ebdc6c-903c-4de2-b7ae-bbe772959e75"
      },
      "outputs": [
        {
          "output_type": "stream",
          "name": "stdout",
          "text": [
            "3234/3234 [==============================] - 69s 21ms/step - loss: 0.2773 - accuracy: 0.9098\n",
            "Accuracy: 90.98%\n"
          ]
        }
      ],
      "source": [
        "scores = model.evaluate(X_test, y_test, verbose=1)\n",
        "print(\"Accuracy: %.2f%%\" % (scores[1]*100))"
      ]
    },
    {
      "cell_type": "code",
      "execution_count": 191,
      "metadata": {
        "id": "5qY8Xl1coLKM",
        "colab": {
          "base_uri": "https://localhost:8080/"
        },
        "outputId": "af2462d6-fe39-46d9-c542-9611e0cb5299"
      },
      "outputs": [
        {
          "output_type": "stream",
          "name": "stdout",
          "text": [
            "3234/3234 [==============================] - 47s 14ms/step\n"
          ]
        }
      ],
      "source": [
        "y_true = y_test\n",
        "y_pred = model.predict(X_test)\n",
        "y_pred = np.argmax(y_pred, axis=1)"
      ]
    },
    {
      "cell_type": "code",
      "source": [
        "y_true = np.argmax(y_true, axis=1)"
      ],
      "metadata": {
        "id": "kOvyr8b_thmF"
      },
      "execution_count": 192,
      "outputs": []
    },
    {
      "cell_type": "code",
      "execution_count": 193,
      "metadata": {
        "colab": {
          "base_uri": "https://localhost:8080/"
        },
        "id": "xyEBp6lboQG1",
        "outputId": "32c09a38-c1cc-4601-b77f-5a457c26548e"
      },
      "outputs": [
        {
          "output_type": "stream",
          "name": "stdout",
          "text": [
            "              precision    recall  f1-score   support\n",
            "\n",
            "           0       0.88      0.88      0.88     24372\n",
            "           1       0.69      0.43      0.53      7849\n",
            "           2       0.93      0.97      0.95     71239\n",
            "\n",
            "    accuracy                           0.91    103460\n",
            "   macro avg       0.83      0.76      0.79    103460\n",
            "weighted avg       0.90      0.91      0.90    103460\n",
            "\n"
          ]
        }
      ],
      "source": [
        "print(classification_report(y_true, y_pred))"
      ]
    },
    {
      "cell_type": "code",
      "source": [
        "from sklearn.metrics import precision_recall_fscore_support\n",
        "\n",
        "print(precision_recall_fscore_support(y_true, y_pred, average='macro'))\n",
        "\n",
        "print(precision_recall_fscore_support(y_true, y_pred, average='micro'))\n",
        "\n",
        "print(precision_recall_fscore_support(y_true, y_pred, average='weighted'))"
      ],
      "metadata": {
        "colab": {
          "base_uri": "https://localhost:8080/"
        },
        "id": "4XMt3m9f9tAz",
        "outputId": "bf6e2db3-d001-4569-c27f-917075d30be1"
      },
      "execution_count": 194,
      "outputs": [
        {
          "output_type": "stream",
          "name": "stdout",
          "text": [
            "(0.8342537573801705, 0.7613803798911819, 0.7879909040371124, None)\n",
            "(0.9097622269476126, 0.9097622269476126, 0.9097622269476126, None)\n",
            "(0.9027816094411751, 0.9097622269476126, 0.9037887769844241, None)\n"
          ]
        }
      ]
    },
    {
      "cell_type": "markdown",
      "metadata": {
        "id": "bRIuKT9ZfHk-"
      },
      "source": [
        "### **CNN-LSTM Model**"
      ]
    },
    {
      "cell_type": "code",
      "execution_count": 156,
      "metadata": {
        "id": "6QHuDn1KemiN"
      },
      "outputs": [],
      "source": [
        "embedding_dim = 50\n",
        "\n",
        "i = Input(shape=(300,))\n",
        "x = Embedding(vocab_size, embedding_dim, input_length=300)(i)\n",
        "x = BatchNormalization()(x)\n",
        "x = Dropout(0.3)(x)\n",
        "x = Conv1D(64, 4, padding='same', activation='relu')(x)\n",
        "x = Dropout(0.3)(x)\n",
        "x = MaxPooling1D(2)(x)\n",
        "x = Conv1D(32, 3, padding='same', activation='relu')(x)\n",
        "x = Dropout(0.3)(x)\n",
        "x = MaxPooling1D(2)(x)\n",
        "x = Conv1D(32, 2, padding='same', activation='relu')(x)\n",
        "x = Dropout(0.3)(x)\n",
        "x = MaxPooling1D(3)(x)\n",
        "x = Bidirectional(LSTM(128, return_sequences=True))(x)\n",
        "x = GlobalMaxPooling1D()(x)\n",
        "x = Dense(64, activation='relu')(x)\n",
        "x = Dropout(0.5)(x)\n",
        "x = Dense(3, activation='softmax')(x)"
      ]
    },
    {
      "cell_type": "code",
      "execution_count": 157,
      "metadata": {
        "id": "C0a4lepHhMI-"
      },
      "outputs": [],
      "source": [
        "model = Model(i, x)"
      ]
    },
    {
      "cell_type": "code",
      "execution_count": 158,
      "metadata": {
        "id": "xqh10K0ohi58"
      },
      "outputs": [],
      "source": [
        "model.compile(optimizer='adam', loss='categorical_crossentropy', metrics=['accuracy'])"
      ]
    },
    {
      "cell_type": "code",
      "execution_count": 159,
      "metadata": {
        "colab": {
          "base_uri": "https://localhost:8080/"
        },
        "id": "YCFV1qWXhmaT",
        "outputId": "2d2a0469-056f-4552-9dc7-980ee9cb3551"
      },
      "outputs": [
        {
          "output_type": "stream",
          "name": "stdout",
          "text": [
            "Model: \"model_1\"\n",
            "_________________________________________________________________\n",
            " Layer (type)                Output Shape              Param #   \n",
            "=================================================================\n",
            " input_2 (InputLayer)        [(None, 300)]             0         \n",
            "                                                                 \n",
            " embedding_3 (Embedding)     (None, 300, 50)           2673700   \n",
            "                                                                 \n",
            " batch_normalization_3 (Batc  (None, 300, 50)          200       \n",
            " hNormalization)                                                 \n",
            "                                                                 \n",
            " dropout_15 (Dropout)        (None, 300, 50)           0         \n",
            "                                                                 \n",
            " conv1d_9 (Conv1D)           (None, 300, 64)           12864     \n",
            "                                                                 \n",
            " dropout_16 (Dropout)        (None, 300, 64)           0         \n",
            "                                                                 \n",
            " max_pooling1d_9 (MaxPooling  (None, 150, 64)          0         \n",
            " 1D)                                                             \n",
            "                                                                 \n",
            " conv1d_10 (Conv1D)          (None, 150, 32)           6176      \n",
            "                                                                 \n",
            " dropout_17 (Dropout)        (None, 150, 32)           0         \n",
            "                                                                 \n",
            " max_pooling1d_10 (MaxPoolin  (None, 75, 32)           0         \n",
            " g1D)                                                            \n",
            "                                                                 \n",
            " conv1d_11 (Conv1D)          (None, 75, 32)            2080      \n",
            "                                                                 \n",
            " dropout_18 (Dropout)        (None, 75, 32)            0         \n",
            "                                                                 \n",
            " max_pooling1d_11 (MaxPoolin  (None, 25, 32)           0         \n",
            " g1D)                                                            \n",
            "                                                                 \n",
            " bidirectional_1 (Bidirectio  (None, 25, 256)          164864    \n",
            " nal)                                                            \n",
            "                                                                 \n",
            " global_max_pooling1d_3 (Glo  (None, 256)              0         \n",
            " balMaxPooling1D)                                                \n",
            "                                                                 \n",
            " dense_6 (Dense)             (None, 64)                16448     \n",
            "                                                                 \n",
            " dropout_19 (Dropout)        (None, 64)                0         \n",
            "                                                                 \n",
            " dense_7 (Dense)             (None, 3)                 195       \n",
            "                                                                 \n",
            "=================================================================\n",
            "Total params: 2,876,527\n",
            "Trainable params: 2,876,427\n",
            "Non-trainable params: 100\n",
            "_________________________________________________________________\n"
          ]
        }
      ],
      "source": [
        "model.summary()"
      ]
    },
    {
      "cell_type": "code",
      "execution_count": 160,
      "metadata": {
        "colab": {
          "base_uri": "https://localhost:8080/"
        },
        "id": "XWNwfosHhpLj",
        "outputId": "a556b6b2-2bce-484d-eac7-8b6b39cfa10b"
      },
      "outputs": [
        {
          "output_type": "stream",
          "name": "stdout",
          "text": [
            "Epoch 1/20\n",
            "607/607 [==============================] - 32s 48ms/step - loss: 0.4741 - accuracy: 0.8319 - val_loss: 0.3938 - val_accuracy: 0.8664\n",
            "Epoch 2/20\n",
            "607/607 [==============================] - 28s 46ms/step - loss: 0.3686 - accuracy: 0.8707 - val_loss: 0.3309 - val_accuracy: 0.8770\n",
            "Epoch 3/20\n",
            "607/607 [==============================] - 28s 46ms/step - loss: 0.3373 - accuracy: 0.8795 - val_loss: 0.3187 - val_accuracy: 0.8849\n",
            "Epoch 4/20\n",
            "607/607 [==============================] - 28s 46ms/step - loss: 0.3153 - accuracy: 0.8879 - val_loss: 0.3093 - val_accuracy: 0.8886\n",
            "Epoch 5/20\n",
            "607/607 [==============================] - 28s 46ms/step - loss: 0.2984 - accuracy: 0.8965 - val_loss: 0.3010 - val_accuracy: 0.8959\n",
            "Epoch 6/20\n",
            "607/607 [==============================] - 28s 46ms/step - loss: 0.2826 - accuracy: 0.9032 - val_loss: 0.2869 - val_accuracy: 0.9014\n",
            "Epoch 7/20\n",
            "607/607 [==============================] - 28s 46ms/step - loss: 0.2711 - accuracy: 0.9085 - val_loss: 0.2856 - val_accuracy: 0.9027\n",
            "Epoch 8/20\n",
            "607/607 [==============================] - 28s 46ms/step - loss: 0.2607 - accuracy: 0.9123 - val_loss: 0.2843 - val_accuracy: 0.9047\n",
            "Epoch 9/20\n",
            "607/607 [==============================] - 28s 46ms/step - loss: 0.2521 - accuracy: 0.9154 - val_loss: 0.2794 - val_accuracy: 0.9076\n",
            "Epoch 10/20\n",
            "607/607 [==============================] - 28s 46ms/step - loss: 0.2446 - accuracy: 0.9182 - val_loss: 0.2804 - val_accuracy: 0.9081\n",
            "Epoch 11/20\n",
            "607/607 [==============================] - 28s 46ms/step - loss: 0.2394 - accuracy: 0.9200 - val_loss: 0.2803 - val_accuracy: 0.9087\n",
            "Epoch 12/20\n",
            "607/607 [==============================] - 28s 46ms/step - loss: 0.2332 - accuracy: 0.9223 - val_loss: 0.2729 - val_accuracy: 0.9109\n",
            "Epoch 13/20\n",
            "607/607 [==============================] - 28s 46ms/step - loss: 0.2293 - accuracy: 0.9240 - val_loss: 0.2790 - val_accuracy: 0.9090\n",
            "Epoch 14/20\n",
            "607/607 [==============================] - 28s 46ms/step - loss: 0.2263 - accuracy: 0.9248 - val_loss: 0.2745 - val_accuracy: 0.9107\n",
            "Epoch 15/20\n",
            "607/607 [==============================] - 28s 46ms/step - loss: 0.2224 - accuracy: 0.9259 - val_loss: 0.2740 - val_accuracy: 0.9127\n",
            "Epoch 16/20\n",
            "607/607 [==============================] - 28s 46ms/step - loss: 0.2180 - accuracy: 0.9277 - val_loss: 0.2710 - val_accuracy: 0.9140\n",
            "Epoch 17/20\n",
            "607/607 [==============================] - 28s 46ms/step - loss: 0.2157 - accuracy: 0.9285 - val_loss: 0.2742 - val_accuracy: 0.9127\n",
            "Epoch 18/20\n",
            "607/607 [==============================] - 28s 46ms/step - loss: 0.2131 - accuracy: 0.9300 - val_loss: 0.2713 - val_accuracy: 0.9157\n",
            "Epoch 19/20\n",
            "607/607 [==============================] - 28s 46ms/step - loss: 0.2107 - accuracy: 0.9300 - val_loss: 0.2801 - val_accuracy: 0.9135\n",
            "Epoch 20/20\n",
            "607/607 [==============================] - 28s 46ms/step - loss: 0.2084 - accuracy: 0.9312 - val_loss: 0.2699 - val_accuracy: 0.9149\n"
          ]
        }
      ],
      "source": [
        "history = model.fit(X_train, y_train, validation_data=(X_test, y_test), epochs=20, batch_size=512)"
      ]
    },
    {
      "cell_type": "code",
      "execution_count": 161,
      "metadata": {
        "colab": {
          "base_uri": "https://localhost:8080/"
        },
        "id": "ww-joccChuVB",
        "outputId": "a39c849e-3a44-4c06-8adc-4fcd85b4cb67"
      },
      "outputs": [
        {
          "output_type": "stream",
          "name": "stdout",
          "text": [
            "3234/3234 [==============================] - 18s 6ms/step - loss: 0.2699 - accuracy: 0.9149\n",
            "Accuracy: 91.49%\n"
          ]
        }
      ],
      "source": [
        "scores = model.evaluate(X_test, y_test, verbose=1)\n",
        "print(\"Accuracy: %.2f%%\" % (scores[1]*100))"
      ]
    },
    {
      "cell_type": "code",
      "execution_count": 162,
      "metadata": {
        "colab": {
          "base_uri": "https://localhost:8080/",
          "height": 1000
        },
        "id": "gbvet5GPjUVu",
        "outputId": "665959a3-8936-4c75-8ef1-18168ffcf27b"
      },
      "outputs": [
        {
          "output_type": "execute_result",
          "data": {
            "image/png": "[encoded data removed]",
            "text/plain": [
              "<IPython.core.display.Image object>"
            ]
          },
          "metadata": {},
          "execution_count": 162
        }
      ],
      "source": [
        "plot_model(model, show_shapes=True)"
      ]
    },
    {
      "cell_type": "code",
      "execution_count": 163,
      "metadata": {
        "id": "4qQvKPPmjZ2v"
      },
      "outputs": [],
      "source": [
        "def plot_graphs(history, string):\n",
        "    plt.plot(history.history[string])\n",
        "    plt.plot(history.history['val_'+string])\n",
        "    plt.xlabel(\"Epochs\")\n",
        "    plt.ylabel(string)\n",
        "    plt.legend([string, 'val_'+string])\n",
        "    plt.show()"
      ]
    },
    {
      "cell_type": "code",
      "execution_count": 164,
      "metadata": {
        "colab": {
          "base_uri": "https://localhost:8080/",
          "height": 541
        },
        "id": "aCJPqXJzjzcy",
        "outputId": "dd43c38e-4fa9-48a8-dbe5-bac50a8d3883"
      },
      "outputs": [
        {
          "output_type": "display_data",
          "data": {
            "text/plain": [
              "<Figure size 432x288 with 1 Axes>"
            ],
            "image/png": "[encoded data removed]"
          },
          "metadata": {
            "needs_background": "light"
          }
        },
        {
          "output_type": "display_data",
          "data": {
            "text/plain": [
              "<Figure size 432x288 with 1 Axes>"
            ],
            "image/png": "[encoded data removed]"
          },
          "metadata": {
            "needs_background": "light"
          }
        }
      ],
      "source": [
        "plot_graphs(history, 'accuracy')\n",
        "plot_graphs(history, 'loss')"
      ]
    },
    {
      "cell_type": "code",
      "execution_count": null,
      "metadata": {
        "colab": {
          "base_uri": "https://localhost:8080/"
        },
        "id": "5gZ2J7UfSNI7",
        "outputId": "a6ae9d39-550b-4554-cf7b-a1508490c3b4"
      },
      "outputs": [
        {
          "output_type": "stream",
          "name": "stdout",
          "text": [
            "  95/3234 [..............................] - ETA: 13s"
          ]
        }
      ],
      "source": [
        "y_true = y_test\n",
        "y_pred = model.predict(X_test)\n",
        "y_pred = np.argmax(y_pred, axis=1)"
      ]
    },
    {
      "cell_type": "code",
      "source": [
        "y_true = np.argmax(y_true, axis=1)"
      ],
      "metadata": {
        "id": "N-mLQh3Ofirw"
      },
      "execution_count": 167,
      "outputs": []
    },
    {
      "cell_type": "code",
      "execution_count": 168,
      "metadata": {
        "colab": {
          "base_uri": "https://localhost:8080/"
        },
        "id": "T7g-SALhS0iJ",
        "outputId": "7aef29e3-56f2-4f1a-c29a-0f13f8064a94"
      },
      "outputs": [
        {
          "output_type": "execute_result",
          "data": {
            "text/plain": [
              "array([0, 2, 2, ..., 2, 2, 2])"
            ]
          },
          "metadata": {},
          "execution_count": 168
        }
      ],
      "source": [
        "y_true"
      ]
    },
    {
      "cell_type": "code",
      "execution_count": 169,
      "metadata": {
        "colab": {
          "base_uri": "https://localhost:8080/"
        },
        "id": "P-2SH8jYS2kZ",
        "outputId": "8391b2ce-9a05-4bd3-b19f-4dd1554b43ba"
      },
      "outputs": [
        {
          "output_type": "execute_result",
          "data": {
            "text/plain": [
              "array([0, 2, 2, ..., 2, 2, 2])"
            ]
          },
          "metadata": {},
          "execution_count": 169
        }
      ],
      "source": [
        "y_pred"
      ]
    },
    {
      "cell_type": "code",
      "execution_count": 170,
      "metadata": {
        "colab": {
          "base_uri": "https://localhost:8080/"
        },
        "id": "Sv5KoUgpR2F3",
        "outputId": "2b7bb61d-0d1e-48e1-92c0-173f3617c5f4"
      },
      "outputs": [
        {
          "output_type": "stream",
          "name": "stdout",
          "text": [
            "              precision    recall  f1-score   support\n",
            "\n",
            "           0       0.88      0.89      0.89     24372\n",
            "           1       0.82      0.41      0.54      7849\n",
            "           2       0.93      0.98      0.95     71239\n",
            "\n",
            "    accuracy                           0.91    103460\n",
            "   macro avg       0.88      0.76      0.80    103460\n",
            "weighted avg       0.91      0.91      0.91    103460\n",
            "\n"
          ]
        }
      ],
      "source": [
        "print(classification_report(y_true, y_pred))"
      ]
    },
    {
      "cell_type": "code",
      "source": [
        "from sklearn.metrics import precision_recall_fscore_support\n",
        "\n",
        "print(precision_recall_fscore_support(y_true, y_pred, average='macro'))\n",
        "\n",
        "print(precision_recall_fscore_support(y_true, y_pred, average='micro'))\n",
        "\n",
        "print(precision_recall_fscore_support(y_true, y_pred, average='weighted'))"
      ],
      "metadata": {
        "colab": {
          "base_uri": "https://localhost:8080/"
        },
        "id": "ggK9aD_FDdNz",
        "outputId": "fb29ccab-f6b0-4266-ecce-9c5427d7226f"
      },
      "execution_count": 171,
      "outputs": [
        {
          "output_type": "stream",
          "name": "stdout",
          "text": [
            "(0.8775058536186009, 0.7598796235300281, 0.7952305311014332, None)\n",
            "(0.9149139764160061, 0.9149139764160061, 0.9149139764160061, None)\n",
            "(0.9109015286955956, 0.9149139764160061, 0.907212495595733, None)\n"
          ]
        }
      ]
    },
    {
      "cell_type": "code",
      "execution_count": 174,
      "metadata": {
        "id": "IO0k7zEhVO5C"
      },
      "outputs": [],
      "source": [
        "cm = confusion_matrix(y_true, y_pred)"
      ]
    },
    {
      "cell_type": "code",
      "execution_count": 175,
      "metadata": {
        "colab": {
          "base_uri": "https://localhost:8080/"
        },
        "id": "QNG54wgYVQyD",
        "outputId": "85916ab4-c350-4968-d2f9-1215a3e3505a"
      },
      "outputs": [
        {
          "output_type": "execute_result",
          "data": {
            "text/plain": [
              "array([[21805,   341,  2226],\n",
              "       [ 1746,  3196,  2907],\n",
              "       [ 1228,   355, 69656]])"
            ]
          },
          "metadata": {},
          "execution_count": 175
        }
      ],
      "source": [
        "cm"
      ]
    },
    {
      "cell_type": "code",
      "execution_count": 180,
      "metadata": {
        "colab": {
          "base_uri": "https://localhost:8080/",
          "height": 322
        },
        "id": "3niZ7Ph2XOPZ",
        "outputId": "4fcf3ca7-721f-42f8-ee30-ce9e4d4bcf85"
      },
      "outputs": [
        {
          "output_type": "display_data",
          "data": {
            "text/plain": [
              "<Figure size 432x288 with 2 Axes>"
            ],
            "image/png": "[encoded data removed]"
          },
          "metadata": {
            "needs_background": "light"
          }
        }
      ],
      "source": [
        "ax = sns.heatmap(cm, annot=True, cmap='Blues', fmt='0.1f')\n",
        "\n",
        "ax.set_title('Confusion Matrix\\n');\n",
        "ax.set_xlabel('\\nPredicted Values')\n",
        "ax.set_ylabel('Actual Values ');\n",
        "\n",
        "ax.xaxis.set_ticklabels(['Negative','Neutral', 'Positive'])\n",
        "ax.yaxis.set_ticklabels(['Negative','Neutral', 'Positive'])\n",
        "\n",
        "plt.show()"
      ]
    }
  ],
  "metadata": {
    "colab": {
      "provenance": [],
      "collapsed_sections": [
        "cr5_enuqCgdb",
        "bwglZdJzIJWJ",
        "_htWm7hqrnfH",
        "0cY9-F83lqnt",
        "bRIuKT9ZfHk-"
      ],
      "toc_visible": true
    },
    "gpuClass": "standard",
    "kernelspec": {
      "display_name": "Python 3",
      "name": "python3"
    },
    "language_info": {
      "name": "python"
    },
    "accelerator": "GPU"
  },
  "nbformat": 4,
  "nbformat_minor": 0
}