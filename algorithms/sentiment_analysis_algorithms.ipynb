{
  "nbformat": 4,
  "nbformat_minor": 0,
  "metadata": {
    "colab": {
      "provenance": [],
      "toc_visible": true
    },
    "kernelspec": {
      "name": "python3",
      "display_name": "Python 3"
    },
    "language_info": {
      "name": "python"
    }
  },
  "cells": [
    {
      "cell_type": "markdown",
      "source": [
        "**import libraries**"
      ],
      "metadata": {
        "id": "rBDyNex2_1-D"
      }
    },
    {
      "cell_type": "code",
      "source": [
        "import numpy as np\n",
        "import pandas as pd\n",
        "import matplotlib.pyplot as plt\n",
        "import seaborn as sns\n",
        "from tensorflow.keras.utils import plot_model\n",
        "import re\n",
        "import pickle\n",
        "from sklearn.model_selection import train_test_split\n",
        "from tensorflow.keras.preprocessing.text import Tokenizer\n",
        "from tensorflow.keras.preprocessing.sequence import pad_sequences\n",
        "from tensorflow.keras.models import Model\n",
        "from keras.layers import Dense, Input, Embedding, LSTM, Conv1D, Dropout, MaxPooling1D, BatchNormalization, Bidirectional, GlobalMaxPooling1D, Flatten"
      ],
      "metadata": {
        "id": "q-Pz1w1-_GcG"
      },
      "execution_count": 410,
      "outputs": []
    },
    {
      "cell_type": "code",
      "source": [
        "!pip install nltk"
      ],
      "metadata": {
        "colab": {
          "base_uri": "https://localhost:8080/"
        },
        "id": "q9_AL12mTNYF",
        "outputId": "9fa46e09-5a83-4b73-a359-93fd76d1923e"
      },
      "execution_count": 71,
      "outputs": [
        {
          "output_type": "stream",
          "name": "stdout",
          "text": [
            "Looking in indexes: https://pypi.org/simple, https://us-python.pkg.dev/colab-wheels/public/simple/\n",
            "Requirement already satisfied: nltk in /usr/local/lib/python3.8/dist-packages (3.7)\n",
            "Requirement already satisfied: click in /usr/local/lib/python3.8/dist-packages (from nltk) (7.1.2)\n",
            "Requirement already satisfied: tqdm in /usr/local/lib/python3.8/dist-packages (from nltk) (4.64.1)\n",
            "Requirement already satisfied: regex>=2021.8.3 in /usr/local/lib/python3.8/dist-packages (from nltk) (2022.6.2)\n",
            "Requirement already satisfied: joblib in /usr/local/lib/python3.8/dist-packages (from nltk) (1.2.0)\n"
          ]
        }
      ]
    },
    {
      "cell_type": "code",
      "source": [
        "import nltk\n",
        "nltk.download('punkt')\n",
        "nltk.download('stopwords')\n",
        "nltk.download('wordnet')\n",
        "nltk.download('omw-1.4')"
      ],
      "metadata": {
        "colab": {
          "base_uri": "https://localhost:8080/"
        },
        "id": "InkBU3TaUjS-",
        "outputId": "6f7c1dc6-91ad-4281-bb70-5c1e99de46d5"
      },
      "execution_count": 293,
      "outputs": [
        {
          "output_type": "stream",
          "name": "stderr",
          "text": [
            "[nltk_data] Downloading package punkt to /root/nltk_data...\n",
            "[nltk_data]   Package punkt is already up-to-date!\n",
            "[nltk_data] Downloading package stopwords to /root/nltk_data...\n",
            "[nltk_data]   Package stopwords is already up-to-date!\n",
            "[nltk_data] Downloading package wordnet to /root/nltk_data...\n",
            "[nltk_data]   Package wordnet is already up-to-date!\n",
            "[nltk_data] Downloading package omw-1.4 to /root/nltk_data...\n"
          ]
        },
        {
          "output_type": "execute_result",
          "data": {
            "text/plain": [
              "True"
            ]
          },
          "metadata": {},
          "execution_count": 293
        }
      ]
    },
    {
      "cell_type": "code",
      "source": [
        "from nltk.tokenize import word_tokenize, RegexpTokenizer\n",
        "from nltk.corpus import stopwords\n",
        "from nltk.stem import WordNetLemmatizer"
      ],
      "metadata": {
        "id": "hqj-IL4eTR60"
      },
      "execution_count": 264,
      "outputs": []
    },
    {
      "cell_type": "markdown",
      "source": [
        "### **Read Dataset**"
      ],
      "metadata": {
        "id": "a73F87b4-pI6"
      }
    },
    {
      "cell_type": "code",
      "execution_count": 2,
      "metadata": {
        "colab": {
          "base_uri": "https://localhost:8080/"
        },
        "id": "Z_LfwWSb-aID",
        "outputId": "81ead91f-44d3-4c1c-f7e7-ebe50241a071"
      },
      "outputs": [
        {
          "output_type": "stream",
          "name": "stdout",
          "text": [
            "/usr/local/lib/python3.8/dist-packages/gdown/cli.py:127: FutureWarning: Option `--id` was deprecated in version 4.3.1 and will be removed in 5.0. You don't need to pass it anymore to use a file ID.\n",
            "  warnings.warn(\n",
            "Downloading...\n",
            "From: https://drive.google.com/uc?id=1XulBQYyiPRXMpwfm-RIvaDLCLDKIU6UD\n",
            "To: /content/review_10_product_women.csv\n",
            "100% 9.48M/9.48M [00:00<00:00, 24.5MB/s]\n"
          ]
        }
      ],
      "source": [
        "!gdown --id 1XulBQYyiPRXMpwfm-RIvaDLCLDKIU6UD"
      ]
    },
    {
      "cell_type": "code",
      "source": [
        "df = pd.read_csv('/content/review_10_product_women.csv')"
      ],
      "metadata": {
        "id": "zVXZ6BdG_AOj"
      },
      "execution_count": 17,
      "outputs": []
    },
    {
      "cell_type": "code",
      "source": [
        "df.head()"
      ],
      "metadata": {
        "colab": {
          "base_uri": "https://localhost:8080/",
          "height": 206
        },
        "id": "8et1XWxA_Kpx",
        "outputId": "3d56dbea-c4bd-42ae-aee8-01dcd51c6482"
      },
      "execution_count": 18,
      "outputs": [
        {
          "output_type": "execute_result",
          "data": {
            "text/plain": [
              "                stars                               title  \\\n",
              "0  4.0 out of 5 stars  Short people and big booty Judy’s.   \n",
              "1  4.0 out of 5 stars                         Great Pants   \n",
              "2  5.0 out of 5 stars                           Kinda big   \n",
              "3  5.0 out of 5 stars             OMG I love these pants.   \n",
              "4  4.0 out of 5 stars                     Nice, but large   \n",
              "\n",
              "                                                body  \n",
              "0  Honest review would be more like a 4.5. Issue ...  \n",
              "1  I LOVE these pants! I originally bought 2x bec...  \n",
              "2  I usually wear a medium however this was close...  \n",
              "3  They feel so good and smooth. Great if you are...  \n",
              "4  These are comfortable, but as others have ment...  "
            ],
            "text/html": [
              "\n",
              "  <div id=\"df-9d66b969-52e3-4298-b078-40691dafa3e4\">\n",
              "    <div class=\"colab-df-container\">\n",
              "      <div>\n",
              "<style scoped>\n",
              "    .dataframe tbody tr th:only-of-type {\n",
              "        vertical-align: middle;\n",
              "    }\n",
              "\n",
              "    .dataframe tbody tr th {\n",
              "        vertical-align: top;\n",
              "    }\n",
              "\n",
              "    .dataframe thead th {\n",
              "        text-align: right;\n",
              "    }\n",
              "</style>\n",
              "<table border=\"1\" class=\"dataframe\">\n",
              "  <thead>\n",
              "    <tr style=\"text-align: right;\">\n",
              "      <th></th>\n",
              "      <th>stars</th>\n",
              "      <th>title</th>\n",
              "      <th>body</th>\n",
              "    </tr>\n",
              "  </thead>\n",
              "  <tbody>\n",
              "    <tr>\n",
              "      <th>0</th>\n",
              "      <td>4.0 out of 5 stars</td>\n",
              "      <td>Short people and big booty Judy’s.</td>\n",
              "      <td>Honest review would be more like a 4.5. Issue ...</td>\n",
              "    </tr>\n",
              "    <tr>\n",
              "      <th>1</th>\n",
              "      <td>4.0 out of 5 stars</td>\n",
              "      <td>Great Pants</td>\n",
              "      <td>I LOVE these pants! I originally bought 2x bec...</td>\n",
              "    </tr>\n",
              "    <tr>\n",
              "      <th>2</th>\n",
              "      <td>5.0 out of 5 stars</td>\n",
              "      <td>Kinda big</td>\n",
              "      <td>I usually wear a medium however this was close...</td>\n",
              "    </tr>\n",
              "    <tr>\n",
              "      <th>3</th>\n",
              "      <td>5.0 out of 5 stars</td>\n",
              "      <td>OMG I love these pants.</td>\n",
              "      <td>They feel so good and smooth. Great if you are...</td>\n",
              "    </tr>\n",
              "    <tr>\n",
              "      <th>4</th>\n",
              "      <td>4.0 out of 5 stars</td>\n",
              "      <td>Nice, but large</td>\n",
              "      <td>These are comfortable, but as others have ment...</td>\n",
              "    </tr>\n",
              "  </tbody>\n",
              "</table>\n",
              "</div>\n",
              "      <button class=\"colab-df-convert\" onclick=\"convertToInteractive('df-9d66b969-52e3-4298-b078-40691dafa3e4')\"\n",
              "              title=\"Convert this dataframe to an interactive table.\"\n",
              "              style=\"display:none;\">\n",
              "        \n",
              "  <svg xmlns=\"http://www.w3.org/2000/svg\" height=\"24px\"viewBox=\"0 0 24 24\"\n",
              "       width=\"24px\">\n",
              "    <path d=\"M0 0h24v24H0V0z\" fill=\"none\"/>\n",
              "    <path d=\"M18.56 5.44l.94 2.06.94-2.06 2.06-.94-2.06-.94-.94-2.06-.94 2.06-2.06.94zm-11 1L8.5 8.5l.94-2.06 2.06-.94-2.06-.94L8.5 2.5l-.94 2.06-2.06.94zm10 10l.94 2.06.94-2.06 2.06-.94-2.06-.94-.94-2.06-.94 2.06-2.06.94z\"/><path d=\"M17.41 7.96l-1.37-1.37c-.4-.4-.92-.59-1.43-.59-.52 0-1.04.2-1.43.59L10.3 9.45l-7.72 7.72c-.78.78-.78 2.05 0 2.83L4 21.41c.39.39.9.59 1.41.59.51 0 1.02-.2 1.41-.59l7.78-7.78 2.81-2.81c.8-.78.8-2.07 0-2.86zM5.41 20L4 18.59l7.72-7.72 1.47 1.35L5.41 20z\"/>\n",
              "  </svg>\n",
              "      </button>\n",
              "      \n",
              "  <style>\n",
              "    .colab-df-container {\n",
              "      display:flex;\n",
              "      flex-wrap:wrap;\n",
              "      gap: 12px;\n",
              "    }\n",
              "\n",
              "    .colab-df-convert {\n",
              "      background-color: #E8F0FE;\n",
              "      border: none;\n",
              "      border-radius: 50%;\n",
              "      cursor: pointer;\n",
              "      display: none;\n",
              "      fill: #1967D2;\n",
              "      height: 32px;\n",
              "      padding: 0 0 0 0;\n",
              "      width: 32px;\n",
              "    }\n",
              "\n",
              "    .colab-df-convert:hover {\n",
              "      background-color: #E2EBFA;\n",
              "      box-shadow: 0px 1px 2px rgba(60, 64, 67, 0.3), 0px 1px 3px 1px rgba(60, 64, 67, 0.15);\n",
              "      fill: #174EA6;\n",
              "    }\n",
              "\n",
              "    [theme=dark] .colab-df-convert {\n",
              "      background-color: #3B4455;\n",
              "      fill: #D2E3FC;\n",
              "    }\n",
              "\n",
              "    [theme=dark] .colab-df-convert:hover {\n",
              "      background-color: #434B5C;\n",
              "      box-shadow: 0px 1px 3px 1px rgba(0, 0, 0, 0.15);\n",
              "      filter: drop-shadow(0px 1px 2px rgba(0, 0, 0, 0.3));\n",
              "      fill: #FFFFFF;\n",
              "    }\n",
              "  </style>\n",
              "\n",
              "      <script>\n",
              "        const buttonEl =\n",
              "          document.querySelector('#df-9d66b969-52e3-4298-b078-40691dafa3e4 button.colab-df-convert');\n",
              "        buttonEl.style.display =\n",
              "          google.colab.kernel.accessAllowed ? 'block' : 'none';\n",
              "\n",
              "        async function convertToInteractive(key) {\n",
              "          const element = document.querySelector('#df-9d66b969-52e3-4298-b078-40691dafa3e4');\n",
              "          const dataTable =\n",
              "            await google.colab.kernel.invokeFunction('convertToInteractive',\n",
              "                                                     [key], {});\n",
              "          if (!dataTable) return;\n",
              "\n",
              "          const docLinkHtml = 'Like what you see? Visit the ' +\n",
              "            '<a target=\"_blank\" href=https://colab.research.google.com/notebooks/data_table.ipynb>data table notebook</a>'\n",
              "            + ' to learn more about interactive tables.';\n",
              "          element.innerHTML = '';\n",
              "          dataTable['output_type'] = 'display_data';\n",
              "          await google.colab.output.renderOutput(dataTable, element);\n",
              "          const docLink = document.createElement('div');\n",
              "          docLink.innerHTML = docLinkHtml;\n",
              "          element.appendChild(docLink);\n",
              "        }\n",
              "      </script>\n",
              "    </div>\n",
              "  </div>\n",
              "  "
            ]
          },
          "metadata": {},
          "execution_count": 18
        }
      ]
    },
    {
      "cell_type": "code",
      "source": [
        "df.shape"
      ],
      "metadata": {
        "colab": {
          "base_uri": "https://localhost:8080/"
        },
        "id": "E79HNcXf_MDu",
        "outputId": "b2a2c12a-f05f-409d-b96a-70f3e301f0dd"
      },
      "execution_count": 19,
      "outputs": [
        {
          "output_type": "execute_result",
          "data": {
            "text/plain": [
              "(49802, 3)"
            ]
          },
          "metadata": {},
          "execution_count": 19
        }
      ]
    },
    {
      "cell_type": "markdown",
      "source": [
        "### **Prepare** Dataset"
      ],
      "metadata": {
        "id": "0GshhoJTCR9Q"
      }
    },
    {
      "cell_type": "code",
      "source": [
        "df['star'] = df['stars'].apply(lambda x: str(x).split()[0]).astype(float)"
      ],
      "metadata": {
        "id": "CAtJ7O-f_b1V"
      },
      "execution_count": 20,
      "outputs": []
    },
    {
      "cell_type": "code",
      "source": [
        "df.head(3)"
      ],
      "metadata": {
        "colab": {
          "base_uri": "https://localhost:8080/",
          "height": 143
        },
        "id": "bvRRiqFJ_kGb",
        "outputId": "a055c2aa-06ac-4beb-d63f-df180f42f4a7"
      },
      "execution_count": 21,
      "outputs": [
        {
          "output_type": "execute_result",
          "data": {
            "text/plain": [
              "                stars                               title  \\\n",
              "0  4.0 out of 5 stars  Short people and big booty Judy’s.   \n",
              "1  4.0 out of 5 stars                         Great Pants   \n",
              "2  5.0 out of 5 stars                           Kinda big   \n",
              "\n",
              "                                                body  star  \n",
              "0  Honest review would be more like a 4.5. Issue ...   4.0  \n",
              "1  I LOVE these pants! I originally bought 2x bec...   4.0  \n",
              "2  I usually wear a medium however this was close...   5.0  "
            ],
            "text/html": [
              "\n",
              "  <div id=\"df-34431d2f-01bb-498d-8145-bb3e2ea8a5c7\">\n",
              "    <div class=\"colab-df-container\">\n",
              "      <div>\n",
              "<style scoped>\n",
              "    .dataframe tbody tr th:only-of-type {\n",
              "        vertical-align: middle;\n",
              "    }\n",
              "\n",
              "    .dataframe tbody tr th {\n",
              "        vertical-align: top;\n",
              "    }\n",
              "\n",
              "    .dataframe thead th {\n",
              "        text-align: right;\n",
              "    }\n",
              "</style>\n",
              "<table border=\"1\" class=\"dataframe\">\n",
              "  <thead>\n",
              "    <tr style=\"text-align: right;\">\n",
              "      <th></th>\n",
              "      <th>stars</th>\n",
              "      <th>title</th>\n",
              "      <th>body</th>\n",
              "      <th>star</th>\n",
              "    </tr>\n",
              "  </thead>\n",
              "  <tbody>\n",
              "    <tr>\n",
              "      <th>0</th>\n",
              "      <td>4.0 out of 5 stars</td>\n",
              "      <td>Short people and big booty Judy’s.</td>\n",
              "      <td>Honest review would be more like a 4.5. Issue ...</td>\n",
              "      <td>4.0</td>\n",
              "    </tr>\n",
              "    <tr>\n",
              "      <th>1</th>\n",
              "      <td>4.0 out of 5 stars</td>\n",
              "      <td>Great Pants</td>\n",
              "      <td>I LOVE these pants! I originally bought 2x bec...</td>\n",
              "      <td>4.0</td>\n",
              "    </tr>\n",
              "    <tr>\n",
              "      <th>2</th>\n",
              "      <td>5.0 out of 5 stars</td>\n",
              "      <td>Kinda big</td>\n",
              "      <td>I usually wear a medium however this was close...</td>\n",
              "      <td>5.0</td>\n",
              "    </tr>\n",
              "  </tbody>\n",
              "</table>\n",
              "</div>\n",
              "      <button class=\"colab-df-convert\" onclick=\"convertToInteractive('df-34431d2f-01bb-498d-8145-bb3e2ea8a5c7')\"\n",
              "              title=\"Convert this dataframe to an interactive table.\"\n",
              "              style=\"display:none;\">\n",
              "        \n",
              "  <svg xmlns=\"http://www.w3.org/2000/svg\" height=\"24px\"viewBox=\"0 0 24 24\"\n",
              "       width=\"24px\">\n",
              "    <path d=\"M0 0h24v24H0V0z\" fill=\"none\"/>\n",
              "    <path d=\"M18.56 5.44l.94 2.06.94-2.06 2.06-.94-2.06-.94-.94-2.06-.94 2.06-2.06.94zm-11 1L8.5 8.5l.94-2.06 2.06-.94-2.06-.94L8.5 2.5l-.94 2.06-2.06.94zm10 10l.94 2.06.94-2.06 2.06-.94-2.06-.94-.94-2.06-.94 2.06-2.06.94z\"/><path d=\"M17.41 7.96l-1.37-1.37c-.4-.4-.92-.59-1.43-.59-.52 0-1.04.2-1.43.59L10.3 9.45l-7.72 7.72c-.78.78-.78 2.05 0 2.83L4 21.41c.39.39.9.59 1.41.59.51 0 1.02-.2 1.41-.59l7.78-7.78 2.81-2.81c.8-.78.8-2.07 0-2.86zM5.41 20L4 18.59l7.72-7.72 1.47 1.35L5.41 20z\"/>\n",
              "  </svg>\n",
              "      </button>\n",
              "      \n",
              "  <style>\n",
              "    .colab-df-container {\n",
              "      display:flex;\n",
              "      flex-wrap:wrap;\n",
              "      gap: 12px;\n",
              "    }\n",
              "\n",
              "    .colab-df-convert {\n",
              "      background-color: #E8F0FE;\n",
              "      border: none;\n",
              "      border-radius: 50%;\n",
              "      cursor: pointer;\n",
              "      display: none;\n",
              "      fill: #1967D2;\n",
              "      height: 32px;\n",
              "      padding: 0 0 0 0;\n",
              "      width: 32px;\n",
              "    }\n",
              "\n",
              "    .colab-df-convert:hover {\n",
              "      background-color: #E2EBFA;\n",
              "      box-shadow: 0px 1px 2px rgba(60, 64, 67, 0.3), 0px 1px 3px 1px rgba(60, 64, 67, 0.15);\n",
              "      fill: #174EA6;\n",
              "    }\n",
              "\n",
              "    [theme=dark] .colab-df-convert {\n",
              "      background-color: #3B4455;\n",
              "      fill: #D2E3FC;\n",
              "    }\n",
              "\n",
              "    [theme=dark] .colab-df-convert:hover {\n",
              "      background-color: #434B5C;\n",
              "      box-shadow: 0px 1px 3px 1px rgba(0, 0, 0, 0.15);\n",
              "      filter: drop-shadow(0px 1px 2px rgba(0, 0, 0, 0.3));\n",
              "      fill: #FFFFFF;\n",
              "    }\n",
              "  </style>\n",
              "\n",
              "      <script>\n",
              "        const buttonEl =\n",
              "          document.querySelector('#df-34431d2f-01bb-498d-8145-bb3e2ea8a5c7 button.colab-df-convert');\n",
              "        buttonEl.style.display =\n",
              "          google.colab.kernel.accessAllowed ? 'block' : 'none';\n",
              "\n",
              "        async function convertToInteractive(key) {\n",
              "          const element = document.querySelector('#df-34431d2f-01bb-498d-8145-bb3e2ea8a5c7');\n",
              "          const dataTable =\n",
              "            await google.colab.kernel.invokeFunction('convertToInteractive',\n",
              "                                                     [key], {});\n",
              "          if (!dataTable) return;\n",
              "\n",
              "          const docLinkHtml = 'Like what you see? Visit the ' +\n",
              "            '<a target=\"_blank\" href=https://colab.research.google.com/notebooks/data_table.ipynb>data table notebook</a>'\n",
              "            + ' to learn more about interactive tables.';\n",
              "          element.innerHTML = '';\n",
              "          dataTable['output_type'] = 'display_data';\n",
              "          await google.colab.output.renderOutput(dataTable, element);\n",
              "          const docLink = document.createElement('div');\n",
              "          docLink.innerHTML = docLinkHtml;\n",
              "          element.appendChild(docLink);\n",
              "        }\n",
              "      </script>\n",
              "    </div>\n",
              "  </div>\n",
              "  "
            ]
          },
          "metadata": {},
          "execution_count": 21
        }
      ]
    },
    {
      "cell_type": "code",
      "source": [
        "df['sentiment'] = df['star'].apply(lambda x: 1 if x >= 3 else 0)"
      ],
      "metadata": {
        "id": "pGRB_P1z_f7c"
      },
      "execution_count": 22,
      "outputs": []
    },
    {
      "cell_type": "code",
      "source": [
        "df.head(3)"
      ],
      "metadata": {
        "colab": {
          "base_uri": "https://localhost:8080/",
          "height": 143
        },
        "id": "bPoAmWg5_iyy",
        "outputId": "fc083154-8f95-446d-b7f7-f20fbebcd617"
      },
      "execution_count": 23,
      "outputs": [
        {
          "output_type": "execute_result",
          "data": {
            "text/plain": [
              "                stars                               title  \\\n",
              "0  4.0 out of 5 stars  Short people and big booty Judy’s.   \n",
              "1  4.0 out of 5 stars                         Great Pants   \n",
              "2  5.0 out of 5 stars                           Kinda big   \n",
              "\n",
              "                                                body  star  sentiment  \n",
              "0  Honest review would be more like a 4.5. Issue ...   4.0          1  \n",
              "1  I LOVE these pants! I originally bought 2x bec...   4.0          1  \n",
              "2  I usually wear a medium however this was close...   5.0          1  "
            ],
            "text/html": [
              "\n",
              "  <div id=\"df-47e89c69-868e-486c-b817-341407daf91c\">\n",
              "    <div class=\"colab-df-container\">\n",
              "      <div>\n",
              "<style scoped>\n",
              "    .dataframe tbody tr th:only-of-type {\n",
              "        vertical-align: middle;\n",
              "    }\n",
              "\n",
              "    .dataframe tbody tr th {\n",
              "        vertical-align: top;\n",
              "    }\n",
              "\n",
              "    .dataframe thead th {\n",
              "        text-align: right;\n",
              "    }\n",
              "</style>\n",
              "<table border=\"1\" class=\"dataframe\">\n",
              "  <thead>\n",
              "    <tr style=\"text-align: right;\">\n",
              "      <th></th>\n",
              "      <th>stars</th>\n",
              "      <th>title</th>\n",
              "      <th>body</th>\n",
              "      <th>star</th>\n",
              "      <th>sentiment</th>\n",
              "    </tr>\n",
              "  </thead>\n",
              "  <tbody>\n",
              "    <tr>\n",
              "      <th>0</th>\n",
              "      <td>4.0 out of 5 stars</td>\n",
              "      <td>Short people and big booty Judy’s.</td>\n",
              "      <td>Honest review would be more like a 4.5. Issue ...</td>\n",
              "      <td>4.0</td>\n",
              "      <td>1</td>\n",
              "    </tr>\n",
              "    <tr>\n",
              "      <th>1</th>\n",
              "      <td>4.0 out of 5 stars</td>\n",
              "      <td>Great Pants</td>\n",
              "      <td>I LOVE these pants! I originally bought 2x bec...</td>\n",
              "      <td>4.0</td>\n",
              "      <td>1</td>\n",
              "    </tr>\n",
              "    <tr>\n",
              "      <th>2</th>\n",
              "      <td>5.0 out of 5 stars</td>\n",
              "      <td>Kinda big</td>\n",
              "      <td>I usually wear a medium however this was close...</td>\n",
              "      <td>5.0</td>\n",
              "      <td>1</td>\n",
              "    </tr>\n",
              "  </tbody>\n",
              "</table>\n",
              "</div>\n",
              "      <button class=\"colab-df-convert\" onclick=\"convertToInteractive('df-47e89c69-868e-486c-b817-341407daf91c')\"\n",
              "              title=\"Convert this dataframe to an interactive table.\"\n",
              "              style=\"display:none;\">\n",
              "        \n",
              "  <svg xmlns=\"http://www.w3.org/2000/svg\" height=\"24px\"viewBox=\"0 0 24 24\"\n",
              "       width=\"24px\">\n",
              "    <path d=\"M0 0h24v24H0V0z\" fill=\"none\"/>\n",
              "    <path d=\"M18.56 5.44l.94 2.06.94-2.06 2.06-.94-2.06-.94-.94-2.06-.94 2.06-2.06.94zm-11 1L8.5 8.5l.94-2.06 2.06-.94-2.06-.94L8.5 2.5l-.94 2.06-2.06.94zm10 10l.94 2.06.94-2.06 2.06-.94-2.06-.94-.94-2.06-.94 2.06-2.06.94z\"/><path d=\"M17.41 7.96l-1.37-1.37c-.4-.4-.92-.59-1.43-.59-.52 0-1.04.2-1.43.59L10.3 9.45l-7.72 7.72c-.78.78-.78 2.05 0 2.83L4 21.41c.39.39.9.59 1.41.59.51 0 1.02-.2 1.41-.59l7.78-7.78 2.81-2.81c.8-.78.8-2.07 0-2.86zM5.41 20L4 18.59l7.72-7.72 1.47 1.35L5.41 20z\"/>\n",
              "  </svg>\n",
              "      </button>\n",
              "      \n",
              "  <style>\n",
              "    .colab-df-container {\n",
              "      display:flex;\n",
              "      flex-wrap:wrap;\n",
              "      gap: 12px;\n",
              "    }\n",
              "\n",
              "    .colab-df-convert {\n",
              "      background-color: #E8F0FE;\n",
              "      border: none;\n",
              "      border-radius: 50%;\n",
              "      cursor: pointer;\n",
              "      display: none;\n",
              "      fill: #1967D2;\n",
              "      height: 32px;\n",
              "      padding: 0 0 0 0;\n",
              "      width: 32px;\n",
              "    }\n",
              "\n",
              "    .colab-df-convert:hover {\n",
              "      background-color: #E2EBFA;\n",
              "      box-shadow: 0px 1px 2px rgba(60, 64, 67, 0.3), 0px 1px 3px 1px rgba(60, 64, 67, 0.15);\n",
              "      fill: #174EA6;\n",
              "    }\n",
              "\n",
              "    [theme=dark] .colab-df-convert {\n",
              "      background-color: #3B4455;\n",
              "      fill: #D2E3FC;\n",
              "    }\n",
              "\n",
              "    [theme=dark] .colab-df-convert:hover {\n",
              "      background-color: #434B5C;\n",
              "      box-shadow: 0px 1px 3px 1px rgba(0, 0, 0, 0.15);\n",
              "      filter: drop-shadow(0px 1px 2px rgba(0, 0, 0, 0.3));\n",
              "      fill: #FFFFFF;\n",
              "    }\n",
              "  </style>\n",
              "\n",
              "      <script>\n",
              "        const buttonEl =\n",
              "          document.querySelector('#df-47e89c69-868e-486c-b817-341407daf91c button.colab-df-convert');\n",
              "        buttonEl.style.display =\n",
              "          google.colab.kernel.accessAllowed ? 'block' : 'none';\n",
              "\n",
              "        async function convertToInteractive(key) {\n",
              "          const element = document.querySelector('#df-47e89c69-868e-486c-b817-341407daf91c');\n",
              "          const dataTable =\n",
              "            await google.colab.kernel.invokeFunction('convertToInteractive',\n",
              "                                                     [key], {});\n",
              "          if (!dataTable) return;\n",
              "\n",
              "          const docLinkHtml = 'Like what you see? Visit the ' +\n",
              "            '<a target=\"_blank\" href=https://colab.research.google.com/notebooks/data_table.ipynb>data table notebook</a>'\n",
              "            + ' to learn more about interactive tables.';\n",
              "          element.innerHTML = '';\n",
              "          dataTable['output_type'] = 'display_data';\n",
              "          await google.colab.output.renderOutput(dataTable, element);\n",
              "          const docLink = document.createElement('div');\n",
              "          docLink.innerHTML = docLinkHtml;\n",
              "          element.appendChild(docLink);\n",
              "        }\n",
              "      </script>\n",
              "    </div>\n",
              "  </div>\n",
              "  "
            ]
          },
          "metadata": {},
          "execution_count": 23
        }
      ]
    },
    {
      "cell_type": "code",
      "source": [
        "df['sentiment'].unique()"
      ],
      "metadata": {
        "colab": {
          "base_uri": "https://localhost:8080/"
        },
        "id": "SdjSKZBl_nO2",
        "outputId": "8bb722dc-fb06-49d8-97cd-ea764b96cf5e"
      },
      "execution_count": 24,
      "outputs": [
        {
          "output_type": "execute_result",
          "data": {
            "text/plain": [
              "array([1, 0])"
            ]
          },
          "metadata": {},
          "execution_count": 24
        }
      ]
    },
    {
      "cell_type": "code",
      "source": [
        "df['sentiment'].value_counts()"
      ],
      "metadata": {
        "colab": {
          "base_uri": "https://localhost:8080/"
        },
        "id": "6DWBsKhj_tNA",
        "outputId": "db776307-ec41-4203-f8f4-8e49aea5b127"
      },
      "execution_count": 25,
      "outputs": [
        {
          "output_type": "execute_result",
          "data": {
            "text/plain": [
              "1    45180\n",
              "0     4622\n",
              "Name: sentiment, dtype: int64"
            ]
          },
          "metadata": {},
          "execution_count": 25
        }
      ]
    },
    {
      "cell_type": "code",
      "source": [
        "positive = df[(df['sentiment'] == 1)]\n",
        "negative = df[(df['sentiment'] == 0)]"
      ],
      "metadata": {
        "id": "5CjGJQPF77BD"
      },
      "execution_count": 42,
      "outputs": []
    },
    {
      "cell_type": "code",
      "source": [
        "print(positive.shape)\n",
        "print(negative.shape)"
      ],
      "metadata": {
        "colab": {
          "base_uri": "https://localhost:8080/"
        },
        "id": "vydqK4f6_51b",
        "outputId": "f1e4703c-6733-4633-ca37-220484478f54"
      },
      "execution_count": 43,
      "outputs": [
        {
          "output_type": "stream",
          "name": "stdout",
          "text": [
            "(45180, 5)\n",
            "(4622, 5)\n"
          ]
        }
      ]
    },
    {
      "cell_type": "code",
      "source": [
        "positive_sample = positive.sample(n=10_000, replace=True, random_state=50)"
      ],
      "metadata": {
        "id": "djnR9Rp2AAr2"
      },
      "execution_count": 341,
      "outputs": []
    },
    {
      "cell_type": "code",
      "source": [
        "print(positive_sample.shape)\n",
        "print(negative.shape)"
      ],
      "metadata": {
        "colab": {
          "base_uri": "https://localhost:8080/"
        },
        "id": "rhdaRbavBHtV",
        "outputId": "e79da36c-dc52-49ed-cf7b-15381700b2fa"
      },
      "execution_count": 342,
      "outputs": [
        {
          "output_type": "stream",
          "name": "stdout",
          "text": [
            "(10000, 5)\n",
            "(4622, 5)\n"
          ]
        }
      ]
    },
    {
      "cell_type": "code",
      "source": [
        "data = pd.concat([positive_sample, negative], axis=0)"
      ],
      "metadata": {
        "id": "bHfxJEadBMOq"
      },
      "execution_count": 343,
      "outputs": []
    },
    {
      "cell_type": "code",
      "source": [
        "data.shape"
      ],
      "metadata": {
        "colab": {
          "base_uri": "https://localhost:8080/"
        },
        "id": "cdIKCHtlBx-p",
        "outputId": "edf8fa60-51f8-4490-962c-982f91d9a20d"
      },
      "execution_count": 344,
      "outputs": [
        {
          "output_type": "execute_result",
          "data": {
            "text/plain": [
              "(14622, 5)"
            ]
          },
          "metadata": {},
          "execution_count": 344
        }
      ]
    },
    {
      "cell_type": "code",
      "source": [
        "data.tail()"
      ],
      "metadata": {
        "colab": {
          "base_uri": "https://localhost:8080/",
          "height": 206
        },
        "id": "Z-9SarWlBzBj",
        "outputId": "47c1395a-d785-44d2-a07e-4a8802741d8d"
      },
      "execution_count": 345,
      "outputs": [
        {
          "output_type": "execute_result",
          "data": {
            "text/plain": [
              "                    stars                                  title  \\\n",
              "49795  1.0 out of 5 stars  Not good quality. Chinese low quality   \n",
              "49796  2.0 out of 5 stars                       Cute but too big   \n",
              "49797  2.0 out of 5 stars                 Did not like high neck   \n",
              "49799  2.0 out of 5 stars                              TOO SMALL   \n",
              "49801  1.0 out of 5 stars                           Feels cheap.   \n",
              "\n",
              "                                                    body  star  sentiment  \n",
              "49795  Not flattering at all made me look huge and I ...   1.0          0  \n",
              "49796  Way too big! And I got the smallest size. I’m ...   2.0          0  \n",
              "49797  No shape to the dress which was fine but not s...   2.0          0  \n",
              "49799                                    NOT TRUE TO FIT   2.0          0  \n",
              "49801  Material feels thin, cheap and itchy. Definite...   1.0          0  "
            ],
            "text/html": [
              "\n",
              "  <div id=\"df-e8337c75-9c1d-43e0-8aaa-ed018cdb9e0e\">\n",
              "    <div class=\"colab-df-container\">\n",
              "      <div>\n",
              "<style scoped>\n",
              "    .dataframe tbody tr th:only-of-type {\n",
              "        vertical-align: middle;\n",
              "    }\n",
              "\n",
              "    .dataframe tbody tr th {\n",
              "        vertical-align: top;\n",
              "    }\n",
              "\n",
              "    .dataframe thead th {\n",
              "        text-align: right;\n",
              "    }\n",
              "</style>\n",
              "<table border=\"1\" class=\"dataframe\">\n",
              "  <thead>\n",
              "    <tr style=\"text-align: right;\">\n",
              "      <th></th>\n",
              "      <th>stars</th>\n",
              "      <th>title</th>\n",
              "      <th>body</th>\n",
              "      <th>star</th>\n",
              "      <th>sentiment</th>\n",
              "    </tr>\n",
              "  </thead>\n",
              "  <tbody>\n",
              "    <tr>\n",
              "      <th>49795</th>\n",
              "      <td>1.0 out of 5 stars</td>\n",
              "      <td>Not good quality. Chinese low quality</td>\n",
              "      <td>Not flattering at all made me look huge and I ...</td>\n",
              "      <td>1.0</td>\n",
              "      <td>0</td>\n",
              "    </tr>\n",
              "    <tr>\n",
              "      <th>49796</th>\n",
              "      <td>2.0 out of 5 stars</td>\n",
              "      <td>Cute but too big</td>\n",
              "      <td>Way too big! And I got the smallest size. I’m ...</td>\n",
              "      <td>2.0</td>\n",
              "      <td>0</td>\n",
              "    </tr>\n",
              "    <tr>\n",
              "      <th>49797</th>\n",
              "      <td>2.0 out of 5 stars</td>\n",
              "      <td>Did not like high neck</td>\n",
              "      <td>No shape to the dress which was fine but not s...</td>\n",
              "      <td>2.0</td>\n",
              "      <td>0</td>\n",
              "    </tr>\n",
              "    <tr>\n",
              "      <th>49799</th>\n",
              "      <td>2.0 out of 5 stars</td>\n",
              "      <td>TOO SMALL</td>\n",
              "      <td>NOT TRUE TO FIT</td>\n",
              "      <td>2.0</td>\n",
              "      <td>0</td>\n",
              "    </tr>\n",
              "    <tr>\n",
              "      <th>49801</th>\n",
              "      <td>1.0 out of 5 stars</td>\n",
              "      <td>Feels cheap.</td>\n",
              "      <td>Material feels thin, cheap and itchy. Definite...</td>\n",
              "      <td>1.0</td>\n",
              "      <td>0</td>\n",
              "    </tr>\n",
              "  </tbody>\n",
              "</table>\n",
              "</div>\n",
              "      <button class=\"colab-df-convert\" onclick=\"convertToInteractive('df-e8337c75-9c1d-43e0-8aaa-ed018cdb9e0e')\"\n",
              "              title=\"Convert this dataframe to an interactive table.\"\n",
              "              style=\"display:none;\">\n",
              "        \n",
              "  <svg xmlns=\"http://www.w3.org/2000/svg\" height=\"24px\"viewBox=\"0 0 24 24\"\n",
              "       width=\"24px\">\n",
              "    <path d=\"M0 0h24v24H0V0z\" fill=\"none\"/>\n",
              "    <path d=\"M18.56 5.44l.94 2.06.94-2.06 2.06-.94-2.06-.94-.94-2.06-.94 2.06-2.06.94zm-11 1L8.5 8.5l.94-2.06 2.06-.94-2.06-.94L8.5 2.5l-.94 2.06-2.06.94zm10 10l.94 2.06.94-2.06 2.06-.94-2.06-.94-.94-2.06-.94 2.06-2.06.94z\"/><path d=\"M17.41 7.96l-1.37-1.37c-.4-.4-.92-.59-1.43-.59-.52 0-1.04.2-1.43.59L10.3 9.45l-7.72 7.72c-.78.78-.78 2.05 0 2.83L4 21.41c.39.39.9.59 1.41.59.51 0 1.02-.2 1.41-.59l7.78-7.78 2.81-2.81c.8-.78.8-2.07 0-2.86zM5.41 20L4 18.59l7.72-7.72 1.47 1.35L5.41 20z\"/>\n",
              "  </svg>\n",
              "      </button>\n",
              "      \n",
              "  <style>\n",
              "    .colab-df-container {\n",
              "      display:flex;\n",
              "      flex-wrap:wrap;\n",
              "      gap: 12px;\n",
              "    }\n",
              "\n",
              "    .colab-df-convert {\n",
              "      background-color: #E8F0FE;\n",
              "      border: none;\n",
              "      border-radius: 50%;\n",
              "      cursor: pointer;\n",
              "      display: none;\n",
              "      fill: #1967D2;\n",
              "      height: 32px;\n",
              "      padding: 0 0 0 0;\n",
              "      width: 32px;\n",
              "    }\n",
              "\n",
              "    .colab-df-convert:hover {\n",
              "      background-color: #E2EBFA;\n",
              "      box-shadow: 0px 1px 2px rgba(60, 64, 67, 0.3), 0px 1px 3px 1px rgba(60, 64, 67, 0.15);\n",
              "      fill: #174EA6;\n",
              "    }\n",
              "\n",
              "    [theme=dark] .colab-df-convert {\n",
              "      background-color: #3B4455;\n",
              "      fill: #D2E3FC;\n",
              "    }\n",
              "\n",
              "    [theme=dark] .colab-df-convert:hover {\n",
              "      background-color: #434B5C;\n",
              "      box-shadow: 0px 1px 3px 1px rgba(0, 0, 0, 0.15);\n",
              "      filter: drop-shadow(0px 1px 2px rgba(0, 0, 0, 0.3));\n",
              "      fill: #FFFFFF;\n",
              "    }\n",
              "  </style>\n",
              "\n",
              "      <script>\n",
              "        const buttonEl =\n",
              "          document.querySelector('#df-e8337c75-9c1d-43e0-8aaa-ed018cdb9e0e button.colab-df-convert');\n",
              "        buttonEl.style.display =\n",
              "          google.colab.kernel.accessAllowed ? 'block' : 'none';\n",
              "\n",
              "        async function convertToInteractive(key) {\n",
              "          const element = document.querySelector('#df-e8337c75-9c1d-43e0-8aaa-ed018cdb9e0e');\n",
              "          const dataTable =\n",
              "            await google.colab.kernel.invokeFunction('convertToInteractive',\n",
              "                                                     [key], {});\n",
              "          if (!dataTable) return;\n",
              "\n",
              "          const docLinkHtml = 'Like what you see? Visit the ' +\n",
              "            '<a target=\"_blank\" href=https://colab.research.google.com/notebooks/data_table.ipynb>data table notebook</a>'\n",
              "            + ' to learn more about interactive tables.';\n",
              "          element.innerHTML = '';\n",
              "          dataTable['output_type'] = 'display_data';\n",
              "          await google.colab.output.renderOutput(dataTable, element);\n",
              "          const docLink = document.createElement('div');\n",
              "          docLink.innerHTML = docLinkHtml;\n",
              "          element.appendChild(docLink);\n",
              "        }\n",
              "      </script>\n",
              "    </div>\n",
              "  </div>\n",
              "  "
            ]
          },
          "metadata": {},
          "execution_count": 345
        }
      ]
    },
    {
      "cell_type": "markdown",
      "source": [
        "### **Preprocessing**"
      ],
      "metadata": {
        "id": "wFsmBVSiCbmv"
      }
    },
    {
      "cell_type": "code",
      "source": [
        "bodies = data['body'].values\n",
        "titles = data['title'].values\n",
        "y = data['sentiment'].values"
      ],
      "metadata": {
        "id": "PqbCRK_MLCgn"
      },
      "execution_count": 346,
      "outputs": []
    },
    {
      "cell_type": "code",
      "source": [
        "sentences = [(str(t)+' '+str(b)) for t,b in zip(titles,bodies)]"
      ],
      "metadata": {
        "id": "uuxizf6eNN9e"
      },
      "execution_count": 347,
      "outputs": []
    },
    {
      "cell_type": "code",
      "source": [
        "sentences[0]"
      ],
      "metadata": {
        "colab": {
          "base_uri": "https://localhost:8080/",
          "height": 54
        },
        "id": "2kBKpgZrQaP-",
        "outputId": "db35157d-e9b6-468c-d54d-884c6526db14"
      },
      "execution_count": 348,
      "outputs": [
        {
          "output_type": "execute_result",
          "data": {
            "text/plain": [
              "'Great basics I have purchased a few pairs of these shorts, they look good, hold up, and are very affordable. They have apocket too so you can carry your phone or a mask easy! They are great basic shorts.'"
            ],
            "application/vnd.google.colaboratory.intrinsic+json": {
              "type": "string"
            }
          },
          "metadata": {},
          "execution_count": 348
        }
      ]
    },
    {
      "cell_type": "code",
      "source": [
        "tokenizer = RegexpTokenizer(r'\\w+')\n",
        "sentences_tokenize = [tokenizer.tokenize(s.lower()) for s in sentences]"
      ],
      "metadata": {
        "id": "52_V9aPRUUVf"
      },
      "execution_count": 349,
      "outputs": []
    },
    {
      "cell_type": "code",
      "source": [
        "sentences_tokenize[5]"
      ],
      "metadata": {
        "colab": {
          "base_uri": "https://localhost:8080/"
        },
        "id": "G8wlk440UqAM",
        "outputId": "53ee7b06-6162-4123-c031-eeaeba4bd42f"
      },
      "execution_count": 350,
      "outputs": [
        {
          "output_type": "execute_result",
          "data": {
            "text/plain": [
              "['great',\n",
              " 'pair',\n",
              " 'of',\n",
              " 'pants',\n",
              " 'very',\n",
              " 'good',\n",
              " 'fit',\n",
              " 'and',\n",
              " 'super',\n",
              " 'comfortable',\n",
              " '1st',\n",
              " 'pair',\n",
              " 'of',\n",
              " 'skinny',\n",
              " 's',\n",
              " 'i',\n",
              " 'have',\n",
              " 'tried',\n",
              " 'and',\n",
              " 'i',\n",
              " 'really',\n",
              " 'liked',\n",
              " 'them']"
            ]
          },
          "metadata": {},
          "execution_count": 350
        }
      ]
    },
    {
      "cell_type": "code",
      "source": [
        "stop_words = set(stopwords.words(\"english\"))"
      ],
      "metadata": {
        "id": "Er1afbtdUsuO"
      },
      "execution_count": 351,
      "outputs": []
    },
    {
      "cell_type": "code",
      "source": [
        "len(stop_words)"
      ],
      "metadata": {
        "colab": {
          "base_uri": "https://localhost:8080/"
        },
        "id": "IQNsRnJ-U7jk",
        "outputId": "191062b8-4380-4a6e-8554-dc4492ba590e"
      },
      "execution_count": 352,
      "outputs": [
        {
          "output_type": "execute_result",
          "data": {
            "text/plain": [
              "179"
            ]
          },
          "metadata": {},
          "execution_count": 352
        }
      ]
    },
    {
      "cell_type": "code",
      "source": [
        "sentences_tokenize_filtered = [[w for w in sentence if w not in stop_words] for sentence in sentences_tokenize]"
      ],
      "metadata": {
        "id": "yz47SNQWVClt"
      },
      "execution_count": 353,
      "outputs": []
    },
    {
      "cell_type": "code",
      "source": [
        "sentences_tokenize_filtered[5]"
      ],
      "metadata": {
        "colab": {
          "base_uri": "https://localhost:8080/"
        },
        "id": "KwiOQsAUVzGN",
        "outputId": "63d037ee-d607-46d0-c8c3-8c95526877ab"
      },
      "execution_count": 354,
      "outputs": [
        {
          "output_type": "execute_result",
          "data": {
            "text/plain": [
              "['great',\n",
              " 'pair',\n",
              " 'pants',\n",
              " 'good',\n",
              " 'fit',\n",
              " 'super',\n",
              " 'comfortable',\n",
              " '1st',\n",
              " 'pair',\n",
              " 'skinny',\n",
              " 'tried',\n",
              " 'really',\n",
              " 'liked']"
            ]
          },
          "metadata": {},
          "execution_count": 354
        }
      ]
    },
    {
      "cell_type": "code",
      "source": [
        "lem = WordNetLemmatizer()\n",
        "sentences_tokenize_filtered_stem = [[lem.lemmatize(w) for w in sentence] for sentence in sentences_tokenize_filtered]"
      ],
      "metadata": {
        "id": "X_tdJ9tJKFP4"
      },
      "execution_count": 355,
      "outputs": []
    },
    {
      "cell_type": "code",
      "source": [
        "sentences_tokenize_filtered_stem[5]"
      ],
      "metadata": {
        "colab": {
          "base_uri": "https://localhost:8080/"
        },
        "id": "DCDmh75GKU7o",
        "outputId": "a4fa2004-a694-4505-945e-6b5cbdf67b53"
      },
      "execution_count": 356,
      "outputs": [
        {
          "output_type": "execute_result",
          "data": {
            "text/plain": [
              "['great',\n",
              " 'pair',\n",
              " 'pant',\n",
              " 'good',\n",
              " 'fit',\n",
              " 'super',\n",
              " 'comfortable',\n",
              " '1st',\n",
              " 'pair',\n",
              " 'skinny',\n",
              " 'tried',\n",
              " 'really',\n",
              " 'liked']"
            ]
          },
          "metadata": {},
          "execution_count": 356
        }
      ]
    },
    {
      "cell_type": "code",
      "source": [
        "corpus = []\n",
        "for sentence in sentences_tokenize_filtered:\n",
        "  s = ''\n",
        "  s = ' '.join(sentence)\n",
        "  corpus.append(s) "
      ],
      "metadata": {
        "id": "ZkqMMjDCYMS1"
      },
      "execution_count": 357,
      "outputs": []
    },
    {
      "cell_type": "code",
      "source": [
        "corpus[2:6]"
      ],
      "metadata": {
        "colab": {
          "base_uri": "https://localhost:8080/"
        },
        "id": "BbAqkG0zYQUF",
        "outputId": "e3782575-c4a9-48cf-976f-1d78d5151504"
      },
      "execution_count": 358,
      "outputs": [
        {
          "output_type": "execute_result",
          "data": {
            "text/plain": [
              "['cutest kimono absolutely adorable paired leggings skinny jeans grey minimal flowers great detail received many compliments',\n",
              " 'perfect light weight hoodie perfect light weight hoodie soft exactly looking size expected',\n",
              " 'great shirt price love shirt super cute looks great jeans leggings dress pants skirt',\n",
              " 'great pair pants good fit super comfortable 1st pair skinny tried really liked']"
            ]
          },
          "metadata": {},
          "execution_count": 358
        }
      ]
    },
    {
      "cell_type": "markdown",
      "source": [
        "**keras Tokenizer**"
      ],
      "metadata": {
        "id": "W3qULtwxYmZ9"
      }
    },
    {
      "cell_type": "code",
      "source": [
        "tokenizer = Tokenizer()\n",
        "tokenizer.fit_on_texts(corpus)"
      ],
      "metadata": {
        "id": "HvGRTkEjYqO2"
      },
      "execution_count": 359,
      "outputs": []
    },
    {
      "cell_type": "code",
      "source": [
        "with open('tokenizer.h5', 'wb') as f:\n",
        "    pickle.dump(tokenizer, f)"
      ],
      "metadata": {
        "id": "PVhwwJIiawqI"
      },
      "execution_count": 360,
      "outputs": []
    },
    {
      "cell_type": "code",
      "source": [
        "vocab_size = len(tokenizer.word_index) + 1"
      ],
      "metadata": {
        "id": "fug8ECqGa4Fw"
      },
      "execution_count": 361,
      "outputs": []
    },
    {
      "cell_type": "code",
      "source": [
        "vocab_size"
      ],
      "metadata": {
        "colab": {
          "base_uri": "https://localhost:8080/"
        },
        "id": "XqZShbbYgZRy",
        "outputId": "5d3c0285-e87c-4cae-deb7-cfa96938651f"
      },
      "execution_count": 362,
      "outputs": [
        {
          "output_type": "execute_result",
          "data": {
            "text/plain": [
              "9133"
            ]
          },
          "metadata": {},
          "execution_count": 362
        }
      ]
    },
    {
      "cell_type": "code",
      "source": [
        "def max_length(tensor):\n",
        "    return max(len(t) for t in tensor)"
      ],
      "metadata": {
        "id": "MLvxjA6jbGGh"
      },
      "execution_count": 363,
      "outputs": []
    },
    {
      "cell_type": "code",
      "source": [
        "data_to_sequences = tokenizer.texts_to_sequences(corpus)"
      ],
      "metadata": {
        "id": "Vpv4Ype_a_Ab"
      },
      "execution_count": 364,
      "outputs": []
    },
    {
      "cell_type": "code",
      "source": [
        "maxlen = max_length(data_to_sequences)\n",
        "maxlen"
      ],
      "metadata": {
        "colab": {
          "base_uri": "https://localhost:8080/"
        },
        "id": "yOiIWdAabOfm",
        "outputId": "033d23e1-ecca-46cb-f18a-ba62806b24f7"
      },
      "execution_count": 365,
      "outputs": [
        {
          "output_type": "execute_result",
          "data": {
            "text/plain": [
              "326"
            ]
          },
          "metadata": {},
          "execution_count": 365
        }
      ]
    },
    {
      "cell_type": "code",
      "source": [
        "data_to_sequences[5]"
      ],
      "metadata": {
        "colab": {
          "base_uri": "https://localhost:8080/"
        },
        "id": "sfYzyz7WbG4h",
        "outputId": "7bdedbcb-f1a5-45cc-b443-776f6d885a96"
      },
      "execution_count": 366,
      "outputs": [
        {
          "output_type": "execute_result",
          "data": {
            "text/plain": [
              "[6, 74, 44, 16, 1, 31, 7, 1137, 74, 202, 198, 35, 168]"
            ]
          },
          "metadata": {},
          "execution_count": 366
        }
      ]
    },
    {
      "cell_type": "code",
      "source": [
        "pad_data_to_sequences = pad_sequences(data_to_sequences, maxlen=50)"
      ],
      "metadata": {
        "id": "kgzq4b__bIa3"
      },
      "execution_count": 367,
      "outputs": []
    },
    {
      "cell_type": "code",
      "source": [
        "pad_data_to_sequences[5]"
      ],
      "metadata": {
        "colab": {
          "base_uri": "https://localhost:8080/"
        },
        "id": "D6nmuYrmbf4o",
        "outputId": "5dc2ae3e-87e5-4e82-a636-b0350b180e49"
      },
      "execution_count": 368,
      "outputs": [
        {
          "output_type": "execute_result",
          "data": {
            "text/plain": [
              "array([   0,    0,    0,    0,    0,    0,    0,    0,    0,    0,    0,\n",
              "          0,    0,    0,    0,    0,    0,    0,    0,    0,    0,    0,\n",
              "          0,    0,    0,    0,    0,    0,    0,    0,    0,    0,    0,\n",
              "          0,    0,    0,    0,    6,   74,   44,   16,    1,   31,    7,\n",
              "       1137,   74,  202,  198,   35,  168], dtype=int32)"
            ]
          },
          "metadata": {},
          "execution_count": 368
        }
      ]
    },
    {
      "cell_type": "code",
      "source": [
        "print(pad_data_to_sequences.shape)\n",
        "print(y.shape)"
      ],
      "metadata": {
        "colab": {
          "base_uri": "https://localhost:8080/"
        },
        "id": "ImwI8ZGieaee",
        "outputId": "68c17a1b-b54b-4eab-b694-84ee889e75ab"
      },
      "execution_count": 369,
      "outputs": [
        {
          "output_type": "stream",
          "name": "stdout",
          "text": [
            "(14622, 50)\n",
            "(14622,)\n"
          ]
        }
      ]
    },
    {
      "cell_type": "code",
      "source": [
        "X_train, X_test, y_train, y_test = train_test_split(pad_data_to_sequences, y, test_size=0.3, random_state=50)"
      ],
      "metadata": {
        "id": "GOEBRZI-cpEP"
      },
      "execution_count": 370,
      "outputs": []
    },
    {
      "cell_type": "code",
      "source": [
        "print(X_train.shape)\n",
        "print(X_test.shape)\n",
        "print(y_train.shape)\n",
        "print(y_test.shape)"
      ],
      "metadata": {
        "colab": {
          "base_uri": "https://localhost:8080/"
        },
        "id": "XxtgOxCreiww",
        "outputId": "573c4e62-8944-4703-fff8-59108c757752"
      },
      "execution_count": 371,
      "outputs": [
        {
          "output_type": "stream",
          "name": "stdout",
          "text": [
            "(10235, 50)\n",
            "(4387, 50)\n",
            "(10235,)\n",
            "(4387,)\n"
          ]
        }
      ]
    },
    {
      "cell_type": "markdown",
      "source": [
        "## **Neural Networks**"
      ],
      "metadata": {
        "id": "sBrLjflfeukG"
      }
    },
    {
      "cell_type": "markdown",
      "source": [
        "### **CNN Model**"
      ],
      "metadata": {
        "id": "_htWm7hqrnfH"
      }
    },
    {
      "cell_type": "code",
      "source": [
        "i = Input(shape=(50,))\n",
        "x = Embedding(vocab_size, 50, input_length=50)(i)\n",
        "x = Conv1D(32, 5, padding='same', activation='relu')(x)\n",
        "x = Dropout(0.3)(x)\n",
        "x = MaxPooling1D(2)(x)\n",
        "x = Flatten()(x)\n",
        "x = Dense(64, activation='relu')(x)\n",
        "x = Dropout(0.5)(x)\n",
        "x = Dense(1, activation='sigmoid')(x)"
      ],
      "metadata": {
        "id": "B1JNtqtyrsKE"
      },
      "execution_count": 321,
      "outputs": []
    },
    {
      "cell_type": "code",
      "source": [
        "model = Model(i, x)"
      ],
      "metadata": {
        "id": "TNd9p0PbsX1W"
      },
      "execution_count": 322,
      "outputs": []
    },
    {
      "cell_type": "code",
      "source": [
        "model.compile(optimizer='adam', loss='binary_crossentropy', metrics=['accuracy'])"
      ],
      "metadata": {
        "id": "peNoQzzAsafu"
      },
      "execution_count": 323,
      "outputs": []
    },
    {
      "cell_type": "code",
      "source": [
        "model.summary()"
      ],
      "metadata": {
        "colab": {
          "base_uri": "https://localhost:8080/"
        },
        "id": "lK6jAniesb_f",
        "outputId": "86626a0e-5009-4316-894b-9921825a63e5"
      },
      "execution_count": 324,
      "outputs": [
        {
          "output_type": "stream",
          "name": "stdout",
          "text": [
            "Model: \"model_8\"\n",
            "_________________________________________________________________\n",
            " Layer (type)                Output Shape              Param #   \n",
            "=================================================================\n",
            " input_13 (InputLayer)       [(None, 50)]              0         \n",
            "                                                                 \n",
            " embedding_12 (Embedding)    (None, 50, 50)            436700    \n",
            "                                                                 \n",
            " conv1d_10 (Conv1D)          (None, 50, 32)            8032      \n",
            "                                                                 \n",
            " dropout_27 (Dropout)        (None, 50, 32)            0         \n",
            "                                                                 \n",
            " max_pooling1d_7 (MaxPooling  (None, 25, 32)           0         \n",
            " 1D)                                                             \n",
            "                                                                 \n",
            " flatten_2 (Flatten)         (None, 800)               0         \n",
            "                                                                 \n",
            " dense_22 (Dense)            (None, 64)                51264     \n",
            "                                                                 \n",
            " dropout_28 (Dropout)        (None, 64)                0         \n",
            "                                                                 \n",
            " dense_23 (Dense)            (None, 1)                 65        \n",
            "                                                                 \n",
            "=================================================================\n",
            "Total params: 496,061\n",
            "Trainable params: 496,061\n",
            "Non-trainable params: 0\n",
            "_________________________________________________________________\n"
          ]
        }
      ]
    },
    {
      "cell_type": "code",
      "source": [
        "history = model.fit(X_train, y_train, validation_data=(X_test, y_test), epochs=7, batch_size=128)"
      ],
      "metadata": {
        "colab": {
          "base_uri": "https://localhost:8080/"
        },
        "id": "P8lQOv8Msf8V",
        "outputId": "f64b83f9-380b-4740-a367-43664cceb1df"
      },
      "execution_count": 325,
      "outputs": [
        {
          "output_type": "stream",
          "name": "stdout",
          "text": [
            "Epoch 1/7\n",
            "70/70 [==============================] - 3s 36ms/step - loss: 0.5849 - accuracy: 0.6772 - val_loss: 0.3879 - val_accuracy: 0.8437\n",
            "Epoch 2/7\n",
            "70/70 [==============================] - 2s 34ms/step - loss: 0.3122 - accuracy: 0.8706 - val_loss: 0.3204 - val_accuracy: 0.8630\n",
            "Epoch 3/7\n",
            "70/70 [==============================] - 2s 33ms/step - loss: 0.2304 - accuracy: 0.9133 - val_loss: 0.3256 - val_accuracy: 0.8672\n",
            "Epoch 4/7\n",
            "70/70 [==============================] - 2s 32ms/step - loss: 0.1870 - accuracy: 0.9354 - val_loss: 0.3550 - val_accuracy: 0.8550\n",
            "Epoch 5/7\n",
            "70/70 [==============================] - 2s 32ms/step - loss: 0.1582 - accuracy: 0.9445 - val_loss: 0.3783 - val_accuracy: 0.8608\n",
            "Epoch 6/7\n",
            "70/70 [==============================] - 2s 33ms/step - loss: 0.1352 - accuracy: 0.9553 - val_loss: 0.3938 - val_accuracy: 0.8569\n",
            "Epoch 7/7\n",
            "70/70 [==============================] - 2s 32ms/step - loss: 0.1085 - accuracy: 0.9636 - val_loss: 0.4718 - val_accuracy: 0.8540\n"
          ]
        }
      ]
    },
    {
      "cell_type": "code",
      "source": [
        "scores = model.evaluate(X_test, y_test, verbose=1)\n",
        "print(\"Accuracy: %.2f%%\" % (scores[1]*100))"
      ],
      "metadata": {
        "colab": {
          "base_uri": "https://localhost:8080/"
        },
        "id": "mq-H4VzyNRZn",
        "outputId": "668cd867-ab49-4d50-9019-1079f2393367"
      },
      "execution_count": 326,
      "outputs": [
        {
          "output_type": "stream",
          "name": "stdout",
          "text": [
            "119/119 [==============================] - 0s 3ms/step - loss: 0.4718 - accuracy: 0.8540\n",
            "Accuracy: 85.40%\n"
          ]
        }
      ]
    },
    {
      "cell_type": "markdown",
      "source": [
        "### **LSTM Model**"
      ],
      "metadata": {
        "id": "0cY9-F83lqnt"
      }
    },
    {
      "cell_type": "code",
      "source": [
        "i = Input(shape=(50,))\n",
        "x = Embedding(vocab_size, 50, input_length=50)(i)\n",
        "x = Bidirectional(LSTM(128,return_sequences=True))(x)\n",
        "x = LSTM(64)(x)\n",
        "x = Dense(64, activation='relu')(x)\n",
        "x = Dropout(0.5)(x)\n",
        "x = Dense(1, activation='sigmoid')(x)"
      ],
      "metadata": {
        "id": "f9FMQ32ilyY8"
      },
      "execution_count": 327,
      "outputs": []
    },
    {
      "cell_type": "code",
      "source": [
        "model = Model(i, x)"
      ],
      "metadata": {
        "id": "HHxAyJNFqCdU"
      },
      "execution_count": 328,
      "outputs": []
    },
    {
      "cell_type": "code",
      "source": [
        "model.compile(optimizer='adam', loss='binary_crossentropy', metrics=['accuracy'])"
      ],
      "metadata": {
        "id": "0E9gGnvIqEou"
      },
      "execution_count": 329,
      "outputs": []
    },
    {
      "cell_type": "code",
      "source": [
        "model.summary()"
      ],
      "metadata": {
        "colab": {
          "base_uri": "https://localhost:8080/"
        },
        "id": "FcvdI5qMqGJ-",
        "outputId": "887ff295-74a6-4130-843f-dbfd4b8d6674"
      },
      "execution_count": 330,
      "outputs": [
        {
          "output_type": "stream",
          "name": "stdout",
          "text": [
            "Model: \"model_9\"\n",
            "_________________________________________________________________\n",
            " Layer (type)                Output Shape              Param #   \n",
            "=================================================================\n",
            " input_14 (InputLayer)       [(None, 50)]              0         \n",
            "                                                                 \n",
            " embedding_13 (Embedding)    (None, 50, 50)            436700    \n",
            "                                                                 \n",
            " bidirectional_5 (Bidirectio  (None, 50, 256)          183296    \n",
            " nal)                                                            \n",
            "                                                                 \n",
            " lstm_11 (LSTM)              (None, 64)                82176     \n",
            "                                                                 \n",
            " dense_24 (Dense)            (None, 64)                4160      \n",
            "                                                                 \n",
            " dropout_29 (Dropout)        (None, 64)                0         \n",
            "                                                                 \n",
            " dense_25 (Dense)            (None, 1)                 65        \n",
            "                                                                 \n",
            "=================================================================\n",
            "Total params: 706,397\n",
            "Trainable params: 706,397\n",
            "Non-trainable params: 0\n",
            "_________________________________________________________________\n"
          ]
        }
      ]
    },
    {
      "cell_type": "code",
      "source": [
        "history = model.fit(X_train, y_train, validation_data=(X_test, y_test), epochs=7, batch_size=128)"
      ],
      "metadata": {
        "colab": {
          "base_uri": "https://localhost:8080/"
        },
        "id": "PLXCO6A0qMNb",
        "outputId": "daf72607-4073-41f4-95e8-2d12c0f49000"
      },
      "execution_count": 331,
      "outputs": [
        {
          "output_type": "stream",
          "name": "stdout",
          "text": [
            "Epoch 1/7\n",
            "70/70 [==============================] - 43s 528ms/step - loss: 0.5039 - accuracy: 0.7444 - val_loss: 0.3687 - val_accuracy: 0.8268\n",
            "Epoch 2/7\n",
            "70/70 [==============================] - 36s 509ms/step - loss: 0.2900 - accuracy: 0.8801 - val_loss: 0.3333 - val_accuracy: 0.8569\n",
            "Epoch 3/7\n",
            "70/70 [==============================] - 35s 504ms/step - loss: 0.2281 - accuracy: 0.9116 - val_loss: 0.4100 - val_accuracy: 0.8603\n",
            "Epoch 4/7\n",
            "70/70 [==============================] - 35s 502ms/step - loss: 0.1967 - accuracy: 0.9237 - val_loss: 0.3849 - val_accuracy: 0.8495\n",
            "Epoch 5/7\n",
            "70/70 [==============================] - 36s 512ms/step - loss: 0.1616 - accuracy: 0.9418 - val_loss: 0.4387 - val_accuracy: 0.8548\n",
            "Epoch 6/7\n",
            "70/70 [==============================] - 36s 505ms/step - loss: 0.1447 - accuracy: 0.9488 - val_loss: 0.5141 - val_accuracy: 0.8482\n",
            "Epoch 7/7\n",
            "70/70 [==============================] - 35s 501ms/step - loss: 0.1484 - accuracy: 0.9483 - val_loss: 0.5022 - val_accuracy: 0.8424\n"
          ]
        }
      ]
    },
    {
      "cell_type": "code",
      "source": [
        "scores = model.evaluate(X_test, y_test, verbose=1)\n",
        "print(\"Accuracy: %.2f%%\" % (scores[1]*100))"
      ],
      "metadata": {
        "colab": {
          "base_uri": "https://localhost:8080/"
        },
        "id": "_c57pbMrrdBc",
        "outputId": "9cb25b9c-48b1-4e72-e1e2-a91613ff9fcb"
      },
      "execution_count": 332,
      "outputs": [
        {
          "output_type": "stream",
          "name": "stdout",
          "text": [
            "119/119 [==============================] - 8s 63ms/step - loss: 0.5022 - accuracy: 0.8424\n",
            "Accuracy: 84.24%\n"
          ]
        }
      ]
    },
    {
      "cell_type": "markdown",
      "source": [
        "### **CNN-LSTM Model**"
      ],
      "metadata": {
        "id": "bRIuKT9ZfHk-"
      }
    },
    {
      "cell_type": "code",
      "source": [
        "i = Input(shape=(50,))\n",
        "x = Embedding(vocab_size, 50, input_length=50)(i)\n",
        "x = BatchNormalization()(x)\n",
        "x = Dropout(0.3)(x)\n",
        "x = Conv1D(32, 5, padding='same', activation='relu')(x)\n",
        "x = Dropout(0.3)(x)\n",
        "x = MaxPooling1D(2)(x)\n",
        "x = Bidirectional(LSTM(128,return_sequences=True))(x)\n",
        "x = LSTM(64)(x)\n",
        "x = Dense(64, activation='relu')(x)\n",
        "x = Dropout(0.5)(x)\n",
        "x = Dense(1, activation='sigmoid')(x)"
      ],
      "metadata": {
        "id": "6QHuDn1KemiN"
      },
      "execution_count": 372,
      "outputs": []
    },
    {
      "cell_type": "code",
      "source": [
        "model = Model(i, x)"
      ],
      "metadata": {
        "id": "C0a4lepHhMI-"
      },
      "execution_count": 373,
      "outputs": []
    },
    {
      "cell_type": "code",
      "source": [
        "model.compile(optimizer='adam', loss='binary_crossentropy', metrics=['accuracy'])"
      ],
      "metadata": {
        "id": "xqh10K0ohi58"
      },
      "execution_count": 374,
      "outputs": []
    },
    {
      "cell_type": "code",
      "source": [
        "model.summary()"
      ],
      "metadata": {
        "colab": {
          "base_uri": "https://localhost:8080/"
        },
        "id": "YCFV1qWXhmaT",
        "outputId": "2101d2c8-4dc6-4f5e-82e1-f5b695b28e90"
      },
      "execution_count": 375,
      "outputs": [
        {
          "output_type": "stream",
          "name": "stdout",
          "text": [
            "Model: \"model_11\"\n",
            "_________________________________________________________________\n",
            " Layer (type)                Output Shape              Param #   \n",
            "=================================================================\n",
            " input_16 (InputLayer)       [(None, 50)]              0         \n",
            "                                                                 \n",
            " embedding_15 (Embedding)    (None, 50, 50)            456650    \n",
            "                                                                 \n",
            " batch_normalization_6 (Batc  (None, 50, 50)           200       \n",
            " hNormalization)                                                 \n",
            "                                                                 \n",
            " dropout_33 (Dropout)        (None, 50, 50)            0         \n",
            "                                                                 \n",
            " conv1d_12 (Conv1D)          (None, 50, 32)            8032      \n",
            "                                                                 \n",
            " dropout_34 (Dropout)        (None, 50, 32)            0         \n",
            "                                                                 \n",
            " max_pooling1d_9 (MaxPooling  (None, 25, 32)           0         \n",
            " 1D)                                                             \n",
            "                                                                 \n",
            " bidirectional_7 (Bidirectio  (None, 25, 256)          164864    \n",
            " nal)                                                            \n",
            "                                                                 \n",
            " lstm_15 (LSTM)              (None, 64)                82176     \n",
            "                                                                 \n",
            " dense_28 (Dense)            (None, 64)                4160      \n",
            "                                                                 \n",
            " dropout_35 (Dropout)        (None, 64)                0         \n",
            "                                                                 \n",
            " dense_29 (Dense)            (None, 1)                 65        \n",
            "                                                                 \n",
            "=================================================================\n",
            "Total params: 716,147\n",
            "Trainable params: 716,047\n",
            "Non-trainable params: 100\n",
            "_________________________________________________________________\n"
          ]
        }
      ]
    },
    {
      "cell_type": "code",
      "source": [
        "history = model.fit(X_train, y_train, validation_data=(X_test, y_test), epochs=9, batch_size=128)"
      ],
      "metadata": {
        "colab": {
          "base_uri": "https://localhost:8080/"
        },
        "id": "XWNwfosHhpLj",
        "outputId": "39d178c0-c652-4823-c231-43168b6e5b04"
      },
      "execution_count": 376,
      "outputs": [
        {
          "output_type": "stream",
          "name": "stdout",
          "text": [
            "Epoch 1/9\n",
            "80/80 [==============================] - 30s 298ms/step - loss: 0.4659 - accuracy: 0.7693 - val_loss: 0.6049 - val_accuracy: 0.8616\n",
            "Epoch 2/9\n",
            "80/80 [==============================] - 23s 291ms/step - loss: 0.2862 - accuracy: 0.8843 - val_loss: 0.5211 - val_accuracy: 0.8696\n",
            "Epoch 3/9\n",
            "80/80 [==============================] - 23s 283ms/step - loss: 0.2248 - accuracy: 0.9148 - val_loss: 0.4573 - val_accuracy: 0.8705\n",
            "Epoch 4/9\n",
            "80/80 [==============================] - 23s 283ms/step - loss: 0.1925 - accuracy: 0.9268 - val_loss: 0.3784 - val_accuracy: 0.8687\n",
            "Epoch 5/9\n",
            "80/80 [==============================] - 23s 283ms/step - loss: 0.1650 - accuracy: 0.9354 - val_loss: 0.3462 - val_accuracy: 0.8512\n",
            "Epoch 6/9\n",
            "80/80 [==============================] - 23s 282ms/step - loss: 0.1453 - accuracy: 0.9483 - val_loss: 0.3231 - val_accuracy: 0.8651\n",
            "Epoch 7/9\n",
            "80/80 [==============================] - 22s 278ms/step - loss: 0.1233 - accuracy: 0.9539 - val_loss: 0.3475 - val_accuracy: 0.8623\n",
            "Epoch 8/9\n",
            "80/80 [==============================] - 22s 277ms/step - loss: 0.1073 - accuracy: 0.9602 - val_loss: 0.4219 - val_accuracy: 0.8619\n",
            "Epoch 9/9\n",
            "80/80 [==============================] - 22s 281ms/step - loss: 0.0994 - accuracy: 0.9626 - val_loss: 0.4564 - val_accuracy: 0.8632\n"
          ]
        }
      ]
    },
    {
      "cell_type": "code",
      "source": [
        "scores = model.evaluate(X_test, y_test, verbose=1)\n",
        "print(\"Accuracy: %.2f%%\" % (scores[1]*100))"
      ],
      "metadata": {
        "colab": {
          "base_uri": "https://localhost:8080/"
        },
        "id": "ww-joccChuVB",
        "outputId": "0e447fdf-4a08-4cad-958b-49723de833c2"
      },
      "execution_count": 377,
      "outputs": [
        {
          "output_type": "stream",
          "name": "stdout",
          "text": [
            "138/138 [==============================] - 5s 35ms/step - loss: 0.4564 - accuracy: 0.8632\n",
            "Accuracy: 86.32%\n"
          ]
        }
      ]
    },
    {
      "cell_type": "code",
      "source": [
        "plot_model(model, show_shapes=True)"
      ],
      "metadata": {
        "colab": {
          "base_uri": "https://localhost:8080/",
          "height": 1000
        },
        "id": "gbvet5GPjUVu",
        "outputId": "77bd6e0b-5268-4b09-8996-0f5e2467d1f3"
      },
      "execution_count": 188,
      "outputs": [
        {
          "output_type": "execute_result",
          "data": {
            "image/png": "[encoded data removed]",
            "text/plain": [
              "<IPython.core.display.Image object>"
            ]
          },
          "metadata": {},
          "execution_count": 188
        }
      ]
    },
    {
      "cell_type": "code",
      "source": [
        "def plot_graphs(history, string):\n",
        "    plt.plot(history.history[string])\n",
        "    plt.plot(history.history['val_'+string])\n",
        "    plt.xlabel(\"Epochs\")\n",
        "    plt.ylabel(string)\n",
        "    plt.legend([string, 'val_'+string])\n",
        "    plt.show()"
      ],
      "metadata": {
        "id": "4qQvKPPmjZ2v"
      },
      "execution_count": 411,
      "outputs": []
    },
    {
      "cell_type": "code",
      "source": [
        "plot_graphs(history, 'accuracy')\n",
        "plot_graphs(history, 'loss')"
      ],
      "metadata": {
        "colab": {
          "base_uri": "https://localhost:8080/",
          "height": 541
        },
        "id": "aCJPqXJzjzcy",
        "outputId": "0239dae3-889a-4d6b-8c95-400fc479dd56"
      },
      "execution_count": 412,
      "outputs": [
        {
          "output_type": "display_data",
          "data": {
            "text/plain": [
              "<Figure size 432x288 with 1 Axes>"
            ],
            "image/png": "[encoded data removed]"
          },
          "metadata": {
            "needs_background": "light"
          }
        },
        {
          "output_type": "display_data",
          "data": {
            "text/plain": [
              "<Figure size 432x288 with 1 Axes>"
            ],
            "image/png": "[encoded data removed]"
          },
          "metadata": {
            "needs_background": "light"
          }
        }
      ]
    },
    {
      "cell_type": "code",
      "source": [
        "from sklearn.metrics import classification_report, confusion_matrix"
      ],
      "metadata": {
        "id": "7PdHchSJRl1H"
      },
      "execution_count": 379,
      "outputs": []
    },
    {
      "cell_type": "code",
      "source": [
        "y_true = y_test\n",
        "y_pred = model.predict(X_test)\n",
        "y_pred = [(1 if y >= 0.5 else 0) for y in y_pred]\n",
        "y_pred = np.array(y_pred)"
      ],
      "metadata": {
        "colab": {
          "base_uri": "https://localhost:8080/"
        },
        "id": "5gZ2J7UfSNI7",
        "outputId": "ea7fcd75-1ae7-49d2-db1a-464e0ac4dae6"
      },
      "execution_count": 400,
      "outputs": [
        {
          "output_type": "stream",
          "name": "stdout",
          "text": [
            "138/138 [==============================] - 5s 34ms/step\n"
          ]
        }
      ]
    },
    {
      "cell_type": "code",
      "source": [
        "y_true"
      ],
      "metadata": {
        "colab": {
          "base_uri": "https://localhost:8080/"
        },
        "id": "T7g-SALhS0iJ",
        "outputId": "f66ae1a7-804e-402a-89c2-907b13b4e246"
      },
      "execution_count": 401,
      "outputs": [
        {
          "output_type": "execute_result",
          "data": {
            "text/plain": [
              "array([1, 0, 1, ..., 1, 1, 1])"
            ]
          },
          "metadata": {},
          "execution_count": 401
        }
      ]
    },
    {
      "cell_type": "code",
      "source": [
        "y_pred"
      ],
      "metadata": {
        "colab": {
          "base_uri": "https://localhost:8080/"
        },
        "id": "P-2SH8jYS2kZ",
        "outputId": "b9c3c303-ea09-4fe0-aa9c-d28687420e53"
      },
      "execution_count": 402,
      "outputs": [
        {
          "output_type": "execute_result",
          "data": {
            "text/plain": [
              "array([1, 0, 1, ..., 1, 0, 1])"
            ]
          },
          "metadata": {},
          "execution_count": 402
        }
      ]
    },
    {
      "cell_type": "code",
      "source": [
        "print(classification_report(y_true, y_pred, target_names=['Negative Reviews','Positive Reviews']))"
      ],
      "metadata": {
        "colab": {
          "base_uri": "https://localhost:8080/"
        },
        "id": "Sv5KoUgpR2F3",
        "outputId": "9f0390dc-c4e5-4310-de45-9f2c5793ca6b"
      },
      "execution_count": 405,
      "outputs": [
        {
          "output_type": "stream",
          "name": "stdout",
          "text": [
            "                  precision    recall  f1-score   support\n",
            "\n",
            "Negative Reviews       0.76      0.82      0.79      1364\n",
            "Positive Reviews       0.92      0.88      0.90      3023\n",
            "\n",
            "        accuracy                           0.86      4387\n",
            "       macro avg       0.84      0.85      0.84      4387\n",
            "    weighted avg       0.87      0.86      0.86      4387\n",
            "\n"
          ]
        }
      ]
    },
    {
      "cell_type": "code",
      "source": [
        "cm = confusion_matrix(y_test, y_pred)"
      ],
      "metadata": {
        "id": "IO0k7zEhVO5C"
      },
      "execution_count": 406,
      "outputs": []
    },
    {
      "cell_type": "code",
      "source": [
        "cm"
      ],
      "metadata": {
        "colab": {
          "base_uri": "https://localhost:8080/"
        },
        "id": "QNG54wgYVQyD",
        "outputId": "832ef2e2-7e2c-4f18-890e-f36ccf98ebce"
      },
      "execution_count": 407,
      "outputs": [
        {
          "output_type": "execute_result",
          "data": {
            "text/plain": [
              "array([[1118,  246],\n",
              "       [ 354, 2669]])"
            ]
          },
          "metadata": {},
          "execution_count": 407
        }
      ]
    },
    {
      "cell_type": "code",
      "source": [
        "plt.figure(figsize=(9, 9))\n",
        "sns.heatmap(cm, annot=True, fmt='0.3f', linewidth=0.5, square=True, cbar=False)\n",
        "plt.xlabel('Predicted values')\n",
        "plt.ylabel('Actual values')\n",
        "plt.show()"
      ],
      "metadata": {
        "colab": {
          "base_uri": "https://localhost:8080/",
          "height": 551
        },
        "id": "mwFvz0l5VXPc",
        "outputId": "0a8c88fc-e196-4c1e-bfe7-c1fe1bc4e6ea"
      },
      "execution_count": 413,
      "outputs": [
        {
          "output_type": "display_data",
          "data": {
            "text/plain": [
              "<Figure size 648x648 with 1 Axes>"
            ],
            "image/png": "[encoded data removed]"
          },
          "metadata": {
            "needs_background": "light"
          }
        }
      ]
    },
    {
      "cell_type": "code",
      "source": [
        "def prediction(sentence):\n",
        "  data = tokenizer.texts_to_sequences([sentence])\n",
        "  data_pad_sequence = pad_sequences(data, maxlen=50)\n",
        "  perdiction = model.predict(data_pad_sequence)\n",
        "  print(perdiction[0])\n",
        "  if perdiction[0][0] > 0.5:\n",
        "    return \"positive\"\n",
        "  else: \n",
        "    return \"negative\" "
      ],
      "metadata": {
        "id": "ELSCheaCj1nz"
      },
      "execution_count": 203,
      "outputs": []
    },
    {
      "cell_type": "code",
      "source": [],
      "metadata": {
        "id": "O4DcJlwtkSXb"
      },
      "execution_count": null,
      "outputs": []
    }
  ]
}