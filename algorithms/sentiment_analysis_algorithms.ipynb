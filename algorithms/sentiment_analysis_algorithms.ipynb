{
  "cells": [
    {
      "cell_type": "markdown",
      "metadata": {
        "id": "rBDyNex2_1-D"
      },
      "source": [
        "**import libraries**"
      ]
    },
    {
      "cell_type": "code",
      "execution_count": 1,
      "metadata": {
        "id": "q-Pz1w1-_GcG"
      },
      "outputs": [],
      "source": [
        "import numpy as np\n",
        "import pandas as pd\n",
        "import matplotlib.pyplot as plt\n",
        "import seaborn as sns\n",
        "import string\n",
        "from tensorflow.keras.utils import plot_model\n",
        "import re\n",
        "import pickle\n",
        "from sklearn.model_selection import train_test_split\n",
        "from tensorflow.keras.preprocessing.text import Tokenizer\n",
        "from tensorflow.keras.preprocessing.sequence import pad_sequences\n",
        "from keras.models import Sequential\n",
        "from keras import layers\n",
        "from tensorflow.keras.models import Model\n",
        "from keras.layers import Dense, Input, Embedding, LSTM, Conv1D, Dropout, MaxPooling1D, BatchNormalization, Bidirectional, GlobalMaxPooling1D, Flatten"
      ]
    },
    {
      "cell_type": "code",
      "execution_count": 2,
      "metadata": {
        "id": "6qC5HMP1A67j"
      },
      "outputs": [],
      "source": [
        "from sklearn.metrics import classification_report, confusion_matrix"
      ]
    },
    {
      "cell_type": "code",
      "execution_count": 3,
      "metadata": {
        "colab": {
          "base_uri": "https://localhost:8080/"
        },
        "id": "q9_AL12mTNYF",
        "outputId": "860410ec-8b61-4df9-8794-6233e81146e2"
      },
      "outputs": [
        {
          "output_type": "stream",
          "name": "stdout",
          "text": [
            "Looking in indexes: https://pypi.org/simple, https://us-python.pkg.dev/colab-wheels/public/simple/\n",
            "Requirement already satisfied: nltk in /usr/local/lib/python3.8/dist-packages (3.7)\n",
            "Requirement already satisfied: joblib in /usr/local/lib/python3.8/dist-packages (from nltk) (1.2.0)\n",
            "Requirement already satisfied: regex>=2021.8.3 in /usr/local/lib/python3.8/dist-packages (from nltk) (2022.6.2)\n",
            "Requirement already satisfied: click in /usr/local/lib/python3.8/dist-packages (from nltk) (7.1.2)\n",
            "Requirement already satisfied: tqdm in /usr/local/lib/python3.8/dist-packages (from nltk) (4.64.1)\n"
          ]
        }
      ],
      "source": [
        "!pip install nltk"
      ]
    },
    {
      "cell_type": "code",
      "execution_count": 4,
      "metadata": {
        "colab": {
          "base_uri": "https://localhost:8080/"
        },
        "id": "InkBU3TaUjS-",
        "outputId": "44088a12-4c19-4a3e-def3-bc322c5d4200"
      },
      "outputs": [
        {
          "output_type": "stream",
          "name": "stderr",
          "text": [
            "[nltk_data] Downloading package punkt to /root/nltk_data...\n",
            "[nltk_data]   Package punkt is already up-to-date!\n",
            "[nltk_data] Downloading package stopwords to /root/nltk_data...\n",
            "[nltk_data]   Package stopwords is already up-to-date!\n",
            "[nltk_data] Downloading package wordnet to /root/nltk_data...\n",
            "[nltk_data]   Package wordnet is already up-to-date!\n",
            "[nltk_data] Downloading package omw-1.4 to /root/nltk_data...\n",
            "[nltk_data]   Package omw-1.4 is already up-to-date!\n"
          ]
        },
        {
          "output_type": "execute_result",
          "data": {
            "text/plain": [
              "True"
            ]
          },
          "metadata": {},
          "execution_count": 4
        }
      ],
      "source": [
        "import nltk\n",
        "nltk.download('punkt')\n",
        "nltk.download('stopwords')\n",
        "nltk.download('wordnet')\n",
        "nltk.download('omw-1.4')"
      ]
    },
    {
      "cell_type": "code",
      "execution_count": 5,
      "metadata": {
        "id": "hqj-IL4eTR60"
      },
      "outputs": [],
      "source": [
        "from nltk.tokenize import word_tokenize, RegexpTokenizer\n",
        "from nltk.corpus import stopwords\n",
        "from nltk.stem import WordNetLemmatizer\n",
        "from nltk.stem.porter import PorterStemmer"
      ]
    },
    {
      "cell_type": "markdown",
      "metadata": {
        "id": "a73F87b4-pI6"
      },
      "source": [
        "### **Read Dataset**"
      ]
    },
    {
      "cell_type": "code",
      "execution_count": 6,
      "metadata": {
        "colab": {
          "base_uri": "https://localhost:8080/"
        },
        "id": "Z_LfwWSb-aID",
        "outputId": "729864ba-bcc3-4cbf-fba2-2a9d68115cdb"
      },
      "outputs": [
        {
          "output_type": "stream",
          "name": "stdout",
          "text": [
            "/usr/local/lib/python3.8/dist-packages/gdown/cli.py:127: FutureWarning: Option `--id` was deprecated in version 4.3.1 and will be removed in 5.0. You don't need to pass it anymore to use a file ID.\n",
            "  warnings.warn(\n",
            "Downloading...\n",
            "From: https://drive.google.com/uc?id=14Bm-AxTFvgtMAcmq7g0Jra4uZvt1d_aN\n",
            "To: /content/review_50_clothing_product.csv\n",
            "100% 22.8M/22.8M [00:00<00:00, 129MB/s] \n"
          ]
        }
      ],
      "source": [
        "!gdown --id 14Bm-AxTFvgtMAcmq7g0Jra4uZvt1d_aN"
      ]
    },
    {
      "cell_type": "code",
      "execution_count": 7,
      "metadata": {
        "id": "zVXZ6BdG_AOj"
      },
      "outputs": [],
      "source": [
        "df = pd.read_csv('/content/review_50_clothing_product.csv')"
      ]
    },
    {
      "cell_type": "code",
      "execution_count": 8,
      "metadata": {
        "colab": {
          "base_uri": "https://localhost:8080/",
          "height": 206
        },
        "id": "8et1XWxA_Kpx",
        "outputId": "4444f09e-c279-434d-9316-65b059e20c19"
      },
      "outputs": [
        {
          "output_type": "execute_result",
          "data": {
            "text/plain": [
              "   Unnamed: 0               stars                               title  \\\n",
              "0           0  4.0 out of 5 stars  Short people and big booty Judy’s.   \n",
              "1           1  4.0 out of 5 stars                         Great Pants   \n",
              "2           2  5.0 out of 5 stars                           Kinda big   \n",
              "3           3  5.0 out of 5 stars             OMG I love these pants.   \n",
              "4           4  4.0 out of 5 stars                     Nice, but large   \n",
              "\n",
              "                                                body  \n",
              "0  Honest review would be more like a 4.5. Issue ...  \n",
              "1  I LOVE these pants! I originally bought 2x bec...  \n",
              "2  I usually wear a medium however this was close...  \n",
              "3  They feel so good and smooth. Great if you are...  \n",
              "4  These are comfortable, but as others have ment...  "
            ],
            "text/html": [
              "\n",
              "  <div id=\"df-b972e30d-49ef-4e3b-9fdb-c7849cc8b514\">\n",
              "    <div class=\"colab-df-container\">\n",
              "      <div>\n",
              "<style scoped>\n",
              "    .dataframe tbody tr th:only-of-type {\n",
              "        vertical-align: middle;\n",
              "    }\n",
              "\n",
              "    .dataframe tbody tr th {\n",
              "        vertical-align: top;\n",
              "    }\n",
              "\n",
              "    .dataframe thead th {\n",
              "        text-align: right;\n",
              "    }\n",
              "</style>\n",
              "<table border=\"1\" class=\"dataframe\">\n",
              "  <thead>\n",
              "    <tr style=\"text-align: right;\">\n",
              "      <th></th>\n",
              "      <th>Unnamed: 0</th>\n",
              "      <th>stars</th>\n",
              "      <th>title</th>\n",
              "      <th>body</th>\n",
              "    </tr>\n",
              "  </thead>\n",
              "  <tbody>\n",
              "    <tr>\n",
              "      <th>0</th>\n",
              "      <td>0</td>\n",
              "      <td>4.0 out of 5 stars</td>\n",
              "      <td>Short people and big booty Judy’s.</td>\n",
              "      <td>Honest review would be more like a 4.5. Issue ...</td>\n",
              "    </tr>\n",
              "    <tr>\n",
              "      <th>1</th>\n",
              "      <td>1</td>\n",
              "      <td>4.0 out of 5 stars</td>\n",
              "      <td>Great Pants</td>\n",
              "      <td>I LOVE these pants! I originally bought 2x bec...</td>\n",
              "    </tr>\n",
              "    <tr>\n",
              "      <th>2</th>\n",
              "      <td>2</td>\n",
              "      <td>5.0 out of 5 stars</td>\n",
              "      <td>Kinda big</td>\n",
              "      <td>I usually wear a medium however this was close...</td>\n",
              "    </tr>\n",
              "    <tr>\n",
              "      <th>3</th>\n",
              "      <td>3</td>\n",
              "      <td>5.0 out of 5 stars</td>\n",
              "      <td>OMG I love these pants.</td>\n",
              "      <td>They feel so good and smooth. Great if you are...</td>\n",
              "    </tr>\n",
              "    <tr>\n",
              "      <th>4</th>\n",
              "      <td>4</td>\n",
              "      <td>4.0 out of 5 stars</td>\n",
              "      <td>Nice, but large</td>\n",
              "      <td>These are comfortable, but as others have ment...</td>\n",
              "    </tr>\n",
              "  </tbody>\n",
              "</table>\n",
              "</div>\n",
              "      <button class=\"colab-df-convert\" onclick=\"convertToInteractive('df-b972e30d-49ef-4e3b-9fdb-c7849cc8b514')\"\n",
              "              title=\"Convert this dataframe to an interactive table.\"\n",
              "              style=\"display:none;\">\n",
              "        \n",
              "  <svg xmlns=\"http://www.w3.org/2000/svg\" height=\"24px\"viewBox=\"0 0 24 24\"\n",
              "       width=\"24px\">\n",
              "    <path d=\"M0 0h24v24H0V0z\" fill=\"none\"/>\n",
              "    <path d=\"M18.56 5.44l.94 2.06.94-2.06 2.06-.94-2.06-.94-.94-2.06-.94 2.06-2.06.94zm-11 1L8.5 8.5l.94-2.06 2.06-.94-2.06-.94L8.5 2.5l-.94 2.06-2.06.94zm10 10l.94 2.06.94-2.06 2.06-.94-2.06-.94-.94-2.06-.94 2.06-2.06.94z\"/><path d=\"M17.41 7.96l-1.37-1.37c-.4-.4-.92-.59-1.43-.59-.52 0-1.04.2-1.43.59L10.3 9.45l-7.72 7.72c-.78.78-.78 2.05 0 2.83L4 21.41c.39.39.9.59 1.41.59.51 0 1.02-.2 1.41-.59l7.78-7.78 2.81-2.81c.8-.78.8-2.07 0-2.86zM5.41 20L4 18.59l7.72-7.72 1.47 1.35L5.41 20z\"/>\n",
              "  </svg>\n",
              "      </button>\n",
              "      \n",
              "  <style>\n",
              "    .colab-df-container {\n",
              "      display:flex;\n",
              "      flex-wrap:wrap;\n",
              "      gap: 12px;\n",
              "    }\n",
              "\n",
              "    .colab-df-convert {\n",
              "      background-color: #E8F0FE;\n",
              "      border: none;\n",
              "      border-radius: 50%;\n",
              "      cursor: pointer;\n",
              "      display: none;\n",
              "      fill: #1967D2;\n",
              "      height: 32px;\n",
              "      padding: 0 0 0 0;\n",
              "      width: 32px;\n",
              "    }\n",
              "\n",
              "    .colab-df-convert:hover {\n",
              "      background-color: #E2EBFA;\n",
              "      box-shadow: 0px 1px 2px rgba(60, 64, 67, 0.3), 0px 1px 3px 1px rgba(60, 64, 67, 0.15);\n",
              "      fill: #174EA6;\n",
              "    }\n",
              "\n",
              "    [theme=dark] .colab-df-convert {\n",
              "      background-color: #3B4455;\n",
              "      fill: #D2E3FC;\n",
              "    }\n",
              "\n",
              "    [theme=dark] .colab-df-convert:hover {\n",
              "      background-color: #434B5C;\n",
              "      box-shadow: 0px 1px 3px 1px rgba(0, 0, 0, 0.15);\n",
              "      filter: drop-shadow(0px 1px 2px rgba(0, 0, 0, 0.3));\n",
              "      fill: #FFFFFF;\n",
              "    }\n",
              "  </style>\n",
              "\n",
              "      <script>\n",
              "        const buttonEl =\n",
              "          document.querySelector('#df-b972e30d-49ef-4e3b-9fdb-c7849cc8b514 button.colab-df-convert');\n",
              "        buttonEl.style.display =\n",
              "          google.colab.kernel.accessAllowed ? 'block' : 'none';\n",
              "\n",
              "        async function convertToInteractive(key) {\n",
              "          const element = document.querySelector('#df-b972e30d-49ef-4e3b-9fdb-c7849cc8b514');\n",
              "          const dataTable =\n",
              "            await google.colab.kernel.invokeFunction('convertToInteractive',\n",
              "                                                     [key], {});\n",
              "          if (!dataTable) return;\n",
              "\n",
              "          const docLinkHtml = 'Like what you see? Visit the ' +\n",
              "            '<a target=\"_blank\" href=https://colab.research.google.com/notebooks/data_table.ipynb>data table notebook</a>'\n",
              "            + ' to learn more about interactive tables.';\n",
              "          element.innerHTML = '';\n",
              "          dataTable['output_type'] = 'display_data';\n",
              "          await google.colab.output.renderOutput(dataTable, element);\n",
              "          const docLink = document.createElement('div');\n",
              "          docLink.innerHTML = docLinkHtml;\n",
              "          element.appendChild(docLink);\n",
              "        }\n",
              "      </script>\n",
              "    </div>\n",
              "  </div>\n",
              "  "
            ]
          },
          "metadata": {},
          "execution_count": 8
        }
      ],
      "source": [
        "df.head()"
      ]
    },
    {
      "cell_type": "code",
      "execution_count": 9,
      "metadata": {
        "colab": {
          "base_uri": "https://localhost:8080/"
        },
        "id": "E79HNcXf_MDu",
        "outputId": "19abc99e-f935-477c-8919-3a3ed81f1d2e"
      },
      "outputs": [
        {
          "output_type": "execute_result",
          "data": {
            "text/plain": [
              "(114451, 4)"
            ]
          },
          "metadata": {},
          "execution_count": 9
        }
      ],
      "source": [
        "df.shape"
      ]
    },
    {
      "cell_type": "markdown",
      "metadata": {
        "id": "0GshhoJTCR9Q"
      },
      "source": [
        "**Prepare Dataset**"
      ]
    },
    {
      "cell_type": "code",
      "execution_count": 10,
      "metadata": {
        "id": "CAtJ7O-f_b1V"
      },
      "outputs": [],
      "source": [
        "df['star'] = df['stars'].apply(lambda x: str(x).split()[0]).astype(float)"
      ]
    },
    {
      "cell_type": "code",
      "execution_count": 11,
      "metadata": {
        "colab": {
          "base_uri": "https://localhost:8080/",
          "height": 143
        },
        "id": "bvRRiqFJ_kGb",
        "outputId": "4fea53fe-9ae8-41c0-9e13-7ac1ffdfde10"
      },
      "outputs": [
        {
          "output_type": "execute_result",
          "data": {
            "text/plain": [
              "   Unnamed: 0               stars                               title  \\\n",
              "0           0  4.0 out of 5 stars  Short people and big booty Judy’s.   \n",
              "1           1  4.0 out of 5 stars                         Great Pants   \n",
              "2           2  5.0 out of 5 stars                           Kinda big   \n",
              "\n",
              "                                                body  star  \n",
              "0  Honest review would be more like a 4.5. Issue ...   4.0  \n",
              "1  I LOVE these pants! I originally bought 2x bec...   4.0  \n",
              "2  I usually wear a medium however this was close...   5.0  "
            ],
            "text/html": [
              "\n",
              "  <div id=\"df-9c4856e9-f4e4-4209-87fd-f1ae58582c09\">\n",
              "    <div class=\"colab-df-container\">\n",
              "      <div>\n",
              "<style scoped>\n",
              "    .dataframe tbody tr th:only-of-type {\n",
              "        vertical-align: middle;\n",
              "    }\n",
              "\n",
              "    .dataframe tbody tr th {\n",
              "        vertical-align: top;\n",
              "    }\n",
              "\n",
              "    .dataframe thead th {\n",
              "        text-align: right;\n",
              "    }\n",
              "</style>\n",
              "<table border=\"1\" class=\"dataframe\">\n",
              "  <thead>\n",
              "    <tr style=\"text-align: right;\">\n",
              "      <th></th>\n",
              "      <th>Unnamed: 0</th>\n",
              "      <th>stars</th>\n",
              "      <th>title</th>\n",
              "      <th>body</th>\n",
              "      <th>star</th>\n",
              "    </tr>\n",
              "  </thead>\n",
              "  <tbody>\n",
              "    <tr>\n",
              "      <th>0</th>\n",
              "      <td>0</td>\n",
              "      <td>4.0 out of 5 stars</td>\n",
              "      <td>Short people and big booty Judy’s.</td>\n",
              "      <td>Honest review would be more like a 4.5. Issue ...</td>\n",
              "      <td>4.0</td>\n",
              "    </tr>\n",
              "    <tr>\n",
              "      <th>1</th>\n",
              "      <td>1</td>\n",
              "      <td>4.0 out of 5 stars</td>\n",
              "      <td>Great Pants</td>\n",
              "      <td>I LOVE these pants! I originally bought 2x bec...</td>\n",
              "      <td>4.0</td>\n",
              "    </tr>\n",
              "    <tr>\n",
              "      <th>2</th>\n",
              "      <td>2</td>\n",
              "      <td>5.0 out of 5 stars</td>\n",
              "      <td>Kinda big</td>\n",
              "      <td>I usually wear a medium however this was close...</td>\n",
              "      <td>5.0</td>\n",
              "    </tr>\n",
              "  </tbody>\n",
              "</table>\n",
              "</div>\n",
              "      <button class=\"colab-df-convert\" onclick=\"convertToInteractive('df-9c4856e9-f4e4-4209-87fd-f1ae58582c09')\"\n",
              "              title=\"Convert this dataframe to an interactive table.\"\n",
              "              style=\"display:none;\">\n",
              "        \n",
              "  <svg xmlns=\"http://www.w3.org/2000/svg\" height=\"24px\"viewBox=\"0 0 24 24\"\n",
              "       width=\"24px\">\n",
              "    <path d=\"M0 0h24v24H0V0z\" fill=\"none\"/>\n",
              "    <path d=\"M18.56 5.44l.94 2.06.94-2.06 2.06-.94-2.06-.94-.94-2.06-.94 2.06-2.06.94zm-11 1L8.5 8.5l.94-2.06 2.06-.94-2.06-.94L8.5 2.5l-.94 2.06-2.06.94zm10 10l.94 2.06.94-2.06 2.06-.94-2.06-.94-.94-2.06-.94 2.06-2.06.94z\"/><path d=\"M17.41 7.96l-1.37-1.37c-.4-.4-.92-.59-1.43-.59-.52 0-1.04.2-1.43.59L10.3 9.45l-7.72 7.72c-.78.78-.78 2.05 0 2.83L4 21.41c.39.39.9.59 1.41.59.51 0 1.02-.2 1.41-.59l7.78-7.78 2.81-2.81c.8-.78.8-2.07 0-2.86zM5.41 20L4 18.59l7.72-7.72 1.47 1.35L5.41 20z\"/>\n",
              "  </svg>\n",
              "      </button>\n",
              "      \n",
              "  <style>\n",
              "    .colab-df-container {\n",
              "      display:flex;\n",
              "      flex-wrap:wrap;\n",
              "      gap: 12px;\n",
              "    }\n",
              "\n",
              "    .colab-df-convert {\n",
              "      background-color: #E8F0FE;\n",
              "      border: none;\n",
              "      border-radius: 50%;\n",
              "      cursor: pointer;\n",
              "      display: none;\n",
              "      fill: #1967D2;\n",
              "      height: 32px;\n",
              "      padding: 0 0 0 0;\n",
              "      width: 32px;\n",
              "    }\n",
              "\n",
              "    .colab-df-convert:hover {\n",
              "      background-color: #E2EBFA;\n",
              "      box-shadow: 0px 1px 2px rgba(60, 64, 67, 0.3), 0px 1px 3px 1px rgba(60, 64, 67, 0.15);\n",
              "      fill: #174EA6;\n",
              "    }\n",
              "\n",
              "    [theme=dark] .colab-df-convert {\n",
              "      background-color: #3B4455;\n",
              "      fill: #D2E3FC;\n",
              "    }\n",
              "\n",
              "    [theme=dark] .colab-df-convert:hover {\n",
              "      background-color: #434B5C;\n",
              "      box-shadow: 0px 1px 3px 1px rgba(0, 0, 0, 0.15);\n",
              "      filter: drop-shadow(0px 1px 2px rgba(0, 0, 0, 0.3));\n",
              "      fill: #FFFFFF;\n",
              "    }\n",
              "  </style>\n",
              "\n",
              "      <script>\n",
              "        const buttonEl =\n",
              "          document.querySelector('#df-9c4856e9-f4e4-4209-87fd-f1ae58582c09 button.colab-df-convert');\n",
              "        buttonEl.style.display =\n",
              "          google.colab.kernel.accessAllowed ? 'block' : 'none';\n",
              "\n",
              "        async function convertToInteractive(key) {\n",
              "          const element = document.querySelector('#df-9c4856e9-f4e4-4209-87fd-f1ae58582c09');\n",
              "          const dataTable =\n",
              "            await google.colab.kernel.invokeFunction('convertToInteractive',\n",
              "                                                     [key], {});\n",
              "          if (!dataTable) return;\n",
              "\n",
              "          const docLinkHtml = 'Like what you see? Visit the ' +\n",
              "            '<a target=\"_blank\" href=https://colab.research.google.com/notebooks/data_table.ipynb>data table notebook</a>'\n",
              "            + ' to learn more about interactive tables.';\n",
              "          element.innerHTML = '';\n",
              "          dataTable['output_type'] = 'display_data';\n",
              "          await google.colab.output.renderOutput(dataTable, element);\n",
              "          const docLink = document.createElement('div');\n",
              "          docLink.innerHTML = docLinkHtml;\n",
              "          element.appendChild(docLink);\n",
              "        }\n",
              "      </script>\n",
              "    </div>\n",
              "  </div>\n",
              "  "
            ]
          },
          "metadata": {},
          "execution_count": 11
        }
      ],
      "source": [
        "df.head(3)"
      ]
    },
    {
      "cell_type": "code",
      "execution_count": 12,
      "metadata": {
        "colab": {
          "base_uri": "https://localhost:8080/"
        },
        "id": "qSCsFntuevV_",
        "outputId": "1425570c-8dac-4a11-da59-acb6ad2f90a3"
      },
      "outputs": [
        {
          "output_type": "execute_result",
          "data": {
            "text/plain": [
              "(114451, 5)"
            ]
          },
          "metadata": {},
          "execution_count": 12
        }
      ],
      "source": [
        "df.shape"
      ]
    },
    {
      "cell_type": "code",
      "execution_count": 13,
      "metadata": {
        "id": "t47_HhB0efhQ"
      },
      "outputs": [],
      "source": [
        "#remove 3 stars reviews\n",
        "indexAge = df[(df['star'] == 3)].index\n",
        "df.drop(indexAge, inplace=True)"
      ]
    },
    {
      "cell_type": "code",
      "execution_count": 14,
      "metadata": {
        "colab": {
          "base_uri": "https://localhost:8080/"
        },
        "id": "4oekop4ygQ4F",
        "outputId": "46c7cedc-a591-4e25-f664-ae245d80ba9f"
      },
      "outputs": [
        {
          "output_type": "execute_result",
          "data": {
            "text/plain": [
              "(107460, 5)"
            ]
          },
          "metadata": {},
          "execution_count": 14
        }
      ],
      "source": [
        "df.shape"
      ]
    },
    {
      "cell_type": "code",
      "execution_count": 15,
      "metadata": {
        "id": "pGRB_P1z_f7c"
      },
      "outputs": [],
      "source": [
        "df['sentiment'] = df['star'].apply(lambda x: 1 if x >= 3 else 0)"
      ]
    },
    {
      "cell_type": "code",
      "execution_count": 16,
      "metadata": {
        "colab": {
          "base_uri": "https://localhost:8080/",
          "height": 143
        },
        "id": "bPoAmWg5_iyy",
        "outputId": "da3c3ffd-895b-4c65-b777-e2ad46a121b8"
      },
      "outputs": [
        {
          "output_type": "execute_result",
          "data": {
            "text/plain": [
              "   Unnamed: 0               stars                               title  \\\n",
              "0           0  4.0 out of 5 stars  Short people and big booty Judy’s.   \n",
              "1           1  4.0 out of 5 stars                         Great Pants   \n",
              "2           2  5.0 out of 5 stars                           Kinda big   \n",
              "\n",
              "                                                body  star  sentiment  \n",
              "0  Honest review would be more like a 4.5. Issue ...   4.0          1  \n",
              "1  I LOVE these pants! I originally bought 2x bec...   4.0          1  \n",
              "2  I usually wear a medium however this was close...   5.0          1  "
            ],
            "text/html": [
              "\n",
              "  <div id=\"df-217bb05c-7fc5-42fa-a26a-abceca66c405\">\n",
              "    <div class=\"colab-df-container\">\n",
              "      <div>\n",
              "<style scoped>\n",
              "    .dataframe tbody tr th:only-of-type {\n",
              "        vertical-align: middle;\n",
              "    }\n",
              "\n",
              "    .dataframe tbody tr th {\n",
              "        vertical-align: top;\n",
              "    }\n",
              "\n",
              "    .dataframe thead th {\n",
              "        text-align: right;\n",
              "    }\n",
              "</style>\n",
              "<table border=\"1\" class=\"dataframe\">\n",
              "  <thead>\n",
              "    <tr style=\"text-align: right;\">\n",
              "      <th></th>\n",
              "      <th>Unnamed: 0</th>\n",
              "      <th>stars</th>\n",
              "      <th>title</th>\n",
              "      <th>body</th>\n",
              "      <th>star</th>\n",
              "      <th>sentiment</th>\n",
              "    </tr>\n",
              "  </thead>\n",
              "  <tbody>\n",
              "    <tr>\n",
              "      <th>0</th>\n",
              "      <td>0</td>\n",
              "      <td>4.0 out of 5 stars</td>\n",
              "      <td>Short people and big booty Judy’s.</td>\n",
              "      <td>Honest review would be more like a 4.5. Issue ...</td>\n",
              "      <td>4.0</td>\n",
              "      <td>1</td>\n",
              "    </tr>\n",
              "    <tr>\n",
              "      <th>1</th>\n",
              "      <td>1</td>\n",
              "      <td>4.0 out of 5 stars</td>\n",
              "      <td>Great Pants</td>\n",
              "      <td>I LOVE these pants! I originally bought 2x bec...</td>\n",
              "      <td>4.0</td>\n",
              "      <td>1</td>\n",
              "    </tr>\n",
              "    <tr>\n",
              "      <th>2</th>\n",
              "      <td>2</td>\n",
              "      <td>5.0 out of 5 stars</td>\n",
              "      <td>Kinda big</td>\n",
              "      <td>I usually wear a medium however this was close...</td>\n",
              "      <td>5.0</td>\n",
              "      <td>1</td>\n",
              "    </tr>\n",
              "  </tbody>\n",
              "</table>\n",
              "</div>\n",
              "      <button class=\"colab-df-convert\" onclick=\"convertToInteractive('df-217bb05c-7fc5-42fa-a26a-abceca66c405')\"\n",
              "              title=\"Convert this dataframe to an interactive table.\"\n",
              "              style=\"display:none;\">\n",
              "        \n",
              "  <svg xmlns=\"http://www.w3.org/2000/svg\" height=\"24px\"viewBox=\"0 0 24 24\"\n",
              "       width=\"24px\">\n",
              "    <path d=\"M0 0h24v24H0V0z\" fill=\"none\"/>\n",
              "    <path d=\"M18.56 5.44l.94 2.06.94-2.06 2.06-.94-2.06-.94-.94-2.06-.94 2.06-2.06.94zm-11 1L8.5 8.5l.94-2.06 2.06-.94-2.06-.94L8.5 2.5l-.94 2.06-2.06.94zm10 10l.94 2.06.94-2.06 2.06-.94-2.06-.94-.94-2.06-.94 2.06-2.06.94z\"/><path d=\"M17.41 7.96l-1.37-1.37c-.4-.4-.92-.59-1.43-.59-.52 0-1.04.2-1.43.59L10.3 9.45l-7.72 7.72c-.78.78-.78 2.05 0 2.83L4 21.41c.39.39.9.59 1.41.59.51 0 1.02-.2 1.41-.59l7.78-7.78 2.81-2.81c.8-.78.8-2.07 0-2.86zM5.41 20L4 18.59l7.72-7.72 1.47 1.35L5.41 20z\"/>\n",
              "  </svg>\n",
              "      </button>\n",
              "      \n",
              "  <style>\n",
              "    .colab-df-container {\n",
              "      display:flex;\n",
              "      flex-wrap:wrap;\n",
              "      gap: 12px;\n",
              "    }\n",
              "\n",
              "    .colab-df-convert {\n",
              "      background-color: #E8F0FE;\n",
              "      border: none;\n",
              "      border-radius: 50%;\n",
              "      cursor: pointer;\n",
              "      display: none;\n",
              "      fill: #1967D2;\n",
              "      height: 32px;\n",
              "      padding: 0 0 0 0;\n",
              "      width: 32px;\n",
              "    }\n",
              "\n",
              "    .colab-df-convert:hover {\n",
              "      background-color: #E2EBFA;\n",
              "      box-shadow: 0px 1px 2px rgba(60, 64, 67, 0.3), 0px 1px 3px 1px rgba(60, 64, 67, 0.15);\n",
              "      fill: #174EA6;\n",
              "    }\n",
              "\n",
              "    [theme=dark] .colab-df-convert {\n",
              "      background-color: #3B4455;\n",
              "      fill: #D2E3FC;\n",
              "    }\n",
              "\n",
              "    [theme=dark] .colab-df-convert:hover {\n",
              "      background-color: #434B5C;\n",
              "      box-shadow: 0px 1px 3px 1px rgba(0, 0, 0, 0.15);\n",
              "      filter: drop-shadow(0px 1px 2px rgba(0, 0, 0, 0.3));\n",
              "      fill: #FFFFFF;\n",
              "    }\n",
              "  </style>\n",
              "\n",
              "      <script>\n",
              "        const buttonEl =\n",
              "          document.querySelector('#df-217bb05c-7fc5-42fa-a26a-abceca66c405 button.colab-df-convert');\n",
              "        buttonEl.style.display =\n",
              "          google.colab.kernel.accessAllowed ? 'block' : 'none';\n",
              "\n",
              "        async function convertToInteractive(key) {\n",
              "          const element = document.querySelector('#df-217bb05c-7fc5-42fa-a26a-abceca66c405');\n",
              "          const dataTable =\n",
              "            await google.colab.kernel.invokeFunction('convertToInteractive',\n",
              "                                                     [key], {});\n",
              "          if (!dataTable) return;\n",
              "\n",
              "          const docLinkHtml = 'Like what you see? Visit the ' +\n",
              "            '<a target=\"_blank\" href=https://colab.research.google.com/notebooks/data_table.ipynb>data table notebook</a>'\n",
              "            + ' to learn more about interactive tables.';\n",
              "          element.innerHTML = '';\n",
              "          dataTable['output_type'] = 'display_data';\n",
              "          await google.colab.output.renderOutput(dataTable, element);\n",
              "          const docLink = document.createElement('div');\n",
              "          docLink.innerHTML = docLinkHtml;\n",
              "          element.appendChild(docLink);\n",
              "        }\n",
              "      </script>\n",
              "    </div>\n",
              "  </div>\n",
              "  "
            ]
          },
          "metadata": {},
          "execution_count": 16
        }
      ],
      "source": [
        "df.head(3)"
      ]
    },
    {
      "cell_type": "code",
      "execution_count": 17,
      "metadata": {
        "colab": {
          "base_uri": "https://localhost:8080/"
        },
        "id": "SdjSKZBl_nO2",
        "outputId": "76c4e00b-668f-4e7d-a081-a2cd2f7ca3ad"
      },
      "outputs": [
        {
          "output_type": "execute_result",
          "data": {
            "text/plain": [
              "array([1, 0])"
            ]
          },
          "metadata": {},
          "execution_count": 17
        }
      ],
      "source": [
        "df['sentiment'].unique()"
      ]
    },
    {
      "cell_type": "code",
      "execution_count": 18,
      "metadata": {
        "colab": {
          "base_uri": "https://localhost:8080/"
        },
        "id": "6DWBsKhj_tNA",
        "outputId": "5d680741-f7b6-49ee-c785-9b0137d7a586"
      },
      "outputs": [
        {
          "output_type": "execute_result",
          "data": {
            "text/plain": [
              "1    64680\n",
              "0    42780\n",
              "Name: sentiment, dtype: int64"
            ]
          },
          "metadata": {},
          "execution_count": 18
        }
      ],
      "source": [
        "df['sentiment'].value_counts()"
      ]
    },
    {
      "cell_type": "code",
      "execution_count": 19,
      "metadata": {
        "id": "5CjGJQPF77BD"
      },
      "outputs": [],
      "source": [
        "positive = df[(df['sentiment'] == 1)]\n",
        "negative = df[(df['sentiment'] == 0)]"
      ]
    },
    {
      "cell_type": "code",
      "execution_count": 20,
      "metadata": {
        "colab": {
          "base_uri": "https://localhost:8080/"
        },
        "id": "vydqK4f6_51b",
        "outputId": "1173836c-d37a-4f0c-d0da-387f9886fd6b"
      },
      "outputs": [
        {
          "output_type": "stream",
          "name": "stdout",
          "text": [
            "(64680, 6)\n",
            "(42780, 6)\n"
          ]
        }
      ],
      "source": [
        "print(positive.shape)\n",
        "print(negative.shape)"
      ]
    },
    {
      "cell_type": "code",
      "source": [
        "positive_sample = positive.sample(n=60_000, replace=True, random_state=50)\n",
        "negative_sample = negative.sample(n=40_000, replace=True, random_state=50)"
      ],
      "metadata": {
        "id": "eWR2Ur6YE9Cz"
      },
      "execution_count": 21,
      "outputs": []
    },
    {
      "cell_type": "code",
      "execution_count": 22,
      "metadata": {
        "id": "bHfxJEadBMOq"
      },
      "outputs": [],
      "source": [
        "data = pd.concat([positive_sample, negative_sample], axis=0)"
      ]
    },
    {
      "cell_type": "code",
      "execution_count": 23,
      "metadata": {
        "colab": {
          "base_uri": "https://localhost:8080/"
        },
        "id": "cdIKCHtlBx-p",
        "outputId": "10b7474b-bf64-44f1-92e1-6d1b10e46809"
      },
      "outputs": [
        {
          "output_type": "execute_result",
          "data": {
            "text/plain": [
              "(100000, 6)"
            ]
          },
          "metadata": {},
          "execution_count": 23
        }
      ],
      "source": [
        "data.shape"
      ]
    },
    {
      "cell_type": "code",
      "execution_count": 24,
      "metadata": {
        "colab": {
          "base_uri": "https://localhost:8080/",
          "height": 206
        },
        "id": "Z-9SarWlBzBj",
        "outputId": "9e9bb21f-88e7-4dcd-b29e-efe14df2c6f4"
      },
      "outputs": [
        {
          "output_type": "execute_result",
          "data": {
            "text/plain": [
              "        Unnamed: 0               stars                       title  \\\n",
              "106130        5100  2.0 out of 5 stars         Question Durability   \n",
              "45334        45334  1.0 out of 5 stars                       Jeans   \n",
              "84189        84189  1.0 out of 5 stars  The front is way too tight   \n",
              "108887        7857  1.0 out of 5 stars               Way too large   \n",
              "96315         2743  2.0 out of 5 stars          Defected stitching   \n",
              "\n",
              "                                                     body  star  sentiment  \n",
              "106130  Fits a little tight however after 1 wash on no...   2.0          0  \n",
              "45334   Didn't like the length because whenever you si...   1.0          0  \n",
              "84189   I have owned two pair of these in the past and...   1.0          0  \n",
              "108887  This is like a 40\" waist and baggy.Not gonna b...   1.0          0  \n",
              "96315   Stitching came apart in several areas of the h...   2.0          0  "
            ],
            "text/html": [
              "\n",
              "  <div id=\"df-4542d7a7-4b8b-462a-94b0-eb5bd0a3cb78\">\n",
              "    <div class=\"colab-df-container\">\n",
              "      <div>\n",
              "<style scoped>\n",
              "    .dataframe tbody tr th:only-of-type {\n",
              "        vertical-align: middle;\n",
              "    }\n",
              "\n",
              "    .dataframe tbody tr th {\n",
              "        vertical-align: top;\n",
              "    }\n",
              "\n",
              "    .dataframe thead th {\n",
              "        text-align: right;\n",
              "    }\n",
              "</style>\n",
              "<table border=\"1\" class=\"dataframe\">\n",
              "  <thead>\n",
              "    <tr style=\"text-align: right;\">\n",
              "      <th></th>\n",
              "      <th>Unnamed: 0</th>\n",
              "      <th>stars</th>\n",
              "      <th>title</th>\n",
              "      <th>body</th>\n",
              "      <th>star</th>\n",
              "      <th>sentiment</th>\n",
              "    </tr>\n",
              "  </thead>\n",
              "  <tbody>\n",
              "    <tr>\n",
              "      <th>106130</th>\n",
              "      <td>5100</td>\n",
              "      <td>2.0 out of 5 stars</td>\n",
              "      <td>Question Durability</td>\n",
              "      <td>Fits a little tight however after 1 wash on no...</td>\n",
              "      <td>2.0</td>\n",
              "      <td>0</td>\n",
              "    </tr>\n",
              "    <tr>\n",
              "      <th>45334</th>\n",
              "      <td>45334</td>\n",
              "      <td>1.0 out of 5 stars</td>\n",
              "      <td>Jeans</td>\n",
              "      <td>Didn't like the length because whenever you si...</td>\n",
              "      <td>1.0</td>\n",
              "      <td>0</td>\n",
              "    </tr>\n",
              "    <tr>\n",
              "      <th>84189</th>\n",
              "      <td>84189</td>\n",
              "      <td>1.0 out of 5 stars</td>\n",
              "      <td>The front is way too tight</td>\n",
              "      <td>I have owned two pair of these in the past and...</td>\n",
              "      <td>1.0</td>\n",
              "      <td>0</td>\n",
              "    </tr>\n",
              "    <tr>\n",
              "      <th>108887</th>\n",
              "      <td>7857</td>\n",
              "      <td>1.0 out of 5 stars</td>\n",
              "      <td>Way too large</td>\n",
              "      <td>This is like a 40\" waist and baggy.Not gonna b...</td>\n",
              "      <td>1.0</td>\n",
              "      <td>0</td>\n",
              "    </tr>\n",
              "    <tr>\n",
              "      <th>96315</th>\n",
              "      <td>2743</td>\n",
              "      <td>2.0 out of 5 stars</td>\n",
              "      <td>Defected stitching</td>\n",
              "      <td>Stitching came apart in several areas of the h...</td>\n",
              "      <td>2.0</td>\n",
              "      <td>0</td>\n",
              "    </tr>\n",
              "  </tbody>\n",
              "</table>\n",
              "</div>\n",
              "      <button class=\"colab-df-convert\" onclick=\"convertToInteractive('df-4542d7a7-4b8b-462a-94b0-eb5bd0a3cb78')\"\n",
              "              title=\"Convert this dataframe to an interactive table.\"\n",
              "              style=\"display:none;\">\n",
              "        \n",
              "  <svg xmlns=\"http://www.w3.org/2000/svg\" height=\"24px\"viewBox=\"0 0 24 24\"\n",
              "       width=\"24px\">\n",
              "    <path d=\"M0 0h24v24H0V0z\" fill=\"none\"/>\n",
              "    <path d=\"M18.56 5.44l.94 2.06.94-2.06 2.06-.94-2.06-.94-.94-2.06-.94 2.06-2.06.94zm-11 1L8.5 8.5l.94-2.06 2.06-.94-2.06-.94L8.5 2.5l-.94 2.06-2.06.94zm10 10l.94 2.06.94-2.06 2.06-.94-2.06-.94-.94-2.06-.94 2.06-2.06.94z\"/><path d=\"M17.41 7.96l-1.37-1.37c-.4-.4-.92-.59-1.43-.59-.52 0-1.04.2-1.43.59L10.3 9.45l-7.72 7.72c-.78.78-.78 2.05 0 2.83L4 21.41c.39.39.9.59 1.41.59.51 0 1.02-.2 1.41-.59l7.78-7.78 2.81-2.81c.8-.78.8-2.07 0-2.86zM5.41 20L4 18.59l7.72-7.72 1.47 1.35L5.41 20z\"/>\n",
              "  </svg>\n",
              "      </button>\n",
              "      \n",
              "  <style>\n",
              "    .colab-df-container {\n",
              "      display:flex;\n",
              "      flex-wrap:wrap;\n",
              "      gap: 12px;\n",
              "    }\n",
              "\n",
              "    .colab-df-convert {\n",
              "      background-color: #E8F0FE;\n",
              "      border: none;\n",
              "      border-radius: 50%;\n",
              "      cursor: pointer;\n",
              "      display: none;\n",
              "      fill: #1967D2;\n",
              "      height: 32px;\n",
              "      padding: 0 0 0 0;\n",
              "      width: 32px;\n",
              "    }\n",
              "\n",
              "    .colab-df-convert:hover {\n",
              "      background-color: #E2EBFA;\n",
              "      box-shadow: 0px 1px 2px rgba(60, 64, 67, 0.3), 0px 1px 3px 1px rgba(60, 64, 67, 0.15);\n",
              "      fill: #174EA6;\n",
              "    }\n",
              "\n",
              "    [theme=dark] .colab-df-convert {\n",
              "      background-color: #3B4455;\n",
              "      fill: #D2E3FC;\n",
              "    }\n",
              "\n",
              "    [theme=dark] .colab-df-convert:hover {\n",
              "      background-color: #434B5C;\n",
              "      box-shadow: 0px 1px 3px 1px rgba(0, 0, 0, 0.15);\n",
              "      filter: drop-shadow(0px 1px 2px rgba(0, 0, 0, 0.3));\n",
              "      fill: #FFFFFF;\n",
              "    }\n",
              "  </style>\n",
              "\n",
              "      <script>\n",
              "        const buttonEl =\n",
              "          document.querySelector('#df-4542d7a7-4b8b-462a-94b0-eb5bd0a3cb78 button.colab-df-convert');\n",
              "        buttonEl.style.display =\n",
              "          google.colab.kernel.accessAllowed ? 'block' : 'none';\n",
              "\n",
              "        async function convertToInteractive(key) {\n",
              "          const element = document.querySelector('#df-4542d7a7-4b8b-462a-94b0-eb5bd0a3cb78');\n",
              "          const dataTable =\n",
              "            await google.colab.kernel.invokeFunction('convertToInteractive',\n",
              "                                                     [key], {});\n",
              "          if (!dataTable) return;\n",
              "\n",
              "          const docLinkHtml = 'Like what you see? Visit the ' +\n",
              "            '<a target=\"_blank\" href=https://colab.research.google.com/notebooks/data_table.ipynb>data table notebook</a>'\n",
              "            + ' to learn more about interactive tables.';\n",
              "          element.innerHTML = '';\n",
              "          dataTable['output_type'] = 'display_data';\n",
              "          await google.colab.output.renderOutput(dataTable, element);\n",
              "          const docLink = document.createElement('div');\n",
              "          docLink.innerHTML = docLinkHtml;\n",
              "          element.appendChild(docLink);\n",
              "        }\n",
              "      </script>\n",
              "    </div>\n",
              "  </div>\n",
              "  "
            ]
          },
          "metadata": {},
          "execution_count": 24
        }
      ],
      "source": [
        "data.tail()"
      ]
    },
    {
      "cell_type": "markdown",
      "metadata": {
        "id": "wFsmBVSiCbmv"
      },
      "source": [
        "### **Preprocessing**"
      ]
    },
    {
      "cell_type": "code",
      "execution_count": 25,
      "metadata": {
        "id": "PqbCRK_MLCgn"
      },
      "outputs": [],
      "source": [
        "bodies = data['body'].values\n",
        "titles = data['title'].values\n",
        "y = data['sentiment'].values"
      ]
    },
    {
      "cell_type": "code",
      "source": [
        "print(bodies.shape)\n",
        "print(titles.shape)\n",
        "print(y.shape)"
      ],
      "metadata": {
        "colab": {
          "base_uri": "https://localhost:8080/"
        },
        "id": "cXyPIiQBXehi",
        "outputId": "4b6a507d-b3da-4d1e-f278-0dbe1711e425"
      },
      "execution_count": 26,
      "outputs": [
        {
          "output_type": "stream",
          "name": "stdout",
          "text": [
            "(100000,)\n",
            "(100000,)\n",
            "(100000,)\n"
          ]
        }
      ]
    },
    {
      "cell_type": "code",
      "execution_count": 27,
      "metadata": {
        "id": "uuxizf6eNN9e"
      },
      "outputs": [],
      "source": [
        "sentences = [(str(t)+' '+str(b)) for t,b in zip(titles,bodies)]"
      ]
    },
    {
      "cell_type": "code",
      "execution_count": 28,
      "metadata": {
        "colab": {
          "base_uri": "https://localhost:8080/",
          "height": 36
        },
        "id": "2kBKpgZrQaP-",
        "outputId": "5a667a98-e514-446e-b1c0-95787c3bbba2"
      },
      "outputs": [
        {
          "output_type": "execute_result",
          "data": {
            "text/plain": [
              "'Love this shirt I love this shirt. Size was perfect!'"
            ],
            "application/vnd.google.colaboratory.intrinsic+json": {
              "type": "string"
            }
          },
          "metadata": {},
          "execution_count": 28
        }
      ],
      "source": [
        "sentences[0]"
      ]
    },
    {
      "cell_type": "code",
      "execution_count": 29,
      "metadata": {
        "id": "_FHNyEf6UUu3"
      },
      "outputs": [],
      "source": [
        "sentences_without_punctuation = [s for s in sentences if s not in string.punctuation]"
      ]
    },
    {
      "cell_type": "code",
      "execution_count": 30,
      "metadata": {
        "colab": {
          "base_uri": "https://localhost:8080/",
          "height": 36
        },
        "id": "malnkuauVA3n",
        "outputId": "34a80dad-d1c4-4b28-a109-2ddf85eca1f5"
      },
      "outputs": [
        {
          "output_type": "execute_result",
          "data": {
            "text/plain": [
              "'Love this shirt I love this shirt. Size was perfect!'"
            ],
            "application/vnd.google.colaboratory.intrinsic+json": {
              "type": "string"
            }
          },
          "metadata": {},
          "execution_count": 30
        }
      ],
      "source": [
        "sentences_without_punctuation[0]"
      ]
    },
    {
      "cell_type": "code",
      "execution_count": 31,
      "metadata": {
        "id": "52_V9aPRUUVf"
      },
      "outputs": [],
      "source": [
        "tokenizer = RegexpTokenizer(r'\\w+')\n",
        "sentences_tokenize = [tokenizer.tokenize(s.lower()) for s in sentences_without_punctuation]"
      ]
    },
    {
      "cell_type": "code",
      "execution_count": 32,
      "metadata": {
        "colab": {
          "base_uri": "https://localhost:8080/"
        },
        "id": "G8wlk440UqAM",
        "outputId": "b8d91b7b-8b74-438c-f12c-c0dc7f64612d"
      },
      "outputs": [
        {
          "output_type": "execute_result",
          "data": {
            "text/plain": [
              "['love',\n",
              " 'this',\n",
              " 'shirt',\n",
              " 'i',\n",
              " 'love',\n",
              " 'this',\n",
              " 'shirt',\n",
              " 'size',\n",
              " 'was',\n",
              " 'perfect']"
            ]
          },
          "metadata": {},
          "execution_count": 32
        }
      ],
      "source": [
        "sentences_tokenize[0]"
      ]
    },
    {
      "cell_type": "code",
      "execution_count": 33,
      "metadata": {
        "id": "Er1afbtdUsuO"
      },
      "outputs": [],
      "source": [
        "stop_words = stopwords.words(\"english\")\n",
        "stop_words.extend([':)', '.', ',', '!', '?', '#', '0', '1', '2', '3', '4', '5', '6', '7', '8', '9', '10', '18', 'also', 'ls', 'xl', '2xl', 'u', 'w', 'c', 'ua', '3rd', '20', '30', '40', '50', '60', '70', '80', '90', '100', 'è', 'et', 'zu', 'le', '2nd', 'ago'])"
      ]
    },
    {
      "cell_type": "code",
      "execution_count": 34,
      "metadata": {
        "colab": {
          "base_uri": "https://localhost:8080/"
        },
        "id": "IQNsRnJ-U7jk",
        "outputId": "764fe08c-d209-4384-c128-0925b4f5c089"
      },
      "outputs": [
        {
          "output_type": "execute_result",
          "data": {
            "text/plain": [
              "221"
            ]
          },
          "metadata": {},
          "execution_count": 34
        }
      ],
      "source": [
        "len(stop_words)"
      ]
    },
    {
      "cell_type": "code",
      "execution_count": 35,
      "metadata": {
        "id": "yz47SNQWVClt"
      },
      "outputs": [],
      "source": [
        "sentences_tokenize_filtered = [[w for w in sentence if w not in stop_words] for sentence in sentences_tokenize]"
      ]
    },
    {
      "cell_type": "code",
      "execution_count": 36,
      "metadata": {
        "colab": {
          "base_uri": "https://localhost:8080/"
        },
        "id": "KwiOQsAUVzGN",
        "outputId": "19e75857-d479-42a8-cc40-42ceb1b23741"
      },
      "outputs": [
        {
          "output_type": "execute_result",
          "data": {
            "text/plain": [
              "['love', 'shirt', 'love', 'shirt', 'size', 'perfect']"
            ]
          },
          "metadata": {},
          "execution_count": 36
        }
      ],
      "source": [
        "sentences_tokenize_filtered[0]"
      ]
    },
    {
      "cell_type": "code",
      "execution_count": 37,
      "metadata": {
        "id": "24E2GZ3dZDrB"
      },
      "outputs": [],
      "source": [
        "porter_stemmer = PorterStemmer()\n",
        "sentences_tokenize_filtered_stem = [[porter_stemmer.stem(w) for w in sentence] for sentence in sentences_tokenize_filtered]"
      ]
    },
    {
      "cell_type": "code",
      "execution_count": 38,
      "metadata": {
        "id": "X_tdJ9tJKFP4"
      },
      "outputs": [],
      "source": [
        "lem = WordNetLemmatizer()\n",
        "sentences_tokenize_filtered_lem = [[lem.lemmatize(w) for w in sentence] for sentence in sentences_tokenize_filtered_stem]"
      ]
    },
    {
      "cell_type": "code",
      "execution_count": 39,
      "metadata": {
        "colab": {
          "base_uri": "https://localhost:8080/"
        },
        "id": "DCDmh75GKU7o",
        "outputId": "79fbc9b4-dc7e-4278-dc48-1dc9bdfc3c36"
      },
      "outputs": [
        {
          "output_type": "execute_result",
          "data": {
            "text/plain": [
              "['love', 'shirt', 'love', 'shirt', 'size', 'perfect']"
            ]
          },
          "metadata": {},
          "execution_count": 39
        }
      ],
      "source": [
        "sentences_tokenize_filtered_lem[0]"
      ]
    },
    {
      "cell_type": "code",
      "execution_count": 40,
      "metadata": {
        "id": "ZkqMMjDCYMS1"
      },
      "outputs": [],
      "source": [
        "corpus = []\n",
        "for sentence in sentences_tokenize_filtered_lem:\n",
        "  s = ''\n",
        "  s = ' '.join(sentence)\n",
        "  corpus.append(s) "
      ]
    },
    {
      "cell_type": "code",
      "execution_count": 41,
      "metadata": {
        "colab": {
          "base_uri": "https://localhost:8080/",
          "height": 36
        },
        "id": "BbAqkG0zYQUF",
        "outputId": "8c42a9e9-31f6-40b8-f0cf-06d146deaacf"
      },
      "outputs": [
        {
          "output_type": "execute_result",
          "data": {
            "text/plain": [
              "'love shirt love shirt size perfect'"
            ],
            "application/vnd.google.colaboratory.intrinsic+json": {
              "type": "string"
            }
          },
          "metadata": {},
          "execution_count": 41
        }
      ],
      "source": [
        "corpus[0]"
      ]
    },
    {
      "cell_type": "markdown",
      "metadata": {
        "id": "W3qULtwxYmZ9"
      },
      "source": [
        "**keras Tokenizer**"
      ]
    },
    {
      "cell_type": "code",
      "execution_count": 42,
      "metadata": {
        "id": "HvGRTkEjYqO2"
      },
      "outputs": [],
      "source": [
        "tokenizer = Tokenizer()\n",
        "tokenizer.fit_on_texts(corpus)"
      ]
    },
    {
      "cell_type": "code",
      "execution_count": 43,
      "metadata": {
        "id": "PVhwwJIiawqI"
      },
      "outputs": [],
      "source": [
        "with open('tokenizer.h5', 'wb') as f:\n",
        "    pickle.dump(tokenizer, f)"
      ]
    },
    {
      "cell_type": "code",
      "execution_count": 44,
      "metadata": {
        "id": "fug8ECqGa4Fw"
      },
      "outputs": [],
      "source": [
        "vocab_size = len(tokenizer.word_index) + 1"
      ]
    },
    {
      "cell_type": "code",
      "execution_count": 45,
      "metadata": {
        "colab": {
          "base_uri": "https://localhost:8080/"
        },
        "id": "XqZShbbYgZRy",
        "outputId": "89b6da11-cf5d-472c-c82f-9742479e6f77"
      },
      "outputs": [
        {
          "output_type": "execute_result",
          "data": {
            "text/plain": [
              "23833"
            ]
          },
          "metadata": {},
          "execution_count": 45
        }
      ],
      "source": [
        "vocab_size"
      ]
    },
    {
      "cell_type": "code",
      "execution_count": 46,
      "metadata": {
        "id": "MLvxjA6jbGGh"
      },
      "outputs": [],
      "source": [
        "def max_length(tensor):\n",
        "    return max(len(t) for t in tensor)"
      ]
    },
    {
      "cell_type": "code",
      "execution_count": 47,
      "metadata": {
        "id": "Vpv4Ype_a_Ab"
      },
      "outputs": [],
      "source": [
        "data_to_sequences = tokenizer.texts_to_sequences(corpus)"
      ]
    },
    {
      "cell_type": "code",
      "execution_count": 48,
      "metadata": {
        "colab": {
          "base_uri": "https://localhost:8080/"
        },
        "id": "yOiIWdAabOfm",
        "outputId": "63ecfcc9-b63a-4570-8025-4140fb822ef1"
      },
      "outputs": [
        {
          "output_type": "execute_result",
          "data": {
            "text/plain": [
              "517"
            ]
          },
          "metadata": {},
          "execution_count": 48
        }
      ],
      "source": [
        "maxlen = max_length(data_to_sequences)\n",
        "maxlen"
      ]
    },
    {
      "cell_type": "code",
      "execution_count": 49,
      "metadata": {
        "colab": {
          "base_uri": "https://localhost:8080/"
        },
        "id": "sfYzyz7WbG4h",
        "outputId": "3d84645e-9288-4463-d4cb-c7a21b2ea73b"
      },
      "outputs": [
        {
          "output_type": "execute_result",
          "data": {
            "text/plain": [
              "[6, 14, 6, 14, 2, 13]"
            ]
          },
          "metadata": {},
          "execution_count": 49
        }
      ],
      "source": [
        "data_to_sequences[0]"
      ]
    },
    {
      "cell_type": "code",
      "execution_count": 50,
      "metadata": {
        "id": "kgzq4b__bIa3"
      },
      "outputs": [],
      "source": [
        "pad_data_to_sequences = pad_sequences(data_to_sequences, padding='post', maxlen=100)"
      ]
    },
    {
      "cell_type": "code",
      "execution_count": 51,
      "metadata": {
        "colab": {
          "base_uri": "https://localhost:8080/"
        },
        "id": "D6nmuYrmbf4o",
        "outputId": "9e3eab95-ba4d-4124-9740-8c168d4dd157"
      },
      "outputs": [
        {
          "output_type": "execute_result",
          "data": {
            "text/plain": [
              "array([ 6, 14,  6, 14,  2, 13,  0,  0,  0,  0,  0,  0,  0,  0,  0,  0,  0,\n",
              "        0,  0,  0,  0,  0,  0,  0,  0,  0,  0,  0,  0,  0,  0,  0,  0,  0,\n",
              "        0,  0,  0,  0,  0,  0,  0,  0,  0,  0,  0,  0,  0,  0,  0,  0,  0,\n",
              "        0,  0,  0,  0,  0,  0,  0,  0,  0,  0,  0,  0,  0,  0,  0,  0,  0,\n",
              "        0,  0,  0,  0,  0,  0,  0,  0,  0,  0,  0,  0,  0,  0,  0,  0,  0,\n",
              "        0,  0,  0,  0,  0,  0,  0,  0,  0,  0,  0,  0,  0,  0,  0],\n",
              "      dtype=int32)"
            ]
          },
          "metadata": {},
          "execution_count": 51
        }
      ],
      "source": [
        "pad_data_to_sequences[0]"
      ]
    },
    {
      "cell_type": "code",
      "execution_count": 52,
      "metadata": {
        "colab": {
          "base_uri": "https://localhost:8080/"
        },
        "id": "ImwI8ZGieaee",
        "outputId": "c8dc2f63-5877-45e0-fb0b-474634d47dce"
      },
      "outputs": [
        {
          "output_type": "stream",
          "name": "stdout",
          "text": [
            "(100000, 100)\n",
            "(100000,)\n"
          ]
        }
      ],
      "source": [
        "print(pad_data_to_sequences.shape)\n",
        "print(y.shape)"
      ]
    },
    {
      "cell_type": "code",
      "execution_count": 53,
      "metadata": {
        "id": "GOEBRZI-cpEP"
      },
      "outputs": [],
      "source": [
        "X_train, X_test, y_train, y_test = train_test_split(pad_data_to_sequences, y, test_size=0.3, shuffle=True, random_state=50)"
      ]
    },
    {
      "cell_type": "code",
      "execution_count": 54,
      "metadata": {
        "colab": {
          "base_uri": "https://localhost:8080/"
        },
        "id": "XxtgOxCreiww",
        "outputId": "3ba8f543-1074-45de-960e-08f7bd990337"
      },
      "outputs": [
        {
          "output_type": "stream",
          "name": "stdout",
          "text": [
            "(70000, 100)\n",
            "(30000, 100)\n",
            "(70000,)\n",
            "(30000,)\n"
          ]
        }
      ],
      "source": [
        "print(X_train.shape)\n",
        "print(X_test.shape)\n",
        "print(y_train.shape)\n",
        "print(y_test.shape)"
      ]
    },
    {
      "cell_type": "markdown",
      "metadata": {
        "id": "sBrLjflfeukG"
      },
      "source": [
        "## **Neural Networks**"
      ]
    },
    {
      "cell_type": "markdown",
      "source": [
        "### **Support Vector Machine -> (SVM)**"
      ],
      "metadata": {
        "id": "gOkORHNR2h4S"
      }
    },
    {
      "cell_type": "code",
      "source": [
        "from sklearn.feature_extraction.text import TfidfVectorizer\n",
        "from sklearn import svm"
      ],
      "metadata": {
        "id": "nP2BfTKA2pSb"
      },
      "execution_count": 43,
      "outputs": []
    },
    {
      "cell_type": "code",
      "source": [
        "# Create feature vectors\n",
        "vectorizer = TfidfVectorizer(min_df = 5,\n",
        "                             max_df = 0.8,\n",
        "                             sublinear_tf = True,\n",
        "                             use_idf = True)"
      ],
      "metadata": {
        "id": "gyrUmZj22tiS"
      },
      "execution_count": 44,
      "outputs": []
    },
    {
      "cell_type": "code",
      "source": [
        "XTrain, XTest, ytrain, ytest = train_test_split(corpus, y, test_size=0.3, shuffle=True, random_state=50)"
      ],
      "metadata": {
        "id": "QbJS8qKf5sHD"
      },
      "execution_count": 55,
      "outputs": []
    },
    {
      "cell_type": "code",
      "source": [
        "train_vectors = vectorizer.fit_transform(XTrain)\n",
        "test_vectors = vectorizer.transform(XTest)"
      ],
      "metadata": {
        "id": "1GoS3yAe3slE"
      },
      "execution_count": 56,
      "outputs": []
    },
    {
      "cell_type": "code",
      "source": [
        "train_vectors[0]"
      ],
      "metadata": {
        "colab": {
          "base_uri": "https://localhost:8080/"
        },
        "id": "daAzjjsq6EAJ",
        "outputId": "d6c2a2a8-94c3-4b19-b9c7-2a2d4d30d06c"
      },
      "execution_count": 57,
      "outputs": [
        {
          "output_type": "execute_result",
          "data": {
            "text/plain": [
              "<1x6790 sparse matrix of type '<class 'numpy.float64'>'\n",
              "\twith 38 stored elements in Compressed Sparse Row format>"
            ]
          },
          "metadata": {},
          "execution_count": 57
        }
      ]
    },
    {
      "cell_type": "code",
      "source": [
        "classifier_linear = svm.SVC(kernel='linear')"
      ],
      "metadata": {
        "id": "rRLmze4x41Jq"
      },
      "execution_count": 58,
      "outputs": []
    },
    {
      "cell_type": "code",
      "source": [
        "classifier_linear.fit(train_vectors, ytrain)"
      ],
      "metadata": {
        "colab": {
          "base_uri": "https://localhost:8080/"
        },
        "id": "HFD2_ozI45kb",
        "outputId": "ea57aebe-8263-40a2-baf3-937674c24dfd"
      },
      "execution_count": 59,
      "outputs": [
        {
          "output_type": "execute_result",
          "data": {
            "text/plain": [
              "SVC(kernel='linear')"
            ]
          },
          "metadata": {},
          "execution_count": 59
        }
      ]
    },
    {
      "cell_type": "code",
      "source": [
        "prediction_linear = classifier_linear.predict(test_vectors)"
      ],
      "metadata": {
        "id": "VLlsHN3l8OLd"
      },
      "execution_count": 60,
      "outputs": []
    },
    {
      "cell_type": "code",
      "source": [
        "print(prediction_linear)"
      ],
      "metadata": {
        "colab": {
          "base_uri": "https://localhost:8080/"
        },
        "id": "f-unHjed8Vnj",
        "outputId": "25a56c7d-55be-4ecd-8e0e-0f1519ecb4ac"
      },
      "execution_count": 61,
      "outputs": [
        {
          "output_type": "stream",
          "name": "stdout",
          "text": [
            "[1 1 0 ... 1 1 1]\n"
          ]
        }
      ]
    },
    {
      "cell_type": "code",
      "source": [
        "report = classification_report(ytest, prediction_linear, output_dict=True)"
      ],
      "metadata": {
        "id": "9iSwqBF58dD1"
      },
      "execution_count": 62,
      "outputs": []
    },
    {
      "cell_type": "code",
      "source": [
        "report"
      ],
      "metadata": {
        "colab": {
          "base_uri": "https://localhost:8080/"
        },
        "id": "RzuYxrM18jWz",
        "outputId": "1268e9e0-a619-44bb-d3d5-6c70b310c5c7"
      },
      "execution_count": 64,
      "outputs": [
        {
          "output_type": "execute_result",
          "data": {
            "text/plain": [
              "{'0': {'precision': 0.9022042057258678,\n",
              "  'recall': 0.8887687188019967,\n",
              "  'f1-score': 0.8954360672226647,\n",
              "  'support': 12020},\n",
              " '1': {'precision': 0.9263725976100006,\n",
              "  'recall': 0.93559510567297,\n",
              "  'f1-score': 0.9309610116494647,\n",
              "  'support': 17980},\n",
              " 'accuracy': 0.9168333333333333,\n",
              " 'macro avg': {'precision': 0.9142884016679342,\n",
              "  'recall': 0.9121819122374833,\n",
              "  'f1-score': 0.9131985394360647,\n",
              "  'support': 30000},\n",
              " 'weighted avg': {'precision': 0.9166891285950913,\n",
              "  'recall': 0.9168333333333333,\n",
              "  'f1-score': 0.9167273505824601,\n",
              "  'support': 30000}}"
            ]
          },
          "metadata": {},
          "execution_count": 64
        }
      ]
    },
    {
      "cell_type": "markdown",
      "metadata": {
        "id": "_htWm7hqrnfH"
      },
      "source": [
        "### **CNN Model**"
      ]
    },
    {
      "cell_type": "code",
      "execution_count": null,
      "metadata": {
        "id": "2xWH8MaKikVS"
      },
      "outputs": [],
      "source": [
        "embedding_dim = 50\n",
        "\n",
        "model = Sequential()\n",
        "model.add(layers.Embedding(vocab_size, embedding_dim, input_length=100))\n",
        "model.add(layers.BatchNormalization())\n",
        "model.add(layers.Dropout(0.3))\n",
        "model.add(layers.Conv1D(64, 4, activation='relu'))\n",
        "model.add(layers.MaxPooling1D(2))\n",
        "model.add(layers.Dropout(0.3))\n",
        "model.add(layers.Conv1D(32, 2, activation='relu'))\n",
        "model.add(layers.MaxPooling1D(2))\n",
        "model.add(layers.Dropout(0.4))\n",
        "model.add(layers.Conv1D(64, 2, activation='relu'))\n",
        "model.add(layers.MaxPooling1D(2))\n",
        "model.add(layers.Dropout(0.2))\n",
        "model.add(layers.GlobalMaxPooling1D())\n",
        "model.add(layers.Dense(64, activation='relu'))\n",
        "model.add(layers.Dropout(0.5))\n",
        "model.add(layers.Dense(1, activation='sigmoid'))"
      ]
    },
    {
      "cell_type": "code",
      "execution_count": null,
      "metadata": {
        "id": "peNoQzzAsafu"
      },
      "outputs": [],
      "source": [
        "model.compile(optimizer='adam', loss='binary_crossentropy', metrics=['accuracy'])"
      ]
    },
    {
      "cell_type": "code",
      "execution_count": null,
      "metadata": {
        "colab": {
          "base_uri": "https://localhost:8080/"
        },
        "id": "lK6jAniesb_f",
        "outputId": "7aab2f4d-1706-4acb-85b3-6e50fb3d2b3f"
      },
      "outputs": [
        {
          "output_type": "stream",
          "name": "stdout",
          "text": [
            "Model: \"sequential_13\"\n",
            "_________________________________________________________________\n",
            " Layer (type)                Output Shape              Param #   \n",
            "=================================================================\n",
            " embedding_27 (Embedding)    (None, 100, 50)           1191650   \n",
            "                                                                 \n",
            " batch_normalization_15 (Bat  (None, 100, 50)          200       \n",
            " chNormalization)                                                \n",
            "                                                                 \n",
            " dropout_104 (Dropout)       (None, 100, 50)           0         \n",
            "                                                                 \n",
            " conv1d_69 (Conv1D)          (None, 97, 64)            12864     \n",
            "                                                                 \n",
            " max_pooling1d_57 (MaxPoolin  (None, 48, 64)           0         \n",
            " g1D)                                                            \n",
            "                                                                 \n",
            " dropout_105 (Dropout)       (None, 48, 64)            0         \n",
            "                                                                 \n",
            " conv1d_70 (Conv1D)          (None, 47, 32)            4128      \n",
            "                                                                 \n",
            " max_pooling1d_58 (MaxPoolin  (None, 23, 32)           0         \n",
            " g1D)                                                            \n",
            "                                                                 \n",
            " dropout_106 (Dropout)       (None, 23, 32)            0         \n",
            "                                                                 \n",
            " conv1d_71 (Conv1D)          (None, 22, 64)            4160      \n",
            "                                                                 \n",
            " max_pooling1d_59 (MaxPoolin  (None, 11, 64)           0         \n",
            " g1D)                                                            \n",
            "                                                                 \n",
            " dropout_107 (Dropout)       (None, 11, 64)            0         \n",
            "                                                                 \n",
            " global_max_pooling1d_24 (Gl  (None, 64)               0         \n",
            " obalMaxPooling1D)                                               \n",
            "                                                                 \n",
            " dense_52 (Dense)            (None, 64)                4160      \n",
            "                                                                 \n",
            " dropout_108 (Dropout)       (None, 64)                0         \n",
            "                                                                 \n",
            " dense_53 (Dense)            (None, 1)                 65        \n",
            "                                                                 \n",
            "=================================================================\n",
            "Total params: 1,217,227\n",
            "Trainable params: 1,217,127\n",
            "Non-trainable params: 100\n",
            "_________________________________________________________________\n"
          ]
        }
      ],
      "source": [
        "model.summary()"
      ]
    },
    {
      "cell_type": "code",
      "execution_count": null,
      "metadata": {
        "colab": {
          "base_uri": "https://localhost:8080/"
        },
        "id": "P8lQOv8Msf8V",
        "outputId": "6383552b-6297-43e8-d29a-aa0ea2894adb"
      },
      "outputs": [
        {
          "output_type": "stream",
          "name": "stdout",
          "text": [
            "Epoch 1/8\n",
            "137/137 [==============================] - 4s 18ms/step - loss: 0.5950 - accuracy: 0.6821 - val_loss: 0.6464 - val_accuracy: 0.6060\n",
            "Epoch 2/8\n",
            "137/137 [==============================] - 2s 17ms/step - loss: 0.2979 - accuracy: 0.8870 - val_loss: 0.5766 - val_accuracy: 0.7957\n",
            "Epoch 3/8\n",
            "137/137 [==============================] - 3s 24ms/step - loss: 0.2461 - accuracy: 0.9090 - val_loss: 0.4756 - val_accuracy: 0.8937\n",
            "Epoch 4/8\n",
            "137/137 [==============================] - 4s 27ms/step - loss: 0.2203 - accuracy: 0.9193 - val_loss: 0.3547 - val_accuracy: 0.9120\n",
            "Epoch 5/8\n",
            "137/137 [==============================] - 4s 30ms/step - loss: 0.2017 - accuracy: 0.9268 - val_loss: 0.2675 - val_accuracy: 0.9189\n",
            "Epoch 6/8\n",
            "137/137 [==============================] - 4s 26ms/step - loss: 0.1844 - accuracy: 0.9335 - val_loss: 0.2357 - val_accuracy: 0.9225\n",
            "Epoch 7/8\n",
            "137/137 [==============================] - 4s 29ms/step - loss: 0.1734 - accuracy: 0.9368 - val_loss: 0.2260 - val_accuracy: 0.9231\n",
            "Epoch 8/8\n",
            "137/137 [==============================] - 4s 27ms/step - loss: 0.1644 - accuracy: 0.9416 - val_loss: 0.2137 - val_accuracy: 0.9245\n"
          ]
        }
      ],
      "source": [
        "history = model.fit(X_train, y_train, validation_data=(X_test, y_test), epochs=8, batch_size=512)"
      ]
    },
    {
      "cell_type": "code",
      "execution_count": null,
      "metadata": {
        "colab": {
          "base_uri": "https://localhost:8080/"
        },
        "id": "mq-H4VzyNRZn",
        "outputId": "798708d1-5412-43e0-aa21-e8486af9b1f4"
      },
      "outputs": [
        {
          "output_type": "stream",
          "name": "stdout",
          "text": [
            "938/938 [==============================] - 6s 6ms/step - loss: 0.2137 - accuracy: 0.9245\n",
            "Accuracy: 92.45%\n"
          ]
        }
      ],
      "source": [
        "scores = model.evaluate(X_test, y_test, verbose=1)\n",
        "print(\"Accuracy: %.2f%%\" % (scores[1]*100))"
      ]
    },
    {
      "cell_type": "code",
      "execution_count": null,
      "metadata": {
        "colab": {
          "base_uri": "https://localhost:8080/"
        },
        "id": "d4hZV_IXMErK",
        "outputId": "a7452828-e8b1-432d-ff17-ce121d783579"
      },
      "outputs": [
        {
          "output_type": "stream",
          "name": "stdout",
          "text": [
            "938/938 [==============================] - 3s 3ms/step\n"
          ]
        }
      ],
      "source": [
        "y_true = y_test\n",
        "y_pred = model.predict(X_test)\n",
        "y_pred = [(1 if y >= 0.5 else 0) for y in y_pred]\n",
        "y_pred = np.array(y_pred)"
      ]
    },
    {
      "cell_type": "code",
      "execution_count": null,
      "metadata": {
        "colab": {
          "base_uri": "https://localhost:8080/"
        },
        "id": "XYKpjtI0MKBh",
        "outputId": "79c6bfcf-63dc-4c48-c0bd-d7e8806e3029"
      },
      "outputs": [
        {
          "output_type": "stream",
          "name": "stdout",
          "text": [
            "                  precision    recall  f1-score   support\n",
            "\n",
            "Negative Reviews       0.93      0.88      0.90     12020\n",
            "Positive Reviews       0.92      0.96      0.94     17980\n",
            "\n",
            "        accuracy                           0.92     30000\n",
            "       macro avg       0.93      0.92      0.92     30000\n",
            "    weighted avg       0.92      0.92      0.92     30000\n",
            "\n"
          ]
        }
      ],
      "source": [
        "print(classification_report(y_true, y_pred, target_names=['Negative Reviews','Positive Reviews']))"
      ]
    },
    {
      "cell_type": "code",
      "source": [
        "from sklearn.metrics import precision_recall_fscore_support\n",
        "\n",
        "print(precision_recall_fscore_support(y_true, y_pred, average='macro'))\n",
        "\n",
        "print(precision_recall_fscore_support(y_true, y_pred, average='micro'))\n",
        "\n",
        "print(precision_recall_fscore_support(y_true, y_pred, average='weighted'))"
      ],
      "metadata": {
        "id": "lOC07f1LnOP6",
        "colab": {
          "base_uri": "https://localhost:8080/"
        },
        "outputId": "5d74d55b-3a62-4e4e-8ede-753b65f3f3cb"
      },
      "execution_count": null,
      "outputs": [
        {
          "output_type": "stream",
          "name": "stdout",
          "text": [
            "(0.9257826501981167, 0.9164817998922818, 0.9205412058859223, None)\n",
            "(0.9244666666666667, 0.9244666666666667, 0.9244666666666667, None)\n",
            "(0.9247193012491685, 0.9244666666666667, 0.9240498660918666, None)\n"
          ]
        }
      ]
    },
    {
      "cell_type": "markdown",
      "metadata": {
        "id": "0cY9-F83lqnt"
      },
      "source": [
        "### **LSTM Model**"
      ]
    },
    {
      "cell_type": "code",
      "source": [
        "embedding_dim = 50\n",
        "\n",
        "model = Sequential()\n",
        "model.add(layers.Embedding(vocab_size, embedding_dim, input_length=100))\n",
        "model.add(layers.BatchNormalization())\n",
        "model.add(layers.Dropout(0.3))\n",
        "model.add(layers.Bidirectional(layers.LSTM(256, return_sequences=True)))\n",
        "model.add(layers.GlobalMaxPooling1D())\n",
        "model.add(layers.Dropout(0.3))\n",
        "model.add(layers.Dense(200, activation='relu'))\n",
        "model.add(layers.Dropout(0.5))\n",
        "model.add(layers.Dense(1, activation='sigmoid'))"
      ],
      "metadata": {
        "id": "lVA5QVMGwmvY"
      },
      "execution_count": null,
      "outputs": []
    },
    {
      "cell_type": "code",
      "execution_count": null,
      "metadata": {
        "id": "0E9gGnvIqEou"
      },
      "outputs": [],
      "source": [
        "model.compile(optimizer='adam', loss='binary_crossentropy', metrics=['accuracy'])"
      ]
    },
    {
      "cell_type": "code",
      "execution_count": null,
      "metadata": {
        "colab": {
          "base_uri": "https://localhost:8080/"
        },
        "id": "FcvdI5qMqGJ-",
        "outputId": "b0c43ccd-20dd-4b1f-b15a-5ac6f9318d6c"
      },
      "outputs": [
        {
          "output_type": "stream",
          "name": "stdout",
          "text": [
            "Model: \"sequential_15\"\n",
            "_________________________________________________________________\n",
            " Layer (type)                Output Shape              Param #   \n",
            "=================================================================\n",
            " embedding_32 (Embedding)    (None, 100, 50)           1191650   \n",
            "                                                                 \n",
            " batch_normalization_20 (Bat  (None, 100, 50)          200       \n",
            " chNormalization)                                                \n",
            "                                                                 \n",
            " dropout_127 (Dropout)       (None, 100, 50)           0         \n",
            "                                                                 \n",
            " bidirectional_25 (Bidirecti  (None, 100, 512)         628736    \n",
            " onal)                                                           \n",
            "                                                                 \n",
            " global_max_pooling1d_29 (Gl  (None, 512)              0         \n",
            " obalMaxPooling1D)                                               \n",
            "                                                                 \n",
            " dropout_128 (Dropout)       (None, 512)               0         \n",
            "                                                                 \n",
            " dense_62 (Dense)            (None, 200)               102600    \n",
            "                                                                 \n",
            " dropout_129 (Dropout)       (None, 200)               0         \n",
            "                                                                 \n",
            " dense_63 (Dense)            (None, 1)                 201       \n",
            "                                                                 \n",
            "=================================================================\n",
            "Total params: 1,923,387\n",
            "Trainable params: 1,923,287\n",
            "Non-trainable params: 100\n",
            "_________________________________________________________________\n"
          ]
        }
      ],
      "source": [
        "model.summary()"
      ]
    },
    {
      "cell_type": "code",
      "execution_count": null,
      "metadata": {
        "id": "PLXCO6A0qMNb",
        "colab": {
          "base_uri": "https://localhost:8080/"
        },
        "outputId": "56bbd4a1-edb2-4699-bd9c-7ba8563dad61"
      },
      "outputs": [
        {
          "output_type": "stream",
          "name": "stdout",
          "text": [
            "Epoch 1/5\n",
            "137/137 [==============================] - 20s 120ms/step - loss: 0.3110 - accuracy: 0.8677 - val_loss: 0.5787 - val_accuracy: 0.6345\n",
            "Epoch 2/5\n",
            "137/137 [==============================] - 15s 113ms/step - loss: 0.2009 - accuracy: 0.9237 - val_loss: 0.4610 - val_accuracy: 0.8272\n",
            "Epoch 3/5\n",
            "137/137 [==============================] - 15s 109ms/step - loss: 0.1737 - accuracy: 0.9350 - val_loss: 0.2820 - val_accuracy: 0.9042\n",
            "Epoch 4/5\n",
            "137/137 [==============================] - 15s 108ms/step - loss: 0.1530 - accuracy: 0.9432 - val_loss: 0.2150 - val_accuracy: 0.9173\n",
            "Epoch 5/5\n",
            "137/137 [==============================] - 15s 108ms/step - loss: 0.1392 - accuracy: 0.9480 - val_loss: 0.1943 - val_accuracy: 0.9286\n"
          ]
        }
      ],
      "source": [
        "history = model.fit(X_train, y_train, validation_data=(X_test, y_test), epochs=5, batch_size=512)"
      ]
    },
    {
      "cell_type": "code",
      "execution_count": null,
      "metadata": {
        "id": "_c57pbMrrdBc",
        "colab": {
          "base_uri": "https://localhost:8080/"
        },
        "outputId": "7ae7fcd9-978a-4adf-e3be-14543619fac8"
      },
      "outputs": [
        {
          "output_type": "stream",
          "name": "stdout",
          "text": [
            "938/938 [==============================] - 7s 7ms/step - loss: 0.1943 - accuracy: 0.9286\n",
            "Accuracy: 92.86%\n"
          ]
        }
      ],
      "source": [
        "scores = model.evaluate(X_test, y_test, verbose=1)\n",
        "print(\"Accuracy: %.2f%%\" % (scores[1]*100))"
      ]
    },
    {
      "cell_type": "code",
      "execution_count": null,
      "metadata": {
        "id": "5qY8Xl1coLKM",
        "colab": {
          "base_uri": "https://localhost:8080/"
        },
        "outputId": "bf7dabbc-94d3-4352-e192-dc86c5727efd"
      },
      "outputs": [
        {
          "output_type": "stream",
          "name": "stdout",
          "text": [
            "938/938 [==============================] - 7s 6ms/step\n"
          ]
        }
      ],
      "source": [
        "y_true = y_test\n",
        "y_pred = model.predict(X_test)\n",
        "y_pred = [(1 if y >= 0.5 else 0) for y in y_pred]\n",
        "y_pred = np.array(y_pred)"
      ]
    },
    {
      "cell_type": "code",
      "execution_count": null,
      "metadata": {
        "colab": {
          "base_uri": "https://localhost:8080/"
        },
        "id": "xyEBp6lboQG1",
        "outputId": "41b186d8-9e37-491a-f065-ec7c4c2d3902"
      },
      "outputs": [
        {
          "output_type": "stream",
          "name": "stdout",
          "text": [
            "                  precision    recall  f1-score   support\n",
            "\n",
            "Negative Reviews       0.94      0.88      0.91     12020\n",
            "Positive Reviews       0.92      0.96      0.94     17980\n",
            "\n",
            "        accuracy                           0.93     30000\n",
            "       macro avg       0.93      0.92      0.92     30000\n",
            "    weighted avg       0.93      0.93      0.93     30000\n",
            "\n"
          ]
        }
      ],
      "source": [
        "print(classification_report(y_true, y_pred, target_names=['Negative Reviews','Positive Reviews']))"
      ]
    },
    {
      "cell_type": "code",
      "source": [
        "from sklearn.metrics import precision_recall_fscore_support\n",
        "\n",
        "print(precision_recall_fscore_support(y_true, y_pred, average='macro'))\n",
        "\n",
        "print(precision_recall_fscore_support(y_true, y_pred, average='micro'))\n",
        "\n",
        "print(precision_recall_fscore_support(y_true, y_pred, average='weighted'))"
      ],
      "metadata": {
        "colab": {
          "base_uri": "https://localhost:8080/"
        },
        "id": "4XMt3m9f9tAz",
        "outputId": "d150d064-0011-442a-8c2a-3e163ccce07c"
      },
      "execution_count": null,
      "outputs": [
        {
          "output_type": "stream",
          "name": "stdout",
          "text": [
            "(0.931051954543803, 0.9200541737075212, 0.9247640467737495, None)\n",
            "(0.9286, 0.9286, 0.9286, None)\n",
            "(0.9291260651024396, 0.9286, 0.9281390513837956, None)\n"
          ]
        }
      ]
    },
    {
      "cell_type": "markdown",
      "metadata": {
        "id": "bRIuKT9ZfHk-"
      },
      "source": [
        "### **CNN-LSTM Model**"
      ]
    },
    {
      "cell_type": "code",
      "execution_count": null,
      "metadata": {
        "id": "6QHuDn1KemiN"
      },
      "outputs": [],
      "source": [
        "embedding_dim = 50\n",
        "\n",
        "i = Input(shape=(100,))\n",
        "x = Embedding(vocab_size, embedding_dim, input_length=100)(i)\n",
        "x = BatchNormalization()(x)\n",
        "x = Dropout(0.3)(x)\n",
        "x = Conv1D(64, 4, padding='same', activation='relu')(x)\n",
        "x = Dropout(0.3)(x)\n",
        "x = MaxPooling1D(2)(x)\n",
        "x = Conv1D(32, 3, padding='same', activation='relu')(x)\n",
        "x = Dropout(0.3)(x)\n",
        "x = MaxPooling1D(2)(x)\n",
        "x = Conv1D(32, 2, padding='same', activation='relu')(x)\n",
        "x = Dropout(0.3)(x)\n",
        "x = MaxPooling1D(3)(x)\n",
        "x = Bidirectional(LSTM(128, return_sequences=True))(x)\n",
        "x = GlobalMaxPooling1D()(x)\n",
        "x = Dense(64, activation='relu')(x)\n",
        "x = Dropout(0.5)(x)\n",
        "x = Dense(1, activation='sigmoid')(x)"
      ]
    },
    {
      "cell_type": "code",
      "execution_count": null,
      "metadata": {
        "id": "C0a4lepHhMI-"
      },
      "outputs": [],
      "source": [
        "model = Model(i, x)"
      ]
    },
    {
      "cell_type": "code",
      "execution_count": null,
      "metadata": {
        "id": "xqh10K0ohi58"
      },
      "outputs": [],
      "source": [
        "model.compile(optimizer='adam', loss='binary_crossentropy', metrics=['accuracy'])"
      ]
    },
    {
      "cell_type": "code",
      "execution_count": null,
      "metadata": {
        "colab": {
          "base_uri": "https://localhost:8080/"
        },
        "id": "YCFV1qWXhmaT",
        "outputId": "881de916-8520-4b99-ae9a-e9b0726a21db"
      },
      "outputs": [
        {
          "output_type": "stream",
          "name": "stdout",
          "text": [
            "Model: \"model_16\"\n",
            "_________________________________________________________________\n",
            " Layer (type)                Output Shape              Param #   \n",
            "=================================================================\n",
            " input_17 (InputLayer)       [(None, 100)]             0         \n",
            "                                                                 \n",
            " embedding_31 (Embedding)    (None, 100, 50)           1191650   \n",
            "                                                                 \n",
            " batch_normalization_19 (Bat  (None, 100, 50)          200       \n",
            " chNormalization)                                                \n",
            "                                                                 \n",
            " dropout_122 (Dropout)       (None, 100, 50)           0         \n",
            "                                                                 \n",
            " conv1d_78 (Conv1D)          (None, 100, 64)           12864     \n",
            "                                                                 \n",
            " dropout_123 (Dropout)       (None, 100, 64)           0         \n",
            "                                                                 \n",
            " max_pooling1d_66 (MaxPoolin  (None, 50, 64)           0         \n",
            " g1D)                                                            \n",
            "                                                                 \n",
            " conv1d_79 (Conv1D)          (None, 50, 32)            6176      \n",
            "                                                                 \n",
            " dropout_124 (Dropout)       (None, 50, 32)            0         \n",
            "                                                                 \n",
            " max_pooling1d_67 (MaxPoolin  (None, 25, 32)           0         \n",
            " g1D)                                                            \n",
            "                                                                 \n",
            " conv1d_80 (Conv1D)          (None, 25, 32)            2080      \n",
            "                                                                 \n",
            " dropout_125 (Dropout)       (None, 25, 32)            0         \n",
            "                                                                 \n",
            " max_pooling1d_68 (MaxPoolin  (None, 8, 32)            0         \n",
            " g1D)                                                            \n",
            "                                                                 \n",
            " bidirectional_24 (Bidirecti  (None, 8, 256)           164864    \n",
            " onal)                                                           \n",
            "                                                                 \n",
            " global_max_pooling1d_28 (Gl  (None, 256)              0         \n",
            " obalMaxPooling1D)                                               \n",
            "                                                                 \n",
            " dense_60 (Dense)            (None, 64)                16448     \n",
            "                                                                 \n",
            " dropout_126 (Dropout)       (None, 64)                0         \n",
            "                                                                 \n",
            " dense_61 (Dense)            (None, 1)                 65        \n",
            "                                                                 \n",
            "=================================================================\n",
            "Total params: 1,394,347\n",
            "Trainable params: 1,394,247\n",
            "Non-trainable params: 100\n",
            "_________________________________________________________________\n"
          ]
        }
      ],
      "source": [
        "model.summary()"
      ]
    },
    {
      "cell_type": "code",
      "execution_count": null,
      "metadata": {
        "colab": {
          "base_uri": "https://localhost:8080/"
        },
        "id": "XWNwfosHhpLj",
        "outputId": "5ec31031-05ce-43e9-ea03-d5526676c03d"
      },
      "outputs": [
        {
          "output_type": "stream",
          "name": "stdout",
          "text": [
            "Epoch 1/11\n",
            "137/137 [==============================] - 10s 26ms/step - loss: 0.3945 - accuracy: 0.8190 - val_loss: 0.6103 - val_accuracy: 0.8729\n",
            "Epoch 2/11\n",
            "137/137 [==============================] - 3s 20ms/step - loss: 0.2291 - accuracy: 0.9162 - val_loss: 0.5168 - val_accuracy: 0.9002\n",
            "Epoch 3/11\n",
            "137/137 [==============================] - 3s 20ms/step - loss: 0.2023 - accuracy: 0.9271 - val_loss: 0.4105 - val_accuracy: 0.9083\n",
            "Epoch 4/11\n",
            "137/137 [==============================] - 3s 20ms/step - loss: 0.1834 - accuracy: 0.9345 - val_loss: 0.2399 - val_accuracy: 0.9234\n",
            "Epoch 5/11\n",
            "137/137 [==============================] - 3s 20ms/step - loss: 0.1654 - accuracy: 0.9412 - val_loss: 0.2099 - val_accuracy: 0.9259\n",
            "Epoch 6/11\n",
            "137/137 [==============================] - 3s 20ms/step - loss: 0.1577 - accuracy: 0.9439 - val_loss: 0.1974 - val_accuracy: 0.9268\n",
            "Epoch 7/11\n",
            "137/137 [==============================] - 3s 20ms/step - loss: 0.1449 - accuracy: 0.9487 - val_loss: 0.1936 - val_accuracy: 0.9281\n",
            "Epoch 8/11\n",
            "137/137 [==============================] - 3s 20ms/step - loss: 0.1365 - accuracy: 0.9512 - val_loss: 0.1917 - val_accuracy: 0.9296\n",
            "Epoch 9/11\n",
            "137/137 [==============================] - 3s 20ms/step - loss: 0.1294 - accuracy: 0.9546 - val_loss: 0.1947 - val_accuracy: 0.9294\n",
            "Epoch 10/11\n",
            "137/137 [==============================] - 3s 20ms/step - loss: 0.1251 - accuracy: 0.9557 - val_loss: 0.1908 - val_accuracy: 0.9302\n",
            "Epoch 11/11\n",
            "137/137 [==============================] - 3s 20ms/step - loss: 0.1189 - accuracy: 0.9579 - val_loss: 0.1916 - val_accuracy: 0.9319\n"
          ]
        }
      ],
      "source": [
        "history = model.fit(X_train, y_train, validation_data=(X_test, y_test), epochs=11, batch_size=512)"
      ]
    },
    {
      "cell_type": "code",
      "execution_count": null,
      "metadata": {
        "colab": {
          "base_uri": "https://localhost:8080/"
        },
        "id": "ww-joccChuVB",
        "outputId": "4c66eda5-5f1c-4e2d-e090-88e165673701"
      },
      "outputs": [
        {
          "output_type": "stream",
          "name": "stdout",
          "text": [
            "938/938 [==============================] - 4s 4ms/step - loss: 0.1916 - accuracy: 0.9319\n",
            "Accuracy: 93.19%\n"
          ]
        }
      ],
      "source": [
        "scores = model.evaluate(X_test, y_test, verbose=1)\n",
        "print(\"Accuracy: %.2f%%\" % (scores[1]*100))"
      ]
    },
    {
      "cell_type": "code",
      "execution_count": null,
      "metadata": {
        "colab": {
          "base_uri": "https://localhost:8080/",
          "height": 1000
        },
        "id": "gbvet5GPjUVu",
        "outputId": "c4d967e1-d6ea-4f83-cf89-8a1f765be6d3"
      },
      "outputs": [
        {
          "output_type": "execute_result",
          "data": {
            "image/png": "[encoded data removed]",
            "text/plain": [
              "<IPython.core.display.Image object>"
            ]
          },
          "metadata": {},
          "execution_count": 368
        }
      ],
      "source": [
        "plot_model(model, show_shapes=True)"
      ]
    },
    {
      "cell_type": "code",
      "execution_count": null,
      "metadata": {
        "id": "4qQvKPPmjZ2v"
      },
      "outputs": [],
      "source": [
        "def plot_graphs(history, string):\n",
        "    plt.plot(history.history[string])\n",
        "    plt.plot(history.history['val_'+string])\n",
        "    plt.xlabel(\"Epochs\")\n",
        "    plt.ylabel(string)\n",
        "    plt.legend([string, 'val_'+string])\n",
        "    plt.show()"
      ]
    },
    {
      "cell_type": "code",
      "execution_count": null,
      "metadata": {
        "colab": {
          "base_uri": "https://localhost:8080/",
          "height": 541
        },
        "id": "aCJPqXJzjzcy",
        "outputId": "cdce03ae-bcac-4cf3-a0bd-a8d28ad2bb04"
      },
      "outputs": [
        {
          "output_type": "display_data",
          "data": {
            "text/plain": [
              "<Figure size 432x288 with 1 Axes>"
            ],
            "image/png": "[encoded data removed]"
          },
          "metadata": {
            "needs_background": "light"
          }
        },
        {
          "output_type": "display_data",
          "data": {
            "text/plain": [
              "<Figure size 432x288 with 1 Axes>"
            ],
            "image/png": "[encoded data removed]"
          },
          "metadata": {
            "needs_background": "light"
          }
        }
      ],
      "source": [
        "plot_graphs(history, 'accuracy')\n",
        "plot_graphs(history, 'loss')"
      ]
    },
    {
      "cell_type": "code",
      "execution_count": null,
      "metadata": {
        "colab": {
          "base_uri": "https://localhost:8080/"
        },
        "id": "5gZ2J7UfSNI7",
        "outputId": "428ed0c3-ddf9-4f8a-9347-612f4851c3a0"
      },
      "outputs": [
        {
          "output_type": "stream",
          "name": "stdout",
          "text": [
            "938/938 [==============================] - 4s 3ms/step\n"
          ]
        }
      ],
      "source": [
        "y_true = y_test\n",
        "y_pred = model.predict(X_test)\n",
        "y_pred = [(1 if y >= 0.5 else 0) for y in y_pred]\n",
        "y_pred = np.array(y_pred)"
      ]
    },
    {
      "cell_type": "code",
      "execution_count": null,
      "metadata": {
        "colab": {
          "base_uri": "https://localhost:8080/"
        },
        "id": "T7g-SALhS0iJ",
        "outputId": "bacf45ce-4ff8-404f-8d19-33d15dd9d971"
      },
      "outputs": [
        {
          "output_type": "execute_result",
          "data": {
            "text/plain": [
              "array([1, 1, 0, ..., 1, 1, 1])"
            ]
          },
          "metadata": {},
          "execution_count": 372
        }
      ],
      "source": [
        "y_true"
      ]
    },
    {
      "cell_type": "code",
      "execution_count": null,
      "metadata": {
        "colab": {
          "base_uri": "https://localhost:8080/"
        },
        "id": "P-2SH8jYS2kZ",
        "outputId": "5fda0d80-ad60-4d6d-ecea-5be476ebfd72"
      },
      "outputs": [
        {
          "output_type": "execute_result",
          "data": {
            "text/plain": [
              "array([1, 1, 0, ..., 1, 1, 1])"
            ]
          },
          "metadata": {},
          "execution_count": 373
        }
      ],
      "source": [
        "y_pred"
      ]
    },
    {
      "cell_type": "code",
      "execution_count": null,
      "metadata": {
        "colab": {
          "base_uri": "https://localhost:8080/"
        },
        "id": "Sv5KoUgpR2F3",
        "outputId": "85964dfd-9e56-4058-98b0-7e1fb172ad50"
      },
      "outputs": [
        {
          "output_type": "stream",
          "name": "stdout",
          "text": [
            "                  precision    recall  f1-score   support\n",
            "\n",
            "Negative Reviews       0.93      0.90      0.91     12020\n",
            "Positive Reviews       0.93      0.96      0.94     17980\n",
            "\n",
            "        accuracy                           0.93     30000\n",
            "       macro avg       0.93      0.93      0.93     30000\n",
            "    weighted avg       0.93      0.93      0.93     30000\n",
            "\n"
          ]
        }
      ],
      "source": [
        "print(classification_report(y_true, y_pred, target_names=['Negative Reviews','Positive Reviews']))"
      ]
    },
    {
      "cell_type": "code",
      "source": [
        "from sklearn.metrics import precision_recall_fscore_support\n",
        "\n",
        "print(precision_recall_fscore_support(y_true, y_pred, average='macro'))\n",
        "\n",
        "print(precision_recall_fscore_support(y_true, y_pred, average='micro'))\n",
        "\n",
        "print(precision_recall_fscore_support(y_true, y_pred, average='weighted'))"
      ],
      "metadata": {
        "colab": {
          "base_uri": "https://localhost:8080/"
        },
        "id": "ggK9aD_FDdNz",
        "outputId": "33b032b3-eb1a-4c10-ff5d-8bfd527f891e"
      },
      "execution_count": null,
      "outputs": [
        {
          "output_type": "stream",
          "name": "stdout",
          "text": [
            "(0.9318377652815377, 0.9258542954919405, 0.9285902711972407, None)\n",
            "(0.9318666666666666, 0.9318666666666666, 0.9318666666666666, None)\n",
            "(0.931862758353994, 0.9318666666666666, 0.9316290693606049, None)\n"
          ]
        }
      ]
    },
    {
      "cell_type": "code",
      "execution_count": null,
      "metadata": {
        "id": "IO0k7zEhVO5C"
      },
      "outputs": [],
      "source": [
        "cm = confusion_matrix(y_test, y_pred)"
      ]
    },
    {
      "cell_type": "code",
      "execution_count": null,
      "metadata": {
        "colab": {
          "base_uri": "https://localhost:8080/"
        },
        "id": "QNG54wgYVQyD",
        "outputId": "62dd317e-5674-40bb-8b89-e75f3f994a4b"
      },
      "outputs": [
        {
          "output_type": "execute_result",
          "data": {
            "text/plain": [
              "array([[10765,  1255],\n",
              "       [  789, 17191]])"
            ]
          },
          "metadata": {},
          "execution_count": 377
        }
      ],
      "source": [
        "cm"
      ]
    },
    {
      "cell_type": "code",
      "execution_count": null,
      "metadata": {
        "colab": {
          "base_uri": "https://localhost:8080/",
          "height": 322
        },
        "id": "3niZ7Ph2XOPZ",
        "outputId": "4172efda-e250-4441-9fc1-ddd5dddf3764"
      },
      "outputs": [
        {
          "output_type": "display_data",
          "data": {
            "text/plain": [
              "<Figure size 432x288 with 2 Axes>"
            ],
            "image/png": "[encoded data removed]"
          },
          "metadata": {
            "needs_background": "light"
          }
        }
      ],
      "source": [
        "ax = sns.heatmap(cm, annot=True, cmap='Blues', fmt='0.1f')\n",
        "\n",
        "ax.set_title('Confusion Matrix\\n');\n",
        "ax.set_xlabel('\\nPredicted Values')\n",
        "ax.set_ylabel('Actual Values ');\n",
        "\n",
        "ax.xaxis.set_ticklabels(['False','True'])\n",
        "ax.yaxis.set_ticklabels(['False','True'])\n",
        "\n",
        "plt.show()"
      ]
    },
    {
      "cell_type": "code",
      "execution_count": null,
      "metadata": {
        "colab": {
          "base_uri": "https://localhost:8080/",
          "height": 322
        },
        "id": "fuF5CiqgaFQp",
        "outputId": "08fc4310-7b1c-44cf-ee22-98c817b173b7"
      },
      "outputs": [
        {
          "output_type": "display_data",
          "data": {
            "text/plain": [
              "<Figure size 432x288 with 2 Axes>"
            ],
            "image/png": "[encoded data removed]"
          },
          "metadata": {
            "needs_background": "light"
          }
        }
      ],
      "source": [
        "group_names = ['True Neg','False Pos','False Neg','True Pos']\n",
        "\n",
        "group_counts = [\"{0:0.0f}\".format(value) for value in cm.flatten()]\n",
        "\n",
        "group_percentages = [\"{0:.2%}\".format(value) for value in cm.flatten()/np.sum(cm)]\n",
        "\n",
        "labels = [f\"{v1}\\n{v2}\\n{v3}\" for v1, v2, v3 in zip(group_names,group_counts,group_percentages)]\n",
        "\n",
        "labels = np.asarray(labels).reshape(2,2)\n",
        "\n",
        "ax = sns.heatmap(cm, annot=labels, fmt='', cmap='Blues')\n",
        "\n",
        "ax.set_title('Confusion Matrix\\n');\n",
        "ax.set_xlabel('\\nPredicted Values')\n",
        "ax.set_ylabel('Actual Values ');\n",
        "\n",
        "ax.xaxis.set_ticklabels(['False','True'])\n",
        "ax.yaxis.set_ticklabels(['False','True'])\n",
        "\n",
        "plt.show()"
      ]
    },
    {
      "cell_type": "code",
      "execution_count": null,
      "metadata": {
        "id": "ELSCheaCj1nz"
      },
      "outputs": [],
      "source": [
        "def prediction(sentence):\n",
        "  data = tokenizer.texts_to_sequences([sentence])\n",
        "  data_pad_sequence = pad_sequences(data, maxlen=50)\n",
        "  perdiction = model.predict(data_pad_sequence)\n",
        "  print(perdiction[0])\n",
        "  if perdiction[0][0] > 0.5:\n",
        "    return \"positive\"\n",
        "  else: \n",
        "    return \"negative\" "
      ]
    },
    {
      "cell_type": "code",
      "source": [],
      "metadata": {
        "id": "vnzx6P4zKwLx"
      },
      "execution_count": null,
      "outputs": []
    }
  ],
  "metadata": {
    "colab": {
      "provenance": [],
      "toc_visible": true
    },
    "gpuClass": "standard",
    "kernelspec": {
      "display_name": "Python 3",
      "name": "python3"
    },
    "language_info": {
      "name": "python"
    },
    "accelerator": "GPU"
  },
  "nbformat": 4,
  "nbformat_minor": 0
}