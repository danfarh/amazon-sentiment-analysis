{
  "nbformat": 4,
  "nbformat_minor": 0,
  "metadata": {
    "colab": {
      "provenance": [],
      "collapsed_sections": [
        "_htWm7hqrnfH",
        "0cY9-F83lqnt",
        "bRIuKT9ZfHk-"
      ],
      "toc_visible": true
    },
    "kernelspec": {
      "name": "python3",
      "display_name": "Python 3"
    },
    "language_info": {
      "name": "python"
    }
  },
  "cells": [
    {
      "cell_type": "markdown",
      "source": [
        "**import libraries**"
      ],
      "metadata": {
        "id": "rBDyNex2_1-D"
      }
    },
    {
      "cell_type": "code",
      "source": [
        "import pandas as pd\n",
        "from matplotlib import pyplot\n",
        "from tensorflow.keras.utils import plot_model\n",
        "import re\n",
        "import pickle\n",
        "from sklearn.model_selection import train_test_split\n",
        "from tensorflow.keras.preprocessing.text import Tokenizer\n",
        "from tensorflow.keras.preprocessing.sequence import pad_sequences\n",
        "from tensorflow.keras.models import Model\n",
        "from keras.layers import Dense, Input, Embedding, LSTM, Conv1D, Dropout, MaxPooling1D, BatchNormalization, Bidirectional, GlobalMaxPooling1D, Flatten"
      ],
      "metadata": {
        "id": "q-Pz1w1-_GcG"
      },
      "execution_count": 241,
      "outputs": []
    },
    {
      "cell_type": "code",
      "source": [
        "!pip install nltk"
      ],
      "metadata": {
        "colab": {
          "base_uri": "https://localhost:8080/"
        },
        "id": "q9_AL12mTNYF",
        "outputId": "9fa46e09-5a83-4b73-a359-93fd76d1923e"
      },
      "execution_count": 71,
      "outputs": [
        {
          "output_type": "stream",
          "name": "stdout",
          "text": [
            "Looking in indexes: https://pypi.org/simple, https://us-python.pkg.dev/colab-wheels/public/simple/\n",
            "Requirement already satisfied: nltk in /usr/local/lib/python3.8/dist-packages (3.7)\n",
            "Requirement already satisfied: click in /usr/local/lib/python3.8/dist-packages (from nltk) (7.1.2)\n",
            "Requirement already satisfied: tqdm in /usr/local/lib/python3.8/dist-packages (from nltk) (4.64.1)\n",
            "Requirement already satisfied: regex>=2021.8.3 in /usr/local/lib/python3.8/dist-packages (from nltk) (2022.6.2)\n",
            "Requirement already satisfied: joblib in /usr/local/lib/python3.8/dist-packages (from nltk) (1.2.0)\n"
          ]
        }
      ]
    },
    {
      "cell_type": "code",
      "source": [
        "import nltk\n",
        "nltk.download('punkt')\n",
        "nltk.download('stopwords')"
      ],
      "metadata": {
        "colab": {
          "base_uri": "https://localhost:8080/"
        },
        "id": "InkBU3TaUjS-",
        "outputId": "ba1f9069-b329-45e5-c7df-86673ee72038"
      },
      "execution_count": 80,
      "outputs": [
        {
          "output_type": "stream",
          "name": "stderr",
          "text": [
            "[nltk_data] Downloading package punkt to /root/nltk_data...\n",
            "[nltk_data]   Package punkt is already up-to-date!\n",
            "[nltk_data] Downloading package stopwords to /root/nltk_data...\n",
            "[nltk_data]   Unzipping corpora/stopwords.zip.\n"
          ]
        },
        {
          "output_type": "execute_result",
          "data": {
            "text/plain": [
              "True"
            ]
          },
          "metadata": {},
          "execution_count": 80
        }
      ]
    },
    {
      "cell_type": "code",
      "source": [
        "from nltk.tokenize import word_tokenize, RegexpTokenizer\n",
        "from nltk.corpus import stopwords"
      ],
      "metadata": {
        "id": "hqj-IL4eTR60"
      },
      "execution_count": 93,
      "outputs": []
    },
    {
      "cell_type": "markdown",
      "source": [
        "### **Read Dataset**"
      ],
      "metadata": {
        "id": "a73F87b4-pI6"
      }
    },
    {
      "cell_type": "code",
      "execution_count": 2,
      "metadata": {
        "colab": {
          "base_uri": "https://localhost:8080/"
        },
        "id": "Z_LfwWSb-aID",
        "outputId": "81ead91f-44d3-4c1c-f7e7-ebe50241a071"
      },
      "outputs": [
        {
          "output_type": "stream",
          "name": "stdout",
          "text": [
            "/usr/local/lib/python3.8/dist-packages/gdown/cli.py:127: FutureWarning: Option `--id` was deprecated in version 4.3.1 and will be removed in 5.0. You don't need to pass it anymore to use a file ID.\n",
            "  warnings.warn(\n",
            "Downloading...\n",
            "From: https://drive.google.com/uc?id=1XulBQYyiPRXMpwfm-RIvaDLCLDKIU6UD\n",
            "To: /content/review_10_product_women.csv\n",
            "100% 9.48M/9.48M [00:00<00:00, 24.5MB/s]\n"
          ]
        }
      ],
      "source": [
        "!gdown --id 1XulBQYyiPRXMpwfm-RIvaDLCLDKIU6UD"
      ]
    },
    {
      "cell_type": "code",
      "source": [
        "df = pd.read_csv('/content/review_10_product_women.csv')"
      ],
      "metadata": {
        "id": "zVXZ6BdG_AOj"
      },
      "execution_count": 17,
      "outputs": []
    },
    {
      "cell_type": "code",
      "source": [
        "df.head()"
      ],
      "metadata": {
        "colab": {
          "base_uri": "https://localhost:8080/",
          "height": 206
        },
        "id": "8et1XWxA_Kpx",
        "outputId": "3d56dbea-c4bd-42ae-aee8-01dcd51c6482"
      },
      "execution_count": 18,
      "outputs": [
        {
          "output_type": "execute_result",
          "data": {
            "text/plain": [
              "                stars                               title  \\\n",
              "0  4.0 out of 5 stars  Short people and big booty Judy’s.   \n",
              "1  4.0 out of 5 stars                         Great Pants   \n",
              "2  5.0 out of 5 stars                           Kinda big   \n",
              "3  5.0 out of 5 stars             OMG I love these pants.   \n",
              "4  4.0 out of 5 stars                     Nice, but large   \n",
              "\n",
              "                                                body  \n",
              "0  Honest review would be more like a 4.5. Issue ...  \n",
              "1  I LOVE these pants! I originally bought 2x bec...  \n",
              "2  I usually wear a medium however this was close...  \n",
              "3  They feel so good and smooth. Great if you are...  \n",
              "4  These are comfortable, but as others have ment...  "
            ],
            "text/html": [
              "\n",
              "  <div id=\"df-9d66b969-52e3-4298-b078-40691dafa3e4\">\n",
              "    <div class=\"colab-df-container\">\n",
              "      <div>\n",
              "<style scoped>\n",
              "    .dataframe tbody tr th:only-of-type {\n",
              "        vertical-align: middle;\n",
              "    }\n",
              "\n",
              "    .dataframe tbody tr th {\n",
              "        vertical-align: top;\n",
              "    }\n",
              "\n",
              "    .dataframe thead th {\n",
              "        text-align: right;\n",
              "    }\n",
              "</style>\n",
              "<table border=\"1\" class=\"dataframe\">\n",
              "  <thead>\n",
              "    <tr style=\"text-align: right;\">\n",
              "      <th></th>\n",
              "      <th>stars</th>\n",
              "      <th>title</th>\n",
              "      <th>body</th>\n",
              "    </tr>\n",
              "  </thead>\n",
              "  <tbody>\n",
              "    <tr>\n",
              "      <th>0</th>\n",
              "      <td>4.0 out of 5 stars</td>\n",
              "      <td>Short people and big booty Judy’s.</td>\n",
              "      <td>Honest review would be more like a 4.5. Issue ...</td>\n",
              "    </tr>\n",
              "    <tr>\n",
              "      <th>1</th>\n",
              "      <td>4.0 out of 5 stars</td>\n",
              "      <td>Great Pants</td>\n",
              "      <td>I LOVE these pants! I originally bought 2x bec...</td>\n",
              "    </tr>\n",
              "    <tr>\n",
              "      <th>2</th>\n",
              "      <td>5.0 out of 5 stars</td>\n",
              "      <td>Kinda big</td>\n",
              "      <td>I usually wear a medium however this was close...</td>\n",
              "    </tr>\n",
              "    <tr>\n",
              "      <th>3</th>\n",
              "      <td>5.0 out of 5 stars</td>\n",
              "      <td>OMG I love these pants.</td>\n",
              "      <td>They feel so good and smooth. Great if you are...</td>\n",
              "    </tr>\n",
              "    <tr>\n",
              "      <th>4</th>\n",
              "      <td>4.0 out of 5 stars</td>\n",
              "      <td>Nice, but large</td>\n",
              "      <td>These are comfortable, but as others have ment...</td>\n",
              "    </tr>\n",
              "  </tbody>\n",
              "</table>\n",
              "</div>\n",
              "      <button class=\"colab-df-convert\" onclick=\"convertToInteractive('df-9d66b969-52e3-4298-b078-40691dafa3e4')\"\n",
              "              title=\"Convert this dataframe to an interactive table.\"\n",
              "              style=\"display:none;\">\n",
              "        \n",
              "  <svg xmlns=\"http://www.w3.org/2000/svg\" height=\"24px\"viewBox=\"0 0 24 24\"\n",
              "       width=\"24px\">\n",
              "    <path d=\"M0 0h24v24H0V0z\" fill=\"none\"/>\n",
              "    <path d=\"M18.56 5.44l.94 2.06.94-2.06 2.06-.94-2.06-.94-.94-2.06-.94 2.06-2.06.94zm-11 1L8.5 8.5l.94-2.06 2.06-.94-2.06-.94L8.5 2.5l-.94 2.06-2.06.94zm10 10l.94 2.06.94-2.06 2.06-.94-2.06-.94-.94-2.06-.94 2.06-2.06.94z\"/><path d=\"M17.41 7.96l-1.37-1.37c-.4-.4-.92-.59-1.43-.59-.52 0-1.04.2-1.43.59L10.3 9.45l-7.72 7.72c-.78.78-.78 2.05 0 2.83L4 21.41c.39.39.9.59 1.41.59.51 0 1.02-.2 1.41-.59l7.78-7.78 2.81-2.81c.8-.78.8-2.07 0-2.86zM5.41 20L4 18.59l7.72-7.72 1.47 1.35L5.41 20z\"/>\n",
              "  </svg>\n",
              "      </button>\n",
              "      \n",
              "  <style>\n",
              "    .colab-df-container {\n",
              "      display:flex;\n",
              "      flex-wrap:wrap;\n",
              "      gap: 12px;\n",
              "    }\n",
              "\n",
              "    .colab-df-convert {\n",
              "      background-color: #E8F0FE;\n",
              "      border: none;\n",
              "      border-radius: 50%;\n",
              "      cursor: pointer;\n",
              "      display: none;\n",
              "      fill: #1967D2;\n",
              "      height: 32px;\n",
              "      padding: 0 0 0 0;\n",
              "      width: 32px;\n",
              "    }\n",
              "\n",
              "    .colab-df-convert:hover {\n",
              "      background-color: #E2EBFA;\n",
              "      box-shadow: 0px 1px 2px rgba(60, 64, 67, 0.3), 0px 1px 3px 1px rgba(60, 64, 67, 0.15);\n",
              "      fill: #174EA6;\n",
              "    }\n",
              "\n",
              "    [theme=dark] .colab-df-convert {\n",
              "      background-color: #3B4455;\n",
              "      fill: #D2E3FC;\n",
              "    }\n",
              "\n",
              "    [theme=dark] .colab-df-convert:hover {\n",
              "      background-color: #434B5C;\n",
              "      box-shadow: 0px 1px 3px 1px rgba(0, 0, 0, 0.15);\n",
              "      filter: drop-shadow(0px 1px 2px rgba(0, 0, 0, 0.3));\n",
              "      fill: #FFFFFF;\n",
              "    }\n",
              "  </style>\n",
              "\n",
              "      <script>\n",
              "        const buttonEl =\n",
              "          document.querySelector('#df-9d66b969-52e3-4298-b078-40691dafa3e4 button.colab-df-convert');\n",
              "        buttonEl.style.display =\n",
              "          google.colab.kernel.accessAllowed ? 'block' : 'none';\n",
              "\n",
              "        async function convertToInteractive(key) {\n",
              "          const element = document.querySelector('#df-9d66b969-52e3-4298-b078-40691dafa3e4');\n",
              "          const dataTable =\n",
              "            await google.colab.kernel.invokeFunction('convertToInteractive',\n",
              "                                                     [key], {});\n",
              "          if (!dataTable) return;\n",
              "\n",
              "          const docLinkHtml = 'Like what you see? Visit the ' +\n",
              "            '<a target=\"_blank\" href=https://colab.research.google.com/notebooks/data_table.ipynb>data table notebook</a>'\n",
              "            + ' to learn more about interactive tables.';\n",
              "          element.innerHTML = '';\n",
              "          dataTable['output_type'] = 'display_data';\n",
              "          await google.colab.output.renderOutput(dataTable, element);\n",
              "          const docLink = document.createElement('div');\n",
              "          docLink.innerHTML = docLinkHtml;\n",
              "          element.appendChild(docLink);\n",
              "        }\n",
              "      </script>\n",
              "    </div>\n",
              "  </div>\n",
              "  "
            ]
          },
          "metadata": {},
          "execution_count": 18
        }
      ]
    },
    {
      "cell_type": "code",
      "source": [
        "df.shape"
      ],
      "metadata": {
        "colab": {
          "base_uri": "https://localhost:8080/"
        },
        "id": "E79HNcXf_MDu",
        "outputId": "b2a2c12a-f05f-409d-b96a-70f3e301f0dd"
      },
      "execution_count": 19,
      "outputs": [
        {
          "output_type": "execute_result",
          "data": {
            "text/plain": [
              "(49802, 3)"
            ]
          },
          "metadata": {},
          "execution_count": 19
        }
      ]
    },
    {
      "cell_type": "markdown",
      "source": [
        "### **Prepare** Dataset"
      ],
      "metadata": {
        "id": "0GshhoJTCR9Q"
      }
    },
    {
      "cell_type": "code",
      "source": [
        "df['star'] = df['stars'].apply(lambda x: str(x).split()[0]).astype(float)"
      ],
      "metadata": {
        "id": "CAtJ7O-f_b1V"
      },
      "execution_count": 20,
      "outputs": []
    },
    {
      "cell_type": "code",
      "source": [
        "df.head(3)"
      ],
      "metadata": {
        "colab": {
          "base_uri": "https://localhost:8080/",
          "height": 143
        },
        "id": "bvRRiqFJ_kGb",
        "outputId": "a055c2aa-06ac-4beb-d63f-df180f42f4a7"
      },
      "execution_count": 21,
      "outputs": [
        {
          "output_type": "execute_result",
          "data": {
            "text/plain": [
              "                stars                               title  \\\n",
              "0  4.0 out of 5 stars  Short people and big booty Judy’s.   \n",
              "1  4.0 out of 5 stars                         Great Pants   \n",
              "2  5.0 out of 5 stars                           Kinda big   \n",
              "\n",
              "                                                body  star  \n",
              "0  Honest review would be more like a 4.5. Issue ...   4.0  \n",
              "1  I LOVE these pants! I originally bought 2x bec...   4.0  \n",
              "2  I usually wear a medium however this was close...   5.0  "
            ],
            "text/html": [
              "\n",
              "  <div id=\"df-34431d2f-01bb-498d-8145-bb3e2ea8a5c7\">\n",
              "    <div class=\"colab-df-container\">\n",
              "      <div>\n",
              "<style scoped>\n",
              "    .dataframe tbody tr th:only-of-type {\n",
              "        vertical-align: middle;\n",
              "    }\n",
              "\n",
              "    .dataframe tbody tr th {\n",
              "        vertical-align: top;\n",
              "    }\n",
              "\n",
              "    .dataframe thead th {\n",
              "        text-align: right;\n",
              "    }\n",
              "</style>\n",
              "<table border=\"1\" class=\"dataframe\">\n",
              "  <thead>\n",
              "    <tr style=\"text-align: right;\">\n",
              "      <th></th>\n",
              "      <th>stars</th>\n",
              "      <th>title</th>\n",
              "      <th>body</th>\n",
              "      <th>star</th>\n",
              "    </tr>\n",
              "  </thead>\n",
              "  <tbody>\n",
              "    <tr>\n",
              "      <th>0</th>\n",
              "      <td>4.0 out of 5 stars</td>\n",
              "      <td>Short people and big booty Judy’s.</td>\n",
              "      <td>Honest review would be more like a 4.5. Issue ...</td>\n",
              "      <td>4.0</td>\n",
              "    </tr>\n",
              "    <tr>\n",
              "      <th>1</th>\n",
              "      <td>4.0 out of 5 stars</td>\n",
              "      <td>Great Pants</td>\n",
              "      <td>I LOVE these pants! I originally bought 2x bec...</td>\n",
              "      <td>4.0</td>\n",
              "    </tr>\n",
              "    <tr>\n",
              "      <th>2</th>\n",
              "      <td>5.0 out of 5 stars</td>\n",
              "      <td>Kinda big</td>\n",
              "      <td>I usually wear a medium however this was close...</td>\n",
              "      <td>5.0</td>\n",
              "    </tr>\n",
              "  </tbody>\n",
              "</table>\n",
              "</div>\n",
              "      <button class=\"colab-df-convert\" onclick=\"convertToInteractive('df-34431d2f-01bb-498d-8145-bb3e2ea8a5c7')\"\n",
              "              title=\"Convert this dataframe to an interactive table.\"\n",
              "              style=\"display:none;\">\n",
              "        \n",
              "  <svg xmlns=\"http://www.w3.org/2000/svg\" height=\"24px\"viewBox=\"0 0 24 24\"\n",
              "       width=\"24px\">\n",
              "    <path d=\"M0 0h24v24H0V0z\" fill=\"none\"/>\n",
              "    <path d=\"M18.56 5.44l.94 2.06.94-2.06 2.06-.94-2.06-.94-.94-2.06-.94 2.06-2.06.94zm-11 1L8.5 8.5l.94-2.06 2.06-.94-2.06-.94L8.5 2.5l-.94 2.06-2.06.94zm10 10l.94 2.06.94-2.06 2.06-.94-2.06-.94-.94-2.06-.94 2.06-2.06.94z\"/><path d=\"M17.41 7.96l-1.37-1.37c-.4-.4-.92-.59-1.43-.59-.52 0-1.04.2-1.43.59L10.3 9.45l-7.72 7.72c-.78.78-.78 2.05 0 2.83L4 21.41c.39.39.9.59 1.41.59.51 0 1.02-.2 1.41-.59l7.78-7.78 2.81-2.81c.8-.78.8-2.07 0-2.86zM5.41 20L4 18.59l7.72-7.72 1.47 1.35L5.41 20z\"/>\n",
              "  </svg>\n",
              "      </button>\n",
              "      \n",
              "  <style>\n",
              "    .colab-df-container {\n",
              "      display:flex;\n",
              "      flex-wrap:wrap;\n",
              "      gap: 12px;\n",
              "    }\n",
              "\n",
              "    .colab-df-convert {\n",
              "      background-color: #E8F0FE;\n",
              "      border: none;\n",
              "      border-radius: 50%;\n",
              "      cursor: pointer;\n",
              "      display: none;\n",
              "      fill: #1967D2;\n",
              "      height: 32px;\n",
              "      padding: 0 0 0 0;\n",
              "      width: 32px;\n",
              "    }\n",
              "\n",
              "    .colab-df-convert:hover {\n",
              "      background-color: #E2EBFA;\n",
              "      box-shadow: 0px 1px 2px rgba(60, 64, 67, 0.3), 0px 1px 3px 1px rgba(60, 64, 67, 0.15);\n",
              "      fill: #174EA6;\n",
              "    }\n",
              "\n",
              "    [theme=dark] .colab-df-convert {\n",
              "      background-color: #3B4455;\n",
              "      fill: #D2E3FC;\n",
              "    }\n",
              "\n",
              "    [theme=dark] .colab-df-convert:hover {\n",
              "      background-color: #434B5C;\n",
              "      box-shadow: 0px 1px 3px 1px rgba(0, 0, 0, 0.15);\n",
              "      filter: drop-shadow(0px 1px 2px rgba(0, 0, 0, 0.3));\n",
              "      fill: #FFFFFF;\n",
              "    }\n",
              "  </style>\n",
              "\n",
              "      <script>\n",
              "        const buttonEl =\n",
              "          document.querySelector('#df-34431d2f-01bb-498d-8145-bb3e2ea8a5c7 button.colab-df-convert');\n",
              "        buttonEl.style.display =\n",
              "          google.colab.kernel.accessAllowed ? 'block' : 'none';\n",
              "\n",
              "        async function convertToInteractive(key) {\n",
              "          const element = document.querySelector('#df-34431d2f-01bb-498d-8145-bb3e2ea8a5c7');\n",
              "          const dataTable =\n",
              "            await google.colab.kernel.invokeFunction('convertToInteractive',\n",
              "                                                     [key], {});\n",
              "          if (!dataTable) return;\n",
              "\n",
              "          const docLinkHtml = 'Like what you see? Visit the ' +\n",
              "            '<a target=\"_blank\" href=https://colab.research.google.com/notebooks/data_table.ipynb>data table notebook</a>'\n",
              "            + ' to learn more about interactive tables.';\n",
              "          element.innerHTML = '';\n",
              "          dataTable['output_type'] = 'display_data';\n",
              "          await google.colab.output.renderOutput(dataTable, element);\n",
              "          const docLink = document.createElement('div');\n",
              "          docLink.innerHTML = docLinkHtml;\n",
              "          element.appendChild(docLink);\n",
              "        }\n",
              "      </script>\n",
              "    </div>\n",
              "  </div>\n",
              "  "
            ]
          },
          "metadata": {},
          "execution_count": 21
        }
      ]
    },
    {
      "cell_type": "code",
      "source": [
        "df['sentiment'] = df['star'].apply(lambda x: 1 if x >= 3 else 0)"
      ],
      "metadata": {
        "id": "pGRB_P1z_f7c"
      },
      "execution_count": 22,
      "outputs": []
    },
    {
      "cell_type": "code",
      "source": [
        "df.head(3)"
      ],
      "metadata": {
        "colab": {
          "base_uri": "https://localhost:8080/",
          "height": 143
        },
        "id": "bPoAmWg5_iyy",
        "outputId": "fc083154-8f95-446d-b7f7-f20fbebcd617"
      },
      "execution_count": 23,
      "outputs": [
        {
          "output_type": "execute_result",
          "data": {
            "text/plain": [
              "                stars                               title  \\\n",
              "0  4.0 out of 5 stars  Short people and big booty Judy’s.   \n",
              "1  4.0 out of 5 stars                         Great Pants   \n",
              "2  5.0 out of 5 stars                           Kinda big   \n",
              "\n",
              "                                                body  star  sentiment  \n",
              "0  Honest review would be more like a 4.5. Issue ...   4.0          1  \n",
              "1  I LOVE these pants! I originally bought 2x bec...   4.0          1  \n",
              "2  I usually wear a medium however this was close...   5.0          1  "
            ],
            "text/html": [
              "\n",
              "  <div id=\"df-47e89c69-868e-486c-b817-341407daf91c\">\n",
              "    <div class=\"colab-df-container\">\n",
              "      <div>\n",
              "<style scoped>\n",
              "    .dataframe tbody tr th:only-of-type {\n",
              "        vertical-align: middle;\n",
              "    }\n",
              "\n",
              "    .dataframe tbody tr th {\n",
              "        vertical-align: top;\n",
              "    }\n",
              "\n",
              "    .dataframe thead th {\n",
              "        text-align: right;\n",
              "    }\n",
              "</style>\n",
              "<table border=\"1\" class=\"dataframe\">\n",
              "  <thead>\n",
              "    <tr style=\"text-align: right;\">\n",
              "      <th></th>\n",
              "      <th>stars</th>\n",
              "      <th>title</th>\n",
              "      <th>body</th>\n",
              "      <th>star</th>\n",
              "      <th>sentiment</th>\n",
              "    </tr>\n",
              "  </thead>\n",
              "  <tbody>\n",
              "    <tr>\n",
              "      <th>0</th>\n",
              "      <td>4.0 out of 5 stars</td>\n",
              "      <td>Short people and big booty Judy’s.</td>\n",
              "      <td>Honest review would be more like a 4.5. Issue ...</td>\n",
              "      <td>4.0</td>\n",
              "      <td>1</td>\n",
              "    </tr>\n",
              "    <tr>\n",
              "      <th>1</th>\n",
              "      <td>4.0 out of 5 stars</td>\n",
              "      <td>Great Pants</td>\n",
              "      <td>I LOVE these pants! I originally bought 2x bec...</td>\n",
              "      <td>4.0</td>\n",
              "      <td>1</td>\n",
              "    </tr>\n",
              "    <tr>\n",
              "      <th>2</th>\n",
              "      <td>5.0 out of 5 stars</td>\n",
              "      <td>Kinda big</td>\n",
              "      <td>I usually wear a medium however this was close...</td>\n",
              "      <td>5.0</td>\n",
              "      <td>1</td>\n",
              "    </tr>\n",
              "  </tbody>\n",
              "</table>\n",
              "</div>\n",
              "      <button class=\"colab-df-convert\" onclick=\"convertToInteractive('df-47e89c69-868e-486c-b817-341407daf91c')\"\n",
              "              title=\"Convert this dataframe to an interactive table.\"\n",
              "              style=\"display:none;\">\n",
              "        \n",
              "  <svg xmlns=\"http://www.w3.org/2000/svg\" height=\"24px\"viewBox=\"0 0 24 24\"\n",
              "       width=\"24px\">\n",
              "    <path d=\"M0 0h24v24H0V0z\" fill=\"none\"/>\n",
              "    <path d=\"M18.56 5.44l.94 2.06.94-2.06 2.06-.94-2.06-.94-.94-2.06-.94 2.06-2.06.94zm-11 1L8.5 8.5l.94-2.06 2.06-.94-2.06-.94L8.5 2.5l-.94 2.06-2.06.94zm10 10l.94 2.06.94-2.06 2.06-.94-2.06-.94-.94-2.06-.94 2.06-2.06.94z\"/><path d=\"M17.41 7.96l-1.37-1.37c-.4-.4-.92-.59-1.43-.59-.52 0-1.04.2-1.43.59L10.3 9.45l-7.72 7.72c-.78.78-.78 2.05 0 2.83L4 21.41c.39.39.9.59 1.41.59.51 0 1.02-.2 1.41-.59l7.78-7.78 2.81-2.81c.8-.78.8-2.07 0-2.86zM5.41 20L4 18.59l7.72-7.72 1.47 1.35L5.41 20z\"/>\n",
              "  </svg>\n",
              "      </button>\n",
              "      \n",
              "  <style>\n",
              "    .colab-df-container {\n",
              "      display:flex;\n",
              "      flex-wrap:wrap;\n",
              "      gap: 12px;\n",
              "    }\n",
              "\n",
              "    .colab-df-convert {\n",
              "      background-color: #E8F0FE;\n",
              "      border: none;\n",
              "      border-radius: 50%;\n",
              "      cursor: pointer;\n",
              "      display: none;\n",
              "      fill: #1967D2;\n",
              "      height: 32px;\n",
              "      padding: 0 0 0 0;\n",
              "      width: 32px;\n",
              "    }\n",
              "\n",
              "    .colab-df-convert:hover {\n",
              "      background-color: #E2EBFA;\n",
              "      box-shadow: 0px 1px 2px rgba(60, 64, 67, 0.3), 0px 1px 3px 1px rgba(60, 64, 67, 0.15);\n",
              "      fill: #174EA6;\n",
              "    }\n",
              "\n",
              "    [theme=dark] .colab-df-convert {\n",
              "      background-color: #3B4455;\n",
              "      fill: #D2E3FC;\n",
              "    }\n",
              "\n",
              "    [theme=dark] .colab-df-convert:hover {\n",
              "      background-color: #434B5C;\n",
              "      box-shadow: 0px 1px 3px 1px rgba(0, 0, 0, 0.15);\n",
              "      filter: drop-shadow(0px 1px 2px rgba(0, 0, 0, 0.3));\n",
              "      fill: #FFFFFF;\n",
              "    }\n",
              "  </style>\n",
              "\n",
              "      <script>\n",
              "        const buttonEl =\n",
              "          document.querySelector('#df-47e89c69-868e-486c-b817-341407daf91c button.colab-df-convert');\n",
              "        buttonEl.style.display =\n",
              "          google.colab.kernel.accessAllowed ? 'block' : 'none';\n",
              "\n",
              "        async function convertToInteractive(key) {\n",
              "          const element = document.querySelector('#df-47e89c69-868e-486c-b817-341407daf91c');\n",
              "          const dataTable =\n",
              "            await google.colab.kernel.invokeFunction('convertToInteractive',\n",
              "                                                     [key], {});\n",
              "          if (!dataTable) return;\n",
              "\n",
              "          const docLinkHtml = 'Like what you see? Visit the ' +\n",
              "            '<a target=\"_blank\" href=https://colab.research.google.com/notebooks/data_table.ipynb>data table notebook</a>'\n",
              "            + ' to learn more about interactive tables.';\n",
              "          element.innerHTML = '';\n",
              "          dataTable['output_type'] = 'display_data';\n",
              "          await google.colab.output.renderOutput(dataTable, element);\n",
              "          const docLink = document.createElement('div');\n",
              "          docLink.innerHTML = docLinkHtml;\n",
              "          element.appendChild(docLink);\n",
              "        }\n",
              "      </script>\n",
              "    </div>\n",
              "  </div>\n",
              "  "
            ]
          },
          "metadata": {},
          "execution_count": 23
        }
      ]
    },
    {
      "cell_type": "code",
      "source": [
        "df['sentiment'].unique()"
      ],
      "metadata": {
        "colab": {
          "base_uri": "https://localhost:8080/"
        },
        "id": "SdjSKZBl_nO2",
        "outputId": "8bb722dc-fb06-49d8-97cd-ea764b96cf5e"
      },
      "execution_count": 24,
      "outputs": [
        {
          "output_type": "execute_result",
          "data": {
            "text/plain": [
              "array([1, 0])"
            ]
          },
          "metadata": {},
          "execution_count": 24
        }
      ]
    },
    {
      "cell_type": "code",
      "source": [
        "df['sentiment'].value_counts()"
      ],
      "metadata": {
        "colab": {
          "base_uri": "https://localhost:8080/"
        },
        "id": "6DWBsKhj_tNA",
        "outputId": "db776307-ec41-4203-f8f4-8e49aea5b127"
      },
      "execution_count": 25,
      "outputs": [
        {
          "output_type": "execute_result",
          "data": {
            "text/plain": [
              "1    45180\n",
              "0     4622\n",
              "Name: sentiment, dtype: int64"
            ]
          },
          "metadata": {},
          "execution_count": 25
        }
      ]
    },
    {
      "cell_type": "code",
      "source": [
        "positive = df[(df['sentiment'] == 1)]\n",
        "negative = df[(df['sentiment'] == 0)]"
      ],
      "metadata": {
        "id": "5CjGJQPF77BD"
      },
      "execution_count": 42,
      "outputs": []
    },
    {
      "cell_type": "code",
      "source": [
        "print(positive.shape)\n",
        "print(negative.shape)"
      ],
      "metadata": {
        "colab": {
          "base_uri": "https://localhost:8080/"
        },
        "id": "vydqK4f6_51b",
        "outputId": "f1e4703c-6733-4633-ca37-220484478f54"
      },
      "execution_count": 43,
      "outputs": [
        {
          "output_type": "stream",
          "name": "stdout",
          "text": [
            "(45180, 5)\n",
            "(4622, 5)\n"
          ]
        }
      ]
    },
    {
      "cell_type": "code",
      "source": [
        "positive_sample = positive.sample(n=8000, replace=True, random_state=50)"
      ],
      "metadata": {
        "id": "djnR9Rp2AAr2"
      },
      "execution_count": 44,
      "outputs": []
    },
    {
      "cell_type": "code",
      "source": [
        "print(positive_sample.shape)\n",
        "print(negative.shape)"
      ],
      "metadata": {
        "colab": {
          "base_uri": "https://localhost:8080/"
        },
        "id": "rhdaRbavBHtV",
        "outputId": "e2adea3d-cf06-4097-dc4b-e67339aae3ef"
      },
      "execution_count": 45,
      "outputs": [
        {
          "output_type": "stream",
          "name": "stdout",
          "text": [
            "(8000, 5)\n",
            "(4622, 5)\n"
          ]
        }
      ]
    },
    {
      "cell_type": "code",
      "source": [
        "data = pd.concat([positive_sample, negative], axis=0)"
      ],
      "metadata": {
        "id": "bHfxJEadBMOq"
      },
      "execution_count": 46,
      "outputs": []
    },
    {
      "cell_type": "code",
      "source": [
        "data.shape"
      ],
      "metadata": {
        "colab": {
          "base_uri": "https://localhost:8080/"
        },
        "id": "cdIKCHtlBx-p",
        "outputId": "43616e7a-78dc-4f1c-dd4d-f9b9c5b1c8b7"
      },
      "execution_count": 47,
      "outputs": [
        {
          "output_type": "execute_result",
          "data": {
            "text/plain": [
              "(12622, 5)"
            ]
          },
          "metadata": {},
          "execution_count": 47
        }
      ]
    },
    {
      "cell_type": "code",
      "source": [
        "data.tail()"
      ],
      "metadata": {
        "colab": {
          "base_uri": "https://localhost:8080/",
          "height": 206
        },
        "id": "Z-9SarWlBzBj",
        "outputId": "05ac98d3-fa26-4410-9d07-87ec98e2defd"
      },
      "execution_count": 49,
      "outputs": [
        {
          "output_type": "execute_result",
          "data": {
            "text/plain": [
              "                    stars                                  title  \\\n",
              "49795  1.0 out of 5 stars  Not good quality. Chinese low quality   \n",
              "49796  2.0 out of 5 stars                       Cute but too big   \n",
              "49797  2.0 out of 5 stars                 Did not like high neck   \n",
              "49799  2.0 out of 5 stars                              TOO SMALL   \n",
              "49801  1.0 out of 5 stars                           Feels cheap.   \n",
              "\n",
              "                                                    body  star  sentiment  \n",
              "49795  Not flattering at all made me look huge and I ...   1.0          0  \n",
              "49796  Way too big! And I got the smallest size. I’m ...   2.0          0  \n",
              "49797  No shape to the dress which was fine but not s...   2.0          0  \n",
              "49799                                    NOT TRUE TO FIT   2.0          0  \n",
              "49801  Material feels thin, cheap and itchy. Definite...   1.0          0  "
            ],
            "text/html": [
              "\n",
              "  <div id=\"df-14c13d8d-5a0e-4b77-80a9-279fdc820cc8\">\n",
              "    <div class=\"colab-df-container\">\n",
              "      <div>\n",
              "<style scoped>\n",
              "    .dataframe tbody tr th:only-of-type {\n",
              "        vertical-align: middle;\n",
              "    }\n",
              "\n",
              "    .dataframe tbody tr th {\n",
              "        vertical-align: top;\n",
              "    }\n",
              "\n",
              "    .dataframe thead th {\n",
              "        text-align: right;\n",
              "    }\n",
              "</style>\n",
              "<table border=\"1\" class=\"dataframe\">\n",
              "  <thead>\n",
              "    <tr style=\"text-align: right;\">\n",
              "      <th></th>\n",
              "      <th>stars</th>\n",
              "      <th>title</th>\n",
              "      <th>body</th>\n",
              "      <th>star</th>\n",
              "      <th>sentiment</th>\n",
              "    </tr>\n",
              "  </thead>\n",
              "  <tbody>\n",
              "    <tr>\n",
              "      <th>49795</th>\n",
              "      <td>1.0 out of 5 stars</td>\n",
              "      <td>Not good quality. Chinese low quality</td>\n",
              "      <td>Not flattering at all made me look huge and I ...</td>\n",
              "      <td>1.0</td>\n",
              "      <td>0</td>\n",
              "    </tr>\n",
              "    <tr>\n",
              "      <th>49796</th>\n",
              "      <td>2.0 out of 5 stars</td>\n",
              "      <td>Cute but too big</td>\n",
              "      <td>Way too big! And I got the smallest size. I’m ...</td>\n",
              "      <td>2.0</td>\n",
              "      <td>0</td>\n",
              "    </tr>\n",
              "    <tr>\n",
              "      <th>49797</th>\n",
              "      <td>2.0 out of 5 stars</td>\n",
              "      <td>Did not like high neck</td>\n",
              "      <td>No shape to the dress which was fine but not s...</td>\n",
              "      <td>2.0</td>\n",
              "      <td>0</td>\n",
              "    </tr>\n",
              "    <tr>\n",
              "      <th>49799</th>\n",
              "      <td>2.0 out of 5 stars</td>\n",
              "      <td>TOO SMALL</td>\n",
              "      <td>NOT TRUE TO FIT</td>\n",
              "      <td>2.0</td>\n",
              "      <td>0</td>\n",
              "    </tr>\n",
              "    <tr>\n",
              "      <th>49801</th>\n",
              "      <td>1.0 out of 5 stars</td>\n",
              "      <td>Feels cheap.</td>\n",
              "      <td>Material feels thin, cheap and itchy. Definite...</td>\n",
              "      <td>1.0</td>\n",
              "      <td>0</td>\n",
              "    </tr>\n",
              "  </tbody>\n",
              "</table>\n",
              "</div>\n",
              "      <button class=\"colab-df-convert\" onclick=\"convertToInteractive('df-14c13d8d-5a0e-4b77-80a9-279fdc820cc8')\"\n",
              "              title=\"Convert this dataframe to an interactive table.\"\n",
              "              style=\"display:none;\">\n",
              "        \n",
              "  <svg xmlns=\"http://www.w3.org/2000/svg\" height=\"24px\"viewBox=\"0 0 24 24\"\n",
              "       width=\"24px\">\n",
              "    <path d=\"M0 0h24v24H0V0z\" fill=\"none\"/>\n",
              "    <path d=\"M18.56 5.44l.94 2.06.94-2.06 2.06-.94-2.06-.94-.94-2.06-.94 2.06-2.06.94zm-11 1L8.5 8.5l.94-2.06 2.06-.94-2.06-.94L8.5 2.5l-.94 2.06-2.06.94zm10 10l.94 2.06.94-2.06 2.06-.94-2.06-.94-.94-2.06-.94 2.06-2.06.94z\"/><path d=\"M17.41 7.96l-1.37-1.37c-.4-.4-.92-.59-1.43-.59-.52 0-1.04.2-1.43.59L10.3 9.45l-7.72 7.72c-.78.78-.78 2.05 0 2.83L4 21.41c.39.39.9.59 1.41.59.51 0 1.02-.2 1.41-.59l7.78-7.78 2.81-2.81c.8-.78.8-2.07 0-2.86zM5.41 20L4 18.59l7.72-7.72 1.47 1.35L5.41 20z\"/>\n",
              "  </svg>\n",
              "      </button>\n",
              "      \n",
              "  <style>\n",
              "    .colab-df-container {\n",
              "      display:flex;\n",
              "      flex-wrap:wrap;\n",
              "      gap: 12px;\n",
              "    }\n",
              "\n",
              "    .colab-df-convert {\n",
              "      background-color: #E8F0FE;\n",
              "      border: none;\n",
              "      border-radius: 50%;\n",
              "      cursor: pointer;\n",
              "      display: none;\n",
              "      fill: #1967D2;\n",
              "      height: 32px;\n",
              "      padding: 0 0 0 0;\n",
              "      width: 32px;\n",
              "    }\n",
              "\n",
              "    .colab-df-convert:hover {\n",
              "      background-color: #E2EBFA;\n",
              "      box-shadow: 0px 1px 2px rgba(60, 64, 67, 0.3), 0px 1px 3px 1px rgba(60, 64, 67, 0.15);\n",
              "      fill: #174EA6;\n",
              "    }\n",
              "\n",
              "    [theme=dark] .colab-df-convert {\n",
              "      background-color: #3B4455;\n",
              "      fill: #D2E3FC;\n",
              "    }\n",
              "\n",
              "    [theme=dark] .colab-df-convert:hover {\n",
              "      background-color: #434B5C;\n",
              "      box-shadow: 0px 1px 3px 1px rgba(0, 0, 0, 0.15);\n",
              "      filter: drop-shadow(0px 1px 2px rgba(0, 0, 0, 0.3));\n",
              "      fill: #FFFFFF;\n",
              "    }\n",
              "  </style>\n",
              "\n",
              "      <script>\n",
              "        const buttonEl =\n",
              "          document.querySelector('#df-14c13d8d-5a0e-4b77-80a9-279fdc820cc8 button.colab-df-convert');\n",
              "        buttonEl.style.display =\n",
              "          google.colab.kernel.accessAllowed ? 'block' : 'none';\n",
              "\n",
              "        async function convertToInteractive(key) {\n",
              "          const element = document.querySelector('#df-14c13d8d-5a0e-4b77-80a9-279fdc820cc8');\n",
              "          const dataTable =\n",
              "            await google.colab.kernel.invokeFunction('convertToInteractive',\n",
              "                                                     [key], {});\n",
              "          if (!dataTable) return;\n",
              "\n",
              "          const docLinkHtml = 'Like what you see? Visit the ' +\n",
              "            '<a target=\"_blank\" href=https://colab.research.google.com/notebooks/data_table.ipynb>data table notebook</a>'\n",
              "            + ' to learn more about interactive tables.';\n",
              "          element.innerHTML = '';\n",
              "          dataTable['output_type'] = 'display_data';\n",
              "          await google.colab.output.renderOutput(dataTable, element);\n",
              "          const docLink = document.createElement('div');\n",
              "          docLink.innerHTML = docLinkHtml;\n",
              "          element.appendChild(docLink);\n",
              "        }\n",
              "      </script>\n",
              "    </div>\n",
              "  </div>\n",
              "  "
            ]
          },
          "metadata": {},
          "execution_count": 49
        }
      ]
    },
    {
      "cell_type": "markdown",
      "source": [
        "### **Preprocessing**"
      ],
      "metadata": {
        "id": "wFsmBVSiCbmv"
      }
    },
    {
      "cell_type": "code",
      "source": [
        "bodies = data['body'].values\n",
        "titles = data['title'].values\n",
        "y = data['sentiment'].values"
      ],
      "metadata": {
        "id": "PqbCRK_MLCgn"
      },
      "execution_count": 68,
      "outputs": []
    },
    {
      "cell_type": "code",
      "source": [
        "sentences = [(str(t)+' '+str(b)) for t,b in zip(titles,bodies)]"
      ],
      "metadata": {
        "id": "uuxizf6eNN9e"
      },
      "execution_count": 69,
      "outputs": []
    },
    {
      "cell_type": "code",
      "source": [
        "sentences[0]"
      ],
      "metadata": {
        "colab": {
          "base_uri": "https://localhost:8080/",
          "height": 54
        },
        "id": "2kBKpgZrQaP-",
        "outputId": "189fc0a8-28b3-4b39-939a-d86019fb30be"
      },
      "execution_count": 70,
      "outputs": [
        {
          "output_type": "execute_result",
          "data": {
            "text/plain": [
              "'Great basics I have purchased a few pairs of these shorts, they look good, hold up, and are very affordable. They have apocket too so you can carry your phone or a mask easy! They are great basic shorts.'"
            ],
            "application/vnd.google.colaboratory.intrinsic+json": {
              "type": "string"
            }
          },
          "metadata": {},
          "execution_count": 70
        }
      ]
    },
    {
      "cell_type": "code",
      "source": [
        "tokenizer = RegexpTokenizer(r'\\w+')\n",
        "sentences_tokenize = [tokenizer.tokenize(s.lower()) for s in sentences]"
      ],
      "metadata": {
        "id": "52_V9aPRUUVf"
      },
      "execution_count": 101,
      "outputs": []
    },
    {
      "cell_type": "code",
      "source": [
        "sentences_tokenize[0]"
      ],
      "metadata": {
        "colab": {
          "base_uri": "https://localhost:8080/"
        },
        "id": "G8wlk440UqAM",
        "outputId": "79408f1a-bf03-4f25-97be-ec59561dfe8f"
      },
      "execution_count": 102,
      "outputs": [
        {
          "output_type": "execute_result",
          "data": {
            "text/plain": [
              "['great',\n",
              " 'basics',\n",
              " 'i',\n",
              " 'have',\n",
              " 'purchased',\n",
              " 'a',\n",
              " 'few',\n",
              " 'pairs',\n",
              " 'of',\n",
              " 'these',\n",
              " 'shorts',\n",
              " 'they',\n",
              " 'look',\n",
              " 'good',\n",
              " 'hold',\n",
              " 'up',\n",
              " 'and',\n",
              " 'are',\n",
              " 'very',\n",
              " 'affordable',\n",
              " 'they',\n",
              " 'have',\n",
              " 'apocket',\n",
              " 'too',\n",
              " 'so',\n",
              " 'you',\n",
              " 'can',\n",
              " 'carry',\n",
              " 'your',\n",
              " 'phone',\n",
              " 'or',\n",
              " 'a',\n",
              " 'mask',\n",
              " 'easy',\n",
              " 'they',\n",
              " 'are',\n",
              " 'great',\n",
              " 'basic',\n",
              " 'shorts']"
            ]
          },
          "metadata": {},
          "execution_count": 102
        }
      ]
    },
    {
      "cell_type": "code",
      "source": [
        "stopwords = set(stopwords.words(\"english\"))"
      ],
      "metadata": {
        "colab": {
          "base_uri": "https://localhost:8080/",
          "height": 171
        },
        "id": "Er1afbtdUsuO",
        "outputId": "c375319f-74be-4049-acef-2af5caeeeb3d"
      },
      "execution_count": 105,
      "outputs": [
        {
          "output_type": "error",
          "ename": "AttributeError",
          "evalue": "ignored",
          "traceback": [
            "\u001b[0;31m---------------------------------------------------------------------------\u001b[0m",
            "\u001b[0;31mAttributeError\u001b[0m                            Traceback (most recent call last)",
            "\u001b[0;32m<ipython-input-105-76f5738a786f>\u001b[0m in \u001b[0;36m<module>\u001b[0;34m\u001b[0m\n\u001b[0;32m----> 1\u001b[0;31m \u001b[0mstopwords\u001b[0m \u001b[0;34m=\u001b[0m \u001b[0mset\u001b[0m\u001b[0;34m(\u001b[0m\u001b[0mstopwords\u001b[0m\u001b[0;34m.\u001b[0m\u001b[0mwords\u001b[0m\u001b[0;34m(\u001b[0m\u001b[0;34m\"english\"\u001b[0m\u001b[0;34m)\u001b[0m\u001b[0;34m)\u001b[0m\u001b[0;34m\u001b[0m\u001b[0;34m\u001b[0m\u001b[0m\n\u001b[0m",
            "\u001b[0;31mAttributeError\u001b[0m: 'set' object has no attribute 'words'"
          ]
        }
      ]
    },
    {
      "cell_type": "code",
      "source": [
        "len(stopwords)"
      ],
      "metadata": {
        "colab": {
          "base_uri": "https://localhost:8080/"
        },
        "id": "IQNsRnJ-U7jk",
        "outputId": "44163c80-c49d-4a49-e3c5-615460dc6674"
      },
      "execution_count": 106,
      "outputs": [
        {
          "output_type": "execute_result",
          "data": {
            "text/plain": [
              "179"
            ]
          },
          "metadata": {},
          "execution_count": 106
        }
      ]
    },
    {
      "cell_type": "code",
      "source": [
        "sentences_tokenize_filtered = [[w for w in sentence if w not in stopwords] for sentence in sentences_tokenize]"
      ],
      "metadata": {
        "id": "yz47SNQWVClt"
      },
      "execution_count": 110,
      "outputs": []
    },
    {
      "cell_type": "code",
      "source": [
        "sentences_tokenize_filtered[5]"
      ],
      "metadata": {
        "colab": {
          "base_uri": "https://localhost:8080/"
        },
        "id": "KwiOQsAUVzGN",
        "outputId": "185b3417-0dde-4745-f846-8de5fa37f660"
      },
      "execution_count": 111,
      "outputs": [
        {
          "output_type": "execute_result",
          "data": {
            "text/plain": [
              "['great',\n",
              " 'pair',\n",
              " 'pants',\n",
              " 'good',\n",
              " 'fit',\n",
              " 'super',\n",
              " 'comfortable',\n",
              " '1st',\n",
              " 'pair',\n",
              " 'skinny',\n",
              " 'tried',\n",
              " 'really',\n",
              " 'liked']"
            ]
          },
          "metadata": {},
          "execution_count": 111
        }
      ]
    },
    {
      "cell_type": "code",
      "source": [
        "corpus = []\n",
        "for sentence in sentences_tokenize_filtered:\n",
        "  s = ''\n",
        "  for w in sentence:\n",
        "    s += w + ' '\n",
        "  corpus.append(s) "
      ],
      "metadata": {
        "id": "ZkqMMjDCYMS1"
      },
      "execution_count": 119,
      "outputs": []
    },
    {
      "cell_type": "code",
      "source": [
        "corpus[5]"
      ],
      "metadata": {
        "colab": {
          "base_uri": "https://localhost:8080/",
          "height": 36
        },
        "id": "BbAqkG0zYQUF",
        "outputId": "e462999b-862b-45e4-aa04-f8ab8c118b5f"
      },
      "execution_count": 120,
      "outputs": [
        {
          "output_type": "execute_result",
          "data": {
            "text/plain": [
              "'great pair pants good fit super comfortable 1st pair skinny tried really liked '"
            ],
            "application/vnd.google.colaboratory.intrinsic+json": {
              "type": "string"
            }
          },
          "metadata": {},
          "execution_count": 120
        }
      ]
    },
    {
      "cell_type": "markdown",
      "source": [
        "**keras Tokenizer**"
      ],
      "metadata": {
        "id": "W3qULtwxYmZ9"
      }
    },
    {
      "cell_type": "code",
      "source": [
        "tokenizer = Tokenizer()\n",
        "tokenizer.fit_on_texts(corpus)"
      ],
      "metadata": {
        "id": "HvGRTkEjYqO2"
      },
      "execution_count": 123,
      "outputs": []
    },
    {
      "cell_type": "code",
      "source": [
        "with open('tokenizer.h5', 'wb') as f:\n",
        "    pickle.dump(tokenizer, f)"
      ],
      "metadata": {
        "id": "PVhwwJIiawqI"
      },
      "execution_count": 126,
      "outputs": []
    },
    {
      "cell_type": "code",
      "source": [
        "vocab_size = len(tokenizer.word_index)+1"
      ],
      "metadata": {
        "id": "fug8ECqGa4Fw"
      },
      "execution_count": 127,
      "outputs": []
    },
    {
      "cell_type": "code",
      "source": [
        "vocab_size"
      ],
      "metadata": {
        "colab": {
          "base_uri": "https://localhost:8080/"
        },
        "id": "XqZShbbYgZRy",
        "outputId": "a714f0e0-3706-4ac4-8392-24eb25d4be12"
      },
      "execution_count": 175,
      "outputs": [
        {
          "output_type": "execute_result",
          "data": {
            "text/plain": [
              "8734"
            ]
          },
          "metadata": {},
          "execution_count": 175
        }
      ]
    },
    {
      "cell_type": "code",
      "source": [
        "def max_length(tensor):\n",
        "    return max(len(t) for t in tensor)"
      ],
      "metadata": {
        "id": "MLvxjA6jbGGh"
      },
      "execution_count": 151,
      "outputs": []
    },
    {
      "cell_type": "code",
      "source": [
        "data_to_sequences = tokenizer.texts_to_sequences(corpus)"
      ],
      "metadata": {
        "id": "Vpv4Ype_a_Ab"
      },
      "execution_count": 152,
      "outputs": []
    },
    {
      "cell_type": "code",
      "source": [
        "maxlen = max_length(data_to_sequences)\n",
        "maxlen"
      ],
      "metadata": {
        "colab": {
          "base_uri": "https://localhost:8080/"
        },
        "id": "yOiIWdAabOfm",
        "outputId": "7c5aa668-3f32-4014-9abf-e7b2d994ae22"
      },
      "execution_count": 155,
      "outputs": [
        {
          "output_type": "execute_result",
          "data": {
            "text/plain": [
              "326"
            ]
          },
          "metadata": {},
          "execution_count": 155
        }
      ]
    },
    {
      "cell_type": "code",
      "source": [
        "data_to_sequences[5]"
      ],
      "metadata": {
        "colab": {
          "base_uri": "https://localhost:8080/"
        },
        "id": "sfYzyz7WbG4h",
        "outputId": "518741e6-0a6f-46e3-ffc2-e77a6517c35f"
      },
      "execution_count": 130,
      "outputs": [
        {
          "output_type": "execute_result",
          "data": {
            "text/plain": [
              "[6, 75, 42, 17, 1, 32, 7, 1073, 75, 194, 189, 35, 168]"
            ]
          },
          "metadata": {},
          "execution_count": 130
        }
      ]
    },
    {
      "cell_type": "code",
      "source": [
        "pad_data_to_sequences = pad_sequences(data_to_sequences, maxlen=50)"
      ],
      "metadata": {
        "id": "kgzq4b__bIa3"
      },
      "execution_count": 144,
      "outputs": []
    },
    {
      "cell_type": "code",
      "source": [
        "pad_data_to_sequences[5]"
      ],
      "metadata": {
        "colab": {
          "base_uri": "https://localhost:8080/"
        },
        "id": "D6nmuYrmbf4o",
        "outputId": "11c2a918-590f-4a6b-81d0-51264cd452aa"
      },
      "execution_count": 248,
      "outputs": [
        {
          "output_type": "execute_result",
          "data": {
            "text/plain": [
              "array([   0,    0,    0,    0,    0,    0,    0,    0,    0,    0,    0,\n",
              "          0,    0,    0,    0,    0,    0,    0,    0,    0,    0,    0,\n",
              "          0,    0,    0,    0,    0,    0,    0,    0,    0,    0,    0,\n",
              "          0,    0,    0,    0,    6,   75,   42,   17,    1,   32,    7,\n",
              "       1073,   75,  194,  189,   35,  168], dtype=int32)"
            ]
          },
          "metadata": {},
          "execution_count": 248
        }
      ]
    },
    {
      "cell_type": "code",
      "source": [
        "print(pad_data_to_sequences.shape)\n",
        "print(y.shape)"
      ],
      "metadata": {
        "colab": {
          "base_uri": "https://localhost:8080/"
        },
        "id": "ImwI8ZGieaee",
        "outputId": "4338b46c-bc6c-410e-92ae-e4806b0eb7bd"
      },
      "execution_count": 172,
      "outputs": [
        {
          "output_type": "stream",
          "name": "stdout",
          "text": [
            "(12622, 50)\n",
            "(12622,)\n"
          ]
        }
      ]
    },
    {
      "cell_type": "code",
      "source": [
        "X_train, X_test, y_train, y_test = train_test_split(pad_data_to_sequences, y, test_size=0.3, random_state=50)"
      ],
      "metadata": {
        "id": "GOEBRZI-cpEP"
      },
      "execution_count": 173,
      "outputs": []
    },
    {
      "cell_type": "code",
      "source": [
        "print(X_train.shape)\n",
        "print(X_test.shape)\n",
        "print(y_train.shape)\n",
        "print(y_test.shape)"
      ],
      "metadata": {
        "colab": {
          "base_uri": "https://localhost:8080/"
        },
        "id": "XxtgOxCreiww",
        "outputId": "0dbe178e-080b-4d7f-ab9f-534e2a7fd2c0"
      },
      "execution_count": 174,
      "outputs": [
        {
          "output_type": "stream",
          "name": "stdout",
          "text": [
            "(8835, 50)\n",
            "(3787, 50)\n",
            "(8835,)\n",
            "(3787,)\n"
          ]
        }
      ]
    },
    {
      "cell_type": "markdown",
      "source": [
        "## **Neural Networks**"
      ],
      "metadata": {
        "id": "sBrLjflfeukG"
      }
    },
    {
      "cell_type": "markdown",
      "source": [
        "### **CNN Model**"
      ],
      "metadata": {
        "id": "_htWm7hqrnfH"
      }
    },
    {
      "cell_type": "code",
      "source": [
        "i = Input(shape=(50,))\n",
        "x = Embedding(vocab_size, 50, input_length=50)(i)\n",
        "x = Conv1D(32, 5, padding='same', activation='relu')(x)\n",
        "x = Dropout(0.3)(x)\n",
        "x = MaxPooling1D(2)(x)\n",
        "x = Flatten()(x)\n",
        "x = Dense(64, activation='relu')(x)\n",
        "x = Dropout(0.5)(x)\n",
        "x = Dense(1, activation='sigmoid')(x)"
      ],
      "metadata": {
        "id": "B1JNtqtyrsKE"
      },
      "execution_count": 243,
      "outputs": []
    },
    {
      "cell_type": "code",
      "source": [
        "model = Model(i, x)"
      ],
      "metadata": {
        "id": "TNd9p0PbsX1W"
      },
      "execution_count": 244,
      "outputs": []
    },
    {
      "cell_type": "code",
      "source": [
        "model.compile(optimizer='adam', loss='binary_crossentropy', metrics=['accuracy'])"
      ],
      "metadata": {
        "id": "peNoQzzAsafu"
      },
      "execution_count": 245,
      "outputs": []
    },
    {
      "cell_type": "code",
      "source": [
        "model.summary()"
      ],
      "metadata": {
        "colab": {
          "base_uri": "https://localhost:8080/"
        },
        "id": "lK6jAniesb_f",
        "outputId": "adb7f8a8-ec08-4bf4-93f9-71a703b898ac"
      },
      "execution_count": 246,
      "outputs": [
        {
          "output_type": "stream",
          "name": "stdout",
          "text": [
            "Model: \"model_6\"\n",
            "_________________________________________________________________\n",
            " Layer (type)                Output Shape              Param #   \n",
            "=================================================================\n",
            " input_11 (InputLayer)       [(None, 50)]              0         \n",
            "                                                                 \n",
            " embedding_10 (Embedding)    (None, 50, 50)            436700    \n",
            "                                                                 \n",
            " conv1d_8 (Conv1D)           (None, 50, 32)            8032      \n",
            "                                                                 \n",
            " dropout_22 (Dropout)        (None, 50, 32)            0         \n",
            "                                                                 \n",
            " max_pooling1d_5 (MaxPooling  (None, 25, 32)           0         \n",
            " 1D)                                                             \n",
            "                                                                 \n",
            " flatten_1 (Flatten)         (None, 800)               0         \n",
            "                                                                 \n",
            " dense_18 (Dense)            (None, 64)                51264     \n",
            "                                                                 \n",
            " dropout_23 (Dropout)        (None, 64)                0         \n",
            "                                                                 \n",
            " dense_19 (Dense)            (None, 1)                 65        \n",
            "                                                                 \n",
            "=================================================================\n",
            "Total params: 496,061\n",
            "Trainable params: 496,061\n",
            "Non-trainable params: 0\n",
            "_________________________________________________________________\n"
          ]
        }
      ]
    },
    {
      "cell_type": "code",
      "source": [
        "history = model.fit(X_train, y_train, validation_data=(X_test, y_test), epochs=7, batch_size=128)"
      ],
      "metadata": {
        "colab": {
          "base_uri": "https://localhost:8080/"
        },
        "id": "P8lQOv8Msf8V",
        "outputId": "54bb8d44-298d-4e0b-87e2-26b7261b9e97"
      },
      "execution_count": 247,
      "outputs": [
        {
          "output_type": "stream",
          "name": "stdout",
          "text": [
            "Epoch 1/7\n",
            "70/70 [==============================] - 3s 35ms/step - loss: 0.6040 - accuracy: 0.6701 - val_loss: 0.4183 - val_accuracy: 0.8260\n",
            "Epoch 2/7\n",
            "70/70 [==============================] - 2s 32ms/step - loss: 0.3180 - accuracy: 0.8647 - val_loss: 0.3303 - val_accuracy: 0.8569\n",
            "Epoch 3/7\n",
            "70/70 [==============================] - 2s 33ms/step - loss: 0.2310 - accuracy: 0.9115 - val_loss: 0.3278 - val_accuracy: 0.8595\n",
            "Epoch 4/7\n",
            "70/70 [==============================] - 2s 32ms/step - loss: 0.1902 - accuracy: 0.9319 - val_loss: 0.3424 - val_accuracy: 0.8611\n",
            "Epoch 5/7\n",
            "70/70 [==============================] - 2s 32ms/step - loss: 0.1629 - accuracy: 0.9433 - val_loss: 0.3649 - val_accuracy: 0.8590\n",
            "Epoch 6/7\n",
            "70/70 [==============================] - 2s 32ms/step - loss: 0.1327 - accuracy: 0.9559 - val_loss: 0.4058 - val_accuracy: 0.8571\n",
            "Epoch 7/7\n",
            "70/70 [==============================] - 2s 33ms/step - loss: 0.1148 - accuracy: 0.9640 - val_loss: 0.4330 - val_accuracy: 0.8482\n"
          ]
        }
      ]
    },
    {
      "cell_type": "markdown",
      "source": [
        "### **LSTM Model**"
      ],
      "metadata": {
        "id": "0cY9-F83lqnt"
      }
    },
    {
      "cell_type": "code",
      "source": [
        "i = Input(shape=(50,))\n",
        "x = Embedding(vocab_size, 50, input_length=50)(i)\n",
        "x = Bidirectional(LSTM(128,return_sequences=True))(x)\n",
        "x = LSTM(64)(x)\n",
        "x = Dense(64, activation='relu')(x)\n",
        "x = Dropout(0.5)(x)\n",
        "x = Dense(1, activation='sigmoid')(x)"
      ],
      "metadata": {
        "id": "f9FMQ32ilyY8"
      },
      "execution_count": 214,
      "outputs": []
    },
    {
      "cell_type": "code",
      "source": [
        "model = Model(i, x)"
      ],
      "metadata": {
        "id": "HHxAyJNFqCdU"
      },
      "execution_count": 215,
      "outputs": []
    },
    {
      "cell_type": "code",
      "source": [
        "model.compile(optimizer='adam', loss='binary_crossentropy', metrics=['accuracy'])"
      ],
      "metadata": {
        "id": "0E9gGnvIqEou"
      },
      "execution_count": 216,
      "outputs": []
    },
    {
      "cell_type": "code",
      "source": [
        "model.summary()"
      ],
      "metadata": {
        "colab": {
          "base_uri": "https://localhost:8080/"
        },
        "id": "FcvdI5qMqGJ-",
        "outputId": "94c509f2-195c-4b17-ca1d-0cce527c4329"
      },
      "execution_count": 217,
      "outputs": [
        {
          "output_type": "stream",
          "name": "stdout",
          "text": [
            "Model: \"model_1\"\n",
            "_________________________________________________________________\n",
            " Layer (type)                Output Shape              Param #   \n",
            "=================================================================\n",
            " input_4 (InputLayer)        [(None, 50)]              0         \n",
            "                                                                 \n",
            " embedding_3 (Embedding)     (None, 50, 50)            436700    \n",
            "                                                                 \n",
            " bidirectional_3 (Bidirectio  (None, 50, 256)          183296    \n",
            " nal)                                                            \n",
            "                                                                 \n",
            " lstm_7 (LSTM)               (None, 64)                82176     \n",
            "                                                                 \n",
            " dense_4 (Dense)             (None, 64)                4160      \n",
            "                                                                 \n",
            " dropout_6 (Dropout)         (None, 64)                0         \n",
            "                                                                 \n",
            " dense_5 (Dense)             (None, 1)                 65        \n",
            "                                                                 \n",
            "=================================================================\n",
            "Total params: 706,397\n",
            "Trainable params: 706,397\n",
            "Non-trainable params: 0\n",
            "_________________________________________________________________\n"
          ]
        }
      ]
    },
    {
      "cell_type": "code",
      "source": [
        "history = model.fit(X_train, y_train, validation_data=(X_test, y_test), epochs=7, batch_size=128)"
      ],
      "metadata": {
        "colab": {
          "base_uri": "https://localhost:8080/"
        },
        "id": "PLXCO6A0qMNb",
        "outputId": "9a2825cb-d6b1-4c3f-9036-8af20edc83ac"
      },
      "execution_count": 218,
      "outputs": [
        {
          "output_type": "stream",
          "name": "stdout",
          "text": [
            "Epoch 1/7\n",
            "70/70 [==============================] - 97s 533ms/step - loss: 0.5185 - accuracy: 0.7371 - val_loss: 0.3490 - val_accuracy: 0.8490\n",
            "Epoch 2/7\n",
            "70/70 [==============================] - 35s 497ms/step - loss: 0.2857 - accuracy: 0.8861 - val_loss: 0.3269 - val_accuracy: 0.8643\n",
            "Epoch 3/7\n",
            "70/70 [==============================] - 36s 511ms/step - loss: 0.2194 - accuracy: 0.9179 - val_loss: 0.3569 - val_accuracy: 0.8553\n",
            "Epoch 4/7\n",
            "70/70 [==============================] - 35s 499ms/step - loss: 0.1819 - accuracy: 0.9338 - val_loss: 0.3829 - val_accuracy: 0.8545\n",
            "Epoch 5/7\n",
            "70/70 [==============================] - 35s 500ms/step - loss: 0.1609 - accuracy: 0.9400 - val_loss: 0.4464 - val_accuracy: 0.8524\n",
            "Epoch 6/7\n",
            "70/70 [==============================] - 35s 502ms/step - loss: 0.1411 - accuracy: 0.9493 - val_loss: 0.5052 - val_accuracy: 0.8426\n",
            "Epoch 7/7\n",
            "70/70 [==============================] - 36s 521ms/step - loss: 0.1150 - accuracy: 0.9583 - val_loss: 0.4672 - val_accuracy: 0.8437\n"
          ]
        }
      ]
    },
    {
      "cell_type": "code",
      "source": [
        "scores = model.evaluate(X_test, y_test, verbose=1)\n",
        "print(\"Accuracy: %.2f%%\" % (scores[1]*100))"
      ],
      "metadata": {
        "colab": {
          "base_uri": "https://localhost:8080/"
        },
        "id": "_c57pbMrrdBc",
        "outputId": "dc9d5713-a3ba-465d-a4fa-c008c2ea28cd"
      },
      "execution_count": 219,
      "outputs": [
        {
          "output_type": "stream",
          "name": "stdout",
          "text": [
            "119/119 [==============================] - 8s 63ms/step - loss: 0.4672 - accuracy: 0.8437\n",
            "Accuracy: 84.37%\n"
          ]
        }
      ]
    },
    {
      "cell_type": "markdown",
      "source": [
        "### **CNN-LSTM Model**"
      ],
      "metadata": {
        "id": "bRIuKT9ZfHk-"
      }
    },
    {
      "cell_type": "code",
      "source": [
        "i = Input(shape=(50,))\n",
        "x = Embedding(vocab_size, 50, input_length=50)(i)\n",
        "x = BatchNormalization()(x)\n",
        "x = Dropout(0.3)(x)\n",
        "x = Conv1D(32, 5, padding='same', activation='relu')(x)\n",
        "x = Dropout(0.3)(x)\n",
        "x = MaxPooling1D(2)(x)\n",
        "x = Bidirectional(LSTM(128,return_sequences=True))(x)\n",
        "x = LSTM(64)(x)\n",
        "x = Dense(64, activation='relu')(x)\n",
        "x = Dropout(0.5)(x)\n",
        "x = Dense(1, activation='sigmoid')(x)"
      ],
      "metadata": {
        "id": "6QHuDn1KemiN"
      },
      "execution_count": 249,
      "outputs": []
    },
    {
      "cell_type": "code",
      "source": [
        "model = Model(i, x)"
      ],
      "metadata": {
        "id": "C0a4lepHhMI-"
      },
      "execution_count": 250,
      "outputs": []
    },
    {
      "cell_type": "code",
      "source": [
        "model.compile(optimizer='adam', loss='binary_crossentropy', metrics=['accuracy'])"
      ],
      "metadata": {
        "id": "xqh10K0ohi58"
      },
      "execution_count": 251,
      "outputs": []
    },
    {
      "cell_type": "code",
      "source": [
        "model.summary()"
      ],
      "metadata": {
        "colab": {
          "base_uri": "https://localhost:8080/"
        },
        "id": "YCFV1qWXhmaT",
        "outputId": "77d4970e-69d4-4886-af86-0556c2d4c531"
      },
      "execution_count": 252,
      "outputs": [
        {
          "output_type": "stream",
          "name": "stdout",
          "text": [
            "Model: \"model_7\"\n",
            "_________________________________________________________________\n",
            " Layer (type)                Output Shape              Param #   \n",
            "=================================================================\n",
            " input_12 (InputLayer)       [(None, 50)]              0         \n",
            "                                                                 \n",
            " embedding_11 (Embedding)    (None, 50, 50)            436700    \n",
            "                                                                 \n",
            " batch_normalization_4 (Batc  (None, 50, 50)           200       \n",
            " hNormalization)                                                 \n",
            "                                                                 \n",
            " dropout_24 (Dropout)        (None, 50, 50)            0         \n",
            "                                                                 \n",
            " conv1d_9 (Conv1D)           (None, 50, 32)            8032      \n",
            "                                                                 \n",
            " dropout_25 (Dropout)        (None, 50, 32)            0         \n",
            "                                                                 \n",
            " max_pooling1d_6 (MaxPooling  (None, 25, 32)           0         \n",
            " 1D)                                                             \n",
            "                                                                 \n",
            " bidirectional_4 (Bidirectio  (None, 25, 256)          164864    \n",
            " nal)                                                            \n",
            "                                                                 \n",
            " lstm_9 (LSTM)               (None, 64)                82176     \n",
            "                                                                 \n",
            " dense_20 (Dense)            (None, 64)                4160      \n",
            "                                                                 \n",
            " dropout_26 (Dropout)        (None, 64)                0         \n",
            "                                                                 \n",
            " dense_21 (Dense)            (None, 1)                 65        \n",
            "                                                                 \n",
            "=================================================================\n",
            "Total params: 696,197\n",
            "Trainable params: 696,097\n",
            "Non-trainable params: 100\n",
            "_________________________________________________________________\n"
          ]
        }
      ]
    },
    {
      "cell_type": "code",
      "source": [
        "history = model.fit(X_train, y_train, validation_data=(X_test, y_test), epochs=10, batch_size=128)"
      ],
      "metadata": {
        "colab": {
          "base_uri": "https://localhost:8080/"
        },
        "id": "XWNwfosHhpLj",
        "outputId": "32e514c5-48b0-4a7b-e535-bab5e6662f0b"
      },
      "execution_count": 253,
      "outputs": [
        {
          "output_type": "stream",
          "name": "stdout",
          "text": [
            "Epoch 1/10\n",
            "70/70 [==============================] - 29s 325ms/step - loss: 0.4936 - accuracy: 0.7485 - val_loss: 0.6285 - val_accuracy: 0.8542\n",
            "Epoch 2/10\n",
            "70/70 [==============================] - 19s 271ms/step - loss: 0.3001 - accuracy: 0.8807 - val_loss: 0.6094 - val_accuracy: 0.8072\n",
            "Epoch 3/10\n",
            "70/70 [==============================] - 19s 270ms/step - loss: 0.2429 - accuracy: 0.9076 - val_loss: 0.5516 - val_accuracy: 0.8328\n",
            "Epoch 4/10\n",
            "70/70 [==============================] - 19s 271ms/step - loss: 0.2079 - accuracy: 0.9242 - val_loss: 0.4584 - val_accuracy: 0.8497\n",
            "Epoch 5/10\n",
            "70/70 [==============================] - 19s 273ms/step - loss: 0.1775 - accuracy: 0.9356 - val_loss: 0.4027 - val_accuracy: 0.8455\n",
            "Epoch 6/10\n",
            "70/70 [==============================] - 19s 277ms/step - loss: 0.1615 - accuracy: 0.9398 - val_loss: 0.3612 - val_accuracy: 0.8569\n",
            "Epoch 7/10\n",
            "70/70 [==============================] - 19s 278ms/step - loss: 0.1548 - accuracy: 0.9459 - val_loss: 0.3522 - val_accuracy: 0.8474\n",
            "Epoch 8/10\n",
            "70/70 [==============================] - 19s 278ms/step - loss: 0.1290 - accuracy: 0.9526 - val_loss: 0.4332 - val_accuracy: 0.8487\n",
            "Epoch 9/10\n",
            "70/70 [==============================] - 19s 279ms/step - loss: 0.1121 - accuracy: 0.9594 - val_loss: 0.4418 - val_accuracy: 0.8593\n",
            "Epoch 10/10\n",
            "70/70 [==============================] - 19s 278ms/step - loss: 0.1072 - accuracy: 0.9612 - val_loss: 0.4428 - val_accuracy: 0.8582\n"
          ]
        }
      ]
    },
    {
      "cell_type": "code",
      "source": [
        "scores = model.evaluate(X_test, y_test, verbose=1)\n",
        "print(\"Accuracy: %.2f%%\" % (scores[1]*100))"
      ],
      "metadata": {
        "colab": {
          "base_uri": "https://localhost:8080/"
        },
        "id": "ww-joccChuVB",
        "outputId": "d67f01a5-186b-4145-de92-4cbb12a51ba1"
      },
      "execution_count": 185,
      "outputs": [
        {
          "output_type": "stream",
          "name": "stdout",
          "text": [
            "119/119 [==============================] - 8s 68ms/step - loss: 0.3486 - accuracy: 0.8513\n",
            "Accuracy: 85.13%\n"
          ]
        }
      ]
    },
    {
      "cell_type": "code",
      "source": [
        "plot_model(model, show_shapes=True)"
      ],
      "metadata": {
        "colab": {
          "base_uri": "https://localhost:8080/",
          "height": 1000
        },
        "id": "gbvet5GPjUVu",
        "outputId": "77bd6e0b-5268-4b09-8996-0f5e2467d1f3"
      },
      "execution_count": 188,
      "outputs": [
        {
          "output_type": "execute_result",
          "data": {
            "image/png": "[encoded data removed]",
            "text/plain": [
              "<IPython.core.display.Image object>"
            ]
          },
          "metadata": {},
          "execution_count": 188
        }
      ]
    },
    {
      "cell_type": "code",
      "source": [
        "def plot_graphs(history, string):\n",
        "    pyplot.plot(history.history[string])\n",
        "    pyplot.plot(history.history['val_'+string])\n",
        "    pyplot.xlabel(\"Epochs\")\n",
        "    pyplot.ylabel(string)\n",
        "    pyplot.legend([string, 'val_'+string])\n",
        "    pyplot.show()"
      ],
      "metadata": {
        "id": "4qQvKPPmjZ2v"
      },
      "execution_count": 189,
      "outputs": []
    },
    {
      "cell_type": "code",
      "source": [
        "plot_graphs(history, 'accuracy')\n",
        "plot_graphs(history, 'loss')"
      ],
      "metadata": {
        "colab": {
          "base_uri": "https://localhost:8080/",
          "height": 541
        },
        "id": "aCJPqXJzjzcy",
        "outputId": "5b3b0a41-d8cb-4632-d4ec-9bc971c02585"
      },
      "execution_count": 190,
      "outputs": [
        {
          "output_type": "display_data",
          "data": {
            "text/plain": [
              "<Figure size 432x288 with 1 Axes>"
            ],
            "image/png": "[encoded data removed]"
          },
          "metadata": {
            "needs_background": "light"
          }
        },
        {
          "output_type": "display_data",
          "data": {
            "text/plain": [
              "<Figure size 432x288 with 1 Axes>"
            ],
            "image/png": "[encoded data removed]"
          },
          "metadata": {
            "needs_background": "light"
          }
        }
      ]
    },
    {
      "cell_type": "code",
      "source": [],
      "metadata": {
        "id": "FuWKyzVq-aWx"
      },
      "execution_count": null,
      "outputs": []
    },
    {
      "cell_type": "code",
      "source": [
        "def prediction(sentence):\n",
        "  data = tokenizer.texts_to_sequences([sentence])\n",
        "  data_pad_sequence = pad_sequences(data, maxlen=50)\n",
        "  perdiction = model.predict(data_pad_sequence)\n",
        "  print(perdiction[0])\n",
        "  if perdiction[0][0] > 0.5:\n",
        "    return \"positive\"\n",
        "  else: \n",
        "    return \"negative\" "
      ],
      "metadata": {
        "id": "ELSCheaCj1nz"
      },
      "execution_count": 203,
      "outputs": []
    },
    {
      "cell_type": "code",
      "source": [],
      "metadata": {
        "id": "O4DcJlwtkSXb"
      },
      "execution_count": null,
      "outputs": []
    }
  ]
}