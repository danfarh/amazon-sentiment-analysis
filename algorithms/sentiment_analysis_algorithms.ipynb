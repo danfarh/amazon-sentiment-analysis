{
  "nbformat": 4,
  "nbformat_minor": 0,
  "metadata": {
    "colab": {
      "provenance": []
    },
    "kernelspec": {
      "name": "python3",
      "display_name": "Python 3"
    },
    "language_info": {
      "name": "python"
    },
    "accelerator": "GPU",
    "gpuClass": "standard"
  },
  "cells": [
    {
      "cell_type": "markdown",
      "source": [
        "**import libraries**"
      ],
      "metadata": {
        "id": "rBDyNex2_1-D"
      }
    },
    {
      "cell_type": "code",
      "source": [
        "import numpy as np\n",
        "import pandas as pd\n",
        "import matplotlib.pyplot as plt\n",
        "import seaborn as sns\n",
        "from tensorflow.keras.utils import plot_model\n",
        "import re\n",
        "import pickle\n",
        "from sklearn.model_selection import train_test_split\n",
        "from tensorflow.keras.preprocessing.text import Tokenizer\n",
        "from tensorflow.keras.preprocessing.sequence import pad_sequences\n",
        "from tensorflow.keras.models import Model\n",
        "from keras.layers import Dense, Input, Embedding, LSTM, Conv1D, Dropout, MaxPooling1D, BatchNormalization, Bidirectional, GlobalMaxPooling1D, Flatten"
      ],
      "metadata": {
        "id": "q-Pz1w1-_GcG"
      },
      "execution_count": 1,
      "outputs": []
    },
    {
      "cell_type": "code",
      "source": [
        "from sklearn.metrics import classification_report, confusion_matrix"
      ],
      "metadata": {
        "id": "6qC5HMP1A67j"
      },
      "execution_count": 2,
      "outputs": []
    },
    {
      "cell_type": "code",
      "source": [
        "!pip install nltk"
      ],
      "metadata": {
        "colab": {
          "base_uri": "https://localhost:8080/"
        },
        "id": "q9_AL12mTNYF",
        "outputId": "34044805-d8d6-4d51-d652-b41aeb7ac599"
      },
      "execution_count": 3,
      "outputs": [
        {
          "output_type": "stream",
          "name": "stdout",
          "text": [
            "Looking in indexes: https://pypi.org/simple, https://us-python.pkg.dev/colab-wheels/public/simple/\n",
            "Requirement already satisfied: nltk in /usr/local/lib/python3.8/dist-packages (3.7)\n",
            "Requirement already satisfied: click in /usr/local/lib/python3.8/dist-packages (from nltk) (7.1.2)\n",
            "Requirement already satisfied: tqdm in /usr/local/lib/python3.8/dist-packages (from nltk) (4.64.1)\n",
            "Requirement already satisfied: regex>=2021.8.3 in /usr/local/lib/python3.8/dist-packages (from nltk) (2022.6.2)\n",
            "Requirement already satisfied: joblib in /usr/local/lib/python3.8/dist-packages (from nltk) (1.2.0)\n"
          ]
        }
      ]
    },
    {
      "cell_type": "code",
      "source": [
        "import nltk\n",
        "nltk.download('punkt')\n",
        "nltk.download('stopwords')\n",
        "nltk.download('wordnet')\n",
        "nltk.download('omw-1.4')"
      ],
      "metadata": {
        "colab": {
          "base_uri": "https://localhost:8080/"
        },
        "id": "InkBU3TaUjS-",
        "outputId": "9f2a054a-8239-4ae3-d1f6-52d50ba4f40e"
      },
      "execution_count": 4,
      "outputs": [
        {
          "output_type": "stream",
          "name": "stderr",
          "text": [
            "[nltk_data] Downloading package punkt to /root/nltk_data...\n",
            "[nltk_data]   Unzipping tokenizers/punkt.zip.\n",
            "[nltk_data] Downloading package stopwords to /root/nltk_data...\n",
            "[nltk_data]   Unzipping corpora/stopwords.zip.\n",
            "[nltk_data] Downloading package wordnet to /root/nltk_data...\n",
            "[nltk_data] Downloading package omw-1.4 to /root/nltk_data...\n"
          ]
        },
        {
          "output_type": "execute_result",
          "data": {
            "text/plain": [
              "True"
            ]
          },
          "metadata": {},
          "execution_count": 4
        }
      ]
    },
    {
      "cell_type": "code",
      "source": [
        "from nltk.tokenize import word_tokenize, RegexpTokenizer\n",
        "from nltk.corpus import stopwords\n",
        "from nltk.stem import WordNetLemmatizer"
      ],
      "metadata": {
        "id": "hqj-IL4eTR60"
      },
      "execution_count": 5,
      "outputs": []
    },
    {
      "cell_type": "markdown",
      "source": [
        "### **Read Dataset**"
      ],
      "metadata": {
        "id": "a73F87b4-pI6"
      }
    },
    {
      "cell_type": "code",
      "execution_count": 60,
      "metadata": {
        "colab": {
          "base_uri": "https://localhost:8080/"
        },
        "id": "Z_LfwWSb-aID",
        "outputId": "9acaf062-8ddb-4c41-cd99-47071eb1b0c1"
      },
      "outputs": [
        {
          "output_type": "stream",
          "name": "stdout",
          "text": [
            "/usr/local/lib/python3.8/dist-packages/gdown/cli.py:127: FutureWarning: Option `--id` was deprecated in version 4.3.1 and will be removed in 5.0. You don't need to pass it anymore to use a file ID.\n",
            "  warnings.warn(\n",
            "Downloading...\n",
            "From: https://drive.google.com/uc?id=1kt7tyva7GytaaG-Rgbf-1bb2ZchHQe_f\n",
            "To: /content/review_20_clothing_product.csv\n",
            "100% 16.0M/16.0M [00:00<00:00, 163MB/s]\n"
          ]
        }
      ],
      "source": [
        "!gdown --id 1kt7tyva7GytaaG-Rgbf-1bb2ZchHQe_f"
      ]
    },
    {
      "cell_type": "code",
      "source": [
        "df = pd.read_csv('/content/review_20_clothing_product.csv')"
      ],
      "metadata": {
        "id": "zVXZ6BdG_AOj"
      },
      "execution_count": 61,
      "outputs": []
    },
    {
      "cell_type": "code",
      "source": [
        "df.head()"
      ],
      "metadata": {
        "colab": {
          "base_uri": "https://localhost:8080/",
          "height": 206
        },
        "id": "8et1XWxA_Kpx",
        "outputId": "33455c8b-5bf3-4308-ed2b-89244558b6f3"
      },
      "execution_count": 62,
      "outputs": [
        {
          "output_type": "execute_result",
          "data": {
            "text/plain": [
              "   Unnamed: 0               stars                               title  \\\n",
              "0           0  4.0 out of 5 stars  Short people and big booty Judy’s.   \n",
              "1           1  4.0 out of 5 stars                         Great Pants   \n",
              "2           2  5.0 out of 5 stars                           Kinda big   \n",
              "3           3  5.0 out of 5 stars             OMG I love these pants.   \n",
              "4           4  4.0 out of 5 stars                     Nice, but large   \n",
              "\n",
              "                                                body  \n",
              "0  Honest review would be more like a 4.5. Issue ...  \n",
              "1  I LOVE these pants! I originally bought 2x bec...  \n",
              "2  I usually wear a medium however this was close...  \n",
              "3  They feel so good and smooth. Great if you are...  \n",
              "4  These are comfortable, but as others have ment...  "
            ],
            "text/html": [
              "\n",
              "  <div id=\"df-fd2bd7f9-8322-4ad3-9677-16875e3bddc8\">\n",
              "    <div class=\"colab-df-container\">\n",
              "      <div>\n",
              "<style scoped>\n",
              "    .dataframe tbody tr th:only-of-type {\n",
              "        vertical-align: middle;\n",
              "    }\n",
              "\n",
              "    .dataframe tbody tr th {\n",
              "        vertical-align: top;\n",
              "    }\n",
              "\n",
              "    .dataframe thead th {\n",
              "        text-align: right;\n",
              "    }\n",
              "</style>\n",
              "<table border=\"1\" class=\"dataframe\">\n",
              "  <thead>\n",
              "    <tr style=\"text-align: right;\">\n",
              "      <th></th>\n",
              "      <th>Unnamed: 0</th>\n",
              "      <th>stars</th>\n",
              "      <th>title</th>\n",
              "      <th>body</th>\n",
              "    </tr>\n",
              "  </thead>\n",
              "  <tbody>\n",
              "    <tr>\n",
              "      <th>0</th>\n",
              "      <td>0</td>\n",
              "      <td>4.0 out of 5 stars</td>\n",
              "      <td>Short people and big booty Judy’s.</td>\n",
              "      <td>Honest review would be more like a 4.5. Issue ...</td>\n",
              "    </tr>\n",
              "    <tr>\n",
              "      <th>1</th>\n",
              "      <td>1</td>\n",
              "      <td>4.0 out of 5 stars</td>\n",
              "      <td>Great Pants</td>\n",
              "      <td>I LOVE these pants! I originally bought 2x bec...</td>\n",
              "    </tr>\n",
              "    <tr>\n",
              "      <th>2</th>\n",
              "      <td>2</td>\n",
              "      <td>5.0 out of 5 stars</td>\n",
              "      <td>Kinda big</td>\n",
              "      <td>I usually wear a medium however this was close...</td>\n",
              "    </tr>\n",
              "    <tr>\n",
              "      <th>3</th>\n",
              "      <td>3</td>\n",
              "      <td>5.0 out of 5 stars</td>\n",
              "      <td>OMG I love these pants.</td>\n",
              "      <td>They feel so good and smooth. Great if you are...</td>\n",
              "    </tr>\n",
              "    <tr>\n",
              "      <th>4</th>\n",
              "      <td>4</td>\n",
              "      <td>4.0 out of 5 stars</td>\n",
              "      <td>Nice, but large</td>\n",
              "      <td>These are comfortable, but as others have ment...</td>\n",
              "    </tr>\n",
              "  </tbody>\n",
              "</table>\n",
              "</div>\n",
              "      <button class=\"colab-df-convert\" onclick=\"convertToInteractive('df-fd2bd7f9-8322-4ad3-9677-16875e3bddc8')\"\n",
              "              title=\"Convert this dataframe to an interactive table.\"\n",
              "              style=\"display:none;\">\n",
              "        \n",
              "  <svg xmlns=\"http://www.w3.org/2000/svg\" height=\"24px\"viewBox=\"0 0 24 24\"\n",
              "       width=\"24px\">\n",
              "    <path d=\"M0 0h24v24H0V0z\" fill=\"none\"/>\n",
              "    <path d=\"M18.56 5.44l.94 2.06.94-2.06 2.06-.94-2.06-.94-.94-2.06-.94 2.06-2.06.94zm-11 1L8.5 8.5l.94-2.06 2.06-.94-2.06-.94L8.5 2.5l-.94 2.06-2.06.94zm10 10l.94 2.06.94-2.06 2.06-.94-2.06-.94-.94-2.06-.94 2.06-2.06.94z\"/><path d=\"M17.41 7.96l-1.37-1.37c-.4-.4-.92-.59-1.43-.59-.52 0-1.04.2-1.43.59L10.3 9.45l-7.72 7.72c-.78.78-.78 2.05 0 2.83L4 21.41c.39.39.9.59 1.41.59.51 0 1.02-.2 1.41-.59l7.78-7.78 2.81-2.81c.8-.78.8-2.07 0-2.86zM5.41 20L4 18.59l7.72-7.72 1.47 1.35L5.41 20z\"/>\n",
              "  </svg>\n",
              "      </button>\n",
              "      \n",
              "  <style>\n",
              "    .colab-df-container {\n",
              "      display:flex;\n",
              "      flex-wrap:wrap;\n",
              "      gap: 12px;\n",
              "    }\n",
              "\n",
              "    .colab-df-convert {\n",
              "      background-color: #E8F0FE;\n",
              "      border: none;\n",
              "      border-radius: 50%;\n",
              "      cursor: pointer;\n",
              "      display: none;\n",
              "      fill: #1967D2;\n",
              "      height: 32px;\n",
              "      padding: 0 0 0 0;\n",
              "      width: 32px;\n",
              "    }\n",
              "\n",
              "    .colab-df-convert:hover {\n",
              "      background-color: #E2EBFA;\n",
              "      box-shadow: 0px 1px 2px rgba(60, 64, 67, 0.3), 0px 1px 3px 1px rgba(60, 64, 67, 0.15);\n",
              "      fill: #174EA6;\n",
              "    }\n",
              "\n",
              "    [theme=dark] .colab-df-convert {\n",
              "      background-color: #3B4455;\n",
              "      fill: #D2E3FC;\n",
              "    }\n",
              "\n",
              "    [theme=dark] .colab-df-convert:hover {\n",
              "      background-color: #434B5C;\n",
              "      box-shadow: 0px 1px 3px 1px rgba(0, 0, 0, 0.15);\n",
              "      filter: drop-shadow(0px 1px 2px rgba(0, 0, 0, 0.3));\n",
              "      fill: #FFFFFF;\n",
              "    }\n",
              "  </style>\n",
              "\n",
              "      <script>\n",
              "        const buttonEl =\n",
              "          document.querySelector('#df-fd2bd7f9-8322-4ad3-9677-16875e3bddc8 button.colab-df-convert');\n",
              "        buttonEl.style.display =\n",
              "          google.colab.kernel.accessAllowed ? 'block' : 'none';\n",
              "\n",
              "        async function convertToInteractive(key) {\n",
              "          const element = document.querySelector('#df-fd2bd7f9-8322-4ad3-9677-16875e3bddc8');\n",
              "          const dataTable =\n",
              "            await google.colab.kernel.invokeFunction('convertToInteractive',\n",
              "                                                     [key], {});\n",
              "          if (!dataTable) return;\n",
              "\n",
              "          const docLinkHtml = 'Like what you see? Visit the ' +\n",
              "            '<a target=\"_blank\" href=https://colab.research.google.com/notebooks/data_table.ipynb>data table notebook</a>'\n",
              "            + ' to learn more about interactive tables.';\n",
              "          element.innerHTML = '';\n",
              "          dataTable['output_type'] = 'display_data';\n",
              "          await google.colab.output.renderOutput(dataTable, element);\n",
              "          const docLink = document.createElement('div');\n",
              "          docLink.innerHTML = docLinkHtml;\n",
              "          element.appendChild(docLink);\n",
              "        }\n",
              "      </script>\n",
              "    </div>\n",
              "  </div>\n",
              "  "
            ]
          },
          "metadata": {},
          "execution_count": 62
        }
      ]
    },
    {
      "cell_type": "code",
      "source": [
        "df.shape"
      ],
      "metadata": {
        "colab": {
          "base_uri": "https://localhost:8080/"
        },
        "id": "E79HNcXf_MDu",
        "outputId": "7580a7c4-9441-4257-870a-076689b48f5f"
      },
      "execution_count": 63,
      "outputs": [
        {
          "output_type": "execute_result",
          "data": {
            "text/plain": [
              "(84474, 4)"
            ]
          },
          "metadata": {},
          "execution_count": 63
        }
      ]
    },
    {
      "cell_type": "markdown",
      "source": [
        "**Prepare Dataset**"
      ],
      "metadata": {
        "id": "0GshhoJTCR9Q"
      }
    },
    {
      "cell_type": "code",
      "source": [
        "df['star'] = df['stars'].apply(lambda x: str(x).split()[0]).astype(float)"
      ],
      "metadata": {
        "id": "CAtJ7O-f_b1V"
      },
      "execution_count": 64,
      "outputs": []
    },
    {
      "cell_type": "code",
      "source": [
        "df.head(3)"
      ],
      "metadata": {
        "colab": {
          "base_uri": "https://localhost:8080/",
          "height": 143
        },
        "id": "bvRRiqFJ_kGb",
        "outputId": "cb79879b-3b51-4715-9c95-1a19cecadcc5"
      },
      "execution_count": 65,
      "outputs": [
        {
          "output_type": "execute_result",
          "data": {
            "text/plain": [
              "   Unnamed: 0               stars                               title  \\\n",
              "0           0  4.0 out of 5 stars  Short people and big booty Judy’s.   \n",
              "1           1  4.0 out of 5 stars                         Great Pants   \n",
              "2           2  5.0 out of 5 stars                           Kinda big   \n",
              "\n",
              "                                                body  star  \n",
              "0  Honest review would be more like a 4.5. Issue ...   4.0  \n",
              "1  I LOVE these pants! I originally bought 2x bec...   4.0  \n",
              "2  I usually wear a medium however this was close...   5.0  "
            ],
            "text/html": [
              "\n",
              "  <div id=\"df-5209ccca-b738-4381-a943-c6bb6324169e\">\n",
              "    <div class=\"colab-df-container\">\n",
              "      <div>\n",
              "<style scoped>\n",
              "    .dataframe tbody tr th:only-of-type {\n",
              "        vertical-align: middle;\n",
              "    }\n",
              "\n",
              "    .dataframe tbody tr th {\n",
              "        vertical-align: top;\n",
              "    }\n",
              "\n",
              "    .dataframe thead th {\n",
              "        text-align: right;\n",
              "    }\n",
              "</style>\n",
              "<table border=\"1\" class=\"dataframe\">\n",
              "  <thead>\n",
              "    <tr style=\"text-align: right;\">\n",
              "      <th></th>\n",
              "      <th>Unnamed: 0</th>\n",
              "      <th>stars</th>\n",
              "      <th>title</th>\n",
              "      <th>body</th>\n",
              "      <th>star</th>\n",
              "    </tr>\n",
              "  </thead>\n",
              "  <tbody>\n",
              "    <tr>\n",
              "      <th>0</th>\n",
              "      <td>0</td>\n",
              "      <td>4.0 out of 5 stars</td>\n",
              "      <td>Short people and big booty Judy’s.</td>\n",
              "      <td>Honest review would be more like a 4.5. Issue ...</td>\n",
              "      <td>4.0</td>\n",
              "    </tr>\n",
              "    <tr>\n",
              "      <th>1</th>\n",
              "      <td>1</td>\n",
              "      <td>4.0 out of 5 stars</td>\n",
              "      <td>Great Pants</td>\n",
              "      <td>I LOVE these pants! I originally bought 2x bec...</td>\n",
              "      <td>4.0</td>\n",
              "    </tr>\n",
              "    <tr>\n",
              "      <th>2</th>\n",
              "      <td>2</td>\n",
              "      <td>5.0 out of 5 stars</td>\n",
              "      <td>Kinda big</td>\n",
              "      <td>I usually wear a medium however this was close...</td>\n",
              "      <td>5.0</td>\n",
              "    </tr>\n",
              "  </tbody>\n",
              "</table>\n",
              "</div>\n",
              "      <button class=\"colab-df-convert\" onclick=\"convertToInteractive('df-5209ccca-b738-4381-a943-c6bb6324169e')\"\n",
              "              title=\"Convert this dataframe to an interactive table.\"\n",
              "              style=\"display:none;\">\n",
              "        \n",
              "  <svg xmlns=\"http://www.w3.org/2000/svg\" height=\"24px\"viewBox=\"0 0 24 24\"\n",
              "       width=\"24px\">\n",
              "    <path d=\"M0 0h24v24H0V0z\" fill=\"none\"/>\n",
              "    <path d=\"M18.56 5.44l.94 2.06.94-2.06 2.06-.94-2.06-.94-.94-2.06-.94 2.06-2.06.94zm-11 1L8.5 8.5l.94-2.06 2.06-.94-2.06-.94L8.5 2.5l-.94 2.06-2.06.94zm10 10l.94 2.06.94-2.06 2.06-.94-2.06-.94-.94-2.06-.94 2.06-2.06.94z\"/><path d=\"M17.41 7.96l-1.37-1.37c-.4-.4-.92-.59-1.43-.59-.52 0-1.04.2-1.43.59L10.3 9.45l-7.72 7.72c-.78.78-.78 2.05 0 2.83L4 21.41c.39.39.9.59 1.41.59.51 0 1.02-.2 1.41-.59l7.78-7.78 2.81-2.81c.8-.78.8-2.07 0-2.86zM5.41 20L4 18.59l7.72-7.72 1.47 1.35L5.41 20z\"/>\n",
              "  </svg>\n",
              "      </button>\n",
              "      \n",
              "  <style>\n",
              "    .colab-df-container {\n",
              "      display:flex;\n",
              "      flex-wrap:wrap;\n",
              "      gap: 12px;\n",
              "    }\n",
              "\n",
              "    .colab-df-convert {\n",
              "      background-color: #E8F0FE;\n",
              "      border: none;\n",
              "      border-radius: 50%;\n",
              "      cursor: pointer;\n",
              "      display: none;\n",
              "      fill: #1967D2;\n",
              "      height: 32px;\n",
              "      padding: 0 0 0 0;\n",
              "      width: 32px;\n",
              "    }\n",
              "\n",
              "    .colab-df-convert:hover {\n",
              "      background-color: #E2EBFA;\n",
              "      box-shadow: 0px 1px 2px rgba(60, 64, 67, 0.3), 0px 1px 3px 1px rgba(60, 64, 67, 0.15);\n",
              "      fill: #174EA6;\n",
              "    }\n",
              "\n",
              "    [theme=dark] .colab-df-convert {\n",
              "      background-color: #3B4455;\n",
              "      fill: #D2E3FC;\n",
              "    }\n",
              "\n",
              "    [theme=dark] .colab-df-convert:hover {\n",
              "      background-color: #434B5C;\n",
              "      box-shadow: 0px 1px 3px 1px rgba(0, 0, 0, 0.15);\n",
              "      filter: drop-shadow(0px 1px 2px rgba(0, 0, 0, 0.3));\n",
              "      fill: #FFFFFF;\n",
              "    }\n",
              "  </style>\n",
              "\n",
              "      <script>\n",
              "        const buttonEl =\n",
              "          document.querySelector('#df-5209ccca-b738-4381-a943-c6bb6324169e button.colab-df-convert');\n",
              "        buttonEl.style.display =\n",
              "          google.colab.kernel.accessAllowed ? 'block' : 'none';\n",
              "\n",
              "        async function convertToInteractive(key) {\n",
              "          const element = document.querySelector('#df-5209ccca-b738-4381-a943-c6bb6324169e');\n",
              "          const dataTable =\n",
              "            await google.colab.kernel.invokeFunction('convertToInteractive',\n",
              "                                                     [key], {});\n",
              "          if (!dataTable) return;\n",
              "\n",
              "          const docLinkHtml = 'Like what you see? Visit the ' +\n",
              "            '<a target=\"_blank\" href=https://colab.research.google.com/notebooks/data_table.ipynb>data table notebook</a>'\n",
              "            + ' to learn more about interactive tables.';\n",
              "          element.innerHTML = '';\n",
              "          dataTable['output_type'] = 'display_data';\n",
              "          await google.colab.output.renderOutput(dataTable, element);\n",
              "          const docLink = document.createElement('div');\n",
              "          docLink.innerHTML = docLinkHtml;\n",
              "          element.appendChild(docLink);\n",
              "        }\n",
              "      </script>\n",
              "    </div>\n",
              "  </div>\n",
              "  "
            ]
          },
          "metadata": {},
          "execution_count": 65
        }
      ]
    },
    {
      "cell_type": "code",
      "source": [
        "df.shape"
      ],
      "metadata": {
        "colab": {
          "base_uri": "https://localhost:8080/"
        },
        "id": "qSCsFntuevV_",
        "outputId": "91746f2b-8a41-4a1e-c502-d8a726153722"
      },
      "execution_count": 66,
      "outputs": [
        {
          "output_type": "execute_result",
          "data": {
            "text/plain": [
              "(84474, 5)"
            ]
          },
          "metadata": {},
          "execution_count": 66
        }
      ]
    },
    {
      "cell_type": "code",
      "source": [
        "#remove 3 stars reviews\n",
        "indexAge = df[(df['star'] == 3)].index\n",
        "df.drop(indexAge, inplace=True)"
      ],
      "metadata": {
        "id": "t47_HhB0efhQ"
      },
      "execution_count": 67,
      "outputs": []
    },
    {
      "cell_type": "code",
      "source": [
        "df.shape"
      ],
      "metadata": {
        "colab": {
          "base_uri": "https://localhost:8080/"
        },
        "id": "4oekop4ygQ4F",
        "outputId": "97e50fcd-cf32-4029-d0b0-ab1280adfd16"
      },
      "execution_count": 68,
      "outputs": [
        {
          "output_type": "execute_result",
          "data": {
            "text/plain": [
              "(77483, 5)"
            ]
          },
          "metadata": {},
          "execution_count": 68
        }
      ]
    },
    {
      "cell_type": "code",
      "source": [
        "df['sentiment'] = df['star'].apply(lambda x: 1 if x >= 3 else 0)"
      ],
      "metadata": {
        "id": "pGRB_P1z_f7c"
      },
      "execution_count": 69,
      "outputs": []
    },
    {
      "cell_type": "code",
      "source": [
        "df.head(3)"
      ],
      "metadata": {
        "colab": {
          "base_uri": "https://localhost:8080/",
          "height": 143
        },
        "id": "bPoAmWg5_iyy",
        "outputId": "20a4e052-e9fc-4fc8-fb1e-951534d0219f"
      },
      "execution_count": 70,
      "outputs": [
        {
          "output_type": "execute_result",
          "data": {
            "text/plain": [
              "   Unnamed: 0               stars                               title  \\\n",
              "0           0  4.0 out of 5 stars  Short people and big booty Judy’s.   \n",
              "1           1  4.0 out of 5 stars                         Great Pants   \n",
              "2           2  5.0 out of 5 stars                           Kinda big   \n",
              "\n",
              "                                                body  star  sentiment  \n",
              "0  Honest review would be more like a 4.5. Issue ...   4.0          1  \n",
              "1  I LOVE these pants! I originally bought 2x bec...   4.0          1  \n",
              "2  I usually wear a medium however this was close...   5.0          1  "
            ],
            "text/html": [
              "\n",
              "  <div id=\"df-075de89d-4972-4ce6-a4a3-8406661d48f5\">\n",
              "    <div class=\"colab-df-container\">\n",
              "      <div>\n",
              "<style scoped>\n",
              "    .dataframe tbody tr th:only-of-type {\n",
              "        vertical-align: middle;\n",
              "    }\n",
              "\n",
              "    .dataframe tbody tr th {\n",
              "        vertical-align: top;\n",
              "    }\n",
              "\n",
              "    .dataframe thead th {\n",
              "        text-align: right;\n",
              "    }\n",
              "</style>\n",
              "<table border=\"1\" class=\"dataframe\">\n",
              "  <thead>\n",
              "    <tr style=\"text-align: right;\">\n",
              "      <th></th>\n",
              "      <th>Unnamed: 0</th>\n",
              "      <th>stars</th>\n",
              "      <th>title</th>\n",
              "      <th>body</th>\n",
              "      <th>star</th>\n",
              "      <th>sentiment</th>\n",
              "    </tr>\n",
              "  </thead>\n",
              "  <tbody>\n",
              "    <tr>\n",
              "      <th>0</th>\n",
              "      <td>0</td>\n",
              "      <td>4.0 out of 5 stars</td>\n",
              "      <td>Short people and big booty Judy’s.</td>\n",
              "      <td>Honest review would be more like a 4.5. Issue ...</td>\n",
              "      <td>4.0</td>\n",
              "      <td>1</td>\n",
              "    </tr>\n",
              "    <tr>\n",
              "      <th>1</th>\n",
              "      <td>1</td>\n",
              "      <td>4.0 out of 5 stars</td>\n",
              "      <td>Great Pants</td>\n",
              "      <td>I LOVE these pants! I originally bought 2x bec...</td>\n",
              "      <td>4.0</td>\n",
              "      <td>1</td>\n",
              "    </tr>\n",
              "    <tr>\n",
              "      <th>2</th>\n",
              "      <td>2</td>\n",
              "      <td>5.0 out of 5 stars</td>\n",
              "      <td>Kinda big</td>\n",
              "      <td>I usually wear a medium however this was close...</td>\n",
              "      <td>5.0</td>\n",
              "      <td>1</td>\n",
              "    </tr>\n",
              "  </tbody>\n",
              "</table>\n",
              "</div>\n",
              "      <button class=\"colab-df-convert\" onclick=\"convertToInteractive('df-075de89d-4972-4ce6-a4a3-8406661d48f5')\"\n",
              "              title=\"Convert this dataframe to an interactive table.\"\n",
              "              style=\"display:none;\">\n",
              "        \n",
              "  <svg xmlns=\"http://www.w3.org/2000/svg\" height=\"24px\"viewBox=\"0 0 24 24\"\n",
              "       width=\"24px\">\n",
              "    <path d=\"M0 0h24v24H0V0z\" fill=\"none\"/>\n",
              "    <path d=\"M18.56 5.44l.94 2.06.94-2.06 2.06-.94-2.06-.94-.94-2.06-.94 2.06-2.06.94zm-11 1L8.5 8.5l.94-2.06 2.06-.94-2.06-.94L8.5 2.5l-.94 2.06-2.06.94zm10 10l.94 2.06.94-2.06 2.06-.94-2.06-.94-.94-2.06-.94 2.06-2.06.94z\"/><path d=\"M17.41 7.96l-1.37-1.37c-.4-.4-.92-.59-1.43-.59-.52 0-1.04.2-1.43.59L10.3 9.45l-7.72 7.72c-.78.78-.78 2.05 0 2.83L4 21.41c.39.39.9.59 1.41.59.51 0 1.02-.2 1.41-.59l7.78-7.78 2.81-2.81c.8-.78.8-2.07 0-2.86zM5.41 20L4 18.59l7.72-7.72 1.47 1.35L5.41 20z\"/>\n",
              "  </svg>\n",
              "      </button>\n",
              "      \n",
              "  <style>\n",
              "    .colab-df-container {\n",
              "      display:flex;\n",
              "      flex-wrap:wrap;\n",
              "      gap: 12px;\n",
              "    }\n",
              "\n",
              "    .colab-df-convert {\n",
              "      background-color: #E8F0FE;\n",
              "      border: none;\n",
              "      border-radius: 50%;\n",
              "      cursor: pointer;\n",
              "      display: none;\n",
              "      fill: #1967D2;\n",
              "      height: 32px;\n",
              "      padding: 0 0 0 0;\n",
              "      width: 32px;\n",
              "    }\n",
              "\n",
              "    .colab-df-convert:hover {\n",
              "      background-color: #E2EBFA;\n",
              "      box-shadow: 0px 1px 2px rgba(60, 64, 67, 0.3), 0px 1px 3px 1px rgba(60, 64, 67, 0.15);\n",
              "      fill: #174EA6;\n",
              "    }\n",
              "\n",
              "    [theme=dark] .colab-df-convert {\n",
              "      background-color: #3B4455;\n",
              "      fill: #D2E3FC;\n",
              "    }\n",
              "\n",
              "    [theme=dark] .colab-df-convert:hover {\n",
              "      background-color: #434B5C;\n",
              "      box-shadow: 0px 1px 3px 1px rgba(0, 0, 0, 0.15);\n",
              "      filter: drop-shadow(0px 1px 2px rgba(0, 0, 0, 0.3));\n",
              "      fill: #FFFFFF;\n",
              "    }\n",
              "  </style>\n",
              "\n",
              "      <script>\n",
              "        const buttonEl =\n",
              "          document.querySelector('#df-075de89d-4972-4ce6-a4a3-8406661d48f5 button.colab-df-convert');\n",
              "        buttonEl.style.display =\n",
              "          google.colab.kernel.accessAllowed ? 'block' : 'none';\n",
              "\n",
              "        async function convertToInteractive(key) {\n",
              "          const element = document.querySelector('#df-075de89d-4972-4ce6-a4a3-8406661d48f5');\n",
              "          const dataTable =\n",
              "            await google.colab.kernel.invokeFunction('convertToInteractive',\n",
              "                                                     [key], {});\n",
              "          if (!dataTable) return;\n",
              "\n",
              "          const docLinkHtml = 'Like what you see? Visit the ' +\n",
              "            '<a target=\"_blank\" href=https://colab.research.google.com/notebooks/data_table.ipynb>data table notebook</a>'\n",
              "            + ' to learn more about interactive tables.';\n",
              "          element.innerHTML = '';\n",
              "          dataTable['output_type'] = 'display_data';\n",
              "          await google.colab.output.renderOutput(dataTable, element);\n",
              "          const docLink = document.createElement('div');\n",
              "          docLink.innerHTML = docLinkHtml;\n",
              "          element.appendChild(docLink);\n",
              "        }\n",
              "      </script>\n",
              "    </div>\n",
              "  </div>\n",
              "  "
            ]
          },
          "metadata": {},
          "execution_count": 70
        }
      ]
    },
    {
      "cell_type": "code",
      "source": [
        "df['sentiment'].unique()"
      ],
      "metadata": {
        "colab": {
          "base_uri": "https://localhost:8080/"
        },
        "id": "SdjSKZBl_nO2",
        "outputId": "9aba3935-292f-424b-ed4d-c84b6e53dcd0"
      },
      "execution_count": 71,
      "outputs": [
        {
          "output_type": "execute_result",
          "data": {
            "text/plain": [
              "array([1, 0])"
            ]
          },
          "metadata": {},
          "execution_count": 71
        }
      ]
    },
    {
      "cell_type": "code",
      "source": [
        "df['sentiment'].value_counts()"
      ],
      "metadata": {
        "colab": {
          "base_uri": "https://localhost:8080/"
        },
        "id": "6DWBsKhj_tNA",
        "outputId": "0c725167-d025-43a7-f641-65cb46fed175"
      },
      "execution_count": 72,
      "outputs": [
        {
          "output_type": "execute_result",
          "data": {
            "text/plain": [
              "1    64680\n",
              "0    12803\n",
              "Name: sentiment, dtype: int64"
            ]
          },
          "metadata": {},
          "execution_count": 72
        }
      ]
    },
    {
      "cell_type": "code",
      "source": [
        "positive = df[(df['sentiment'] == 1)]\n",
        "negative = df[(df['sentiment'] == 0)]"
      ],
      "metadata": {
        "id": "5CjGJQPF77BD"
      },
      "execution_count": 73,
      "outputs": []
    },
    {
      "cell_type": "code",
      "source": [
        "print(positive.shape)\n",
        "print(negative.shape)"
      ],
      "metadata": {
        "colab": {
          "base_uri": "https://localhost:8080/"
        },
        "id": "vydqK4f6_51b",
        "outputId": "48487347-a6ea-4cd4-dbd1-f2397811f04a"
      },
      "execution_count": 74,
      "outputs": [
        {
          "output_type": "stream",
          "name": "stdout",
          "text": [
            "(64680, 6)\n",
            "(12803, 6)\n"
          ]
        }
      ]
    },
    {
      "cell_type": "code",
      "source": [
        "#positive_sample = positive.sample(n=13000, replace=True, random_state=50)\n",
        "positive_sample = positive.sample(n=64680, replace=True, random_state=50)"
      ],
      "metadata": {
        "id": "djnR9Rp2AAr2"
      },
      "execution_count": 75,
      "outputs": []
    },
    {
      "cell_type": "code",
      "source": [
        "print(positive_sample.shape)\n",
        "print(negative.shape)"
      ],
      "metadata": {
        "colab": {
          "base_uri": "https://localhost:8080/"
        },
        "id": "rhdaRbavBHtV",
        "outputId": "11f64524-753a-4764-a429-670efccb7b39"
      },
      "execution_count": 76,
      "outputs": [
        {
          "output_type": "stream",
          "name": "stdout",
          "text": [
            "(64680, 6)\n",
            "(12803, 6)\n"
          ]
        }
      ]
    },
    {
      "cell_type": "code",
      "source": [
        "data = pd.concat([positive_sample, negative], axis=0)"
      ],
      "metadata": {
        "id": "bHfxJEadBMOq"
      },
      "execution_count": 77,
      "outputs": []
    },
    {
      "cell_type": "code",
      "source": [
        "data.shape"
      ],
      "metadata": {
        "colab": {
          "base_uri": "https://localhost:8080/"
        },
        "id": "cdIKCHtlBx-p",
        "outputId": "ad4ef335-a2a0-4617-f012-51f03eedbbff"
      },
      "execution_count": 78,
      "outputs": [
        {
          "output_type": "execute_result",
          "data": {
            "text/plain": [
              "(77483, 6)"
            ]
          },
          "metadata": {},
          "execution_count": 78
        }
      ]
    },
    {
      "cell_type": "code",
      "source": [
        "data.tail()"
      ],
      "metadata": {
        "colab": {
          "base_uri": "https://localhost:8080/",
          "height": 206
        },
        "id": "Z-9SarWlBzBj",
        "outputId": "43de30c8-90b2-4819-aad0-d92ccb6aaca6"
      },
      "execution_count": 79,
      "outputs": [
        {
          "output_type": "execute_result",
          "data": {
            "text/plain": [
              "       Unnamed: 0               stars  \\\n",
              "84410       34608                 NaN   \n",
              "84411       34609                 NaN   \n",
              "84412       34610                 NaN   \n",
              "84413       34611                 NaN   \n",
              "84470       34668  2.0 out of 5 stars   \n",
              "\n",
              "                                                 title  \\\n",
              "84410                                   Kaufempfehlung   \n",
              "84411                                         Banging!   \n",
              "84412                                       Four Stars   \n",
              "84413                                 War sehr günstig   \n",
              "84470  Only lasted 2 months before toe seam came apart   \n",
              "\n",
              "                                                    body  star  sentiment  \n",
              "84410  Wegen der verschiedenen Rezensionen war ich hi...   NaN          0  \n",
              "84411                                            Bang on   NaN          0  \n",
              "84412  Very good delivery time. As expected,I always ...   NaN          0  \n",
              "84413                             Super schön und bequem   NaN          0  \n",
              "84470    Only lasted 2 months before toe seam came apart   2.0          0  "
            ],
            "text/html": [
              "\n",
              "  <div id=\"df-eef9ac28-7f1b-4a1f-b3d0-24765a7ae25b\">\n",
              "    <div class=\"colab-df-container\">\n",
              "      <div>\n",
              "<style scoped>\n",
              "    .dataframe tbody tr th:only-of-type {\n",
              "        vertical-align: middle;\n",
              "    }\n",
              "\n",
              "    .dataframe tbody tr th {\n",
              "        vertical-align: top;\n",
              "    }\n",
              "\n",
              "    .dataframe thead th {\n",
              "        text-align: right;\n",
              "    }\n",
              "</style>\n",
              "<table border=\"1\" class=\"dataframe\">\n",
              "  <thead>\n",
              "    <tr style=\"text-align: right;\">\n",
              "      <th></th>\n",
              "      <th>Unnamed: 0</th>\n",
              "      <th>stars</th>\n",
              "      <th>title</th>\n",
              "      <th>body</th>\n",
              "      <th>star</th>\n",
              "      <th>sentiment</th>\n",
              "    </tr>\n",
              "  </thead>\n",
              "  <tbody>\n",
              "    <tr>\n",
              "      <th>84410</th>\n",
              "      <td>34608</td>\n",
              "      <td>NaN</td>\n",
              "      <td>Kaufempfehlung</td>\n",
              "      <td>Wegen der verschiedenen Rezensionen war ich hi...</td>\n",
              "      <td>NaN</td>\n",
              "      <td>0</td>\n",
              "    </tr>\n",
              "    <tr>\n",
              "      <th>84411</th>\n",
              "      <td>34609</td>\n",
              "      <td>NaN</td>\n",
              "      <td>Banging!</td>\n",
              "      <td>Bang on</td>\n",
              "      <td>NaN</td>\n",
              "      <td>0</td>\n",
              "    </tr>\n",
              "    <tr>\n",
              "      <th>84412</th>\n",
              "      <td>34610</td>\n",
              "      <td>NaN</td>\n",
              "      <td>Four Stars</td>\n",
              "      <td>Very good delivery time. As expected,I always ...</td>\n",
              "      <td>NaN</td>\n",
              "      <td>0</td>\n",
              "    </tr>\n",
              "    <tr>\n",
              "      <th>84413</th>\n",
              "      <td>34611</td>\n",
              "      <td>NaN</td>\n",
              "      <td>War sehr günstig</td>\n",
              "      <td>Super schön und bequem</td>\n",
              "      <td>NaN</td>\n",
              "      <td>0</td>\n",
              "    </tr>\n",
              "    <tr>\n",
              "      <th>84470</th>\n",
              "      <td>34668</td>\n",
              "      <td>2.0 out of 5 stars</td>\n",
              "      <td>Only lasted 2 months before toe seam came apart</td>\n",
              "      <td>Only lasted 2 months before toe seam came apart</td>\n",
              "      <td>2.0</td>\n",
              "      <td>0</td>\n",
              "    </tr>\n",
              "  </tbody>\n",
              "</table>\n",
              "</div>\n",
              "      <button class=\"colab-df-convert\" onclick=\"convertToInteractive('df-eef9ac28-7f1b-4a1f-b3d0-24765a7ae25b')\"\n",
              "              title=\"Convert this dataframe to an interactive table.\"\n",
              "              style=\"display:none;\">\n",
              "        \n",
              "  <svg xmlns=\"http://www.w3.org/2000/svg\" height=\"24px\"viewBox=\"0 0 24 24\"\n",
              "       width=\"24px\">\n",
              "    <path d=\"M0 0h24v24H0V0z\" fill=\"none\"/>\n",
              "    <path d=\"M18.56 5.44l.94 2.06.94-2.06 2.06-.94-2.06-.94-.94-2.06-.94 2.06-2.06.94zm-11 1L8.5 8.5l.94-2.06 2.06-.94-2.06-.94L8.5 2.5l-.94 2.06-2.06.94zm10 10l.94 2.06.94-2.06 2.06-.94-2.06-.94-.94-2.06-.94 2.06-2.06.94z\"/><path d=\"M17.41 7.96l-1.37-1.37c-.4-.4-.92-.59-1.43-.59-.52 0-1.04.2-1.43.59L10.3 9.45l-7.72 7.72c-.78.78-.78 2.05 0 2.83L4 21.41c.39.39.9.59 1.41.59.51 0 1.02-.2 1.41-.59l7.78-7.78 2.81-2.81c.8-.78.8-2.07 0-2.86zM5.41 20L4 18.59l7.72-7.72 1.47 1.35L5.41 20z\"/>\n",
              "  </svg>\n",
              "      </button>\n",
              "      \n",
              "  <style>\n",
              "    .colab-df-container {\n",
              "      display:flex;\n",
              "      flex-wrap:wrap;\n",
              "      gap: 12px;\n",
              "    }\n",
              "\n",
              "    .colab-df-convert {\n",
              "      background-color: #E8F0FE;\n",
              "      border: none;\n",
              "      border-radius: 50%;\n",
              "      cursor: pointer;\n",
              "      display: none;\n",
              "      fill: #1967D2;\n",
              "      height: 32px;\n",
              "      padding: 0 0 0 0;\n",
              "      width: 32px;\n",
              "    }\n",
              "\n",
              "    .colab-df-convert:hover {\n",
              "      background-color: #E2EBFA;\n",
              "      box-shadow: 0px 1px 2px rgba(60, 64, 67, 0.3), 0px 1px 3px 1px rgba(60, 64, 67, 0.15);\n",
              "      fill: #174EA6;\n",
              "    }\n",
              "\n",
              "    [theme=dark] .colab-df-convert {\n",
              "      background-color: #3B4455;\n",
              "      fill: #D2E3FC;\n",
              "    }\n",
              "\n",
              "    [theme=dark] .colab-df-convert:hover {\n",
              "      background-color: #434B5C;\n",
              "      box-shadow: 0px 1px 3px 1px rgba(0, 0, 0, 0.15);\n",
              "      filter: drop-shadow(0px 1px 2px rgba(0, 0, 0, 0.3));\n",
              "      fill: #FFFFFF;\n",
              "    }\n",
              "  </style>\n",
              "\n",
              "      <script>\n",
              "        const buttonEl =\n",
              "          document.querySelector('#df-eef9ac28-7f1b-4a1f-b3d0-24765a7ae25b button.colab-df-convert');\n",
              "        buttonEl.style.display =\n",
              "          google.colab.kernel.accessAllowed ? 'block' : 'none';\n",
              "\n",
              "        async function convertToInteractive(key) {\n",
              "          const element = document.querySelector('#df-eef9ac28-7f1b-4a1f-b3d0-24765a7ae25b');\n",
              "          const dataTable =\n",
              "            await google.colab.kernel.invokeFunction('convertToInteractive',\n",
              "                                                     [key], {});\n",
              "          if (!dataTable) return;\n",
              "\n",
              "          const docLinkHtml = 'Like what you see? Visit the ' +\n",
              "            '<a target=\"_blank\" href=https://colab.research.google.com/notebooks/data_table.ipynb>data table notebook</a>'\n",
              "            + ' to learn more about interactive tables.';\n",
              "          element.innerHTML = '';\n",
              "          dataTable['output_type'] = 'display_data';\n",
              "          await google.colab.output.renderOutput(dataTable, element);\n",
              "          const docLink = document.createElement('div');\n",
              "          docLink.innerHTML = docLinkHtml;\n",
              "          element.appendChild(docLink);\n",
              "        }\n",
              "      </script>\n",
              "    </div>\n",
              "  </div>\n",
              "  "
            ]
          },
          "metadata": {},
          "execution_count": 79
        }
      ]
    },
    {
      "cell_type": "markdown",
      "source": [
        "### **Preprocessing**"
      ],
      "metadata": {
        "id": "wFsmBVSiCbmv"
      }
    },
    {
      "cell_type": "code",
      "source": [
        "bodies = data['body'].values\n",
        "titles = data['title'].values\n",
        "y = data['sentiment'].values"
      ],
      "metadata": {
        "id": "PqbCRK_MLCgn"
      },
      "execution_count": 80,
      "outputs": []
    },
    {
      "cell_type": "code",
      "source": [
        "sentences = [(str(t)+' '+str(b)) for t,b in zip(titles,bodies)]"
      ],
      "metadata": {
        "id": "uuxizf6eNN9e"
      },
      "execution_count": 81,
      "outputs": []
    },
    {
      "cell_type": "code",
      "source": [
        "sentences[0]"
      ],
      "metadata": {
        "colab": {
          "base_uri": "https://localhost:8080/",
          "height": 36
        },
        "id": "2kBKpgZrQaP-",
        "outputId": "06053bdc-0b5e-4fe6-f02b-31800dd68709"
      },
      "execution_count": 82,
      "outputs": [
        {
          "output_type": "execute_result",
          "data": {
            "text/plain": [
              "'Love this shirt I love this shirt. Size was perfect!'"
            ],
            "application/vnd.google.colaboratory.intrinsic+json": {
              "type": "string"
            }
          },
          "metadata": {},
          "execution_count": 82
        }
      ]
    },
    {
      "cell_type": "code",
      "source": [
        "tokenizer = RegexpTokenizer(r'\\w+')\n",
        "sentences_tokenize = [tokenizer.tokenize(s.lower()) for s in sentences]"
      ],
      "metadata": {
        "id": "52_V9aPRUUVf"
      },
      "execution_count": 83,
      "outputs": []
    },
    {
      "cell_type": "code",
      "source": [
        "sentences_tokenize[0]"
      ],
      "metadata": {
        "colab": {
          "base_uri": "https://localhost:8080/"
        },
        "id": "G8wlk440UqAM",
        "outputId": "3337b54f-b7a8-43cd-eb8a-b361f6cc0606"
      },
      "execution_count": 84,
      "outputs": [
        {
          "output_type": "execute_result",
          "data": {
            "text/plain": [
              "['love',\n",
              " 'this',\n",
              " 'shirt',\n",
              " 'i',\n",
              " 'love',\n",
              " 'this',\n",
              " 'shirt',\n",
              " 'size',\n",
              " 'was',\n",
              " 'perfect']"
            ]
          },
          "metadata": {},
          "execution_count": 84
        }
      ]
    },
    {
      "cell_type": "code",
      "source": [
        "stop_words = set(stopwords.words(\"english\"))"
      ],
      "metadata": {
        "id": "Er1afbtdUsuO"
      },
      "execution_count": 85,
      "outputs": []
    },
    {
      "cell_type": "code",
      "source": [
        "len(stop_words)"
      ],
      "metadata": {
        "colab": {
          "base_uri": "https://localhost:8080/"
        },
        "id": "IQNsRnJ-U7jk",
        "outputId": "5a56f37f-853e-41bc-da84-8c86f958da2b"
      },
      "execution_count": 86,
      "outputs": [
        {
          "output_type": "execute_result",
          "data": {
            "text/plain": [
              "179"
            ]
          },
          "metadata": {},
          "execution_count": 86
        }
      ]
    },
    {
      "cell_type": "code",
      "source": [
        "sentences_tokenize_filtered = [[w for w in sentence if w not in stop_words] for sentence in sentences_tokenize]"
      ],
      "metadata": {
        "id": "yz47SNQWVClt"
      },
      "execution_count": 87,
      "outputs": []
    },
    {
      "cell_type": "code",
      "source": [
        "sentences_tokenize_filtered[0]"
      ],
      "metadata": {
        "colab": {
          "base_uri": "https://localhost:8080/"
        },
        "id": "KwiOQsAUVzGN",
        "outputId": "b11d3e3f-223f-4d41-f0da-3ecca24073cb"
      },
      "execution_count": 88,
      "outputs": [
        {
          "output_type": "execute_result",
          "data": {
            "text/plain": [
              "['love', 'shirt', 'love', 'shirt', 'size', 'perfect']"
            ]
          },
          "metadata": {},
          "execution_count": 88
        }
      ]
    },
    {
      "cell_type": "code",
      "source": [
        "lem = WordNetLemmatizer()\n",
        "sentences_tokenize_filtered_stem = [[lem.lemmatize(w) for w in sentence] for sentence in sentences_tokenize_filtered]"
      ],
      "metadata": {
        "id": "X_tdJ9tJKFP4"
      },
      "execution_count": 89,
      "outputs": []
    },
    {
      "cell_type": "code",
      "source": [
        "sentences_tokenize_filtered_stem[0]"
      ],
      "metadata": {
        "colab": {
          "base_uri": "https://localhost:8080/"
        },
        "id": "DCDmh75GKU7o",
        "outputId": "d7e0f82d-2485-4c61-d375-5e9ddd695e46"
      },
      "execution_count": 90,
      "outputs": [
        {
          "output_type": "execute_result",
          "data": {
            "text/plain": [
              "['love', 'shirt', 'love', 'shirt', 'size', 'perfect']"
            ]
          },
          "metadata": {},
          "execution_count": 90
        }
      ]
    },
    {
      "cell_type": "code",
      "source": [
        "corpus = []\n",
        "for sentence in sentences_tokenize_filtered:\n",
        "  s = ''\n",
        "  s = ' '.join(sentence)\n",
        "  corpus.append(s) "
      ],
      "metadata": {
        "id": "ZkqMMjDCYMS1"
      },
      "execution_count": 91,
      "outputs": []
    },
    {
      "cell_type": "code",
      "source": [
        "corpus[0:6]"
      ],
      "metadata": {
        "colab": {
          "base_uri": "https://localhost:8080/"
        },
        "id": "BbAqkG0zYQUF",
        "outputId": "d8adce3b-dc09-4499-f3dd-75ceb3695c11"
      },
      "execution_count": 92,
      "outputs": [
        {
          "output_type": "execute_result",
          "data": {
            "text/plain": [
              "['love shirt love shirt size perfect',\n",
              " 'fit perfect fit good looks cute',\n",
              " 'buen producto el tamaño es el adecuado muy buena calidad',\n",
              " 'perfection comfy long excellent coverage',\n",
              " 'exactly advertised gift fits expected',\n",
              " 'satisfied classic']"
            ]
          },
          "metadata": {},
          "execution_count": 92
        }
      ]
    },
    {
      "cell_type": "markdown",
      "source": [
        "**keras Tokenizer**"
      ],
      "metadata": {
        "id": "W3qULtwxYmZ9"
      }
    },
    {
      "cell_type": "code",
      "source": [
        "tokenizer = Tokenizer()\n",
        "tokenizer.fit_on_texts(corpus)"
      ],
      "metadata": {
        "id": "HvGRTkEjYqO2"
      },
      "execution_count": 93,
      "outputs": []
    },
    {
      "cell_type": "code",
      "source": [
        "with open('tokenizer.h5', 'wb') as f:\n",
        "    pickle.dump(tokenizer, f)"
      ],
      "metadata": {
        "id": "PVhwwJIiawqI"
      },
      "execution_count": 94,
      "outputs": []
    },
    {
      "cell_type": "code",
      "source": [
        "vocab_size = len(tokenizer.word_index) + 1"
      ],
      "metadata": {
        "id": "fug8ECqGa4Fw"
      },
      "execution_count": 95,
      "outputs": []
    },
    {
      "cell_type": "code",
      "source": [
        "vocab_size"
      ],
      "metadata": {
        "colab": {
          "base_uri": "https://localhost:8080/"
        },
        "id": "XqZShbbYgZRy",
        "outputId": "a47a1135-8226-4289-b06c-2bfcb9e92505"
      },
      "execution_count": 96,
      "outputs": [
        {
          "output_type": "execute_result",
          "data": {
            "text/plain": [
              "30127"
            ]
          },
          "metadata": {},
          "execution_count": 96
        }
      ]
    },
    {
      "cell_type": "code",
      "source": [
        "def max_length(tensor):\n",
        "    return max(len(t) for t in tensor)"
      ],
      "metadata": {
        "id": "MLvxjA6jbGGh"
      },
      "execution_count": 97,
      "outputs": []
    },
    {
      "cell_type": "code",
      "source": [
        "data_to_sequences = tokenizer.texts_to_sequences(corpus)"
      ],
      "metadata": {
        "id": "Vpv4Ype_a_Ab"
      },
      "execution_count": 98,
      "outputs": []
    },
    {
      "cell_type": "code",
      "source": [
        "maxlen = max_length(data_to_sequences)\n",
        "maxlen"
      ],
      "metadata": {
        "colab": {
          "base_uri": "https://localhost:8080/"
        },
        "id": "yOiIWdAabOfm",
        "outputId": "e4de7e66-e067-4c79-8301-d792e77e054a"
      },
      "execution_count": 99,
      "outputs": [
        {
          "output_type": "execute_result",
          "data": {
            "text/plain": [
              "536"
            ]
          },
          "metadata": {},
          "execution_count": 99
        }
      ]
    },
    {
      "cell_type": "code",
      "source": [
        "data_to_sequences[0]"
      ],
      "metadata": {
        "colab": {
          "base_uri": "https://localhost:8080/"
        },
        "id": "sfYzyz7WbG4h",
        "outputId": "47dc04f0-9807-481e-e3d5-b19028ed586f"
      },
      "execution_count": 100,
      "outputs": [
        {
          "output_type": "execute_result",
          "data": {
            "text/plain": [
              "[4, 28, 4, 28, 5, 7]"
            ]
          },
          "metadata": {},
          "execution_count": 100
        }
      ]
    },
    {
      "cell_type": "code",
      "source": [
        "pad_data_to_sequences = pad_sequences(data_to_sequences, maxlen=100)"
      ],
      "metadata": {
        "id": "kgzq4b__bIa3"
      },
      "execution_count": 101,
      "outputs": []
    },
    {
      "cell_type": "code",
      "source": [
        "pad_data_to_sequences[0]"
      ],
      "metadata": {
        "colab": {
          "base_uri": "https://localhost:8080/"
        },
        "id": "D6nmuYrmbf4o",
        "outputId": "6b81cd7d-4833-45e7-c27e-b4d5b424b09c"
      },
      "execution_count": 102,
      "outputs": [
        {
          "output_type": "execute_result",
          "data": {
            "text/plain": [
              "array([ 0,  0,  0,  0,  0,  0,  0,  0,  0,  0,  0,  0,  0,  0,  0,  0,  0,\n",
              "        0,  0,  0,  0,  0,  0,  0,  0,  0,  0,  0,  0,  0,  0,  0,  0,  0,\n",
              "        0,  0,  0,  0,  0,  0,  0,  0,  0,  0,  0,  0,  0,  0,  0,  0,  0,\n",
              "        0,  0,  0,  0,  0,  0,  0,  0,  0,  0,  0,  0,  0,  0,  0,  0,  0,\n",
              "        0,  0,  0,  0,  0,  0,  0,  0,  0,  0,  0,  0,  0,  0,  0,  0,  0,\n",
              "        0,  0,  0,  0,  0,  0,  0,  0,  0,  4, 28,  4, 28,  5,  7],\n",
              "      dtype=int32)"
            ]
          },
          "metadata": {},
          "execution_count": 102
        }
      ]
    },
    {
      "cell_type": "code",
      "source": [
        "print(pad_data_to_sequences.shape)\n",
        "print(y.shape)"
      ],
      "metadata": {
        "colab": {
          "base_uri": "https://localhost:8080/"
        },
        "id": "ImwI8ZGieaee",
        "outputId": "c8419aa6-a30e-47ab-aec0-62658c184bc3"
      },
      "execution_count": 103,
      "outputs": [
        {
          "output_type": "stream",
          "name": "stdout",
          "text": [
            "(77483, 100)\n",
            "(77483,)\n"
          ]
        }
      ]
    },
    {
      "cell_type": "code",
      "source": [
        "X_train, X_test, y_train, y_test = train_test_split(pad_data_to_sequences, y, test_size=0.3, shuffle=True, random_state=50)"
      ],
      "metadata": {
        "id": "GOEBRZI-cpEP"
      },
      "execution_count": 104,
      "outputs": []
    },
    {
      "cell_type": "code",
      "source": [
        "print(X_train.shape)\n",
        "print(X_test.shape)\n",
        "print(y_train.shape)\n",
        "print(y_test.shape)"
      ],
      "metadata": {
        "colab": {
          "base_uri": "https://localhost:8080/"
        },
        "id": "XxtgOxCreiww",
        "outputId": "471d5f09-81b8-4aea-f580-d0adc9914517"
      },
      "execution_count": 105,
      "outputs": [
        {
          "output_type": "stream",
          "name": "stdout",
          "text": [
            "(54238, 100)\n",
            "(23245, 100)\n",
            "(54238,)\n",
            "(23245,)\n"
          ]
        }
      ]
    },
    {
      "cell_type": "markdown",
      "source": [
        "## **Neural Networks**"
      ],
      "metadata": {
        "id": "sBrLjflfeukG"
      }
    },
    {
      "cell_type": "markdown",
      "source": [
        "### **CNN Model**"
      ],
      "metadata": {
        "id": "_htWm7hqrnfH"
      }
    },
    {
      "cell_type": "code",
      "source": [
        "i = Input(shape=(100,))\n",
        "x = Embedding(vocab_size, 50, input_length=100)(i)\n",
        "x = Conv1D(32, 5, padding='same', activation='relu')(x)\n",
        "x = Dropout(0.3)(x)\n",
        "x = MaxPooling1D(2)(x)\n",
        "x = Conv1D(32, 5, padding='same', activation='relu')(x)\n",
        "x = Dropout(0.3)(x)\n",
        "x = MaxPooling1D(2)(x)\n",
        "x = Conv1D(32, 5, padding='same', activation='relu')(x)\n",
        "x = Dropout(0.3)(x)\n",
        "x = MaxPooling1D(2)(x)\n",
        "x = Flatten()(x)\n",
        "x = Dense(64, activation='relu')(x)\n",
        "x = Dropout(0.5)(x)\n",
        "x = Dense(1, activation='sigmoid')(x)"
      ],
      "metadata": {
        "id": "B1JNtqtyrsKE"
      },
      "execution_count": 106,
      "outputs": []
    },
    {
      "cell_type": "code",
      "source": [
        "model = Model(i, x)"
      ],
      "metadata": {
        "id": "TNd9p0PbsX1W"
      },
      "execution_count": 107,
      "outputs": []
    },
    {
      "cell_type": "code",
      "source": [
        "model.compile(optimizer='adam', loss='binary_crossentropy', metrics=['accuracy'])"
      ],
      "metadata": {
        "id": "peNoQzzAsafu"
      },
      "execution_count": 108,
      "outputs": []
    },
    {
      "cell_type": "code",
      "source": [
        "model.summary()"
      ],
      "metadata": {
        "colab": {
          "base_uri": "https://localhost:8080/"
        },
        "id": "lK6jAniesb_f",
        "outputId": "9e79e29d-f341-4c97-c245-34426d9cd186"
      },
      "execution_count": 109,
      "outputs": [
        {
          "output_type": "stream",
          "name": "stdout",
          "text": [
            "Model: \"model_1\"\n",
            "_________________________________________________________________\n",
            " Layer (type)                Output Shape              Param #   \n",
            "=================================================================\n",
            " input_2 (InputLayer)        [(None, 100)]             0         \n",
            "                                                                 \n",
            " embedding_1 (Embedding)     (None, 100, 50)           1506350   \n",
            "                                                                 \n",
            " conv1d (Conv1D)             (None, 100, 32)           8032      \n",
            "                                                                 \n",
            " dropout_1 (Dropout)         (None, 100, 32)           0         \n",
            "                                                                 \n",
            " max_pooling1d (MaxPooling1D  (None, 50, 32)           0         \n",
            " )                                                               \n",
            "                                                                 \n",
            " conv1d_1 (Conv1D)           (None, 50, 32)            5152      \n",
            "                                                                 \n",
            " dropout_2 (Dropout)         (None, 50, 32)            0         \n",
            "                                                                 \n",
            " max_pooling1d_1 (MaxPooling  (None, 25, 32)           0         \n",
            " 1D)                                                             \n",
            "                                                                 \n",
            " conv1d_2 (Conv1D)           (None, 25, 32)            5152      \n",
            "                                                                 \n",
            " dropout_3 (Dropout)         (None, 25, 32)            0         \n",
            "                                                                 \n",
            " max_pooling1d_2 (MaxPooling  (None, 12, 32)           0         \n",
            " 1D)                                                             \n",
            "                                                                 \n",
            " flatten (Flatten)           (None, 384)               0         \n",
            "                                                                 \n",
            " dense_2 (Dense)             (None, 64)                24640     \n",
            "                                                                 \n",
            " dropout_4 (Dropout)         (None, 64)                0         \n",
            "                                                                 \n",
            " dense_3 (Dense)             (None, 1)                 65        \n",
            "                                                                 \n",
            "=================================================================\n",
            "Total params: 1,549,391\n",
            "Trainable params: 1,549,391\n",
            "Non-trainable params: 0\n",
            "_________________________________________________________________\n"
          ]
        }
      ]
    },
    {
      "cell_type": "code",
      "source": [
        "history = model.fit(X_train, y_train, validation_data=(X_test, y_test), epochs=7, batch_size=256)"
      ],
      "metadata": {
        "colab": {
          "base_uri": "https://localhost:8080/"
        },
        "id": "P8lQOv8Msf8V",
        "outputId": "bc418553-7cd0-4229-f1c1-545eb1173d75"
      },
      "execution_count": 110,
      "outputs": [
        {
          "output_type": "stream",
          "name": "stdout",
          "text": [
            "Epoch 1/7\n",
            "212/212 [==============================] - 8s 11ms/step - loss: 0.3142 - accuracy: 0.8819 - val_loss: 0.2198 - val_accuracy: 0.9268\n",
            "Epoch 2/7\n",
            "212/212 [==============================] - 2s 8ms/step - loss: 0.1813 - accuracy: 0.9350 - val_loss: 0.2207 - val_accuracy: 0.9322\n",
            "Epoch 3/7\n",
            "212/212 [==============================] - 2s 8ms/step - loss: 0.1440 - accuracy: 0.9491 - val_loss: 0.2046 - val_accuracy: 0.9280\n",
            "Epoch 4/7\n",
            "212/212 [==============================] - 2s 8ms/step - loss: 0.1182 - accuracy: 0.9585 - val_loss: 0.1893 - val_accuracy: 0.9320\n",
            "Epoch 5/7\n",
            "212/212 [==============================] - 2s 8ms/step - loss: 0.0966 - accuracy: 0.9663 - val_loss: 0.2067 - val_accuracy: 0.9325\n",
            "Epoch 6/7\n",
            "212/212 [==============================] - 2s 8ms/step - loss: 0.0818 - accuracy: 0.9723 - val_loss: 0.2228 - val_accuracy: 0.9306\n",
            "Epoch 7/7\n",
            "212/212 [==============================] - 2s 8ms/step - loss: 0.0734 - accuracy: 0.9755 - val_loss: 0.2328 - val_accuracy: 0.9303\n"
          ]
        }
      ]
    },
    {
      "cell_type": "code",
      "source": [
        "scores = model.evaluate(X_test, y_test, verbose=1)\n",
        "print(\"Accuracy: %.2f%%\" % (scores[1]*100))"
      ],
      "metadata": {
        "colab": {
          "base_uri": "https://localhost:8080/"
        },
        "id": "mq-H4VzyNRZn",
        "outputId": "ba1d8e8f-9791-4a90-8930-f27355880bea"
      },
      "execution_count": 111,
      "outputs": [
        {
          "output_type": "stream",
          "name": "stdout",
          "text": [
            "727/727 [==============================] - 2s 3ms/step - loss: 0.2328 - accuracy: 0.9303\n",
            "Accuracy: 93.03%\n"
          ]
        }
      ]
    },
    {
      "cell_type": "code",
      "source": [
        "y_true = y_test\n",
        "y_pred = model.predict(X_test)\n",
        "y_pred = [(1 if y >= 0.5 else 0) for y in y_pred]\n",
        "y_pred = np.array(y_pred)"
      ],
      "metadata": {
        "colab": {
          "base_uri": "https://localhost:8080/"
        },
        "id": "d4hZV_IXMErK",
        "outputId": "d3c3b6d1-fbb1-492f-acce-9949d42c483b"
      },
      "execution_count": 112,
      "outputs": [
        {
          "output_type": "stream",
          "name": "stdout",
          "text": [
            "727/727 [==============================] - 1s 2ms/step\n"
          ]
        }
      ]
    },
    {
      "cell_type": "code",
      "source": [
        "print(classification_report(y_true, y_pred, target_names=['Negative Reviews','Positive Reviews']))"
      ],
      "metadata": {
        "id": "XYKpjtI0MKBh",
        "outputId": "ba068a6e-623f-4994-e35b-4addffdd17a1",
        "colab": {
          "base_uri": "https://localhost:8080/"
        }
      },
      "execution_count": 113,
      "outputs": [
        {
          "output_type": "stream",
          "name": "stdout",
          "text": [
            "                  precision    recall  f1-score   support\n",
            "\n",
            "Negative Reviews       0.82      0.72      0.77      3753\n",
            "Positive Reviews       0.95      0.97      0.96     19492\n",
            "\n",
            "        accuracy                           0.93     23245\n",
            "       macro avg       0.89      0.85      0.86     23245\n",
            "    weighted avg       0.93      0.93      0.93     23245\n",
            "\n"
          ]
        }
      ]
    },
    {
      "cell_type": "markdown",
      "source": [
        "### **LSTM Model**"
      ],
      "metadata": {
        "id": "0cY9-F83lqnt"
      }
    },
    {
      "cell_type": "code",
      "source": [
        "i = Input(shape=(100,))\n",
        "x = Embedding(vocab_size, 50, input_length=100)(i)\n",
        "x = Bidirectional(LSTM(128,return_sequences=True))(x)\n",
        "x = LSTM(64)(x)\n",
        "x = Dense(64, activation='relu')(x)\n",
        "x = Dropout(0.5)(x)\n",
        "x = Dense(1, activation='sigmoid')(x)"
      ],
      "metadata": {
        "id": "f9FMQ32ilyY8"
      },
      "execution_count": 114,
      "outputs": []
    },
    {
      "cell_type": "code",
      "source": [
        "model = Model(i, x)"
      ],
      "metadata": {
        "id": "HHxAyJNFqCdU"
      },
      "execution_count": 115,
      "outputs": []
    },
    {
      "cell_type": "code",
      "source": [
        "model.compile(optimizer='adam', loss='binary_crossentropy', metrics=['accuracy'])"
      ],
      "metadata": {
        "id": "0E9gGnvIqEou"
      },
      "execution_count": 116,
      "outputs": []
    },
    {
      "cell_type": "code",
      "source": [
        "model.summary()"
      ],
      "metadata": {
        "colab": {
          "base_uri": "https://localhost:8080/"
        },
        "id": "FcvdI5qMqGJ-",
        "outputId": "189f38bc-aa17-40e5-bec0-2248e7d2ef3c"
      },
      "execution_count": 117,
      "outputs": [
        {
          "output_type": "stream",
          "name": "stdout",
          "text": [
            "Model: \"model_2\"\n",
            "_________________________________________________________________\n",
            " Layer (type)                Output Shape              Param #   \n",
            "=================================================================\n",
            " input_3 (InputLayer)        [(None, 100)]             0         \n",
            "                                                                 \n",
            " embedding_2 (Embedding)     (None, 100, 50)           1506350   \n",
            "                                                                 \n",
            " bidirectional_1 (Bidirectio  (None, 100, 256)         183296    \n",
            " nal)                                                            \n",
            "                                                                 \n",
            " lstm_3 (LSTM)               (None, 64)                82176     \n",
            "                                                                 \n",
            " dense_4 (Dense)             (None, 64)                4160      \n",
            "                                                                 \n",
            " dropout_5 (Dropout)         (None, 64)                0         \n",
            "                                                                 \n",
            " dense_5 (Dense)             (None, 1)                 65        \n",
            "                                                                 \n",
            "=================================================================\n",
            "Total params: 1,776,047\n",
            "Trainable params: 1,776,047\n",
            "Non-trainable params: 0\n",
            "_________________________________________________________________\n"
          ]
        }
      ]
    },
    {
      "cell_type": "code",
      "source": [
        "history = model.fit(X_train, y_train, validation_data=(X_test, y_test), epochs=7, batch_size=256)"
      ],
      "metadata": {
        "colab": {
          "base_uri": "https://localhost:8080/"
        },
        "id": "PLXCO6A0qMNb",
        "outputId": "398a714a-f84a-445a-9018-9be3be774239"
      },
      "execution_count": 118,
      "outputs": [
        {
          "output_type": "stream",
          "name": "stdout",
          "text": [
            "Epoch 1/7\n",
            "212/212 [==============================] - 13s 43ms/step - loss: 0.2810 - accuracy: 0.8965 - val_loss: 0.1964 - val_accuracy: 0.9257\n",
            "Epoch 2/7\n",
            "212/212 [==============================] - 7s 34ms/step - loss: 0.1765 - accuracy: 0.9367 - val_loss: 0.1870 - val_accuracy: 0.9318\n",
            "Epoch 3/7\n",
            "212/212 [==============================] - 7s 34ms/step - loss: 0.1484 - accuracy: 0.9477 - val_loss: 0.1927 - val_accuracy: 0.9300\n",
            "Epoch 4/7\n",
            "212/212 [==============================] - 7s 34ms/step - loss: 0.1295 - accuracy: 0.9553 - val_loss: 0.2036 - val_accuracy: 0.9272\n",
            "Epoch 5/7\n",
            "212/212 [==============================] - 7s 34ms/step - loss: 0.1156 - accuracy: 0.9603 - val_loss: 0.2291 - val_accuracy: 0.9283\n",
            "Epoch 6/7\n",
            "212/212 [==============================] - 7s 34ms/step - loss: 0.1037 - accuracy: 0.9642 - val_loss: 0.2366 - val_accuracy: 0.9322\n",
            "Epoch 7/7\n",
            "212/212 [==============================] - 7s 34ms/step - loss: 0.0942 - accuracy: 0.9678 - val_loss: 0.2371 - val_accuracy: 0.9290\n"
          ]
        }
      ]
    },
    {
      "cell_type": "code",
      "source": [
        "scores = model.evaluate(X_test, y_test, verbose=1)\n",
        "print(\"Accuracy: %.2f%%\" % (scores[1]*100))"
      ],
      "metadata": {
        "colab": {
          "base_uri": "https://localhost:8080/"
        },
        "id": "_c57pbMrrdBc",
        "outputId": "0c8c810c-d76a-4e27-a578-915a06a9cb12"
      },
      "execution_count": 119,
      "outputs": [
        {
          "output_type": "stream",
          "name": "stdout",
          "text": [
            "727/727 [==============================] - 6s 8ms/step - loss: 0.2371 - accuracy: 0.9290\n",
            "Accuracy: 92.90%\n"
          ]
        }
      ]
    },
    {
      "cell_type": "code",
      "source": [
        "y_true = y_test\n",
        "y_pred = model.predict(X_test)\n",
        "y_pred = [(1 if y >= 0.5 else 0) for y in y_pred]\n",
        "y_pred = np.array(y_pred)"
      ],
      "metadata": {
        "colab": {
          "base_uri": "https://localhost:8080/"
        },
        "id": "5qY8Xl1coLKM",
        "outputId": "2d34debb-9a7c-4a49-bfdd-07f286c0704b"
      },
      "execution_count": 120,
      "outputs": [
        {
          "output_type": "stream",
          "name": "stdout",
          "text": [
            "727/727 [==============================] - 7s 8ms/step\n"
          ]
        }
      ]
    },
    {
      "cell_type": "code",
      "source": [
        "print(classification_report(y_true, y_pred, target_names=['Negative Reviews','Positive Reviews']))"
      ],
      "metadata": {
        "colab": {
          "base_uri": "https://localhost:8080/"
        },
        "id": "xyEBp6lboQG1",
        "outputId": "0ca2b82b-d93e-4874-f9e6-b79e408821fc"
      },
      "execution_count": 121,
      "outputs": [
        {
          "output_type": "stream",
          "name": "stdout",
          "text": [
            "                  precision    recall  f1-score   support\n",
            "\n",
            "Negative Reviews       0.81      0.73      0.77      3753\n",
            "Positive Reviews       0.95      0.97      0.96     19492\n",
            "\n",
            "        accuracy                           0.93     23245\n",
            "       macro avg       0.88      0.85      0.86     23245\n",
            "    weighted avg       0.93      0.93      0.93     23245\n",
            "\n"
          ]
        }
      ]
    },
    {
      "cell_type": "markdown",
      "source": [
        "### **CNN-LSTM Model**"
      ],
      "metadata": {
        "id": "bRIuKT9ZfHk-"
      }
    },
    {
      "cell_type": "code",
      "source": [
        "i = Input(shape=(100,))\n",
        "x = Embedding(vocab_size, 50, input_length=100)(i)\n",
        "x = BatchNormalization()(x)\n",
        "x = Dropout(0.3)(x)\n",
        "x = Conv1D(64, 5, padding='same', activation='relu')(x)\n",
        "x = Dropout(0.3)(x)\n",
        "x = MaxPooling1D(3)(x)\n",
        "x = Conv1D(32, 5, padding='same', activation='relu')(x)\n",
        "x = Dropout(0.3)(x)\n",
        "x = MaxPooling1D(3)(x)\n",
        "x = Conv1D(32, 5, padding='same', activation='relu')(x)\n",
        "x = Dropout(0.3)(x)\n",
        "x = MaxPooling1D(3)(x)\n",
        "x = Bidirectional(LSTM(128,return_sequences=True))(x)\n",
        "x = LSTM(64)(x)\n",
        "x = Dense(64, activation='relu')(x)\n",
        "x = Dropout(0.5)(x)\n",
        "x = Dense(1, activation='sigmoid')(x)"
      ],
      "metadata": {
        "id": "6QHuDn1KemiN"
      },
      "execution_count": 141,
      "outputs": []
    },
    {
      "cell_type": "code",
      "source": [
        "model = Model(i, x)"
      ],
      "metadata": {
        "id": "C0a4lepHhMI-"
      },
      "execution_count": 142,
      "outputs": []
    },
    {
      "cell_type": "code",
      "source": [
        "model.compile(optimizer='adam', loss='binary_crossentropy', metrics=['accuracy'])"
      ],
      "metadata": {
        "id": "xqh10K0ohi58"
      },
      "execution_count": 143,
      "outputs": []
    },
    {
      "cell_type": "code",
      "source": [
        "model.summary()"
      ],
      "metadata": {
        "colab": {
          "base_uri": "https://localhost:8080/"
        },
        "id": "YCFV1qWXhmaT",
        "outputId": "133add68-eebb-4f37-e072-b36322ad4df0"
      },
      "execution_count": 144,
      "outputs": [
        {
          "output_type": "stream",
          "name": "stdout",
          "text": [
            "Model: \"model_4\"\n",
            "_________________________________________________________________\n",
            " Layer (type)                Output Shape              Param #   \n",
            "=================================================================\n",
            " input_6 (InputLayer)        [(None, 100)]             0         \n",
            "                                                                 \n",
            " embedding_5 (Embedding)     (None, 100, 50)           1506350   \n",
            "                                                                 \n",
            " batch_normalization_2 (Batc  (None, 100, 50)          200       \n",
            " hNormalization)                                                 \n",
            "                                                                 \n",
            " dropout_16 (Dropout)        (None, 100, 50)           0         \n",
            "                                                                 \n",
            " conv1d_9 (Conv1D)           (None, 100, 64)           16064     \n",
            "                                                                 \n",
            " dropout_17 (Dropout)        (None, 100, 64)           0         \n",
            "                                                                 \n",
            " max_pooling1d_9 (MaxPooling  (None, 33, 64)           0         \n",
            " 1D)                                                             \n",
            "                                                                 \n",
            " conv1d_10 (Conv1D)          (None, 33, 32)            10272     \n",
            "                                                                 \n",
            " dropout_18 (Dropout)        (None, 33, 32)            0         \n",
            "                                                                 \n",
            " max_pooling1d_10 (MaxPoolin  (None, 11, 32)           0         \n",
            " g1D)                                                            \n",
            "                                                                 \n",
            " conv1d_11 (Conv1D)          (None, 11, 32)            5152      \n",
            "                                                                 \n",
            " dropout_19 (Dropout)        (None, 11, 32)            0         \n",
            "                                                                 \n",
            " max_pooling1d_11 (MaxPoolin  (None, 3, 32)            0         \n",
            " g1D)                                                            \n",
            "                                                                 \n",
            " bidirectional_4 (Bidirectio  (None, 3, 256)           164864    \n",
            " nal)                                                            \n",
            "                                                                 \n",
            " lstm_9 (LSTM)               (None, 64)                82176     \n",
            "                                                                 \n",
            " dense_10 (Dense)            (None, 64)                4160      \n",
            "                                                                 \n",
            " dropout_20 (Dropout)        (None, 64)                0         \n",
            "                                                                 \n",
            " dense_11 (Dense)            (None, 1)                 65        \n",
            "                                                                 \n",
            "=================================================================\n",
            "Total params: 1,789,303\n",
            "Trainable params: 1,789,203\n",
            "Non-trainable params: 100\n",
            "_________________________________________________________________\n"
          ]
        }
      ]
    },
    {
      "cell_type": "code",
      "source": [
        "history = model.fit(X_train, y_train, validation_data=(X_test, y_test), epochs=5, batch_size=256)"
      ],
      "metadata": {
        "colab": {
          "base_uri": "https://localhost:8080/"
        },
        "id": "XWNwfosHhpLj",
        "outputId": "dc9637b7-c7eb-4ef3-8ab3-14037ac2e7b9"
      },
      "execution_count": 145,
      "outputs": [
        {
          "output_type": "stream",
          "name": "stdout",
          "text": [
            "Epoch 1/5\n",
            "212/212 [==============================] - 9s 20ms/step - loss: 0.3303 - accuracy: 0.8738 - val_loss: 0.3917 - val_accuracy: 0.8517\n",
            "Epoch 2/5\n",
            "212/212 [==============================] - 3s 14ms/step - loss: 0.1969 - accuracy: 0.9306 - val_loss: 0.2338 - val_accuracy: 0.8996\n",
            "Epoch 3/5\n",
            "212/212 [==============================] - 3s 14ms/step - loss: 0.1654 - accuracy: 0.9410 - val_loss: 0.1896 - val_accuracy: 0.9224\n",
            "Epoch 4/5\n",
            "212/212 [==============================] - 3s 15ms/step - loss: 0.1444 - accuracy: 0.9489 - val_loss: 0.1891 - val_accuracy: 0.9331\n",
            "Epoch 5/5\n",
            "212/212 [==============================] - 3s 14ms/step - loss: 0.1288 - accuracy: 0.9546 - val_loss: 0.1944 - val_accuracy: 0.9341\n"
          ]
        }
      ]
    },
    {
      "cell_type": "code",
      "source": [
        "scores = model.evaluate(X_test, y_test, verbose=1)\n",
        "print(\"Accuracy: %.2f%%\" % (scores[1]*100))"
      ],
      "metadata": {
        "colab": {
          "base_uri": "https://localhost:8080/"
        },
        "id": "ww-joccChuVB",
        "outputId": "c49d7537-4c48-456a-f4bc-6b24e5de0fb6"
      },
      "execution_count": 146,
      "outputs": [
        {
          "output_type": "stream",
          "name": "stdout",
          "text": [
            "727/727 [==============================] - 3s 4ms/step - loss: 0.1944 - accuracy: 0.9341\n",
            "Accuracy: 93.41%\n"
          ]
        }
      ]
    },
    {
      "cell_type": "code",
      "source": [
        "plot_model(model, show_shapes=True)"
      ],
      "metadata": {
        "colab": {
          "base_uri": "https://localhost:8080/",
          "height": 1000
        },
        "id": "gbvet5GPjUVu",
        "outputId": "6d281ed5-ff21-4cb3-f0da-bbcd9408fd76"
      },
      "execution_count": 147,
      "outputs": [
        {
          "output_type": "execute_result",
          "data": {
            "image/png": "[encoded data removed]",
            "text/plain": [
              "<IPython.core.display.Image object>"
            ]
          },
          "metadata": {},
          "execution_count": 147
        }
      ]
    },
    {
      "cell_type": "code",
      "source": [
        "def plot_graphs(history, string):\n",
        "    plt.plot(history.history[string])\n",
        "    plt.plot(history.history['val_'+string])\n",
        "    plt.xlabel(\"Epochs\")\n",
        "    plt.ylabel(string)\n",
        "    plt.legend([string, 'val_'+string])\n",
        "    plt.show()"
      ],
      "metadata": {
        "id": "4qQvKPPmjZ2v"
      },
      "execution_count": 148,
      "outputs": []
    },
    {
      "cell_type": "code",
      "source": [
        "plot_graphs(history, 'accuracy')\n",
        "plot_graphs(history, 'loss')"
      ],
      "metadata": {
        "colab": {
          "base_uri": "https://localhost:8080/",
          "height": 542
        },
        "id": "aCJPqXJzjzcy",
        "outputId": "c1d9f14b-5230-49e0-ab52-7126c55af7c0"
      },
      "execution_count": 149,
      "outputs": [
        {
          "output_type": "display_data",
          "data": {
            "text/plain": [
              "<Figure size 432x288 with 1 Axes>"
            ],
            "image/png": "[encoded data removed]"
          },
          "metadata": {
            "needs_background": "light"
          }
        },
        {
          "output_type": "display_data",
          "data": {
            "text/plain": [
              "<Figure size 432x288 with 1 Axes>"
            ],
            "image/png": "[encoded data removed]"
          },
          "metadata": {
            "needs_background": "light"
          }
        }
      ]
    },
    {
      "cell_type": "code",
      "source": [
        "y_true = y_test\n",
        "y_pred = model.predict(X_test)\n",
        "y_pred = [(1 if y >= 0.5 else 0) for y in y_pred]\n",
        "y_pred = np.array(y_pred)"
      ],
      "metadata": {
        "colab": {
          "base_uri": "https://localhost:8080/"
        },
        "id": "5gZ2J7UfSNI7",
        "outputId": "9f930126-623b-4fa9-c8ab-9703d73c01c4"
      },
      "execution_count": 150,
      "outputs": [
        {
          "output_type": "stream",
          "name": "stdout",
          "text": [
            "727/727 [==============================] - 4s 4ms/step\n"
          ]
        }
      ]
    },
    {
      "cell_type": "code",
      "source": [
        "y_true"
      ],
      "metadata": {
        "colab": {
          "base_uri": "https://localhost:8080/"
        },
        "id": "T7g-SALhS0iJ",
        "outputId": "2f4710a9-358e-4cd6-950c-c6c3bb284a67"
      },
      "execution_count": 151,
      "outputs": [
        {
          "output_type": "execute_result",
          "data": {
            "text/plain": [
              "array([1, 1, 0, ..., 1, 1, 1])"
            ]
          },
          "metadata": {},
          "execution_count": 151
        }
      ]
    },
    {
      "cell_type": "code",
      "source": [
        "y_pred"
      ],
      "metadata": {
        "colab": {
          "base_uri": "https://localhost:8080/"
        },
        "id": "P-2SH8jYS2kZ",
        "outputId": "b3db52cb-94d0-4315-d7ec-ab7b4bc50425"
      },
      "execution_count": 152,
      "outputs": [
        {
          "output_type": "execute_result",
          "data": {
            "text/plain": [
              "array([1, 1, 0, ..., 1, 1, 1])"
            ]
          },
          "metadata": {},
          "execution_count": 152
        }
      ]
    },
    {
      "cell_type": "code",
      "source": [
        "print(classification_report(y_true, y_pred, target_names=['Negative Reviews','Positive Reviews']))"
      ],
      "metadata": {
        "colab": {
          "base_uri": "https://localhost:8080/"
        },
        "id": "Sv5KoUgpR2F3",
        "outputId": "a04dcc1e-036f-4a60-a58b-5ec7224bf95f"
      },
      "execution_count": 153,
      "outputs": [
        {
          "output_type": "stream",
          "name": "stdout",
          "text": [
            "                  precision    recall  f1-score   support\n",
            "\n",
            "Negative Reviews       0.86      0.70      0.77      3753\n",
            "Positive Reviews       0.94      0.98      0.96     19492\n",
            "\n",
            "        accuracy                           0.93     23245\n",
            "       macro avg       0.90      0.84      0.87     23245\n",
            "    weighted avg       0.93      0.93      0.93     23245\n",
            "\n"
          ]
        }
      ]
    },
    {
      "cell_type": "code",
      "source": [
        "cm = confusion_matrix(y_test, y_pred)"
      ],
      "metadata": {
        "id": "IO0k7zEhVO5C"
      },
      "execution_count": 154,
      "outputs": []
    },
    {
      "cell_type": "code",
      "source": [
        "cm"
      ],
      "metadata": {
        "colab": {
          "base_uri": "https://localhost:8080/"
        },
        "id": "QNG54wgYVQyD",
        "outputId": "3b65041a-2085-4eef-b3ff-91526f60540a"
      },
      "execution_count": 155,
      "outputs": [
        {
          "output_type": "execute_result",
          "data": {
            "text/plain": [
              "array([[ 2633,  1120],\n",
              "       [  412, 19080]])"
            ]
          },
          "metadata": {},
          "execution_count": 155
        }
      ]
    },
    {
      "cell_type": "code",
      "source": [
        "ax = sns.heatmap(cm, annot=True, cmap='Blues', fmt='0.1f')\n",
        "\n",
        "ax.set_title('Confusion Matrix\\n');\n",
        "ax.set_xlabel('\\nPredicted Values')\n",
        "ax.set_ylabel('Actual Values ');\n",
        "\n",
        "ax.xaxis.set_ticklabels(['False','True'])\n",
        "ax.yaxis.set_ticklabels(['False','True'])\n",
        "\n",
        "plt.show()"
      ],
      "metadata": {
        "colab": {
          "base_uri": "https://localhost:8080/",
          "height": 322
        },
        "id": "3niZ7Ph2XOPZ",
        "outputId": "369010f5-bb21-4497-aea4-8ec9add3f7ad"
      },
      "execution_count": 156,
      "outputs": [
        {
          "output_type": "display_data",
          "data": {
            "text/plain": [
              "<Figure size 432x288 with 2 Axes>"
            ],
            "image/png": "[encoded data removed]"
          },
          "metadata": {
            "needs_background": "light"
          }
        }
      ]
    },
    {
      "cell_type": "code",
      "source": [
        "group_names = ['True Neg','False Pos','False Neg','True Pos']\n",
        "\n",
        "group_counts = [\"{0:0.0f}\".format(value) for value in cm.flatten()]\n",
        "\n",
        "group_percentages = [\"{0:.2%}\".format(value) for value in cm.flatten()/np.sum(cm)]\n",
        "\n",
        "labels = [f\"{v1}\\n{v2}\\n{v3}\" for v1, v2, v3 in zip(group_names,group_counts,group_percentages)]\n",
        "\n",
        "labels = np.asarray(labels).reshape(2,2)\n",
        "\n",
        "ax = sns.heatmap(cm, annot=labels, fmt='', cmap='Blues')\n",
        "\n",
        "ax.set_title('Confusion Matrix\\n');\n",
        "ax.set_xlabel('\\nPredicted Values')\n",
        "ax.set_ylabel('Actual Values ');\n",
        "\n",
        "ax.xaxis.set_ticklabels(['False','True'])\n",
        "ax.yaxis.set_ticklabels(['False','True'])\n",
        "\n",
        "plt.show()"
      ],
      "metadata": {
        "colab": {
          "base_uri": "https://localhost:8080/",
          "height": 322
        },
        "id": "fuF5CiqgaFQp",
        "outputId": "00f869a3-1ddc-4494-d627-5d09fc183a43"
      },
      "execution_count": 157,
      "outputs": [
        {
          "output_type": "display_data",
          "data": {
            "text/plain": [
              "<Figure size 432x288 with 2 Axes>"
            ],
            "image/png": "[encoded data removed]"
          },
          "metadata": {
            "needs_background": "light"
          }
        }
      ]
    },
    {
      "cell_type": "code",
      "source": [
        "def prediction(sentence):\n",
        "  data = tokenizer.texts_to_sequences([sentence])\n",
        "  data_pad_sequence = pad_sequences(data, maxlen=50)\n",
        "  perdiction = model.predict(data_pad_sequence)\n",
        "  print(perdiction[0])\n",
        "  if perdiction[0][0] > 0.5:\n",
        "    return \"positive\"\n",
        "  else: \n",
        "    return \"negative\" "
      ],
      "metadata": {
        "id": "ELSCheaCj1nz"
      },
      "execution_count": 158,
      "outputs": []
    },
    {
      "cell_type": "code",
      "source": [],
      "metadata": {
        "id": "mrP8bDvXhPCa"
      },
      "execution_count": 158,
      "outputs": []
    }
  ]
}